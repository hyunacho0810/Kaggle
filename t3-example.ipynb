{
 "cells": [
  {
   "cell_type": "markdown",
   "id": "c0afb95c",
   "metadata": {
    "papermill": {
     "duration": 0.002597,
     "end_time": "2025-06-19T13:20:58.591489",
     "exception": false,
     "start_time": "2025-06-19T13:20:58.588892",
     "status": "completed"
    },
    "tags": []
   },
   "source": [
    "## 주어진 데이터는 고혈압 환자 치료 전후의 혈압이다. 해당 치료가 효과가 있는지 대응(쌍체)표본 t-검정을 진행하시오\n",
    "- 귀무가설(H0): $\\mu$ >= 0\n",
    "- 대립가설(H1): $\\mu$ < 0\n",
    "- $\\mu$ = (치료 후 혈압 - 치료 전 혈압)의 평균\n",
    "- 유의수준: 0.05\n",
    "\n",
    "1. $\\mu$의 표본평균은?(소수 둘째자리까지 반올림)\n",
    "2. 검정통계량 값은?(소수 넷째자리까지 반올림)\n",
    "3. p-값은?(소수 넷째자리까지 반올림)\n",
    "4. 가설검정의 결과는? (유의수준 5%)"
   ]
  },
  {
   "cell_type": "code",
   "execution_count": 1,
   "id": "b4230849",
   "metadata": {
    "_cell_guid": "b1076dfc-b9ad-4769-8c92-a6c4dae69d19",
    "_uuid": "8f2839f25d086af736a60e9eeb907d3b93b6e0e5",
    "execution": {
     "iopub.execute_input": "2025-06-19T13:20:58.597680Z",
     "iopub.status.busy": "2025-06-19T13:20:58.597004Z",
     "iopub.status.idle": "2025-06-19T13:20:58.646565Z",
     "shell.execute_reply": "2025-06-19T13:20:58.645381Z"
    },
    "papermill": {
     "duration": 0.055861,
     "end_time": "2025-06-19T13:20:58.649451",
     "exception": false,
     "start_time": "2025-06-19T13:20:58.593590",
     "status": "completed"
    },
    "tags": []
   },
   "outputs": [
    {
     "name": "stdout",
     "output_type": "stream",
     "text": [
      "     Id     sex  age  bp_pre  bp_post\n",
      "0  p001    Male   33     149      129\n",
      "1  p002    Male   39     168      168\n",
      "2  p003    Male   70     176      155\n",
      "3  p004  Female   41     169      178\n",
      "4  p005    Male   48     160      126\n",
      "5  p006  Female   48     167      145\n",
      "6  p007  Female   55     165      150\n",
      "7  p008  Female   57     138      139\n",
      "8  p009  Female   71     171      170\n",
      "9  p010  Female   67     158      167\n"
     ]
    }
   ],
   "source": [
    "import pandas as pd\n",
    "df = pd.read_csv(\"/kaggle/input/bigdatacertificationkr/high_blood_pressure.csv\")\n",
    "print(df.head(10))\n",
    "\n",
    "# bp_pre,bp_post 이 2개를 비교하면 되는 것이다. "
   ]
  },
  {
   "cell_type": "code",
   "execution_count": 2,
   "id": "47ddf74c",
   "metadata": {
    "execution": {
     "iopub.execute_input": "2025-06-19T13:20:58.655732Z",
     "iopub.status.busy": "2025-06-19T13:20:58.655334Z",
     "iopub.status.idle": "2025-06-19T13:20:58.665597Z",
     "shell.execute_reply": "2025-06-19T13:20:58.664023Z"
    },
    "papermill": {
     "duration": 0.016559,
     "end_time": "2025-06-19T13:20:58.668320",
     "exception": false,
     "start_time": "2025-06-19T13:20:58.651761",
     "status": "completed"
    },
    "tags": []
   },
   "outputs": [
    {
     "name": "stdout",
     "output_type": "stream",
     "text": [
      "u의 표본평균: -6.12\n"
     ]
    }
   ],
   "source": [
    "# 우선 표본평균을 구하자\n",
    "mean_val=(df['bp_post']-df['bp_pre']).mean()\n",
    "print(f'u의 표본평균: {mean_val:.2f}')"
   ]
  },
  {
   "cell_type": "code",
   "execution_count": 3,
   "id": "63455de8",
   "metadata": {
    "execution": {
     "iopub.execute_input": "2025-06-19T13:20:58.674503Z",
     "iopub.status.busy": "2025-06-19T13:20:58.674116Z",
     "iopub.status.idle": "2025-06-19T13:20:59.937901Z",
     "shell.execute_reply": "2025-06-19T13:20:59.936664Z"
    },
    "papermill": {
     "duration": 1.270535,
     "end_time": "2025-06-19T13:20:59.941144",
     "exception": false,
     "start_time": "2025-06-19T13:20:58.670609",
     "status": "completed"
    },
    "tags": []
   },
   "outputs": [
    {
     "name": "stderr",
     "output_type": "stream",
     "text": [
      "/opt/conda/lib/python3.10/site-packages/scipy/__init__.py:146: UserWarning: A NumPy version >=1.16.5 and <1.23.0 is required for this version of SciPy (detected version 1.23.5\n",
      "  warnings.warn(f\"A NumPy version >={np_minversion} and <{np_maxversion}\"\n"
     ]
    },
    {
     "name": "stdout",
     "output_type": "stream",
     "text": [
      "t-statistic:-3.0002163948827545\n",
      "p_value:0.0016434474228511028\n",
      "귀무가설을 기각합니다.치료 전 혈압이 더 낮습니다\n"
     ]
    }
   ],
   "source": [
    "# 검정통계량,p-값,가설검정의 결과를 구해보자.\n",
    "from scipy import stats\n",
    "t_statistic,p_value=stats.ttest_rel(df['bp_post'], df['bp_pre'], alternative='less')\n",
    "print(f't-statistic:{t_statistic}')\n",
    "print(f'p_value:{p_value}')\n",
    "if p_value<0.05:\n",
    "    print(f'귀무가설을 기각합니다.치료 전 혈압이 더 낮습니다')\n",
    "else:\n",
    "    print(f'귀무가설을 채택합니다.치료 전 혈압이 치료 후 혈압과 동일하거나 더 높습니다')"
   ]
  }
 ],
 "metadata": {
  "kaggle": {
   "accelerator": "none",
   "dataSources": [
    {
     "datasetId": 1633303,
     "sourceId": 12211878,
     "sourceType": "datasetVersion"
    }
   ],
   "dockerImageVersionId": 30474,
   "isGpuEnabled": false,
   "isInternetEnabled": true,
   "language": "python",
   "sourceType": "notebook"
  },
  "kernelspec": {
   "display_name": "Python 3",
   "language": "python",
   "name": "python3"
  },
  "language_info": {
   "codemirror_mode": {
    "name": "ipython",
    "version": 3
   },
   "file_extension": ".py",
   "mimetype": "text/x-python",
   "name": "python",
   "nbconvert_exporter": "python",
   "pygments_lexer": "ipython3",
   "version": "3.10.10"
  },
  "papermill": {
   "default_parameters": {},
   "duration": 15.546038,
   "end_time": "2025-06-19T13:21:00.973541",
   "environment_variables": {},
   "exception": null,
   "input_path": "__notebook__.ipynb",
   "output_path": "__notebook__.ipynb",
   "parameters": {},
   "start_time": "2025-06-19T13:20:45.427503",
   "version": "2.4.0"
  }
 },
 "nbformat": 4,
 "nbformat_minor": 5
}
