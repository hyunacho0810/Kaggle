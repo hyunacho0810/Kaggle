{
 "cells": [
  {
   "cell_type": "markdown",
   "id": "e77fd78d",
   "metadata": {
    "papermill": {
     "duration": 0.009877,
     "end_time": "2025-06-15T05:34:36.493366",
     "exception": false,
     "start_time": "2025-06-15T05:34:36.483489",
     "status": "completed"
    },
    "tags": []
   },
   "source": [
    "## 조건에 맞는 데이터 표준편차 구하기\n",
    "- 주어진 데이터 중 basic1.csv에서 'f4'컬럼 값이 'ENFJ'와 'INFP'인 'f1'의 표준편차 차이를 절대값으로 구하시오\n",
    "- 데이터셋 : basic1.csv\n",
    "- 오른쪽 상단 copy&edit 클릭 -> 예상문제 풀이 시작"
   ]
  },
  {
   "cell_type": "code",
   "execution_count": 1,
   "id": "29e07428",
   "metadata": {
    "execution": {
     "iopub.execute_input": "2025-06-15T05:34:36.520827Z",
     "iopub.status.busy": "2025-06-15T05:34:36.520193Z",
     "iopub.status.idle": "2025-06-15T05:34:36.544667Z",
     "shell.execute_reply": "2025-06-15T05:34:36.544039Z",
     "shell.execute_reply.started": "2025-06-15T03:46:36.119298Z"
    },
    "papermill": {
     "duration": 0.042876,
     "end_time": "2025-06-15T05:34:36.544858",
     "exception": false,
     "start_time": "2025-06-15T05:34:36.501982",
     "status": "completed"
    },
    "tags": []
   },
   "outputs": [
    {
     "name": "stdout",
     "output_type": "stream",
     "text": [
      "     id   age city     f1  f2   f3    f4         f5\n",
      "0  id01   2.0   서울    NaN   0  NaN  ENFJ  91.297791\n",
      "1  id02   9.0   서울   70.0   1  NaN  ENFJ  60.339826\n",
      "2  id03  27.0   서울   61.0   1  NaN  ISTJ  17.252986\n",
      "3  id04  75.0   서울    NaN   2  NaN  INFP  52.667078\n",
      "4  id05  24.0   서울   85.0   2  NaN  ISFJ  29.269869\n",
      "5  id06  22.0   서울   57.0   0  vip  INTP  20.129444\n",
      "6  id07  36.3   서울   60.0   1  NaN  ISFJ   9.796378\n",
      "7  id08  38.0   서울  101.0   1  NaN  INFJ  83.685380\n",
      "8  id09   3.3   서울   35.0   2  NaN  ESFJ  17.252986\n",
      "9  id10  95.0   서울   74.0   1  NaN  ISFP  98.429899\n"
     ]
    }
   ],
   "source": [
    "# 라이브러리 및 데이터 불러오기\n",
    "import pandas as pd\n",
    "df=pd.read_csv('/kaggle/input/bigdatacertificationkr/basic1.csv')\n",
    "print(df.head(10))"
   ]
  },
  {
   "cell_type": "code",
   "execution_count": 2,
   "id": "c19578f1",
   "metadata": {
    "execution": {
     "iopub.execute_input": "2025-06-15T05:34:36.573743Z",
     "iopub.status.busy": "2025-06-15T05:34:36.573079Z",
     "iopub.status.idle": "2025-06-15T05:34:36.576606Z",
     "shell.execute_reply": "2025-06-15T05:34:36.576029Z",
     "shell.execute_reply.started": "2025-06-15T03:46:38.563194Z"
    },
    "papermill": {
     "duration": 0.023026,
     "end_time": "2025-06-15T05:34:36.576744",
     "exception": false,
     "start_time": "2025-06-15T05:34:36.553718",
     "status": "completed"
    },
    "tags": []
   },
   "outputs": [
    {
     "name": "stdout",
     "output_type": "stream",
     "text": [
      "ENFJ:0      True\n",
      "1      True\n",
      "2     False\n",
      "3     False\n",
      "4     False\n",
      "      ...  \n",
      "95    False\n",
      "96    False\n",
      "97    False\n",
      "98    False\n",
      "99    False\n",
      "Name: f4, Length: 100, dtype: bool\n",
      "-----------\n",
      "INFP:0     False\n",
      "1     False\n",
      "2     False\n",
      "3      True\n",
      "4     False\n",
      "      ...  \n",
      "95    False\n",
      "96     True\n",
      "97     True\n",
      "98    False\n",
      "99    False\n",
      "Name: f4, Length: 100, dtype: bool\n"
     ]
    }
   ],
   "source": [
    "# 조건에 맞는 데이터 (ENFJ, INFP)\n",
    "ENFJ_cols=df['f4']=='ENFJ'\n",
    "INFP_cols=df['f4']=='INFP'\n",
    "print(f'ENFJ:{ENFJ_cols}')\n",
    "print('-----------')\n",
    "print(f'INFP:{INFP_cols}')"
   ]
  },
  {
   "cell_type": "code",
   "execution_count": 3,
   "id": "0c98255a",
   "metadata": {
    "execution": {
     "iopub.execute_input": "2025-06-15T05:34:36.604841Z",
     "iopub.status.busy": "2025-06-15T05:34:36.604024Z",
     "iopub.status.idle": "2025-06-15T05:34:36.606999Z",
     "shell.execute_reply": "2025-06-15T05:34:36.607436Z",
     "shell.execute_reply.started": "2025-06-15T03:48:15.804370Z"
    },
    "papermill": {
     "duration": 0.022023,
     "end_time": "2025-06-15T05:34:36.607597",
     "exception": false,
     "start_time": "2025-06-15T05:34:36.585574",
     "status": "completed"
    },
    "tags": []
   },
   "outputs": [
    {
     "name": "stdout",
     "output_type": "stream",
     "text": [
      "enfj_std:17.727097901235837\n",
      "infp_std:23.586719427112648\n"
     ]
    }
   ],
   "source": [
    "# 조건에 맞는 f1의 표준편차 (ENFJ, INFP)\n",
    "enfj_std=df[ENFJ_cols]['f1'].std()\n",
    "infp_std=df[INFP_cols]['f1'].std()\n",
    "print(f'enfj_std:{enfj_std}')\n",
    "print(f'infp_std:{infp_std}')\n",
    "\n",
    "# grouupby로 구할수도 있다\n",
    "# all_std = df.groupby('f4')['f1'].std()\n",
    "# print(\"모든 성격유형의 f1 표준편차:\")\n",
    "# print(all_std)\n",
    "\n",
    "# # 원하는 것만 추출\n",
    "# enfj_std = all_std['ENFJ']\n",
    "# infp_std = all_std['INFP']"
   ]
  },
  {
   "cell_type": "code",
   "execution_count": 4,
   "id": "95c3adfa",
   "metadata": {
    "execution": {
     "iopub.execute_input": "2025-06-15T05:34:36.630387Z",
     "iopub.status.busy": "2025-06-15T05:34:36.629706Z",
     "iopub.status.idle": "2025-06-15T05:34:36.633115Z",
     "shell.execute_reply": "2025-06-15T05:34:36.632576Z",
     "shell.execute_reply.started": "2025-06-15T03:48:34.192237Z"
    },
    "papermill": {
     "duration": 0.016634,
     "end_time": "2025-06-15T05:34:36.633282",
     "exception": false,
     "start_time": "2025-06-15T05:34:36.616648",
     "status": "completed"
    },
    "tags": []
   },
   "outputs": [
    {
     "name": "stdout",
     "output_type": "stream",
     "text": [
      "5.859621525876811\n"
     ]
    }
   ],
   "source": [
    "# 두 표준편차 차이 절대값 출력\n",
    "print(abs(enfj_std-infp_std))"
   ]
  },
  {
   "cell_type": "markdown",
   "id": "c7eb58c8",
   "metadata": {
    "papermill": {
     "duration": 0.008978,
     "end_time": "2025-06-15T05:34:36.651496",
     "exception": false,
     "start_time": "2025-06-15T05:34:36.642518",
     "status": "completed"
    },
    "tags": []
   },
   "source": [
    "## Hint\n",
    "- 절대 값 : np.abs()\n",
    "- 표준편차 : DataFrame.std()"
   ]
  },
  {
   "cell_type": "markdown",
   "id": "b42d9804",
   "metadata": {
    "papermill": {
     "duration": 0.00912,
     "end_time": "2025-06-15T05:34:36.670155",
     "exception": false,
     "start_time": "2025-06-15T05:34:36.661035",
     "status": "completed"
    },
    "tags": []
   },
   "source": [
    "## 풀이"
   ]
  },
  {
   "cell_type": "code",
   "execution_count": 5,
   "id": "3d4d1d79",
   "metadata": {
    "_cell_guid": "b1076dfc-b9ad-4769-8c92-a6c4dae69d19",
    "_uuid": "8f2839f25d086af736a60e9eeb907d3b93b6e0e5",
    "execution": {
     "iopub.execute_input": "2025-06-15T05:34:36.695035Z",
     "iopub.status.busy": "2025-06-15T05:34:36.694050Z",
     "iopub.status.idle": "2025-06-15T05:34:36.714796Z",
     "shell.execute_reply": "2025-06-15T05:34:36.715248Z",
     "shell.execute_reply.started": "2025-06-15T03:49:11.501459Z"
    },
    "papermill": {
     "duration": 0.03612,
     "end_time": "2025-06-15T05:34:36.715409",
     "exception": false,
     "start_time": "2025-06-15T05:34:36.679289",
     "status": "completed"
    },
    "tags": []
   },
   "outputs": [
    {
     "data": {
      "text/html": [
       "<div>\n",
       "<style scoped>\n",
       "    .dataframe tbody tr th:only-of-type {\n",
       "        vertical-align: middle;\n",
       "    }\n",
       "\n",
       "    .dataframe tbody tr th {\n",
       "        vertical-align: top;\n",
       "    }\n",
       "\n",
       "    .dataframe thead th {\n",
       "        text-align: right;\n",
       "    }\n",
       "</style>\n",
       "<table border=\"1\" class=\"dataframe\">\n",
       "  <thead>\n",
       "    <tr style=\"text-align: right;\">\n",
       "      <th></th>\n",
       "      <th>id</th>\n",
       "      <th>age</th>\n",
       "      <th>city</th>\n",
       "      <th>f1</th>\n",
       "      <th>f2</th>\n",
       "      <th>f3</th>\n",
       "      <th>f4</th>\n",
       "      <th>f5</th>\n",
       "    </tr>\n",
       "  </thead>\n",
       "  <tbody>\n",
       "    <tr>\n",
       "      <th>0</th>\n",
       "      <td>id01</td>\n",
       "      <td>2.0</td>\n",
       "      <td>서울</td>\n",
       "      <td>NaN</td>\n",
       "      <td>0</td>\n",
       "      <td>NaN</td>\n",
       "      <td>ENFJ</td>\n",
       "      <td>91.297791</td>\n",
       "    </tr>\n",
       "    <tr>\n",
       "      <th>1</th>\n",
       "      <td>id02</td>\n",
       "      <td>9.0</td>\n",
       "      <td>서울</td>\n",
       "      <td>70.0</td>\n",
       "      <td>1</td>\n",
       "      <td>NaN</td>\n",
       "      <td>ENFJ</td>\n",
       "      <td>60.339826</td>\n",
       "    </tr>\n",
       "    <tr>\n",
       "      <th>2</th>\n",
       "      <td>id03</td>\n",
       "      <td>27.0</td>\n",
       "      <td>서울</td>\n",
       "      <td>61.0</td>\n",
       "      <td>1</td>\n",
       "      <td>NaN</td>\n",
       "      <td>ISTJ</td>\n",
       "      <td>17.252986</td>\n",
       "    </tr>\n",
       "    <tr>\n",
       "      <th>3</th>\n",
       "      <td>id04</td>\n",
       "      <td>75.0</td>\n",
       "      <td>서울</td>\n",
       "      <td>NaN</td>\n",
       "      <td>2</td>\n",
       "      <td>NaN</td>\n",
       "      <td>INFP</td>\n",
       "      <td>52.667078</td>\n",
       "    </tr>\n",
       "    <tr>\n",
       "      <th>4</th>\n",
       "      <td>id05</td>\n",
       "      <td>24.0</td>\n",
       "      <td>서울</td>\n",
       "      <td>85.0</td>\n",
       "      <td>2</td>\n",
       "      <td>NaN</td>\n",
       "      <td>ISFJ</td>\n",
       "      <td>29.269869</td>\n",
       "    </tr>\n",
       "  </tbody>\n",
       "</table>\n",
       "</div>"
      ],
      "text/plain": [
       "     id   age city    f1  f2   f3    f4         f5\n",
       "0  id01   2.0   서울   NaN   0  NaN  ENFJ  91.297791\n",
       "1  id02   9.0   서울  70.0   1  NaN  ENFJ  60.339826\n",
       "2  id03  27.0   서울  61.0   1  NaN  ISTJ  17.252986\n",
       "3  id04  75.0   서울   NaN   2  NaN  INFP  52.667078\n",
       "4  id05  24.0   서울  85.0   2  NaN  ISFJ  29.269869"
      ]
     },
     "execution_count": 5,
     "metadata": {},
     "output_type": "execute_result"
    }
   ],
   "source": [
    "# 라이브러리 및 데이터 불러오기\n",
    "import pandas as pd\n",
    "import numpy as np\n",
    "\n",
    "df = pd.read_csv('../input/bigdatacertificationkr/basic1.csv')\n",
    "df.head()"
   ]
  },
  {
   "cell_type": "code",
   "execution_count": 6,
   "id": "fd81fe09",
   "metadata": {
    "execution": {
     "iopub.execute_input": "2025-06-15T05:34:36.749931Z",
     "iopub.status.busy": "2025-06-15T05:34:36.749145Z",
     "iopub.status.idle": "2025-06-15T05:34:36.752559Z",
     "shell.execute_reply": "2025-06-15T05:34:36.753089Z",
     "shell.execute_reply.started": "2025-06-15T03:49:14.037644Z"
    },
    "papermill": {
     "duration": 0.028233,
     "end_time": "2025-06-15T05:34:36.753268",
     "exception": false,
     "start_time": "2025-06-15T05:34:36.725035",
     "status": "completed"
    },
    "tags": []
   },
   "outputs": [
    {
     "data": {
      "text/html": [
       "<div>\n",
       "<style scoped>\n",
       "    .dataframe tbody tr th:only-of-type {\n",
       "        vertical-align: middle;\n",
       "    }\n",
       "\n",
       "    .dataframe tbody tr th {\n",
       "        vertical-align: top;\n",
       "    }\n",
       "\n",
       "    .dataframe thead th {\n",
       "        text-align: right;\n",
       "    }\n",
       "</style>\n",
       "<table border=\"1\" class=\"dataframe\">\n",
       "  <thead>\n",
       "    <tr style=\"text-align: right;\">\n",
       "      <th></th>\n",
       "      <th>id</th>\n",
       "      <th>age</th>\n",
       "      <th>city</th>\n",
       "      <th>f1</th>\n",
       "      <th>f2</th>\n",
       "      <th>f3</th>\n",
       "      <th>f4</th>\n",
       "      <th>f5</th>\n",
       "    </tr>\n",
       "  </thead>\n",
       "  <tbody>\n",
       "    <tr>\n",
       "      <th>0</th>\n",
       "      <td>id01</td>\n",
       "      <td>2.0</td>\n",
       "      <td>서울</td>\n",
       "      <td>NaN</td>\n",
       "      <td>0</td>\n",
       "      <td>NaN</td>\n",
       "      <td>ENFJ</td>\n",
       "      <td>91.297791</td>\n",
       "    </tr>\n",
       "    <tr>\n",
       "      <th>1</th>\n",
       "      <td>id02</td>\n",
       "      <td>9.0</td>\n",
       "      <td>서울</td>\n",
       "      <td>70.0</td>\n",
       "      <td>1</td>\n",
       "      <td>NaN</td>\n",
       "      <td>ENFJ</td>\n",
       "      <td>60.339826</td>\n",
       "    </tr>\n",
       "    <tr>\n",
       "      <th>32</th>\n",
       "      <td>id33</td>\n",
       "      <td>47.0</td>\n",
       "      <td>부산</td>\n",
       "      <td>94.0</td>\n",
       "      <td>0</td>\n",
       "      <td>NaN</td>\n",
       "      <td>ENFJ</td>\n",
       "      <td>17.252986</td>\n",
       "    </tr>\n",
       "    <tr>\n",
       "      <th>40</th>\n",
       "      <td>id41</td>\n",
       "      <td>81.0</td>\n",
       "      <td>대구</td>\n",
       "      <td>55.0</td>\n",
       "      <td>0</td>\n",
       "      <td>NaN</td>\n",
       "      <td>ENFJ</td>\n",
       "      <td>37.113739</td>\n",
       "    </tr>\n",
       "    <tr>\n",
       "      <th>44</th>\n",
       "      <td>id45</td>\n",
       "      <td>97.0</td>\n",
       "      <td>대구</td>\n",
       "      <td>88.0</td>\n",
       "      <td>0</td>\n",
       "      <td>NaN</td>\n",
       "      <td>ENFJ</td>\n",
       "      <td>13.049921</td>\n",
       "    </tr>\n",
       "    <tr>\n",
       "      <th>53</th>\n",
       "      <td>id54</td>\n",
       "      <td>53.0</td>\n",
       "      <td>대구</td>\n",
       "      <td>NaN</td>\n",
       "      <td>1</td>\n",
       "      <td>NaN</td>\n",
       "      <td>ENFJ</td>\n",
       "      <td>69.730313</td>\n",
       "    </tr>\n",
       "  </tbody>\n",
       "</table>\n",
       "</div>"
      ],
      "text/plain": [
       "      id   age city    f1  f2   f3    f4         f5\n",
       "0   id01   2.0   서울   NaN   0  NaN  ENFJ  91.297791\n",
       "1   id02   9.0   서울  70.0   1  NaN  ENFJ  60.339826\n",
       "32  id33  47.0   부산  94.0   0  NaN  ENFJ  17.252986\n",
       "40  id41  81.0   대구  55.0   0  NaN  ENFJ  37.113739\n",
       "44  id45  97.0   대구  88.0   0  NaN  ENFJ  13.049921\n",
       "53  id54  53.0   대구   NaN   1  NaN  ENFJ  69.730313"
      ]
     },
     "execution_count": 6,
     "metadata": {},
     "output_type": "execute_result"
    }
   ],
   "source": [
    "# 조건에 맞는 데이터\n",
    "df[df['f4']=='ENFJ']"
   ]
  },
  {
   "cell_type": "code",
   "execution_count": 7,
   "id": "0191c470",
   "metadata": {
    "execution": {
     "iopub.execute_input": "2025-06-15T05:34:36.781590Z",
     "iopub.status.busy": "2025-06-15T05:34:36.780743Z",
     "iopub.status.idle": "2025-06-15T05:34:36.784339Z",
     "shell.execute_reply": "2025-06-15T05:34:36.784741Z",
     "shell.execute_reply.started": "2025-06-15T03:49:16.080296Z"
    },
    "papermill": {
     "duration": 0.021471,
     "end_time": "2025-06-15T05:34:36.784959",
     "exception": false,
     "start_time": "2025-06-15T05:34:36.763488",
     "status": "completed"
    },
    "tags": []
   },
   "outputs": [
    {
     "data": {
      "text/plain": [
       "17.727097901235837"
      ]
     },
     "execution_count": 7,
     "metadata": {},
     "output_type": "execute_result"
    }
   ],
   "source": [
    "df[df['f4']=='ENFJ']['f1'].std()"
   ]
  },
  {
   "cell_type": "code",
   "execution_count": 8,
   "id": "87dfbe24",
   "metadata": {
    "execution": {
     "iopub.execute_input": "2025-06-15T05:34:36.813091Z",
     "iopub.status.busy": "2025-06-15T05:34:36.812284Z",
     "iopub.status.idle": "2025-06-15T05:34:36.815514Z",
     "shell.execute_reply": "2025-06-15T05:34:36.815989Z",
     "shell.execute_reply.started": "2025-06-15T03:49:18.337164Z"
    },
    "papermill": {
     "duration": 0.020333,
     "end_time": "2025-06-15T05:34:36.816154",
     "exception": false,
     "start_time": "2025-06-15T05:34:36.795821",
     "status": "completed"
    },
    "tags": []
   },
   "outputs": [
    {
     "data": {
      "text/plain": [
       "17.727097901235837"
      ]
     },
     "execution_count": 8,
     "metadata": {},
     "output_type": "execute_result"
    }
   ],
   "source": [
    "# 조건에 맞는 f1의 표준편차\n",
    "enfj = df[df['f4']=='ENFJ']['f1'].std()\n",
    "enfj"
   ]
  },
  {
   "cell_type": "code",
   "execution_count": 9,
   "id": "3dfb2d0e",
   "metadata": {
    "execution": {
     "iopub.execute_input": "2025-06-15T05:34:36.845349Z",
     "iopub.status.busy": "2025-06-15T05:34:36.844594Z",
     "iopub.status.idle": "2025-06-15T05:34:36.847923Z",
     "shell.execute_reply": "2025-06-15T05:34:36.847423Z",
     "shell.execute_reply.started": "2025-06-15T03:49:20.038450Z"
    },
    "papermill": {
     "duration": 0.020074,
     "end_time": "2025-06-15T05:34:36.848071",
     "exception": false,
     "start_time": "2025-06-15T05:34:36.827997",
     "status": "completed"
    },
    "tags": []
   },
   "outputs": [
    {
     "data": {
      "text/plain": [
       "23.586719427112648"
      ]
     },
     "execution_count": 9,
     "metadata": {},
     "output_type": "execute_result"
    }
   ],
   "source": [
    "# 조건에 맞는 f1의 표준편차\n",
    "infp = df[df['f4']=='INFP']['f1'].std()\n",
    "infp"
   ]
  },
  {
   "cell_type": "code",
   "execution_count": 10,
   "id": "876b5726",
   "metadata": {
    "execution": {
     "iopub.execute_input": "2025-06-15T05:34:36.875023Z",
     "iopub.status.busy": "2025-06-15T05:34:36.874262Z",
     "iopub.status.idle": "2025-06-15T05:34:36.877137Z",
     "shell.execute_reply": "2025-06-15T05:34:36.877579Z",
     "shell.execute_reply.started": "2025-06-15T03:49:22.034708Z"
    },
    "papermill": {
     "duration": 0.018934,
     "end_time": "2025-06-15T05:34:36.877742",
     "exception": false,
     "start_time": "2025-06-15T05:34:36.858808",
     "status": "completed"
    },
    "tags": []
   },
   "outputs": [
    {
     "name": "stdout",
     "output_type": "stream",
     "text": [
      "5.859621525876811\n"
     ]
    }
   ],
   "source": [
    "# 두 표준편차 차이 절대값 출력\n",
    "print(np.abs(enfj - infp))"
   ]
  }
 ],
 "metadata": {
  "kaggle": {
   "accelerator": "none",
   "dataSources": [
    {
     "datasetId": 1633303,
     "sourceId": 12111603,
     "sourceType": "datasetVersion"
    }
   ],
   "dockerImageVersionId": 30129,
   "isGpuEnabled": false,
   "isInternetEnabled": true,
   "language": "python",
   "sourceType": "notebook"
  },
  "kernelspec": {
   "display_name": "Python 3",
   "language": "python",
   "name": "python3"
  },
  "language_info": {
   "codemirror_mode": {
    "name": "ipython",
    "version": 3
   },
   "file_extension": ".py",
   "mimetype": "text/x-python",
   "name": "python",
   "nbconvert_exporter": "python",
   "pygments_lexer": "ipython3",
   "version": "3.7.10"
  },
  "papermill": {
   "default_parameters": {},
   "duration": 8.496781,
   "end_time": "2025-06-15T05:34:37.398680",
   "environment_variables": {},
   "exception": null,
   "input_path": "__notebook__.ipynb",
   "output_path": "__notebook__.ipynb",
   "parameters": {},
   "start_time": "2025-06-15T05:34:28.901899",
   "version": "2.3.3"
  }
 },
 "nbformat": 4,
 "nbformat_minor": 5
}
