{
 "cells": [
  {
   "cell_type": "markdown",
   "id": "656c331b",
   "metadata": {
    "papermill": {
     "duration": 0.002199,
     "end_time": "2025-06-19T13:06:29.553517",
     "exception": false,
     "start_time": "2025-06-19T13:06:29.551318",
     "status": "completed"
    },
    "tags": []
   },
   "source": [
    "## 어떤 특정 약물을 복용한 사람들의 평균 체온이 복용하지 않은 사람들의 평균 체온과 유의미하게 다른지 검정해보려고 합니다.\n",
    "\n",
    "가정:\n",
    "- 약물을 복용한 그룹과 복용하지 않은 그룹의 체온 데이터가 각각 주어져 있다고 가정합니다.\n",
    "- 각 그룹의 체온은 정규분포를 따른다고 가정합니다.\n",
    "\n",
    "## 검정통계량, p-value, 검정결과를 출력하시오"
   ]
  },
  {
   "cell_type": "code",
   "execution_count": 1,
   "id": "3219c919",
   "metadata": {
    "execution": {
     "iopub.execute_input": "2025-06-19T13:06:29.558919Z",
     "iopub.status.busy": "2025-06-19T13:06:29.558506Z",
     "iopub.status.idle": "2025-06-19T13:06:30.969894Z",
     "shell.execute_reply": "2025-06-19T13:06:30.967679Z"
    },
    "papermill": {
     "duration": 1.418012,
     "end_time": "2025-06-19T13:06:30.973388",
     "exception": false,
     "start_time": "2025-06-19T13:06:29.555376",
     "status": "completed"
    },
    "tags": []
   },
   "outputs": [
    {
     "name": "stderr",
     "output_type": "stream",
     "text": [
      "/opt/conda/lib/python3.10/site-packages/scipy/__init__.py:146: UserWarning: A NumPy version >=1.16.5 and <1.23.0 is required for this version of SciPy (detected version 1.23.5\n",
      "  warnings.warn(f\"A NumPy version >={np_minversion} and <{np_maxversion}\"\n"
     ]
    },
    {
     "name": "stdout",
     "output_type": "stream",
     "text": [
      "LeveneResult(statistic=0.19889502762431177, pvalue=0.6609323607193374)\n",
      "t-statistic:3.7964208654863336\n",
      "p_value:0.001321891476703691\n",
      "귀무가설을 기각합니다. 두 집단의 평균 체온은 다릅니다.\n"
     ]
    }
   ],
   "source": [
    "# 2그룹 비교하는 것이고, 정규분포를 따른다. \n",
    "# 이 2그룹의 등분산성을 먼저 확인해보자.\n",
    "from scipy import stats\n",
    "\n",
    "group1 = [36.8, 36.7, 37.1, 36.9, 37.2, 36.8, 36.9, 37.1, 36.7, 37.1]\n",
    "group2 = [36.5, 36.6, 36.3, 36.6, 36.9, 36.7, 36.7, 36.8, 36.5, 36.7]\n",
    "\n",
    "print(stats.levene(group1, group2))\n",
    "# p-value가 0.66으로, 등분산이다. \n",
    "\n",
    "# 따라서 ttest_ind를 사용한다. \n",
    "t_statistic, p_value=stats.ttest_ind(group1, group2)\n",
    "\n",
    "# 이게 검정 통계량이다. \n",
    "print(f't-statistic:{t_statistic}')\n",
    "print(f'p_value:{p_value}')\n",
    "\n",
    "if p_value < 0.05:\n",
    "    print(\"귀무가설을 기각합니다. 두 집단의 평균 체온은 다릅니다.\")\n",
    "else:\n",
    "    print(\"귀무가설을 채택합니다. 두 집단의 평균 체온은 동일합니다.\")\n"
   ]
  },
  {
   "cell_type": "code",
   "execution_count": null,
   "id": "42287478",
   "metadata": {
    "papermill": {
     "duration": 0.001605,
     "end_time": "2025-06-19T13:06:30.977054",
     "exception": false,
     "start_time": "2025-06-19T13:06:30.975449",
     "status": "completed"
    },
    "tags": []
   },
   "outputs": [],
   "source": []
  }
 ],
 "metadata": {
  "kaggle": {
   "accelerator": "none",
   "dataSources": [
    {
     "datasetId": 1633303,
     "sourceId": 12211878,
     "sourceType": "datasetVersion"
    }
   ],
   "dockerImageVersionId": 30474,
   "isGpuEnabled": false,
   "isInternetEnabled": true,
   "language": "python",
   "sourceType": "notebook"
  },
  "kernelspec": {
   "display_name": "Python 3",
   "language": "python",
   "name": "python3"
  },
  "language_info": {
   "codemirror_mode": {
    "name": "ipython",
    "version": 3
   },
   "file_extension": ".py",
   "mimetype": "text/x-python",
   "name": "python",
   "nbconvert_exporter": "python",
   "pygments_lexer": "ipython3",
   "version": "3.10.10"
  },
  "papermill": {
   "default_parameters": {},
   "duration": 17.189185,
   "end_time": "2025-06-19T13:06:32.006450",
   "environment_variables": {},
   "exception": null,
   "input_path": "__notebook__.ipynb",
   "output_path": "__notebook__.ipynb",
   "parameters": {},
   "start_time": "2025-06-19T13:06:14.817265",
   "version": "2.4.0"
  }
 },
 "nbformat": 4,
 "nbformat_minor": 5
}
