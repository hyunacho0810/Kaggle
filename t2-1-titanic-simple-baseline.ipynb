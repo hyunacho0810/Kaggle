{
 "cells": [
  {
   "attachments": {
    "de1920de-121e-47c3-a61f-e905386713bf.png": {
     "image/png": "[encoded data removed]"
    }
   },
   "cell_type": "markdown",
   "id": "cb7a2561",
   "metadata": {
    "papermill": {
     "duration": 0.009438,
     "end_time": "2025-06-17T06:05:07.056161",
     "exception": false,
     "start_time": "2025-06-17T06:05:07.046723",
     "status": "completed"
    },
    "tags": []
   },
   "source": [
    "## 생존여부 예측모델 만들기\n",
    "### 학습용 데이터 (X_train, y_train)을 이용하여 생존 예측 모형을 만든 후, 이를 평가용 데이터(X_test)에 적용하여 얻은 예측값을 다음과 같은 형식의 CSV파일로 생성하시오(제출한 모델의 성능은 accuracy 평가지표에 따라 채점)\n",
    "\n",
    "(가) 제공 데이터 목록\n",
    "- y_train: 생존여부(학습용)\n",
    "- X_trian, X_test : 승객 정보 (학습용 및 평가용)\n",
    "\n",
    "(나) 데이터 형식 및 내용\n",
    "- y_trian (712명 데이터)\n",
    "\n",
    "**시험환경 세팅은 예시문제와 동일한 형태의 X_train, y_train, X_test 데이터를 만들기 위함임**\n",
    "\n",
    "### 유의사항\n",
    "- 성능이 우수한 예측모형을 구축하기 위해서는 적절한 데이터 전처리, 피처엔지니어링, 분류알고리즘, 하이퍼파라미터 튜닝, 모형 앙상블 등이 수반되어야 한다.\n",
    "- 수험번호.csv파일이 만들어지도록 코드를 제출한다.\n",
    "- 제출한 모델의 성능은 accuracy로 평가함\n",
    "\n",
    "csv 출력형태\n",
    "\n",
    "![image.png](attachment:de1920de-121e-47c3-a61f-e905386713bf.png)"
   ]
  },
  {
   "cell_type": "markdown",
   "id": "2d4d529c",
   "metadata": {
    "papermill": {
     "duration": 0.00828,
     "end_time": "2025-06-17T06:05:07.073350",
     "exception": false,
     "start_time": "2025-06-17T06:05:07.065070",
     "status": "completed"
    },
    "tags": []
   },
   "source": [
    "## [참고]작업형2 문구\n",
    "- 출력을 원하실 경우 print() 함수 활용\n",
    "- 예시) print(df.head())\n",
    "- getcwd(), chdir() 등 작업 폴더 설정 불필요\n",
    "- 파일 경로 상 내부 드라이브 경로(C: 등) 접근 불가\n",
    "\n",
    "### 데이터 파일 읽기 예제\n",
    "- import pandas as pd\n",
    "- X_test = pd.read_csv(\"data/X_test.csv\")\n",
    "- X_train = pd.read_csv(\"data/X_train.csv\")\n",
    "- y_train = pd.read_csv(\"data/y_train.csv\")\n",
    "\n",
    "### 사용자 코딩\n",
    "\n",
    "### 답안 제출 참고\n",
    "- 아래 코드 예측변수와 수험번호를 개인별로 변경하여 활용\n",
    "- pd.DataFrame({'cust_id': X_test.cust_id, 'gender': pred}).to_csv('003000000.csv', index=False)"
   ]
  },
  {
   "cell_type": "code",
   "execution_count": 1,
   "id": "944fd464",
   "metadata": {
    "execution": {
     "iopub.execute_input": "2025-06-17T06:05:07.102906Z",
     "iopub.status.busy": "2025-06-17T06:05:07.099298Z",
     "iopub.status.idle": "2025-06-17T06:05:08.428990Z",
     "shell.execute_reply": "2025-06-17T06:05:08.429547Z",
     "shell.execute_reply.started": "2025-06-17T06:04:23.692235Z"
    },
    "papermill": {
     "duration": 1.348004,
     "end_time": "2025-06-17T06:05:08.429870",
     "exception": false,
     "start_time": "2025-06-17T06:05:07.081866",
     "status": "completed"
    },
    "tags": []
   },
   "outputs": [],
   "source": [
    "# import \n",
    "import pandas as pd\n",
    "import numpy as np\n",
    "from sklearn.model_selection import train_test_split\n",
    "from sklearn.preprocessing import LabelEncoder\n",
    "from sklearn.ensemble import RandomForestClassifier\n",
    "from sklearn.metrics import roc_auc_score, accuracy_score, f1_score"
   ]
  },
  {
   "cell_type": "code",
   "execution_count": 2,
   "id": "ad7a246a",
   "metadata": {
    "execution": {
     "iopub.execute_input": "2025-06-17T06:05:08.458793Z",
     "iopub.status.busy": "2025-06-17T06:05:08.457946Z",
     "iopub.status.idle": "2025-06-17T06:05:08.621199Z",
     "shell.execute_reply": "2025-06-17T06:05:08.620676Z",
     "shell.execute_reply.started": "2025-06-17T06:04:23.699317Z"
    },
    "papermill": {
     "duration": 0.179868,
     "end_time": "2025-06-17T06:05:08.621392",
     "exception": false,
     "start_time": "2025-06-17T06:05:08.441524",
     "status": "completed"
    },
    "tags": []
   },
   "outputs": [
    {
     "name": "stdout",
     "output_type": "stream",
     "text": [
      "\"Train shape: (891, 12)\n",
      "\"Test shape: (418, 11)\n",
      "-----------------------------\n",
      "데이터 정보 확인\n",
      "<class 'pandas.core.frame.DataFrame'>\n",
      "RangeIndex: 891 entries, 0 to 890\n",
      "Data columns (total 12 columns):\n",
      " #   Column       Non-Null Count  Dtype  \n",
      "---  ------       --------------  -----  \n",
      " 0   PassengerId  891 non-null    int64  \n",
      " 1   Survived     891 non-null    int64  \n",
      " 2   Pclass       891 non-null    int64  \n",
      " 3   Name         891 non-null    object \n",
      " 4   Sex          891 non-null    object \n",
      " 5   Age          714 non-null    float64\n",
      " 6   SibSp        891 non-null    int64  \n",
      " 7   Parch        891 non-null    int64  \n",
      " 8   Ticket       891 non-null    object \n",
      " 9   Fare         891 non-null    float64\n",
      " 10  Cabin        204 non-null    object \n",
      " 11  Embarked     889 non-null    object \n",
      "dtypes: float64(2), int64(5), object(5)\n",
      "memory usage: 83.7+ KB\n",
      "None\n",
      "-----------------------------\n",
      "데이터 예시 확인\n",
      "   PassengerId  Pclass                                          Name     Sex  \\\n",
      "0          892       3                              Kelly, Mr. James    male   \n",
      "1          893       3              Wilkes, Mrs. James (Ellen Needs)  female   \n",
      "2          894       2                     Myles, Mr. Thomas Francis    male   \n",
      "3          895       3                              Wirz, Mr. Albert    male   \n",
      "4          896       3  Hirvonen, Mrs. Alexander (Helga E Lindqvist)  female   \n",
      "5          897       3                    Svensson, Mr. Johan Cervin    male   \n",
      "6          898       3                          Connolly, Miss. Kate  female   \n",
      "7          899       2                  Caldwell, Mr. Albert Francis    male   \n",
      "8          900       3     Abrahim, Mrs. Joseph (Sophie Halaut Easu)  female   \n",
      "9          901       3                       Davies, Mr. John Samuel    male   \n",
      "\n",
      "    Age  SibSp  Parch     Ticket     Fare Cabin Embarked  \n",
      "0  34.5      0      0     330911   7.8292   NaN        Q  \n",
      "1  47.0      1      0     363272   7.0000   NaN        S  \n",
      "2  62.0      0      0     240276   9.6875   NaN        Q  \n",
      "3  27.0      0      0     315154   8.6625   NaN        S  \n",
      "4  22.0      1      1    3101298  12.2875   NaN        S  \n",
      "5  14.0      0      0       7538   9.2250   NaN        S  \n",
      "6  30.0      0      0     330972   7.6292   NaN        Q  \n",
      "7  26.0      1      1     248738  29.0000   NaN        S  \n",
      "8  18.0      0      0       2657   7.2292   NaN        C  \n",
      "9  21.0      2      0  A/4 48871  24.1500   NaN        S  \n",
      "-----------------------------\n",
      "결측치 확인:\n",
      "PassengerId      0\n",
      "Survived         0\n",
      "Pclass           0\n",
      "Name             0\n",
      "Sex              0\n",
      "Age            177\n",
      "SibSp            0\n",
      "Parch            0\n",
      "Ticket           0\n",
      "Fare             0\n",
      "Cabin          687\n",
      "Embarked         2\n",
      "dtype: int64\n"
     ]
    }
   ],
   "source": [
    "# 1. 데이터 로드\n",
    "\n",
    "train=pd.read_csv(\"../input/titanic/train.csv\")\n",
    "test=pd.read_csv(\"../input/titanic/test.csv\")\n",
    "\n",
    "print(f'\"Train shape: {train.shape}')\n",
    "print(f'\"Test shape: {test.shape}')\n",
    "print('-----------------------------')\n",
    "print('데이터 정보 확인')\n",
    "print(train.info())\n",
    "print('-----------------------------')\n",
    "print('데이터 예시 확인')\n",
    "print(test.head(10))\n",
    "print('-----------------------------')\n",
    "print(\"결측치 확인:\")\n",
    "print(train.isnull().sum())"
   ]
  },
  {
   "cell_type": "code",
   "execution_count": 3,
   "id": "30536cb3",
   "metadata": {
    "execution": {
     "iopub.execute_input": "2025-06-17T06:05:08.649324Z",
     "iopub.status.busy": "2025-06-17T06:05:08.648558Z",
     "iopub.status.idle": "2025-06-17T06:05:08.662347Z",
     "shell.execute_reply": "2025-06-17T06:05:08.661775Z",
     "shell.execute_reply.started": "2025-06-17T06:04:23.738616Z"
    },
    "papermill": {
     "duration": 0.032283,
     "end_time": "2025-06-17T06:05:08.662506",
     "exception": false,
     "start_time": "2025-06-17T06:05:08.630223",
     "status": "completed"
    },
    "tags": []
   },
   "outputs": [
    {
     "name": "stdout",
     "output_type": "stream",
     "text": [
      "y_train예시 \n",
      "0    0\n",
      "1    1\n",
      "2    1\n",
      "3    1\n",
      "4    0\n",
      "5    0\n",
      "6    0\n",
      "7    0\n",
      "8    1\n",
      "9    1\n",
      "Name: Survived, dtype: int64\n",
      "------------------------\n",
      "X_train예시 \n",
      "   PassengerId  Pclass                                               Name  \\\n",
      "0            1       3                            Braund, Mr. Owen Harris   \n",
      "1            2       1  Cumings, Mrs. John Bradley (Florence Briggs Th...   \n",
      "2            3       3                             Heikkinen, Miss. Laina   \n",
      "3            4       1       Futrelle, Mrs. Jacques Heath (Lily May Peel)   \n",
      "4            5       3                           Allen, Mr. William Henry   \n",
      "5            6       3                                   Moran, Mr. James   \n",
      "6            7       1                            McCarthy, Mr. Timothy J   \n",
      "7            8       3                     Palsson, Master. Gosta Leonard   \n",
      "8            9       3  Johnson, Mrs. Oscar W (Elisabeth Vilhelmina Berg)   \n",
      "9           10       2                Nasser, Mrs. Nicholas (Adele Achem)   \n",
      "\n",
      "      Sex   Age  SibSp  Parch            Ticket     Fare Cabin Embarked  \n",
      "0    male  22.0      1      0         A/5 21171   7.2500   NaN        S  \n",
      "1  female  38.0      1      0          PC 17599  71.2833   C85        C  \n",
      "2  female  26.0      0      0  STON/O2. 3101282   7.9250   NaN        S  \n",
      "3  female  35.0      1      0            113803  53.1000  C123        S  \n",
      "4    male  35.0      0      0            373450   8.0500   NaN        S  \n",
      "5    male   NaN      0      0            330877   8.4583   NaN        Q  \n",
      "6    male  54.0      0      0             17463  51.8625   E46        S  \n",
      "7    male   2.0      3      1            349909  21.0750   NaN        S  \n",
      "8  female  27.0      0      2            347742  11.1333   NaN        S  \n",
      "9  female  14.0      1      0            237736  30.0708   NaN        C  \n",
      "------------------------\n",
      "타겟 분포\n",
      "0    549\n",
      "1    342\n",
      "Name: Survived, dtype: int64\n"
     ]
    }
   ],
   "source": [
    "# 2. 타겟 분리\n",
    "X_train = train.drop('Survived',axis=1)  # 타겟 제거\n",
    "y_train = train['Survived']  \n",
    "\n",
    "print('y_train예시 ')\n",
    "print(y_train.head(10))\n",
    "print('------------------------')\n",
    "print('X_train예시 ')\n",
    "print(X_train.head(10))\n",
    "print('------------------------')\n",
    "print('타겟 분포')\n",
    "print(y_train.value_counts())"
   ]
  },
  {
   "cell_type": "code",
   "execution_count": 4,
   "id": "0c08d061",
   "metadata": {
    "execution": {
     "iopub.execute_input": "2025-06-17T06:05:08.693448Z",
     "iopub.status.busy": "2025-06-17T06:05:08.692661Z",
     "iopub.status.idle": "2025-06-17T06:05:08.713680Z",
     "shell.execute_reply": "2025-06-17T06:05:08.714362Z",
     "shell.execute_reply.started": "2025-06-17T06:04:23.758326Z"
    },
    "papermill": {
     "duration": 0.043213,
     "end_time": "2025-06-17T06:05:08.714549",
     "exception": false,
     "start_time": "2025-06-17T06:05:08.671336",
     "status": "completed"
    },
    "tags": []
   },
   "outputs": [
    {
     "name": "stdout",
     "output_type": "stream",
     "text": [
      "numeric_cols:Index(['PassengerId', 'Pclass', 'Age', 'SibSp', 'Parch', 'Fare'], dtype='object')\n",
      "categorical_cols:Index(['Name', 'Sex', 'Ticket', 'Cabin', 'Embarked'], dtype='object')\n",
      "결측치 확인:\n",
      "PassengerId    0\n",
      "Pclass         0\n",
      "Name           0\n",
      "Sex            0\n",
      "Age            0\n",
      "SibSp          0\n",
      "Parch          0\n",
      "Ticket         0\n",
      "Fare           0\n",
      "Cabin          0\n",
      "Embarked       0\n",
      "dtype: int64\n",
      "PassengerId    0\n",
      "Pclass         0\n",
      "Name           0\n",
      "Sex            0\n",
      "Age            0\n",
      "SibSp          0\n",
      "Parch          0\n",
      "Ticket         0\n",
      "Fare           0\n",
      "Cabin          0\n",
      "Embarked       0\n",
      "dtype: int64\n"
     ]
    }
   ],
   "source": [
    "# 3.결측치 처리\n",
    "# 수치형: 중앙값으로 처리(이상치에 더 강하다)\n",
    "numeric_cols = X_train.select_dtypes(include=[np.number]).columns\n",
    "print(f'numeric_cols:{numeric_cols}')\n",
    "\n",
    "for col in numeric_cols:\n",
    "    median_val = X_train[col].median()\n",
    "\n",
    "    # X_train이랑 test에 같은 값을 대입한다. \n",
    "    X_train[col] = X_train[col].fillna(median_val)\n",
    "    test[col] = test[col].fillna(median_val)\n",
    "\n",
    "# 범주형: 최빈값으로 처리\n",
    "categorical_cols = X_train.select_dtypes(include=['object']).columns\n",
    "print(f'categorical_cols:{categorical_cols}')\n",
    "\n",
    "for col in categorical_cols:\n",
    "    mode_val = X_train[col].mode()[0]\n",
    "\n",
    "    # X_train이랑 test에 같은 값을 대입한다. \n",
    "    X_train[col] = X_train[col].fillna(mode_val)\n",
    "    test[col] = test[col].fillna(mode_val)\n",
    "\n",
    "print(\"결측치 확인:\")\n",
    "print(X_train.isnull().sum())\n",
    "print(test.isnull().sum())"
   ]
  },
  {
   "cell_type": "code",
   "execution_count": 5,
   "id": "09719d1a",
   "metadata": {
    "execution": {
     "iopub.execute_input": "2025-06-17T06:05:08.758216Z",
     "iopub.status.busy": "2025-06-17T06:05:08.757324Z",
     "iopub.status.idle": "2025-06-17T06:05:08.760727Z",
     "shell.execute_reply": "2025-06-17T06:05:08.761221Z",
     "shell.execute_reply.started": "2025-06-17T06:04:23.793264Z"
    },
    "papermill": {
     "duration": 0.037032,
     "end_time": "2025-06-17T06:05:08.761432",
     "exception": false,
     "start_time": "2025-06-17T06:05:08.724400",
     "status": "completed"
    },
    "tags": []
   },
   "outputs": [
    {
     "name": "stdout",
     "output_type": "stream",
     "text": [
      "X_train:   PassengerId  Pclass  Name  Sex   Age  SibSp  Parch  Ticket     Fare  Cabin  \\\n",
      "0            1       3   155    1  22.0      1      0     720   7.2500     60   \n",
      "1            2       1   286    0  38.0      1      0     816  71.2833    106   \n",
      "2            3       3   523    0  26.0      0      0     914   7.9250     60   \n",
      "3            4       1   422    0  35.0      1      0      65  53.1000     70   \n",
      "4            5       3    22    1  35.0      0      0     649   8.0500     60   \n",
      "5            6       3   818    1  28.0      0      0     373   8.4583     60   \n",
      "6            7       1   767    1  54.0      0      0     109  51.8625    163   \n",
      "7            8       3   914    1   2.0      3      1     541  21.0750     60   \n",
      "8            9       3   605    0  27.0      0      2     477  11.1333     60   \n",
      "9           10       2   847    0  14.0      1      0     174  30.0708     60   \n",
      "\n",
      "   Embarked  \n",
      "0         2  \n",
      "1         0  \n",
      "2         2  \n",
      "3         2  \n",
      "4         2  \n",
      "5         1  \n",
      "6         2  \n",
      "7         2  \n",
      "8         2  \n",
      "9         0  \n",
      "-----------------------\n",
      "test:   PassengerId  Pclass  Name  Sex   Age  SibSp  Parch  Ticket     Fare  Cabin  \\\n",
      "0          892       3   638    1  34.5      0      0     376   7.8292     60   \n",
      "1          893       3  1266    0  47.0      1      0     582   7.0000     60   \n",
      "2          894       2   837    1  62.0      0      0     184   9.6875     60   \n",
      "3          895       3  1278    1  27.0      0      0     366   8.6625     60   \n",
      "4          896       3   543    0  22.0      1      1     338  12.2875     60   \n",
      "5          897       3  1160    1  14.0      0      0     692   9.2250     60   \n",
      "6          898       3   261    0  30.0      0      0     389   7.6292     60   \n",
      "7          899       2   185    1  26.0      1      1     211  29.0000     60   \n",
      "8          900       3     9    0  18.0      0      0     251   7.2292     60   \n",
      "9          901       3   308    1  21.0      2      0     714  24.1500     60   \n",
      "\n",
      "   Embarked  \n",
      "0         1  \n",
      "1         2  \n",
      "2         1  \n",
      "3         2  \n",
      "4         2  \n",
      "5         2  \n",
      "6         1  \n",
      "7         2  \n",
      "8         0  \n",
      "9         2  \n"
     ]
    }
   ],
   "source": [
    "# 4. 인코딩\n",
    "# 범주형 변수 레이블 인코딩\n",
    "le_dict = {} # 인코더 저장소 \n",
    "for col in categorical_cols:\n",
    "    le = LabelEncoder()\n",
    "    # train + test 합쳐서 fit (중요!)\n",
    "    all_values = pd.concat([X_train[col], test[col]], axis=0)\n",
    "    # 합친 것을 학습\n",
    "    le.fit(all_values)\n",
    "\n",
    "    # 학습 후, X_train,test에 변환 \n",
    "    X_train[col] = le.transform(X_train[col])\n",
    "    test[col] = le.transform(test[col])\n",
    "\n",
    "    # 학습된 값을 le_dict에 저장. 나중에 새로운 데이터가 와도 같은 매핑을 사용하도록 \n",
    "    le_dict[col] = le\n",
    "\n",
    "# 잘 되었나 확인하기\n",
    "print(f'X_train:{X_train.head(10)}')\n",
    "print('-----------------------')\n",
    "print(f'test:{test.head(10)}')"
   ]
  },
  {
   "cell_type": "code",
   "execution_count": 6,
   "id": "8e1a6504",
   "metadata": {
    "execution": {
     "iopub.execute_input": "2025-06-17T06:05:08.788530Z",
     "iopub.status.busy": "2025-06-17T06:05:08.787515Z",
     "iopub.status.idle": "2025-06-17T06:05:08.797524Z",
     "shell.execute_reply": "2025-06-17T06:05:08.796840Z",
     "shell.execute_reply.started": "2025-06-17T06:04:23.819770Z"
    },
    "papermill": {
     "duration": 0.026897,
     "end_time": "2025-06-17T06:05:08.797671",
     "exception": false,
     "start_time": "2025-06-17T06:05:08.770774",
     "status": "completed"
    },
    "tags": []
   },
   "outputs": [
    {
     "name": "stdout",
     "output_type": "stream",
     "text": [
      "X_train 데이터 분리 확인 \n",
      "(891, 11)\n",
      "(712, 11)\n",
      "(179, 11)\n",
      "y_train 데이터 분리 확인 \n",
      "(891,)\n",
      "(712,)\n",
      "(179,)\n"
     ]
    }
   ],
   "source": [
    "# 5. 검증 데이터 분할\n",
    "# 검증 데이터를 통해 미리 성능 확인!\n",
    "# 80% 학습용, 20% 검증용 \n",
    "# 분류문제=무조건 stratify사용!(같은 비율로 나눠지게 함)\n",
    "X_tr, X_val, y_tr, y_val = train_test_split(\n",
    "    X_train, y_train, test_size=0.2, random_state=42, stratify=y_train\n",
    ")\n",
    "\n",
    "print('X_train 데이터 분리 확인 ')\n",
    "print(X_train.shape)\n",
    "print(X_tr.shape)\n",
    "print(X_val.shape)\n",
    "\n",
    "print('y_train 데이터 분리 확인 ')\n",
    "print(y_train.shape)\n",
    "print(y_tr.shape)\n",
    "print(y_val.shape)"
   ]
  },
  {
   "cell_type": "code",
   "execution_count": 7,
   "id": "95d1c3d5",
   "metadata": {
    "execution": {
     "iopub.execute_input": "2025-06-17T06:05:08.826043Z",
     "iopub.status.busy": "2025-06-17T06:05:08.825257Z",
     "iopub.status.idle": "2025-06-17T06:05:09.314386Z",
     "shell.execute_reply": "2025-06-17T06:05:09.313675Z",
     "shell.execute_reply.started": "2025-06-17T06:04:23.835717Z"
    },
    "papermill": {
     "duration": 0.507252,
     "end_time": "2025-06-17T06:05:09.314543",
     "exception": false,
     "start_time": "2025-06-17T06:05:08.807291",
     "status": "completed"
    },
    "tags": []
   },
   "outputs": [
    {
     "name": "stdout",
     "output_type": "stream",
     "text": [
      "[0 1]\n",
      "ROC-AUC: 0.8440052700922266\n",
      "Accuracy: 0.8044692737430168\n",
      "F1_score:0.7286821705426356\n"
     ]
    }
   ],
   "source": [
    "# 6. 모델 학습 및 평가\n",
    "# 모델 선택 \n",
    "model = RandomForestClassifier(random_state=42, n_estimators=200)\n",
    "\n",
    "# 모델 학습\n",
    "model.fit(X_tr, y_tr)\n",
    "\n",
    "# 검증 성능 확인\n",
    "print(model.classes_)  # [0 1] 1(생존) 확률을 확인해보자. \n",
    "\n",
    "# [0 1] 1(생존) 확률을 확인해보자. \n",
    "val_pred_proba = model.predict_proba(X_val)[:, 1]\n",
    "val_pred = model.predict(X_val)\n",
    "\n",
    "# ROC-AUC,Accuracy는 1에 가까울수록 좋다. 85이상이면 좋다. \n",
    "print(f\"ROC-AUC: {roc_auc_score(y_val, val_pred_proba)}\")\n",
    "print(f\"Accuracy: {accuracy_score(y_val, val_pred)}\")\n",
    "# 맞는 label을 적용해야한다. \n",
    "print(f'F1_score:{f1_score(y_val, val_pred, pos_label=1)}')"
   ]
  },
  {
   "cell_type": "code",
   "execution_count": 8,
   "id": "7732a609",
   "metadata": {
    "execution": {
     "iopub.execute_input": "2025-06-17T06:05:09.344083Z",
     "iopub.status.busy": "2025-06-17T06:05:09.343368Z",
     "iopub.status.idle": "2025-06-17T06:05:09.871698Z",
     "shell.execute_reply": "2025-06-17T06:05:09.872360Z",
     "shell.execute_reply.started": "2025-06-17T06:04:24.307083Z"
    },
    "papermill": {
     "duration": 0.548004,
     "end_time": "2025-06-17T06:05:09.872561",
     "exception": false,
     "start_time": "2025-06-17T06:05:09.324557",
     "status": "completed"
    },
    "tags": []
   },
   "outputs": [
    {
     "name": "stdout",
     "output_type": "stream",
     "text": [
      "예측 결과 확인:\n",
      "클래스: [0 1]\n",
      "처음 10개 예측: [0 1 0 0 0 0 0 0 1 0]\n",
      "제출 파일 생성 완료!\n",
      "   PassengerId  Survived\n",
      "0          892         0\n",
      "1          893         1\n",
      "2          894         0\n",
      "3          895         0\n",
      "4          896         0\n",
      "5          897         0\n",
      "6          898         0\n",
      "7          899         0\n",
      "8          900         1\n",
      "9          901         0\n"
     ]
    }
   ],
   "source": [
    "# 7. 최종 예측 및 제출\n",
    "# 전체 데이터로 학습\n",
    "# 시간이 있다면 파라미터 조정(max_depth=10)\n",
    "final_model = RandomForestClassifier(random_state=42, n_estimators=200)\n",
    "\n",
    "# 모델 학습\n",
    "final_model.fit(X_train, y_train)\n",
    "\n",
    "# 테스트 예측 (0 또는 1로 예측)\n",
    "test_pred_proba = final_model.predict(test)  # 클래스 예측 (0 또는 1)\n",
    "\n",
    "print(\"예측 결과 확인:\")\n",
    "print(\"클래스:\", final_model.classes_)  # [0, 1]\n",
    "print(\"처음 10개 예측:\", test_pred_proba[:10])\n",
    "\n",
    "# 제출 파일 생성\n",
    "submit = pd.DataFrame({\n",
    "    'PassengerId': test['PassengerId'],  # PassengerId 포함\n",
    "    'Survived': test_pred_proba  # 0 또는 1\n",
    "})\n",
    "\n",
    "submit.to_csv('submission-titanic.csv', index=False)\n",
    "print(\"제출 파일 생성 완료!\")\n",
    "print(submit.head(10))"
   ]
  }
 ],
 "metadata": {
  "kaggle": {
   "accelerator": "none",
   "dataSources": [
    {
     "databundleVersionId": 26502,
     "sourceId": 3136,
     "sourceType": "competition"
    },
    {
     "datasetId": 1633303,
     "sourceId": 12189494,
     "sourceType": "datasetVersion"
    }
   ],
   "dockerImageVersionId": 30145,
   "isGpuEnabled": false,
   "isInternetEnabled": true,
   "language": "python",
   "sourceType": "notebook"
  },
  "kernelspec": {
   "display_name": "Python 3",
   "language": "python",
   "name": "python3"
  },
  "language_info": {
   "codemirror_mode": {
    "name": "ipython",
    "version": 3
   },
   "file_extension": ".py",
   "mimetype": "text/x-python",
   "name": "python",
   "nbconvert_exporter": "python",
   "pygments_lexer": "ipython3",
   "version": "3.7.10"
  },
  "papermill": {
   "default_parameters": {},
   "duration": 13.370765,
   "end_time": "2025-06-17T06:05:10.595365",
   "environment_variables": {},
   "exception": null,
   "input_path": "__notebook__.ipynb",
   "output_path": "__notebook__.ipynb",
   "parameters": {},
   "start_time": "2025-06-17T06:04:57.224600",
   "version": "2.3.3"
  }
 },
 "nbformat": 4,
 "nbformat_minor": 5
}
