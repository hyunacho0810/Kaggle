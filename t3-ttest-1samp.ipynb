{
 "cells": [
  {
   "cell_type": "markdown",
   "id": "c13d7af8",
   "metadata": {
    "papermill": {
     "duration": 0.00167,
     "end_time": "2025-06-19T12:59:47.869850",
     "exception": false,
     "start_time": "2025-06-19T12:59:47.868180",
     "status": "completed"
    },
    "tags": []
   },
   "source": [
    "## 문제: 다음은 22명의 학생들이 국어시험에서 받은 점수이다. 학생들의 평균이 75보다 크다고 할 수 있는가?\n",
    "- 귀무가설(H0): 모평균은 mu와 같다. (μ = mu), 학생들의 평균은 75이다\n",
    "- 대립가설(H1): 모평균은 mu보다 크다. (μ > mu), 학생들의 평균은 75보다 크다\n",
    "\n",
    "가정:\n",
    "- 모집단은 정규분포를 따른다.\n",
    "- 표본의 크기가 충분히 크다.\n",
    "\n",
    "**검정통계량, p-value, 검정결과를 출력하시오**\n"
   ]
  },
  {
   "cell_type": "code",
   "execution_count": 1,
   "id": "0271dcc3",
   "metadata": {
    "execution": {
     "iopub.execute_input": "2025-06-19T12:59:47.873990Z",
     "iopub.status.busy": "2025-06-19T12:59:47.873659Z",
     "iopub.status.idle": "2025-06-19T12:59:48.706740Z",
     "shell.execute_reply": "2025-06-19T12:59:48.705765Z"
    },
    "papermill": {
     "duration": 0.837494,
     "end_time": "2025-06-19T12:59:48.708796",
     "exception": false,
     "start_time": "2025-06-19T12:59:47.871302",
     "status": "completed"
    },
    "tags": []
   },
   "outputs": [
    {
     "name": "stderr",
     "output_type": "stream",
     "text": [
      "/opt/conda/lib/python3.10/site-packages/scipy/__init__.py:146: UserWarning: A NumPy version >=1.16.5 and <1.23.0 is required for this version of SciPy (detected version 1.23.5\n",
      "  warnings.warn(f\"A NumPy version >={np_minversion} and <{np_maxversion}\"\n"
     ]
    },
    {
     "name": "stdout",
     "output_type": "stream",
     "text": [
      "t-statistic:1.765879233231226\n",
      "p_value:0.04597614747709146\n",
      "귀무가설을 기각합니다. 모평균은 75보다 큽니다.\n"
     ]
    }
   ],
   "source": [
    "from scipy import stats\n",
    "\n",
    "# 정규분포를 따르고, 표본의 크기가 충분히 크므로\n",
    "# t-검정을 하면 된다. \n",
    "\n",
    "# 데이터\n",
    "scores=[75, 80, 68, 72, 77, 82, 81, 79, 70, 74, 76, 78, 81, 73, 81, 78, 75, 72, 74, 79, 78, 79]\n",
    "\n",
    "t_statistic, p_value = stats.ttest_1samp(scores, 75,alternative='greater')\n",
    "print(f't-statistic:{t_statistic}')\n",
    "print(f'p_value:{p_value}')\n",
    "\n",
    "# p-value가 0.04이므로 귀무가설 기각\n",
    "if p_value < 0.05:\n",
    "    print(\"귀무가설을 기각합니다. 모평균은 75보다 큽니다.\")\n",
    "else:\n",
    "    print(\"귀무가설을 채택합니다. 모평균은 75보다 크지 않습니다.\")"
   ]
  },
  {
   "cell_type": "code",
   "execution_count": null,
   "id": "aeb85b11",
   "metadata": {
    "papermill": {
     "duration": 0.001191,
     "end_time": "2025-06-19T12:59:48.711547",
     "exception": false,
     "start_time": "2025-06-19T12:59:48.710356",
     "status": "completed"
    },
    "tags": []
   },
   "outputs": [],
   "source": []
  }
 ],
 "metadata": {
  "kaggle": {
   "accelerator": "none",
   "dataSources": [
    {
     "datasetId": 1633303,
     "sourceId": 12211878,
     "sourceType": "datasetVersion"
    }
   ],
   "dockerImageVersionId": 30474,
   "isGpuEnabled": false,
   "isInternetEnabled": true,
   "language": "python",
   "sourceType": "notebook"
  },
  "kernelspec": {
   "display_name": "Python 3",
   "language": "python",
   "name": "python3"
  },
  "language_info": {
   "codemirror_mode": {
    "name": "ipython",
    "version": 3
   },
   "file_extension": ".py",
   "mimetype": "text/x-python",
   "name": "python",
   "nbconvert_exporter": "python",
   "pygments_lexer": "ipython3",
   "version": "3.10.10"
  },
  "papermill": {
   "default_parameters": {},
   "duration": 10.679567,
   "end_time": "2025-06-19T12:59:49.434401",
   "environment_variables": {},
   "exception": null,
   "input_path": "__notebook__.ipynb",
   "output_path": "__notebook__.ipynb",
   "parameters": {},
   "start_time": "2025-06-19T12:59:38.754834",
   "version": "2.4.0"
  }
 },
 "nbformat": 4,
 "nbformat_minor": 5
}
