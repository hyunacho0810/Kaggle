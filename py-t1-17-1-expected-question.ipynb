{
 "cells": [
  {
   "cell_type": "markdown",
   "id": "ab4da0aa",
   "metadata": {
    "papermill": {
     "duration": 0.005909,
     "end_time": "2025-06-16T04:07:23.080176",
     "exception": false,
     "start_time": "2025-06-16T04:07:23.074267",
     "status": "completed"
    },
    "tags": []
   },
   "source": [
    "### 2022년 5월 sales의 중앙값을 구하시오\n",
    "\n",
    "- 데이터셋 : basic2.csv \n",
    "- 오른쪽 상단 copy&edit 클릭 -> 예상문제 풀이 시작"
   ]
  },
  {
   "cell_type": "code",
   "execution_count": 1,
   "id": "bdbae2ed",
   "metadata": {
    "_cell_guid": "b1076dfc-b9ad-4769-8c92-a6c4dae69d19",
    "_uuid": "8f2839f25d086af736a60e9eeb907d3b93b6e0e5",
    "execution": {
     "iopub.execute_input": "2025-06-16T04:07:23.102694Z",
     "iopub.status.busy": "2025-06-16T04:07:23.101941Z",
     "iopub.status.idle": "2025-06-16T04:07:23.156838Z",
     "shell.execute_reply": "2025-06-16T04:07:23.157379Z",
     "shell.execute_reply.started": "2025-06-15T06:57:13.558758Z"
    },
    "papermill": {
     "duration": 0.07236,
     "end_time": "2025-06-16T04:07:23.157737",
     "exception": false,
     "start_time": "2025-06-16T04:07:23.085377",
     "status": "completed"
    },
    "tags": []
   },
   "outputs": [
    {
     "name": "stdout",
     "output_type": "stream",
     "text": [
      "         Date     Sales      PV      UV  Events\n",
      "0  2022-01-01  22711525  397349  4421.0       1\n",
      "1  2022-01-02     36779    3969  2289.0       0\n",
      "2  2022-01-03  13943875  373890     NaN       1\n",
      "3  2022-01-04   8088593  142054  2157.0       0\n",
      "4  2022-01-05   2395374  190684     NaN       0\n",
      "5  2022-01-06   1709350  177815  5340.0       1\n",
      "6  2022-01-07   5306457  155749  3789.0       0\n",
      "7  2022-01-08   1052325   53467  1793.0       0\n",
      "8  2022-01-09    877848   54805  2110.0       0\n",
      "9  2022-01-10   9112911   94024  2471.0       0\n",
      "-----------\n",
      "<class 'pandas.core.frame.DataFrame'>\n",
      "RangeIndex: 730 entries, 0 to 729\n",
      "Data columns (total 5 columns):\n",
      " #   Column  Non-Null Count  Dtype  \n",
      "---  ------  --------------  -----  \n",
      " 0   Date    730 non-null    object \n",
      " 1   Sales   730 non-null    int64  \n",
      " 2   PV      730 non-null    int64  \n",
      " 3   UV      684 non-null    float64\n",
      " 4   Events  730 non-null    int64  \n",
      "dtypes: float64(1), int64(3), object(1)\n",
      "memory usage: 28.6+ KB\n",
      "None\n"
     ]
    }
   ],
   "source": [
    "# 데이터 불러오기\n",
    "import pandas as pd\n",
    "df = pd.read_csv(\"../input/bigdatacertificationkr/basic2.csv\")\n",
    "print(df.head(10))\n",
    "print('-----------')\n",
    "print(df.info())"
   ]
  },
  {
   "cell_type": "code",
   "execution_count": 2,
   "id": "74a52b30",
   "metadata": {
    "execution": {
     "iopub.execute_input": "2025-06-16T04:07:23.188192Z",
     "iopub.status.busy": "2025-06-16T04:07:23.187448Z",
     "iopub.status.idle": "2025-06-16T04:07:23.191226Z",
     "shell.execute_reply": "2025-06-16T04:07:23.191739Z",
     "shell.execute_reply.started": "2025-06-15T06:57:46.454564Z"
    },
    "papermill": {
     "duration": 0.028565,
     "end_time": "2025-06-16T04:07:23.191969",
     "exception": false,
     "start_time": "2025-06-16T04:07:23.163404",
     "status": "completed"
    },
    "tags": []
   },
   "outputs": [
    {
     "name": "stdout",
     "output_type": "stream",
     "text": [
      "<class 'pandas.core.frame.DataFrame'>\n",
      "RangeIndex: 730 entries, 0 to 729\n",
      "Data columns (total 5 columns):\n",
      " #   Column  Non-Null Count  Dtype         \n",
      "---  ------  --------------  -----         \n",
      " 0   Date    730 non-null    datetime64[ns]\n",
      " 1   Sales   730 non-null    int64         \n",
      " 2   PV      730 non-null    int64         \n",
      " 3   UV      684 non-null    float64       \n",
      " 4   Events  730 non-null    int64         \n",
      "dtypes: datetime64[ns](1), float64(1), int64(3)\n",
      "memory usage: 28.6 KB\n",
      "None\n"
     ]
    }
   ],
   "source": [
    "# dates가 object로 되어있으므로 datetime으로 변경 \n",
    "df['Date'] = pd.to_datetime(df['Date'])\n",
    "print(df.info())"
   ]
  },
  {
   "cell_type": "code",
   "execution_count": 3,
   "id": "8b97bb14",
   "metadata": {
    "execution": {
     "iopub.execute_input": "2025-06-16T04:07:23.210147Z",
     "iopub.status.busy": "2025-06-16T04:07:23.208297Z",
     "iopub.status.idle": "2025-06-16T04:07:23.220112Z",
     "shell.execute_reply": "2025-06-16T04:07:23.220558Z",
     "shell.execute_reply.started": "2025-06-15T06:58:04.533005Z"
    },
    "papermill": {
     "duration": 0.023543,
     "end_time": "2025-06-16T04:07:23.220796",
     "exception": false,
     "start_time": "2025-06-16T04:07:23.197253",
     "status": "completed"
    },
    "tags": []
   },
   "outputs": [
    {
     "name": "stdout",
     "output_type": "stream",
     "text": [
      "        Date     Sales      PV      UV  Events  year  month\n",
      "0 2022-01-01  22711525  397349  4421.0       1  2022      1\n",
      "1 2022-01-02     36779    3969  2289.0       0  2022      1\n",
      "2 2022-01-03  13943875  373890     NaN       1  2022      1\n",
      "3 2022-01-04   8088593  142054  2157.0       0  2022      1\n",
      "4 2022-01-05   2395374  190684     NaN       0  2022      1\n",
      "5 2022-01-06   1709350  177815  5340.0       1  2022      1\n",
      "6 2022-01-07   5306457  155749  3789.0       0  2022      1\n",
      "7 2022-01-08   1052325   53467  1793.0       0  2022      1\n",
      "8 2022-01-09    877848   54805  2110.0       0  2022      1\n",
      "9 2022-01-10   9112911   94024  2471.0       0  2022      1\n"
     ]
    }
   ],
   "source": [
    "# 새로운 컬럼 추가 \n",
    "df['year'] = df['Date'].dt.year\n",
    "df['month'] = df['Date'].dt.month\n",
    "print(df.head(10))"
   ]
  },
  {
   "cell_type": "code",
   "execution_count": 4,
   "id": "be6ff54f",
   "metadata": {
    "execution": {
     "iopub.execute_input": "2025-06-16T04:07:23.243350Z",
     "iopub.status.busy": "2025-06-16T04:07:23.242623Z",
     "iopub.status.idle": "2025-06-16T04:07:23.250718Z",
     "shell.execute_reply": "2025-06-16T04:07:23.251287Z",
     "shell.execute_reply.started": "2025-06-15T07:00:05.090422Z"
    },
    "papermill": {
     "duration": 0.021673,
     "end_time": "2025-06-16T04:07:23.251506",
     "exception": false,
     "start_time": "2025-06-16T04:07:23.229833",
     "status": "completed"
    },
    "tags": []
   },
   "outputs": [
    {
     "name": "stdout",
     "output_type": "stream",
     "text": [
      "1477685.0\n"
     ]
    }
   ],
   "source": [
    "# 2개의 조건을 만족하는 sales의 중앙값 구하기 \n",
    "cond1=df['year']==2022\n",
    "cond2=df['month']==5\n",
    "result=df[cond1&cond2]['Sales'].median()\n",
    "print(result)"
   ]
  }
 ],
 "metadata": {
  "kaggle": {
   "accelerator": "none",
   "dataSources": [
    {
     "datasetId": 1633303,
     "sourceId": 12111603,
     "sourceType": "datasetVersion"
    }
   ],
   "dockerImageVersionId": 30145,
   "isGpuEnabled": false,
   "isInternetEnabled": true,
   "language": "python",
   "sourceType": "notebook"
  },
  "kernelspec": {
   "display_name": "Python 3",
   "language": "python",
   "name": "python3"
  },
  "language_info": {
   "codemirror_mode": {
    "name": "ipython",
    "version": 3
   },
   "file_extension": ".py",
   "mimetype": "text/x-python",
   "name": "python",
   "nbconvert_exporter": "python",
   "pygments_lexer": "ipython3",
   "version": "3.7.10"
  },
  "papermill": {
   "default_parameters": {},
   "duration": 10.49243,
   "end_time": "2025-06-16T04:07:24.173092",
   "environment_variables": {},
   "exception": null,
   "input_path": "__notebook__.ipynb",
   "output_path": "__notebook__.ipynb",
   "parameters": {},
   "start_time": "2025-06-16T04:07:13.680662",
   "version": "2.3.3"
  }
 },
 "nbformat": 4,
 "nbformat_minor": 5
}
