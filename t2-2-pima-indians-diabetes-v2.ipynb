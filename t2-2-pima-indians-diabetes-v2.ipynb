{
 "cells": [
  {
   "cell_type": "markdown",
   "id": "cc0e5d5d",
   "metadata": {
    "papermill": {
     "duration": 0.009437,
     "end_time": "2025-06-17T06:56:47.914727",
     "exception": false,
     "start_time": "2025-06-17T06:56:47.905290",
     "status": "completed"
    },
    "tags": []
   },
   "source": [
    "## 당뇨병 여부 판단\n",
    "- 예측컬럼: Outcome (0 정상, 1 당뇨) 당뇨병일 확률 예측\n",
    "- 평가지표: roc-auc\n",
    "- 제출파일명: result.csv (1개컬럼, 컬럼명 pred)"
   ]
  },
  {
   "cell_type": "markdown",
   "id": "701344ec",
   "metadata": {
    "papermill": {
     "duration": 0.006816,
     "end_time": "2025-06-17T06:56:47.929230",
     "exception": false,
     "start_time": "2025-06-17T06:56:47.922414",
     "status": "completed"
    },
    "tags": []
   },
   "source": [
    "## 라이브러리 및 데이터 불러오기"
   ]
  },
  {
   "cell_type": "code",
   "execution_count": 1,
   "id": "d95e2d2a",
   "metadata": {
    "execution": {
     "iopub.execute_input": "2025-06-17T06:56:47.953355Z",
     "iopub.status.busy": "2025-06-17T06:56:47.951370Z",
     "iopub.status.idle": "2025-06-17T06:56:49.143708Z",
     "shell.execute_reply": "2025-06-17T06:56:49.142980Z",
     "shell.execute_reply.started": "2025-06-17T06:56:15.644014Z"
    },
    "papermill": {
     "duration": 1.207535,
     "end_time": "2025-06-17T06:56:49.143925",
     "exception": false,
     "start_time": "2025-06-17T06:56:47.936390",
     "status": "completed"
    },
    "tags": []
   },
   "outputs": [],
   "source": [
    "# import\n",
    "import pandas as pd\n",
    "import numpy as np\n",
    "from sklearn.model_selection import train_test_split\n",
    "from sklearn.preprocessing import LabelEncoder\n",
    "from sklearn.ensemble import RandomForestClassifier\n",
    "from sklearn.metrics import roc_auc_score,accuracy_score,f1_score"
   ]
  },
  {
   "cell_type": "code",
   "execution_count": 2,
   "id": "58c78ef4",
   "metadata": {
    "execution": {
     "iopub.execute_input": "2025-06-17T06:56:49.168871Z",
     "iopub.status.busy": "2025-06-17T06:56:49.168169Z",
     "iopub.status.idle": "2025-06-17T06:56:49.327636Z",
     "shell.execute_reply": "2025-06-17T06:56:49.327029Z",
     "shell.execute_reply.started": "2025-06-17T06:56:15.652565Z"
    },
    "papermill": {
     "duration": 0.176405,
     "end_time": "2025-06-17T06:56:49.327769",
     "exception": false,
     "start_time": "2025-06-17T06:56:49.151364",
     "status": "completed"
    },
    "tags": []
   },
   "outputs": [
    {
     "name": "stdout",
     "output_type": "stream",
     "text": [
      "\"Train shape: (576, 10)\n",
      "\"Test shape: (192, 9)\n",
      "-----------------------------\n",
      "데이터 정보 확인\n",
      "<class 'pandas.core.frame.DataFrame'>\n",
      "RangeIndex: 576 entries, 0 to 575\n",
      "Data columns (total 10 columns):\n",
      " #   Column                    Non-Null Count  Dtype  \n",
      "---  ------                    --------------  -----  \n",
      " 0   id                        576 non-null    int64  \n",
      " 1   Pregnancies               576 non-null    int64  \n",
      " 2   Glucose                   576 non-null    int64  \n",
      " 3   BloodPressure             576 non-null    int64  \n",
      " 4   SkinThickness             576 non-null    int64  \n",
      " 5   Insulin                   576 non-null    int64  \n",
      " 6   BMI                       576 non-null    float64\n",
      " 7   DiabetesPedigreeFunction  576 non-null    float64\n",
      " 8   Age                       576 non-null    int64  \n",
      " 9   Outcome                   576 non-null    int64  \n",
      "dtypes: float64(2), int64(8)\n",
      "memory usage: 45.1 KB\n",
      "None\n",
      "-----------------------------\n",
      "데이터 예시 확인\n",
      "    id  Pregnancies  Glucose  BloodPressure  SkinThickness  Insulin   BMI  \\\n",
      "0  258            1      193             50             16      375  25.9   \n",
      "1  220            0      177             60             29      478  34.6   \n",
      "2  438            1       97             70             15        0  18.2   \n",
      "3  130            4      173             70             14      168  29.7   \n",
      "4  730            3      130             78             23       79  28.4   \n",
      "5  641            4      128             70              0        0  34.3   \n",
      "6  498            7      195             70             33      145  25.1   \n",
      "7  232            1       79             80             25       37  25.4   \n",
      "8  133            8       84             74             31        0  38.3   \n",
      "9  320            4      129             60             12      231  27.5   \n",
      "\n",
      "   DiabetesPedigreeFunction  Age  \n",
      "0                     0.655   24  \n",
      "1                     1.072   21  \n",
      "2                     0.147   21  \n",
      "3                     0.361   33  \n",
      "4                     0.323   34  \n",
      "5                     0.303   24  \n",
      "6                     0.163   55  \n",
      "7                     0.583   22  \n",
      "8                     0.457   39  \n",
      "9                     0.527   31  \n",
      "-----------------------------\n",
      "결측치 확인:\n",
      "id                          0\n",
      "Pregnancies                 0\n",
      "Glucose                     0\n",
      "BloodPressure               0\n",
      "SkinThickness               0\n",
      "Insulin                     0\n",
      "BMI                         0\n",
      "DiabetesPedigreeFunction    0\n",
      "Age                         0\n",
      "Outcome                     0\n",
      "dtype: int64\n"
     ]
    }
   ],
   "source": [
    "# 1. 데이터 로드\n",
    "train=pd.read_csv(\"/kaggle/input/bigdatacertificationkr/diabetes_train.csv\")\n",
    "test=pd.read_csv(\"/kaggle/input/bigdatacertificationkr/diabetes_test.csv\")\n",
    "\n",
    "print(f'\"Train shape: {train.shape}')\n",
    "print(f'\"Test shape: {test.shape}')\n",
    "print('-----------------------------')\n",
    "print('데이터 정보 확인')\n",
    "print(train.info())\n",
    "print('-----------------------------')\n",
    "print('데이터 예시 확인')\n",
    "print(test.head(10))\n",
    "print('-----------------------------')\n",
    "print(\"결측치 확인:\")\n",
    "print(train.isnull().sum())"
   ]
  },
  {
   "cell_type": "code",
   "execution_count": 3,
   "id": "4103270a",
   "metadata": {
    "execution": {
     "iopub.execute_input": "2025-06-17T06:56:49.358410Z",
     "iopub.status.busy": "2025-06-17T06:56:49.356046Z",
     "iopub.status.idle": "2025-06-17T06:56:49.363338Z",
     "shell.execute_reply": "2025-06-17T06:56:49.362661Z",
     "shell.execute_reply.started": "2025-06-17T06:56:15.836539Z"
    },
    "papermill": {
     "duration": 0.02745,
     "end_time": "2025-06-17T06:56:49.363485",
     "exception": false,
     "start_time": "2025-06-17T06:56:49.336035",
     "status": "completed"
    },
    "tags": []
   },
   "outputs": [
    {
     "name": "stdout",
     "output_type": "stream",
     "text": [
      "y_train예시 \n",
      "0    0\n",
      "1    1\n",
      "2    1\n",
      "3    1\n",
      "4    1\n",
      "5    1\n",
      "6    1\n",
      "7    0\n",
      "8    0\n",
      "9    1\n",
      "Name: Outcome, dtype: int64\n",
      "------------------------\n",
      "X_train예시 \n",
      "    id  Pregnancies  Glucose  BloodPressure  SkinThickness  Insulin   BMI  \\\n",
      "0  377            1       87             60             37       75  37.2   \n",
      "1  370            3      173             82             48      465  38.4   \n",
      "2  408            8      197             74              0        0  25.9   \n",
      "3  535            4      132              0              0        0  32.9   \n",
      "4  691           13      158            114              0        0  42.3   \n",
      "5  319            6      194             78              0        0  23.5   \n",
      "6  292            2      128             78             37      182  43.3   \n",
      "7  118            4       97             60             23        0  28.2   \n",
      "8  765            5      121             72             23      112  26.2   \n",
      "9  646            1      167             74             17      144  23.4   \n",
      "\n",
      "   DiabetesPedigreeFunction  Age  \n",
      "0                     0.509   22  \n",
      "1                     2.137   25  \n",
      "2                     1.191   39  \n",
      "3                     0.302   23  \n",
      "4                     0.257   44  \n",
      "5                     0.129   59  \n",
      "6                     1.224   31  \n",
      "7                     0.443   22  \n",
      "8                     0.245   30  \n",
      "9                     0.447   33  \n",
      "------------------------\n",
      "타겟 분포\n",
      "0    381\n",
      "1    195\n",
      "Name: Outcome, dtype: int64\n"
     ]
    }
   ],
   "source": [
    "\n",
    "# 2. 타겟 분리\n",
    "X_train = train.drop('Outcome',axis=1)  # 타겟 제거\n",
    "y_train = train['Outcome']  \n",
    "\n",
    "print('y_train예시 ')\n",
    "print(y_train.head(10))\n",
    "print('------------------------')\n",
    "print('X_train예시 ')\n",
    "print(X_train.head(10))\n",
    "print('------------------------')\n",
    "print('타겟 분포')\n",
    "print(y_train.value_counts())"
   ]
  },
  {
   "cell_type": "code",
   "execution_count": 4,
   "id": "b9c47597",
   "metadata": {
    "execution": {
     "iopub.execute_input": "2025-06-17T06:56:49.392997Z",
     "iopub.status.busy": "2025-06-17T06:56:49.390539Z",
     "iopub.status.idle": "2025-06-17T06:56:49.405759Z",
     "shell.execute_reply": "2025-06-17T06:56:49.405159Z",
     "shell.execute_reply.started": "2025-06-17T06:56:15.855729Z"
    },
    "papermill": {
     "duration": 0.03432,
     "end_time": "2025-06-17T06:56:49.405932",
     "exception": false,
     "start_time": "2025-06-17T06:56:49.371612",
     "status": "completed"
    },
    "tags": []
   },
   "outputs": [
    {
     "name": "stdout",
     "output_type": "stream",
     "text": [
      "numeric_cols:Index(['id', 'Pregnancies', 'Glucose', 'BloodPressure', 'SkinThickness',\n",
      "       'Insulin', 'BMI', 'DiabetesPedigreeFunction', 'Age'],\n",
      "      dtype='object')\n",
      "categorical_cols:Index([], dtype='object')\n",
      "결측치 확인:\n",
      "id                          0\n",
      "Pregnancies                 0\n",
      "Glucose                     0\n",
      "BloodPressure               0\n",
      "SkinThickness               0\n",
      "Insulin                     0\n",
      "BMI                         0\n",
      "DiabetesPedigreeFunction    0\n",
      "Age                         0\n",
      "dtype: int64\n",
      "id                          0\n",
      "Pregnancies                 0\n",
      "Glucose                     0\n",
      "BloodPressure               0\n",
      "SkinThickness               0\n",
      "Insulin                     0\n",
      "BMI                         0\n",
      "DiabetesPedigreeFunction    0\n",
      "Age                         0\n",
      "dtype: int64\n"
     ]
    }
   ],
   "source": [
    "# 3.결측치 처리\n",
    "# 수치형: 중앙값으로 처리(이상치에 더 강하다)\n",
    "numeric_cols = X_train.select_dtypes(include=[np.number]).columns\n",
    "print(f'numeric_cols:{numeric_cols}')\n",
    "\n",
    "for col in numeric_cols:\n",
    "    median_val = X_train[col].median()\n",
    "\n",
    "    # X_train이랑 test에 같은 값을 대입한다. \n",
    "    X_train[col] = X_train[col].fillna(median_val)\n",
    "    test[col] = test[col].fillna(median_val)\n",
    "\n",
    "# 범주형: 최빈값으로 처리\n",
    "categorical_cols = X_train.select_dtypes(include=['object']).columns\n",
    "print(f'categorical_cols:{categorical_cols}')\n",
    "\n",
    "for col in categorical_cols:\n",
    "    mode_val = X_train[col].mode()[0]\n",
    "\n",
    "    # X_train이랑 test에 같은 값을 대입한다. \n",
    "    X_train[col] = X_train[col].fillna(mode_val)\n",
    "    test[col] = test[col].fillna(mode_val)\n",
    "\n",
    "print(\"결측치 확인:\")\n",
    "print(X_train.isnull().sum())\n",
    "print(test.isnull().sum())"
   ]
  },
  {
   "cell_type": "code",
   "execution_count": 5,
   "id": "c952327f",
   "metadata": {
    "execution": {
     "iopub.execute_input": "2025-06-17T06:56:49.438875Z",
     "iopub.status.busy": "2025-06-17T06:56:49.438079Z",
     "iopub.status.idle": "2025-06-17T06:56:49.442007Z",
     "shell.execute_reply": "2025-06-17T06:56:49.441492Z",
     "shell.execute_reply.started": "2025-06-17T06:56:15.886303Z"
    },
    "papermill": {
     "duration": 0.027715,
     "end_time": "2025-06-17T06:56:49.442170",
     "exception": false,
     "start_time": "2025-06-17T06:56:49.414455",
     "status": "completed"
    },
    "tags": []
   },
   "outputs": [
    {
     "name": "stdout",
     "output_type": "stream",
     "text": [
      "X_train:    id  Pregnancies  Glucose  BloodPressure  SkinThickness  Insulin   BMI  \\\n",
      "0  377            1       87             60             37       75  37.2   \n",
      "1  370            3      173             82             48      465  38.4   \n",
      "2  408            8      197             74              0        0  25.9   \n",
      "3  535            4      132              0              0        0  32.9   \n",
      "4  691           13      158            114              0        0  42.3   \n",
      "5  319            6      194             78              0        0  23.5   \n",
      "6  292            2      128             78             37      182  43.3   \n",
      "7  118            4       97             60             23        0  28.2   \n",
      "8  765            5      121             72             23      112  26.2   \n",
      "9  646            1      167             74             17      144  23.4   \n",
      "\n",
      "   DiabetesPedigreeFunction  Age  \n",
      "0                     0.509   22  \n",
      "1                     2.137   25  \n",
      "2                     1.191   39  \n",
      "3                     0.302   23  \n",
      "4                     0.257   44  \n",
      "5                     0.129   59  \n",
      "6                     1.224   31  \n",
      "7                     0.443   22  \n",
      "8                     0.245   30  \n",
      "9                     0.447   33  \n",
      "-----------------------\n",
      "test:    id  Pregnancies  Glucose  BloodPressure  SkinThickness  Insulin   BMI  \\\n",
      "0  258            1      193             50             16      375  25.9   \n",
      "1  220            0      177             60             29      478  34.6   \n",
      "2  438            1       97             70             15        0  18.2   \n",
      "3  130            4      173             70             14      168  29.7   \n",
      "4  730            3      130             78             23       79  28.4   \n",
      "5  641            4      128             70              0        0  34.3   \n",
      "6  498            7      195             70             33      145  25.1   \n",
      "7  232            1       79             80             25       37  25.4   \n",
      "8  133            8       84             74             31        0  38.3   \n",
      "9  320            4      129             60             12      231  27.5   \n",
      "\n",
      "   DiabetesPedigreeFunction  Age  \n",
      "0                     0.655   24  \n",
      "1                     1.072   21  \n",
      "2                     0.147   21  \n",
      "3                     0.361   33  \n",
      "4                     0.323   34  \n",
      "5                     0.303   24  \n",
      "6                     0.163   55  \n",
      "7                     0.583   22  \n",
      "8                     0.457   39  \n",
      "9                     0.527   31  \n"
     ]
    }
   ],
   "source": [
    "# 4. 인코딩\n",
    "# 범주형 변수 레이블 인코딩\n",
    "le_dict = {} # 인코더 저장소 \n",
    "for col in categorical_cols:\n",
    "    le = LabelEncoder()\n",
    "    # train + test 합쳐서 fit (중요!)\n",
    "    all_values = pd.concat([X_train[col], test[col]], axis=0)\n",
    "    # 합친 것을 학습\n",
    "    le.fit(all_values)\n",
    "\n",
    "    # 학습 후, X_train,test에 변환 \n",
    "    X_train[col] = le.transform(X_train[col])\n",
    "    test[col] = le.transform(test[col])\n",
    "\n",
    "    # 학습된 값을 le_dict에 저장. 나중에 새로운 데이터가 와도 같은 매핑을 사용하도록 \n",
    "    le_dict[col] = le\n",
    "\n",
    "# 잘 되었나 확인하기\n",
    "print(f'X_train:{X_train.head(10)}')\n",
    "print('-----------------------')\n",
    "print(f'test:{test.head(10)}')"
   ]
  },
  {
   "cell_type": "code",
   "execution_count": 6,
   "id": "f66c42d0",
   "metadata": {
    "execution": {
     "iopub.execute_input": "2025-06-17T06:56:49.467043Z",
     "iopub.status.busy": "2025-06-17T06:56:49.466356Z",
     "iopub.status.idle": "2025-06-17T06:56:49.475557Z",
     "shell.execute_reply": "2025-06-17T06:56:49.475009Z",
     "shell.execute_reply.started": "2025-06-17T06:56:15.919420Z"
    },
    "papermill": {
     "duration": 0.024516,
     "end_time": "2025-06-17T06:56:49.475692",
     "exception": false,
     "start_time": "2025-06-17T06:56:49.451176",
     "status": "completed"
    },
    "tags": []
   },
   "outputs": [
    {
     "name": "stdout",
     "output_type": "stream",
     "text": [
      "X_train 데이터 분리 확인 \n",
      "(576, 9)\n",
      "(460, 9)\n",
      "(116, 9)\n",
      "y_train 데이터 분리 확인 \n",
      "(576,)\n",
      "(460,)\n",
      "(116,)\n"
     ]
    }
   ],
   "source": [
    "# 5. 검증 데이터 분할\n",
    "# 검증 데이터를 통해 미리 성능 확인!\n",
    "# 80% 학습용, 20% 검증용 \n",
    "# 분류문제=무조건 stratify사용!(같은 비율로 나눠지게 함)\n",
    "X_tr, X_val, y_tr, y_val = train_test_split(\n",
    "    X_train, y_train, test_size=0.2, random_state=42, stratify=y_train\n",
    ")\n",
    "\n",
    "print('X_train 데이터 분리 확인 ')\n",
    "print(X_train.shape)\n",
    "print(X_tr.shape)\n",
    "print(X_val.shape)\n",
    "\n",
    "print('y_train 데이터 분리 확인 ')\n",
    "print(y_train.shape)\n",
    "print(y_tr.shape)\n",
    "print(y_val.shape)"
   ]
  },
  {
   "cell_type": "code",
   "execution_count": 7,
   "id": "42516cfe",
   "metadata": {
    "execution": {
     "iopub.execute_input": "2025-06-17T06:56:49.538796Z",
     "iopub.status.busy": "2025-06-17T06:56:49.502162Z",
     "iopub.status.idle": "2025-06-17T06:56:49.931992Z",
     "shell.execute_reply": "2025-06-17T06:56:49.932493Z",
     "shell.execute_reply.started": "2025-06-17T06:56:15.940266Z"
    },
    "papermill": {
     "duration": 0.447835,
     "end_time": "2025-06-17T06:56:49.932660",
     "exception": false,
     "start_time": "2025-06-17T06:56:49.484825",
     "status": "completed"
    },
    "tags": []
   },
   "outputs": [
    {
     "name": "stdout",
     "output_type": "stream",
     "text": [
      "[0 1]\n",
      "ROC-AUC: 0.7963702963702964\n",
      "Accuracy: 0.7068965517241379\n",
      "F1_score:0.4848484848484849\n"
     ]
    }
   ],
   "source": [
    "\n",
    "# 6. 모델 학습 및 평가\n",
    "# 모델 선택 \n",
    "model = RandomForestClassifier(random_state=42, n_estimators=200)\n",
    "\n",
    "# 모델 학습\n",
    "model.fit(X_tr, y_tr)\n",
    "\n",
    "# 검증 성능 확인\n",
    "print(model.classes_)  # [0 1] 1(생존) 확률을 확인해보자. \n",
    "\n",
    "# [0 1] 1(생존) 확률을 확인해보자. \n",
    "val_pred_proba = model.predict_proba(X_val)[:, 1]\n",
    "val_pred = model.predict(X_val)\n",
    "\n",
    "# ROC-AUC,Accuracy는 1에 가까울수록 좋다. 85이상이면 좋다. \n",
    "print(f\"ROC-AUC: {roc_auc_score(y_val, val_pred_proba)}\")\n",
    "print(f\"Accuracy: {accuracy_score(y_val, val_pred)}\")\n",
    "# 맞는 label을 적용해야한다. \n",
    "print(f'F1_score:{f1_score(y_val, val_pred, pos_label=1)}')"
   ]
  },
  {
   "cell_type": "code",
   "execution_count": 8,
   "id": "52051233",
   "metadata": {
    "execution": {
     "iopub.execute_input": "2025-06-17T06:56:49.961035Z",
     "iopub.status.busy": "2025-06-17T06:56:49.960249Z",
     "iopub.status.idle": "2025-06-17T06:56:50.424236Z",
     "shell.execute_reply": "2025-06-17T06:56:50.423395Z",
     "shell.execute_reply.started": "2025-06-17T06:56:16.378595Z"
    },
    "papermill": {
     "duration": 0.481984,
     "end_time": "2025-06-17T06:56:50.424392",
     "exception": false,
     "start_time": "2025-06-17T06:56:49.942408",
     "status": "completed"
    },
    "tags": []
   },
   "outputs": [
    {
     "name": "stdout",
     "output_type": "stream",
     "text": [
      "예측 결과 확인:\n",
      "클래스: [0 1]\n",
      "처음 10개 예측: [0.615 0.735 0.005 0.85  0.305 0.38  0.68  0.015 0.365 0.45 ]\n",
      "제출 파일 생성 완료!\n",
      "    pred\n",
      "0  0.615\n",
      "1  0.735\n",
      "2  0.005\n",
      "3  0.850\n",
      "4  0.305\n",
      "5  0.380\n",
      "6  0.680\n",
      "7  0.015\n",
      "8  0.365\n",
      "9  0.450\n"
     ]
    }
   ],
   "source": [
    "# 7. 최종 예측 및 제출\n",
    "# 전체 데이터로 학습\n",
    "# 시간이 있다면 파라미터 조정(max_depth=10)\n",
    "final_model = RandomForestClassifier(random_state=42, n_estimators=200)\n",
    "\n",
    "# 모델 학습\n",
    "final_model.fit(X_train, y_train)\n",
    "\n",
    "# 테스트 예측 \n",
    "# 당뇨병일 확률을 예측해야 한다. \n",
    "test_pred_proba = final_model.predict_proba(test)[:, 1]  \n",
    "\n",
    "print(\"예측 결과 확인:\")\n",
    "print(\"클래스:\", final_model.classes_)  # [0, 1]\n",
    "print(\"처음 10개 예측:\", test_pred_proba[:10])\n",
    "\n",
    "# 제출 파일 생성\n",
    "submit = pd.DataFrame({\n",
    "    'pred': test_pred_proba  \n",
    "})\n",
    "\n",
    "submit.to_csv('submission-diabetes.csv', index=False)\n",
    "print(\"제출 파일 생성 완료!\")\n",
    "print(submit.head(10))"
   ]
  }
 ],
 "metadata": {
  "kaggle": {
   "accelerator": "none",
   "dataSources": [
    {
     "datasetId": 1633303,
     "sourceId": 12189494,
     "sourceType": "datasetVersion"
    }
   ],
   "dockerImageVersionId": 30145,
   "isGpuEnabled": false,
   "isInternetEnabled": true,
   "language": "python",
   "sourceType": "notebook"
  },
  "kernelspec": {
   "display_name": "Python 3",
   "language": "python",
   "name": "python3"
  },
  "language_info": {
   "codemirror_mode": {
    "name": "ipython",
    "version": 3
   },
   "file_extension": ".py",
   "mimetype": "text/x-python",
   "name": "python",
   "nbconvert_exporter": "python",
   "pygments_lexer": "ipython3",
   "version": "3.7.10"
  },
  "papermill": {
   "default_parameters": {},
   "duration": 12.460502,
   "end_time": "2025-06-17T06:56:51.146952",
   "environment_variables": {},
   "exception": null,
   "input_path": "__notebook__.ipynb",
   "output_path": "__notebook__.ipynb",
   "parameters": {},
   "start_time": "2025-06-17T06:56:38.686450",
   "version": "2.3.3"
  }
 },
 "nbformat": 4,
 "nbformat_minor": 5
}
