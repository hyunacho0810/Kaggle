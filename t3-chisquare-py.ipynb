{
 "cells": [
  {
   "cell_type": "markdown",
   "id": "57cd8f6b",
   "metadata": {
    "papermill": {
     "duration": 0.00183,
     "end_time": "2025-06-19T14:26:32.046124",
     "exception": false,
     "start_time": "2025-06-19T14:26:32.044294",
     "status": "completed"
    },
    "tags": []
   },
   "source": [
    "## 카이제곱 적합도 검정\n",
    "고등학교에서는 졸업생들이 선택하는 대학 전공 분야의 선호도가 시간이 지남에 따라 변하지 않는다고 가정합니다. 학교 측은 최근 졸업생들의 전공 선택이 과거와 같은 패턴을 따르는지 알아보기 위해 적합도 검정을 실시하기로 결정했습니다.\n",
    "\n",
    "과거 자료에 따르면 졸업생들이 선택하는 전공의 분포는 다음과 같습니다:\n",
    "\n",
    "인문학: 20%\n",
    "사회과학: 30%\n",
    "자연과학: 25%\n",
    "공학: 15%\n",
    "기타: 10%\n",
    "올해 졸업한 학생 200명의 전공 선택 분포는 다음과 같았습니다:\n",
    "\n",
    "인문학: 30명\n",
    "사회과학: 60명\n",
    "자연과학: 50명\n",
    "공학: 40명\n",
    "기타: 20명\n",
    "이 데이터를 바탕으로, 졸업생들의 전공 선택 패턴이 과거와 유사한지를 알아보기 위해 카이제곱 적합도 검정을 실시해야 합니다. 유의 수준은 0.05로 설정합니다.\n",
    "\n",
    "1. 검정 통계량?\n",
    "2. p-value?\n",
    "3. 유의수준 하 귀무가설 기각 또는 채택?"
   ]
  },
  {
   "cell_type": "code",
   "execution_count": 1,
   "id": "323e5141",
   "metadata": {
    "execution": {
     "iopub.execute_input": "2025-06-19T14:26:32.050674Z",
     "iopub.status.busy": "2025-06-19T14:26:32.050311Z",
     "iopub.status.idle": "2025-06-19T14:26:33.117246Z",
     "shell.execute_reply": "2025-06-19T14:26:33.116071Z"
    },
    "papermill": {
     "duration": 1.0738,
     "end_time": "2025-06-19T14:26:33.121473",
     "exception": false,
     "start_time": "2025-06-19T14:26:32.047673",
     "status": "completed"
    },
    "tags": []
   },
   "outputs": [
    {
     "name": "stdout",
     "output_type": "stream",
     "text": [
      "t-statistic:2.916666666666667\n",
      "p-value:0.5718664923800112\n",
      "귀무가설을 채택합니다. 두 분포가 동일합니다\n"
     ]
    }
   ],
   "source": [
    "from scipy import stats\n",
    "\n",
    "past = [20, 30, 25,15,10] \n",
    "now = [(30/200)*100, (60/200)*100, (50/200)*100,(40/200)*100,(20/200)*100] \n",
    "t_statistic,p_value=stats.chisquare(past, now)\n",
    "print(f't-statistic:{t_statistic}')\n",
    "print(f'p-value:{p_value}')\n",
    "if p_value<0.05:\n",
    "    print(f'귀무가설을 기각합니다. 두 분포가 다릅니다.')\n",
    "else:\n",
    "    print(f'귀무가설을 채택합니다. 두 분포가 동일합니다')"
   ]
  }
 ],
 "metadata": {
  "kaggle": {
   "accelerator": "none",
   "dataSources": [
    {
     "datasetId": 1633303,
     "sourceId": 12211878,
     "sourceType": "datasetVersion"
    }
   ],
   "dockerImageVersionId": 30558,
   "isGpuEnabled": false,
   "isInternetEnabled": true,
   "language": "python",
   "sourceType": "notebook"
  },
  "kernelspec": {
   "display_name": "Python 3",
   "language": "python",
   "name": "python3"
  },
  "language_info": {
   "codemirror_mode": {
    "name": "ipython",
    "version": 3
   },
   "file_extension": ".py",
   "mimetype": "text/x-python",
   "name": "python",
   "nbconvert_exporter": "python",
   "pygments_lexer": "ipython3",
   "version": "3.10.12"
  },
  "papermill": {
   "default_parameters": {},
   "duration": 5.186593,
   "end_time": "2025-06-19T14:26:33.543213",
   "environment_variables": {},
   "exception": null,
   "input_path": "__notebook__.ipynb",
   "output_path": "__notebook__.ipynb",
   "parameters": {},
   "start_time": "2025-06-19T14:26:28.356620",
   "version": "2.4.0"
  }
 },
 "nbformat": 4,
 "nbformat_minor": 5
}
