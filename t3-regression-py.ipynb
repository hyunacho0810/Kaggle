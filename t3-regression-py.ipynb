{
 "cells": [
  {
   "cell_type": "markdown",
   "id": "402afc5d",
   "metadata": {
    "papermill": {
     "duration": 0.003675,
     "end_time": "2025-06-20T01:24:22.125915",
     "exception": false,
     "start_time": "2025-06-20T01:24:22.122240",
     "status": "completed"
    },
    "tags": []
   },
   "source": [
    "1. 모든 변수를 사용하여 OLS 모델을 적합하고, 회귀계수 중 가장 큰 값은?\n",
    "2. 유의미하지 않은 변수를 제거한 후 모델을 다시 적합하고, 회귀계수 중 가장 작은 변수명은?\n",
    "3. 2번 모델의 R-squared 값을 계산하고 해석하세요.\n",
    "4. 1번 모델에서 새로운 데이터(x1=5, x2=12, x3=10, x4=3)에 대해 y 값을 예측하세요.\n",
    "5. 1번 모델에서 x1, x2, x3, x4의 상관관계를 계산하고 가장 큰 상관계수를 구하시오. (단, 자기 상관관계 제외)\n",
    "6. x1과 x2만을 예측 변수로 사용하는 모델을 적합하고, 전체 모델과 R-squared 값을 구하시오.\n",
    "7. 잔차(residual) 분석을 수행하고, 잔차의 표준편차를 구하시오.\n",
    "8. 1번 모델에서 새로운 데이터(x1=5, x2=12, x3=10, x4=3)에 대해 y의 신뢰구간 하한(97% 신뢰수준)을 구하세요.\n",
    "9. 1번 모델에서 새로운 데이터(x1=5, x2=12, x3=10, x4=3)에 대해 y의 예측구간 상한(97% 신뢰수준)을 구하세요."
   ]
  },
  {
   "cell_type": "code",
   "execution_count": 1,
   "id": "8aca854c",
   "metadata": {
    "_cell_guid": "b1076dfc-b9ad-4769-8c92-a6c4dae69d19",
    "_uuid": "8f2839f25d086af736a60e9eeb907d3b93b6e0e5",
    "execution": {
     "iopub.execute_input": "2025-06-20T01:24:22.133455Z",
     "iopub.status.busy": "2025-06-20T01:24:22.133076Z",
     "iopub.status.idle": "2025-06-20T01:24:23.047895Z",
     "shell.execute_reply": "2025-06-20T01:24:23.046986Z"
    },
    "papermill": {
     "duration": 0.92128,
     "end_time": "2025-06-20T01:24:23.050296",
     "exception": false,
     "start_time": "2025-06-20T01:24:22.129016",
     "status": "completed"
    },
    "tags": []
   },
   "outputs": [],
   "source": [
    "import pandas as pd\n",
    "df = pd.read_csv(\"/kaggle/input/bigdatacertificationkr/t3_regression_data.csv\")"
   ]
  },
  {
   "cell_type": "code",
   "execution_count": 2,
   "id": "eb6a4476",
   "metadata": {
    "execution": {
     "iopub.execute_input": "2025-06-20T01:24:23.057972Z",
     "iopub.status.busy": "2025-06-20T01:24:23.057606Z",
     "iopub.status.idle": "2025-06-20T01:24:25.004891Z",
     "shell.execute_reply": "2025-06-20T01:24:25.003711Z"
    },
    "papermill": {
     "duration": 1.953984,
     "end_time": "2025-06-20T01:24:25.007417",
     "exception": false,
     "start_time": "2025-06-20T01:24:23.053433",
     "status": "completed"
    },
    "tags": []
   },
   "outputs": [
    {
     "name": "stdout",
     "output_type": "stream",
     "text": [
      "                            OLS Regression Results                            \n",
      "==============================================================================\n",
      "Dep. Variable:                      y   R-squared:                       0.988\n",
      "Model:                            OLS   Adj. R-squared:                  0.988\n",
      "Method:                 Least Squares   F-statistic:                     1984.\n",
      "Date:                Fri, 20 Jun 2025   Prob (F-statistic):           1.39e-90\n",
      "Time:                        01:24:24   Log-Likelihood:                -130.88\n",
      "No. Observations:                 100   AIC:                             271.8\n",
      "Df Residuals:                      95   BIC:                             284.8\n",
      "Df Model:                           4                                         \n",
      "Covariance Type:            nonrobust                                         \n",
      "==============================================================================\n",
      "                 coef    std err          t      P>|t|      [0.025      0.975]\n",
      "------------------------------------------------------------------------------\n",
      "Intercept      2.9816      0.740      4.029      0.000       1.512       4.451\n",
      "x1             1.9979      0.030     66.384      0.000       1.938       2.058\n",
      "x2            -1.4924      0.034    -44.274      0.000      -1.559      -1.425\n",
      "x3             0.4633      0.033     13.837      0.000       0.397       0.530\n",
      "x4             0.0203      0.078      0.260      0.796      -0.135       0.175\n",
      "==============================================================================\n",
      "Omnibus:                        2.161   Durbin-Watson:                   1.921\n",
      "Prob(Omnibus):                  0.340   Jarque-Bera (JB):                1.718\n",
      "Skew:                           0.313   Prob(JB):                        0.424\n",
      "Kurtosis:                       3.140   Cond. No.                         155.\n",
      "==============================================================================\n",
      "\n",
      "Notes:\n",
      "[1] Standard Errors assume that the covariance matrix of the errors is correctly specified.\n",
      "--------------\n",
      "2.9815890614775267\n"
     ]
    }
   ],
   "source": [
    "# OLS를 적합하자.\n",
    "from statsmodels.formula.api import ols\n",
    "model=ols('y~x1+x2+x3+x4',data=df).fit()\n",
    "print(model.summary())\n",
    "print('--------------')\n",
    "print(model.params.max())"
   ]
  },
  {
   "cell_type": "code",
   "execution_count": 3,
   "id": "ce196452",
   "metadata": {
    "execution": {
     "iopub.execute_input": "2025-06-20T01:24:25.016706Z",
     "iopub.status.busy": "2025-06-20T01:24:25.015601Z",
     "iopub.status.idle": "2025-06-20T01:24:25.062656Z",
     "shell.execute_reply": "2025-06-20T01:24:25.061417Z"
    },
    "papermill": {
     "duration": 0.054744,
     "end_time": "2025-06-20T01:24:25.065481",
     "exception": false,
     "start_time": "2025-06-20T01:24:25.010737",
     "status": "completed"
    },
    "tags": []
   },
   "outputs": [
    {
     "name": "stdout",
     "output_type": "stream",
     "text": [
      "=== 1단계: 현재 모델의 유의성 검정 ===\n",
      "각 변수의 p-value:\n",
      "Intercept    1.129685e-04\n",
      "x1           2.100964e-81\n",
      "x2           3.186170e-65\n",
      "x3           1.688189e-24\n",
      "x4           7.956683e-01\n",
      "dtype: float64\n",
      "\n",
      "유의수준 0.05 기준:\n",
      "Intercept: 0.000113 (유의함)\n",
      "x1: 0.000000 (유의함)\n",
      "x2: 0.000000 (유의함)\n",
      "x3: 0.000000 (유의함)\n",
      "x4: 0.795668 (유의하지 않음)\n",
      "\n",
      "=== 2단계: 유의하지 않은 변수 식별 ===\n",
      "유의하지 않은 변수들 (p >= 0.05):\n",
      "  - x4: 0.795668\n",
      "\n",
      "유의한 변수들: ['x1', 'x2', 'x3']\n",
      "\n",
      "=== 3단계: 새로운 모델 생성 ===\n",
      "새로운 회귀식: y ~ x1 + x2 + x3\n",
      "\n",
      "새로운 모델 요약:\n",
      "                            OLS Regression Results                            \n",
      "==============================================================================\n",
      "Dep. Variable:                      y   R-squared:                       0.988\n",
      "Model:                            OLS   Adj. R-squared:                  0.988\n",
      "Method:                 Least Squares   F-statistic:                     2672.\n",
      "Date:                Fri, 20 Jun 2025   Prob (F-statistic):           2.55e-92\n",
      "Time:                        01:24:25   Log-Likelihood:                -130.91\n",
      "No. Observations:                 100   AIC:                             269.8\n",
      "Df Residuals:                      96   BIC:                             280.2\n",
      "Df Model:                           3                                         \n",
      "Covariance Type:            nonrobust                                         \n",
      "==============================================================================\n",
      "                 coef    std err          t      P>|t|      [0.025      0.975]\n",
      "------------------------------------------------------------------------------\n",
      "Intercept      3.0628      0.667      4.589      0.000       1.738       4.388\n",
      "x1             1.9986      0.030     67.020      0.000       1.939       2.058\n",
      "x2            -1.4942      0.033    -45.529      0.000      -1.559      -1.429\n",
      "x3             0.4636      0.033     13.923      0.000       0.398       0.530\n",
      "==============================================================================\n",
      "Omnibus:                        2.285   Durbin-Watson:                   1.931\n",
      "Prob(Omnibus):                  0.319   Jarque-Bera (JB):                1.836\n",
      "Skew:                           0.324   Prob(JB):                        0.399\n",
      "Kurtosis:                       3.140   Cond. No.                         138.\n",
      "==============================================================================\n",
      "\n",
      "Notes:\n",
      "[1] Standard Errors assume that the covariance matrix of the errors is correctly specified.\n",
      "\n",
      "=== 4단계: 가장 작은 회귀계수 찾기 ===\n",
      "절편 제외한 회귀계수들:\n",
      "x1    1.998618\n",
      "x2   -1.494166\n",
      "x3    0.463615\n",
      "dtype: float64\n",
      "\n",
      "가장 작은 회귀계수:\n",
      "변수명: x2\n",
      "계수값: -1.4942\n"
     ]
    }
   ],
   "source": [
    "# 1단계: 현재 모델의 p-value 확인\n",
    "print(\"=== 1단계: 현재 모델의 유의성 검정 ===\")\n",
    "print(\"각 변수의 p-value:\")\n",
    "print(model.pvalues)\n",
    "\n",
    "print(\"\\n유의수준 0.05 기준:\")\n",
    "for var, pval in model.pvalues.items():\n",
    "    significance = \"유의함\" if pval < 0.05 else \"유의하지 않음\"\n",
    "    print(f\"{var}: {pval:.6f} ({significance})\")\n",
    "\n",
    "# 2단계: 유의하지 않은 변수 식별\n",
    "print(\"\\n=== 2단계: 유의하지 않은 변수 식별 ===\")\n",
    "non_significant = model.pvalues[model.pvalues >= 0.05]\n",
    "print(f\"유의하지 않은 변수들 (p >= 0.05):\")\n",
    "if len(non_significant) > 0:\n",
    "    for var, pval in non_significant.items():\n",
    "        if var != 'Intercept':  # 절편은 제외\n",
    "            print(f\"  - {var}: {pval:.6f}\")\n",
    "else:\n",
    "    print(\"  모든 변수가 유의함\")\n",
    "\n",
    "# 유의한 변수들만 추출 (절편 제외)\n",
    "significant_vars = []\n",
    "for var, pval in model.pvalues.items():\n",
    "    if var != 'Intercept' and pval < 0.05:\n",
    "        significant_vars.append(var)\n",
    "\n",
    "print(f\"\\n유의한 변수들: {significant_vars}\")\n",
    "\n",
    "# 3단계: 새로운 회귀식 만들기\n",
    "print(\"\\n=== 3단계: 새로운 모델 생성 ===\")\n",
    "if len(significant_vars) == 0:\n",
    "    print(\"유의한 변수가 없습니다!\")\n",
    "elif len(significant_vars) == len(model.pvalues) - 1:  # 절편 제외한 모든 변수가 유의함\n",
    "    print(\"모든 변수가 유의하므로 기존 모델을 유지합니다.\")\n",
    "    new_model = model\n",
    "else:\n",
    "    # 새로운 회귀식 생성\n",
    "    formula = f\"y ~ {' + '.join(significant_vars)}\"\n",
    "    print(f\"새로운 회귀식: {formula}\")\n",
    "    \n",
    "    # 새 모델 적합\n",
    "    from statsmodels.formula.api import ols\n",
    "    new_model = ols(formula, data=df).fit()\n",
    "    print(f\"\\n새로운 모델 요약:\")\n",
    "    print(new_model.summary())\n",
    "\n",
    "# 4단계: 새 모델에서 가장 작은 회귀계수 찾기\n",
    "print(\"\\n=== 4단계: 가장 작은 회귀계수 찾기 ===\")\n",
    "# 절편 제외한 회귀계수들\n",
    "coeffs_without_intercept = new_model.params.drop('Intercept')\n",
    "print(\"절편 제외한 회귀계수들:\")\n",
    "print(coeffs_without_intercept)\n",
    "\n",
    "# 가장 작은 값과 변수명\n",
    "min_coef = coeffs_without_intercept.min()\n",
    "min_var = coeffs_without_intercept.idxmin()\n",
    "\n",
    "print(f\"\\n가장 작은 회귀계수:\")\n",
    "print(f\"변수명: {min_var}\")\n",
    "print(f\"계수값: {min_coef:.4f}\")"
   ]
  },
  {
   "cell_type": "code",
   "execution_count": 4,
   "id": "770d7450",
   "metadata": {
    "execution": {
     "iopub.execute_input": "2025-06-20T01:24:25.073773Z",
     "iopub.status.busy": "2025-06-20T01:24:25.073404Z",
     "iopub.status.idle": "2025-06-20T01:24:25.078740Z",
     "shell.execute_reply": "2025-06-20T01:24:25.077721Z"
    },
    "papermill": {
     "duration": 0.011928,
     "end_time": "2025-06-20T01:24:25.080843",
     "exception": false,
     "start_time": "2025-06-20T01:24:25.068915",
     "status": "completed"
    },
    "tags": []
   },
   "outputs": [
    {
     "name": "stdout",
     "output_type": "stream",
     "text": [
      "결정계수(R-squared): 0.9881643592045125\n"
     ]
    }
   ],
   "source": [
    "# 새로운 모델에서 R-squared\n",
    "print(\"결정계수(R-squared):\", new_model.rsquared)"
   ]
  },
  {
   "cell_type": "code",
   "execution_count": 5,
   "id": "e39d3241",
   "metadata": {
    "execution": {
     "iopub.execute_input": "2025-06-20T01:24:25.089237Z",
     "iopub.status.busy": "2025-06-20T01:24:25.088833Z",
     "iopub.status.idle": "2025-06-20T01:24:25.105593Z",
     "shell.execute_reply": "2025-06-20T01:24:25.104437Z"
    },
    "papermill": {
     "duration": 0.023378,
     "end_time": "2025-06-20T01:24:25.107649",
     "exception": false,
     "start_time": "2025-06-20T01:24:25.084271",
     "status": "completed"
    },
    "tags": []
   },
   "outputs": [
    {
     "name": "stdout",
     "output_type": "stream",
     "text": [
      "새로운 데이터의 y: -0.2433084582017353\n"
     ]
    }
   ],
   "source": [
    "# 1번 모델에서 새로운 데이터에 대한 값 예측\n",
    "new_data = pd.DataFrame({\"x1\": [5], \"x2\": [12],\"x3\":[10],\"x4\":[3]})\n",
    "result = model.predict(new_data)\n",
    "print(\"새로운 데이터의 y:\", result[0])"
   ]
  },
  {
   "cell_type": "code",
   "execution_count": 6,
   "id": "cdb62124",
   "metadata": {
    "execution": {
     "iopub.execute_input": "2025-06-20T01:24:25.116196Z",
     "iopub.status.busy": "2025-06-20T01:24:25.115832Z",
     "iopub.status.idle": "2025-06-20T01:24:25.129447Z",
     "shell.execute_reply": "2025-06-20T01:24:25.128235Z"
    },
    "papermill": {
     "duration": 0.020316,
     "end_time": "2025-06-20T01:24:25.131459",
     "exception": false,
     "start_time": "2025-06-20T01:24:25.111143",
     "status": "completed"
    },
    "tags": []
   },
   "outputs": [
    {
     "name": "stdout",
     "output_type": "stream",
     "text": [
      "상관계수 행렬:\n",
      "          x1        x2        x3        x4         y\n",
      "x1  1.000000 -0.115152  0.080456  0.117670  0.822594\n",
      "x2 -0.115152  1.000000 -0.164049 -0.224881 -0.627445\n",
      "x3  0.080456 -0.164049  1.000000  0.075652  0.301941\n",
      "x4  0.117670 -0.224881  0.075652  1.000000  0.218884\n",
      "y   0.822594 -0.627445  0.301941  0.218884  1.000000\n",
      "\n",
      "자기 상관관계 제외한 최대 상관계수: 0.8226\n"
     ]
    }
   ],
   "source": [
    "# 1번 모델에서 상관관계를 구하고 가장 큰 상관계수 출력\n",
    "import numpy as np\n",
    "\n",
    "# 상관계수 행렬 계산\n",
    "corr = df.corr()\n",
    "print(\"상관계수 행렬:\")\n",
    "print(corr)\n",
    "\n",
    "# 대각선을 NaN으로 만들어서 자기 상관관계 제거\n",
    "corr_no_diag = corr.copy()\n",
    "np.fill_diagonal(corr_no_diag.values, np.nan)\n",
    "\n",
    "# 최댓값 구하기\n",
    "max_corr = corr_no_diag.max().max()\n",
    "print(f\"\\n자기 상관관계 제외한 최대 상관계수: {max_corr:.4f}\")"
   ]
  },
  {
   "cell_type": "code",
   "execution_count": 7,
   "id": "eab269f7",
   "metadata": {
    "execution": {
     "iopub.execute_input": "2025-06-20T01:24:25.139886Z",
     "iopub.status.busy": "2025-06-20T01:24:25.139494Z",
     "iopub.status.idle": "2025-06-20T01:24:25.162395Z",
     "shell.execute_reply": "2025-06-20T01:24:25.161322Z"
    },
    "papermill": {
     "duration": 0.029567,
     "end_time": "2025-06-20T01:24:25.164557",
     "exception": false,
     "start_time": "2025-06-20T01:24:25.134990",
     "status": "completed"
    },
    "tags": []
   },
   "outputs": [
    {
     "name": "stdout",
     "output_type": "stream",
     "text": [
      "                            OLS Regression Results                            \n",
      "==============================================================================\n",
      "Dep. Variable:                      y   R-squared:                       0.988\n",
      "Model:                            OLS   Adj. R-squared:                  0.988\n",
      "Method:                 Least Squares   F-statistic:                     1984.\n",
      "Date:                Fri, 20 Jun 2025   Prob (F-statistic):           1.39e-90\n",
      "Time:                        01:24:25   Log-Likelihood:                -130.88\n",
      "No. Observations:                 100   AIC:                             271.8\n",
      "Df Residuals:                      95   BIC:                             284.8\n",
      "Df Model:                           4                                         \n",
      "Covariance Type:            nonrobust                                         \n",
      "==============================================================================\n",
      "                 coef    std err          t      P>|t|      [0.025      0.975]\n",
      "------------------------------------------------------------------------------\n",
      "Intercept      2.9816      0.740      4.029      0.000       1.512       4.451\n",
      "x1             1.9979      0.030     66.384      0.000       1.938       2.058\n",
      "x2            -1.4924      0.034    -44.274      0.000      -1.559      -1.425\n",
      "x3             0.4633      0.033     13.837      0.000       0.397       0.530\n",
      "x4             0.0203      0.078      0.260      0.796      -0.135       0.175\n",
      "==============================================================================\n",
      "Omnibus:                        2.161   Durbin-Watson:                   1.921\n",
      "Prob(Omnibus):                  0.340   Jarque-Bera (JB):                1.718\n",
      "Skew:                           0.313   Prob(JB):                        0.424\n",
      "Kurtosis:                       3.140   Cond. No.                         155.\n",
      "==============================================================================\n",
      "\n",
      "Notes:\n",
      "[1] Standard Errors assume that the covariance matrix of the errors is correctly specified.\n",
      "--------------\n",
      "0.9881727548780761\n"
     ]
    }
   ],
   "source": [
    "# x1과 x2만을 예측 변수로 사용하는 모델을 적합하고, \n",
    "# 전체 모델과 R-squared 값을 구하시오.\n",
    "from statsmodels.formula.api import ols\n",
    "model_final=ols('y~x1+x2',data=df).fit()\n",
    "print(model.summary())\n",
    "print('--------------')\n",
    "print(model.rsquared)"
   ]
  },
  {
   "cell_type": "code",
   "execution_count": 8,
   "id": "73e9db74",
   "metadata": {
    "execution": {
     "iopub.execute_input": "2025-06-20T01:24:25.173377Z",
     "iopub.status.busy": "2025-06-20T01:24:25.173000Z",
     "iopub.status.idle": "2025-06-20T01:24:25.184481Z",
     "shell.execute_reply": "2025-06-20T01:24:25.183480Z"
    },
    "papermill": {
     "duration": 0.018433,
     "end_time": "2025-06-20T01:24:25.186505",
     "exception": false,
     "start_time": "2025-06-20T01:24:25.168072",
     "status": "completed"
    },
    "tags": []
   },
   "outputs": [
    {
     "name": "stdout",
     "output_type": "stream",
     "text": [
      "1.5646848719294195\n"
     ]
    }
   ],
   "source": [
    "# 잔차(residual) 분석을 수행하고, 잔차의 표준편차를 구하시오.\n",
    "df['잔차'] = df['y'] - model_final.predict(df)\n",
    "print(df['잔차'].std())"
   ]
  },
  {
   "cell_type": "code",
   "execution_count": 9,
   "id": "2875fdc4",
   "metadata": {
    "execution": {
     "iopub.execute_input": "2025-06-20T01:24:25.195794Z",
     "iopub.status.busy": "2025-06-20T01:24:25.195443Z",
     "iopub.status.idle": "2025-06-20T01:24:25.212692Z",
     "shell.execute_reply": "2025-06-20T01:24:25.211559Z"
    },
    "papermill": {
     "duration": 0.024584,
     "end_time": "2025-06-20T01:24:25.214924",
     "exception": false,
     "start_time": "2025-06-20T01:24:25.190340",
     "status": "completed"
    },
    "tags": []
   },
   "outputs": [
    {
     "name": "stdout",
     "output_type": "stream",
     "text": [
      "예측값의 신뢰구간과 예측구간:\n",
      " 0   -0.540231\n",
      "Name: mean_ci_lower, dtype: float64\n"
     ]
    }
   ],
   "source": [
    "# 1번 모델에서 새로운 데이터(x1=5, x2=12, x3=10, x4=3)에 대해 y의 신뢰구간 하한(97% 신뢰수준)을 구하세요.\n",
    "new_data = pd.DataFrame({\"x1\": [5], \"x2\": [12],\"x3\":[10],\"x4\":[3]})\n",
    "pred = model.get_prediction(new_data)\n",
    "result = pred.summary_frame(alpha=0.03)\n",
    "print(\"예측값의 신뢰구간과 예측구간:\\n\", result['mean_ci_lower'])"
   ]
  },
  {
   "cell_type": "code",
   "execution_count": 10,
   "id": "82e63ff8",
   "metadata": {
    "execution": {
     "iopub.execute_input": "2025-06-20T01:24:25.224202Z",
     "iopub.status.busy": "2025-06-20T01:24:25.223837Z",
     "iopub.status.idle": "2025-06-20T01:24:25.242487Z",
     "shell.execute_reply": "2025-06-20T01:24:25.240561Z"
    },
    "papermill": {
     "duration": 0.026018,
     "end_time": "2025-06-20T01:24:25.244874",
     "exception": false,
     "start_time": "2025-06-20T01:24:25.218856",
     "status": "completed"
    },
    "tags": []
   },
   "outputs": [
    {
     "name": "stdout",
     "output_type": "stream",
     "text": [
      "예측값의 신뢰구간과 예측구간:\n",
      " 0    0.053614\n",
      "Name: mean_ci_upper, dtype: float64\n"
     ]
    }
   ],
   "source": [
    "# 1번 모델에서 새로운 데이터(x1=5, x2=12, x3=10, x4=3)에 대해 y의 예측구간 상한(97% 신뢰수준)을 구하세요.\n",
    "new_data = pd.DataFrame({\"x1\": [5], \"x2\": [12],\"x3\":[10],\"x4\":[3]})\n",
    "pred = model.get_prediction(new_data)\n",
    "result = pred.summary_frame(alpha=0.03)\n",
    "print(\"예측값의 신뢰구간과 예측구간:\\n\", result['mean_ci_upper'])"
   ]
  }
 ],
 "metadata": {
  "kaggle": {
   "accelerator": "none",
   "dataSources": [
    {
     "datasetId": 1633303,
     "sourceId": 12211878,
     "sourceType": "datasetVersion"
    }
   ],
   "dockerImageVersionId": 30786,
   "isGpuEnabled": false,
   "isInternetEnabled": true,
   "language": "python",
   "sourceType": "notebook"
  },
  "kernelspec": {
   "display_name": "Python 3",
   "language": "python",
   "name": "python3"
  },
  "language_info": {
   "codemirror_mode": {
    "name": "ipython",
    "version": 3
   },
   "file_extension": ".py",
   "mimetype": "text/x-python",
   "name": "python",
   "nbconvert_exporter": "python",
   "pygments_lexer": "ipython3",
   "version": "3.10.14"
  },
  "papermill": {
   "default_parameters": {},
   "duration": 6.87306,
   "end_time": "2025-06-20T01:24:25.871041",
   "environment_variables": {},
   "exception": null,
   "input_path": "__notebook__.ipynb",
   "output_path": "__notebook__.ipynb",
   "parameters": {},
   "start_time": "2025-06-20T01:24:18.997981",
   "version": "2.6.0"
  }
 },
 "nbformat": 4,
 "nbformat_minor": 5
}
