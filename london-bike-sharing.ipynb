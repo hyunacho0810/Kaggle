{
 "cells": [
  {
   "cell_type": "code",
   "execution_count": 1,
   "id": "7d958264",
   "metadata": {
    "_cell_guid": "b1076dfc-b9ad-4769-8c92-a6c4dae69d19",
    "_uuid": "8f2839f25d086af736a60e9eeb907d3b93b6e0e5",
    "execution": {
     "iopub.execute_input": "2025-06-26T02:42:22.008797Z",
     "iopub.status.busy": "2025-06-26T02:42:22.007840Z",
     "iopub.status.idle": "2025-06-26T02:42:25.825884Z",
     "shell.execute_reply": "2025-06-26T02:42:25.824979Z"
    },
    "papermill": {
     "duration": 3.825643,
     "end_time": "2025-06-26T02:42:25.827753",
     "exception": false,
     "start_time": "2025-06-26T02:42:22.002110",
     "status": "completed"
    },
    "tags": []
   },
   "outputs": [],
   "source": [
    "# import library\n",
    "import pandas as pd\n",
    "import numpy as np\n",
    "import seaborn as sns\n",
    "import matplotlib.pyplot as plt\n",
    "from scipy import stats "
   ]
  },
  {
   "cell_type": "code",
   "execution_count": 2,
   "id": "137cd85f",
   "metadata": {
    "execution": {
     "iopub.execute_input": "2025-06-26T02:42:25.837658Z",
     "iopub.status.busy": "2025-06-26T02:42:25.837262Z",
     "iopub.status.idle": "2025-06-26T02:42:25.898429Z",
     "shell.execute_reply": "2025-06-26T02:42:25.897465Z"
    },
    "papermill": {
     "duration": 0.068104,
     "end_time": "2025-06-26T02:42:25.900114",
     "exception": false,
     "start_time": "2025-06-26T02:42:25.832010",
     "status": "completed"
    },
    "tags": []
   },
   "outputs": [],
   "source": [
    "data=pd.read_csv('/kaggle/input/london-bike-sharing-dataset/london_merged.csv')"
   ]
  },
  {
   "cell_type": "code",
   "execution_count": 3,
   "id": "367a7b28",
   "metadata": {
    "execution": {
     "iopub.execute_input": "2025-06-26T02:42:25.909608Z",
     "iopub.status.busy": "2025-06-26T02:42:25.908969Z",
     "iopub.status.idle": "2025-06-26T02:42:25.939381Z",
     "shell.execute_reply": "2025-06-26T02:42:25.938457Z"
    },
    "papermill": {
     "duration": 0.036766,
     "end_time": "2025-06-26T02:42:25.941004",
     "exception": false,
     "start_time": "2025-06-26T02:42:25.904238",
     "status": "completed"
    },
    "tags": []
   },
   "outputs": [
    {
     "data": {
      "text/html": [
       "<div>\n",
       "<style scoped>\n",
       "    .dataframe tbody tr th:only-of-type {\n",
       "        vertical-align: middle;\n",
       "    }\n",
       "\n",
       "    .dataframe tbody tr th {\n",
       "        vertical-align: top;\n",
       "    }\n",
       "\n",
       "    .dataframe thead th {\n",
       "        text-align: right;\n",
       "    }\n",
       "</style>\n",
       "<table border=\"1\" class=\"dataframe\">\n",
       "  <thead>\n",
       "    <tr style=\"text-align: right;\">\n",
       "      <th></th>\n",
       "      <th>timestamp</th>\n",
       "      <th>cnt</th>\n",
       "      <th>t1</th>\n",
       "      <th>t2</th>\n",
       "      <th>hum</th>\n",
       "      <th>wind_speed</th>\n",
       "      <th>weather_code</th>\n",
       "      <th>is_holiday</th>\n",
       "      <th>is_weekend</th>\n",
       "      <th>season</th>\n",
       "    </tr>\n",
       "  </thead>\n",
       "  <tbody>\n",
       "    <tr>\n",
       "      <th>0</th>\n",
       "      <td>2015-01-04 00:00:00</td>\n",
       "      <td>182</td>\n",
       "      <td>3.0</td>\n",
       "      <td>2.0</td>\n",
       "      <td>93.0</td>\n",
       "      <td>6.0</td>\n",
       "      <td>3.0</td>\n",
       "      <td>0.0</td>\n",
       "      <td>1.0</td>\n",
       "      <td>3.0</td>\n",
       "    </tr>\n",
       "    <tr>\n",
       "      <th>1</th>\n",
       "      <td>2015-01-04 01:00:00</td>\n",
       "      <td>138</td>\n",
       "      <td>3.0</td>\n",
       "      <td>2.5</td>\n",
       "      <td>93.0</td>\n",
       "      <td>5.0</td>\n",
       "      <td>1.0</td>\n",
       "      <td>0.0</td>\n",
       "      <td>1.0</td>\n",
       "      <td>3.0</td>\n",
       "    </tr>\n",
       "    <tr>\n",
       "      <th>2</th>\n",
       "      <td>2015-01-04 02:00:00</td>\n",
       "      <td>134</td>\n",
       "      <td>2.5</td>\n",
       "      <td>2.5</td>\n",
       "      <td>96.5</td>\n",
       "      <td>0.0</td>\n",
       "      <td>1.0</td>\n",
       "      <td>0.0</td>\n",
       "      <td>1.0</td>\n",
       "      <td>3.0</td>\n",
       "    </tr>\n",
       "    <tr>\n",
       "      <th>3</th>\n",
       "      <td>2015-01-04 03:00:00</td>\n",
       "      <td>72</td>\n",
       "      <td>2.0</td>\n",
       "      <td>2.0</td>\n",
       "      <td>100.0</td>\n",
       "      <td>0.0</td>\n",
       "      <td>1.0</td>\n",
       "      <td>0.0</td>\n",
       "      <td>1.0</td>\n",
       "      <td>3.0</td>\n",
       "    </tr>\n",
       "    <tr>\n",
       "      <th>4</th>\n",
       "      <td>2015-01-04 04:00:00</td>\n",
       "      <td>47</td>\n",
       "      <td>2.0</td>\n",
       "      <td>0.0</td>\n",
       "      <td>93.0</td>\n",
       "      <td>6.5</td>\n",
       "      <td>1.0</td>\n",
       "      <td>0.0</td>\n",
       "      <td>1.0</td>\n",
       "      <td>3.0</td>\n",
       "    </tr>\n",
       "    <tr>\n",
       "      <th>5</th>\n",
       "      <td>2015-01-04 05:00:00</td>\n",
       "      <td>46</td>\n",
       "      <td>2.0</td>\n",
       "      <td>2.0</td>\n",
       "      <td>93.0</td>\n",
       "      <td>4.0</td>\n",
       "      <td>1.0</td>\n",
       "      <td>0.0</td>\n",
       "      <td>1.0</td>\n",
       "      <td>3.0</td>\n",
       "    </tr>\n",
       "    <tr>\n",
       "      <th>6</th>\n",
       "      <td>2015-01-04 06:00:00</td>\n",
       "      <td>51</td>\n",
       "      <td>1.0</td>\n",
       "      <td>-1.0</td>\n",
       "      <td>100.0</td>\n",
       "      <td>7.0</td>\n",
       "      <td>4.0</td>\n",
       "      <td>0.0</td>\n",
       "      <td>1.0</td>\n",
       "      <td>3.0</td>\n",
       "    </tr>\n",
       "    <tr>\n",
       "      <th>7</th>\n",
       "      <td>2015-01-04 07:00:00</td>\n",
       "      <td>75</td>\n",
       "      <td>1.0</td>\n",
       "      <td>-1.0</td>\n",
       "      <td>100.0</td>\n",
       "      <td>7.0</td>\n",
       "      <td>4.0</td>\n",
       "      <td>0.0</td>\n",
       "      <td>1.0</td>\n",
       "      <td>3.0</td>\n",
       "    </tr>\n",
       "    <tr>\n",
       "      <th>8</th>\n",
       "      <td>2015-01-04 08:00:00</td>\n",
       "      <td>131</td>\n",
       "      <td>1.5</td>\n",
       "      <td>-1.0</td>\n",
       "      <td>96.5</td>\n",
       "      <td>8.0</td>\n",
       "      <td>4.0</td>\n",
       "      <td>0.0</td>\n",
       "      <td>1.0</td>\n",
       "      <td>3.0</td>\n",
       "    </tr>\n",
       "    <tr>\n",
       "      <th>9</th>\n",
       "      <td>2015-01-04 09:00:00</td>\n",
       "      <td>301</td>\n",
       "      <td>2.0</td>\n",
       "      <td>-0.5</td>\n",
       "      <td>100.0</td>\n",
       "      <td>9.0</td>\n",
       "      <td>3.0</td>\n",
       "      <td>0.0</td>\n",
       "      <td>1.0</td>\n",
       "      <td>3.0</td>\n",
       "    </tr>\n",
       "  </tbody>\n",
       "</table>\n",
       "</div>"
      ],
      "text/plain": [
       "             timestamp  cnt   t1   t2    hum  wind_speed  weather_code  \\\n",
       "0  2015-01-04 00:00:00  182  3.0  2.0   93.0         6.0           3.0   \n",
       "1  2015-01-04 01:00:00  138  3.0  2.5   93.0         5.0           1.0   \n",
       "2  2015-01-04 02:00:00  134  2.5  2.5   96.5         0.0           1.0   \n",
       "3  2015-01-04 03:00:00   72  2.0  2.0  100.0         0.0           1.0   \n",
       "4  2015-01-04 04:00:00   47  2.0  0.0   93.0         6.5           1.0   \n",
       "5  2015-01-04 05:00:00   46  2.0  2.0   93.0         4.0           1.0   \n",
       "6  2015-01-04 06:00:00   51  1.0 -1.0  100.0         7.0           4.0   \n",
       "7  2015-01-04 07:00:00   75  1.0 -1.0  100.0         7.0           4.0   \n",
       "8  2015-01-04 08:00:00  131  1.5 -1.0   96.5         8.0           4.0   \n",
       "9  2015-01-04 09:00:00  301  2.0 -0.5  100.0         9.0           3.0   \n",
       "\n",
       "   is_holiday  is_weekend  season  \n",
       "0         0.0         1.0     3.0  \n",
       "1         0.0         1.0     3.0  \n",
       "2         0.0         1.0     3.0  \n",
       "3         0.0         1.0     3.0  \n",
       "4         0.0         1.0     3.0  \n",
       "5         0.0         1.0     3.0  \n",
       "6         0.0         1.0     3.0  \n",
       "7         0.0         1.0     3.0  \n",
       "8         0.0         1.0     3.0  \n",
       "9         0.0         1.0     3.0  "
      ]
     },
     "execution_count": 3,
     "metadata": {},
     "output_type": "execute_result"
    }
   ],
   "source": [
    "data.head(10)"
   ]
  },
  {
   "cell_type": "code",
   "execution_count": 4,
   "id": "d49623db",
   "metadata": {
    "execution": {
     "iopub.execute_input": "2025-06-26T02:42:25.950696Z",
     "iopub.status.busy": "2025-06-26T02:42:25.950389Z",
     "iopub.status.idle": "2025-06-26T02:42:25.955866Z",
     "shell.execute_reply": "2025-06-26T02:42:25.954999Z"
    },
    "papermill": {
     "duration": 0.011967,
     "end_time": "2025-06-26T02:42:25.957329",
     "exception": false,
     "start_time": "2025-06-26T02:42:25.945362",
     "status": "completed"
    },
    "tags": []
   },
   "outputs": [
    {
     "data": {
      "text/plain": [
       "(17414, 10)"
      ]
     },
     "execution_count": 4,
     "metadata": {},
     "output_type": "execute_result"
    }
   ],
   "source": [
    "data.shape"
   ]
  },
  {
   "cell_type": "code",
   "execution_count": 5,
   "id": "479d5c99",
   "metadata": {
    "execution": {
     "iopub.execute_input": "2025-06-26T02:42:25.966893Z",
     "iopub.status.busy": "2025-06-26T02:42:25.966586Z",
     "iopub.status.idle": "2025-06-26T02:42:25.992701Z",
     "shell.execute_reply": "2025-06-26T02:42:25.991554Z"
    },
    "papermill": {
     "duration": 0.032814,
     "end_time": "2025-06-26T02:42:25.994397",
     "exception": false,
     "start_time": "2025-06-26T02:42:25.961583",
     "status": "completed"
    },
    "tags": []
   },
   "outputs": [
    {
     "name": "stdout",
     "output_type": "stream",
     "text": [
      "<class 'pandas.core.frame.DataFrame'>\n",
      "RangeIndex: 17414 entries, 0 to 17413\n",
      "Data columns (total 10 columns):\n",
      " #   Column        Non-Null Count  Dtype  \n",
      "---  ------        --------------  -----  \n",
      " 0   timestamp     17414 non-null  object \n",
      " 1   cnt           17414 non-null  int64  \n",
      " 2   t1            17414 non-null  float64\n",
      " 3   t2            17414 non-null  float64\n",
      " 4   hum           17414 non-null  float64\n",
      " 5   wind_speed    17414 non-null  float64\n",
      " 6   weather_code  17414 non-null  float64\n",
      " 7   is_holiday    17414 non-null  float64\n",
      " 8   is_weekend    17414 non-null  float64\n",
      " 9   season        17414 non-null  float64\n",
      "dtypes: float64(8), int64(1), object(1)\n",
      "memory usage: 1.3+ MB\n"
     ]
    }
   ],
   "source": [
    "data.info()"
   ]
  },
  {
   "cell_type": "code",
   "execution_count": 6,
   "id": "44abca55",
   "metadata": {
    "execution": {
     "iopub.execute_input": "2025-06-26T02:42:26.004546Z",
     "iopub.status.busy": "2025-06-26T02:42:26.004230Z",
     "iopub.status.idle": "2025-06-26T02:42:26.046353Z",
     "shell.execute_reply": "2025-06-26T02:42:26.045323Z"
    },
    "papermill": {
     "duration": 0.049164,
     "end_time": "2025-06-26T02:42:26.047975",
     "exception": false,
     "start_time": "2025-06-26T02:42:25.998811",
     "status": "completed"
    },
    "tags": []
   },
   "outputs": [
    {
     "data": {
      "text/html": [
       "<div>\n",
       "<style scoped>\n",
       "    .dataframe tbody tr th:only-of-type {\n",
       "        vertical-align: middle;\n",
       "    }\n",
       "\n",
       "    .dataframe tbody tr th {\n",
       "        vertical-align: top;\n",
       "    }\n",
       "\n",
       "    .dataframe thead th {\n",
       "        text-align: right;\n",
       "    }\n",
       "</style>\n",
       "<table border=\"1\" class=\"dataframe\">\n",
       "  <thead>\n",
       "    <tr style=\"text-align: right;\">\n",
       "      <th></th>\n",
       "      <th>count</th>\n",
       "      <th>mean</th>\n",
       "      <th>std</th>\n",
       "      <th>min</th>\n",
       "      <th>25%</th>\n",
       "      <th>50%</th>\n",
       "      <th>75%</th>\n",
       "      <th>max</th>\n",
       "    </tr>\n",
       "  </thead>\n",
       "  <tbody>\n",
       "    <tr>\n",
       "      <th>cnt</th>\n",
       "      <td>17414.0</td>\n",
       "      <td>1143.101642</td>\n",
       "      <td>1085.108068</td>\n",
       "      <td>0.0</td>\n",
       "      <td>257.0</td>\n",
       "      <td>844.0</td>\n",
       "      <td>1671.75</td>\n",
       "      <td>7860.0</td>\n",
       "    </tr>\n",
       "    <tr>\n",
       "      <th>t1</th>\n",
       "      <td>17414.0</td>\n",
       "      <td>12.468091</td>\n",
       "      <td>5.571818</td>\n",
       "      <td>-1.5</td>\n",
       "      <td>8.0</td>\n",
       "      <td>12.5</td>\n",
       "      <td>16.00</td>\n",
       "      <td>34.0</td>\n",
       "    </tr>\n",
       "    <tr>\n",
       "      <th>t2</th>\n",
       "      <td>17414.0</td>\n",
       "      <td>11.520836</td>\n",
       "      <td>6.615145</td>\n",
       "      <td>-6.0</td>\n",
       "      <td>6.0</td>\n",
       "      <td>12.5</td>\n",
       "      <td>16.00</td>\n",
       "      <td>34.0</td>\n",
       "    </tr>\n",
       "    <tr>\n",
       "      <th>hum</th>\n",
       "      <td>17414.0</td>\n",
       "      <td>72.324954</td>\n",
       "      <td>14.313186</td>\n",
       "      <td>20.5</td>\n",
       "      <td>63.0</td>\n",
       "      <td>74.5</td>\n",
       "      <td>83.00</td>\n",
       "      <td>100.0</td>\n",
       "    </tr>\n",
       "    <tr>\n",
       "      <th>wind_speed</th>\n",
       "      <td>17414.0</td>\n",
       "      <td>15.913063</td>\n",
       "      <td>7.894570</td>\n",
       "      <td>0.0</td>\n",
       "      <td>10.0</td>\n",
       "      <td>15.0</td>\n",
       "      <td>20.50</td>\n",
       "      <td>56.5</td>\n",
       "    </tr>\n",
       "    <tr>\n",
       "      <th>weather_code</th>\n",
       "      <td>17414.0</td>\n",
       "      <td>2.722752</td>\n",
       "      <td>2.341163</td>\n",
       "      <td>1.0</td>\n",
       "      <td>1.0</td>\n",
       "      <td>2.0</td>\n",
       "      <td>3.00</td>\n",
       "      <td>26.0</td>\n",
       "    </tr>\n",
       "    <tr>\n",
       "      <th>is_holiday</th>\n",
       "      <td>17414.0</td>\n",
       "      <td>0.022051</td>\n",
       "      <td>0.146854</td>\n",
       "      <td>0.0</td>\n",
       "      <td>0.0</td>\n",
       "      <td>0.0</td>\n",
       "      <td>0.00</td>\n",
       "      <td>1.0</td>\n",
       "    </tr>\n",
       "    <tr>\n",
       "      <th>is_weekend</th>\n",
       "      <td>17414.0</td>\n",
       "      <td>0.285403</td>\n",
       "      <td>0.451619</td>\n",
       "      <td>0.0</td>\n",
       "      <td>0.0</td>\n",
       "      <td>0.0</td>\n",
       "      <td>1.00</td>\n",
       "      <td>1.0</td>\n",
       "    </tr>\n",
       "    <tr>\n",
       "      <th>season</th>\n",
       "      <td>17414.0</td>\n",
       "      <td>1.492075</td>\n",
       "      <td>1.118911</td>\n",
       "      <td>0.0</td>\n",
       "      <td>0.0</td>\n",
       "      <td>1.0</td>\n",
       "      <td>2.00</td>\n",
       "      <td>3.0</td>\n",
       "    </tr>\n",
       "  </tbody>\n",
       "</table>\n",
       "</div>"
      ],
      "text/plain": [
       "                count         mean          std   min    25%    50%      75%  \\\n",
       "cnt           17414.0  1143.101642  1085.108068   0.0  257.0  844.0  1671.75   \n",
       "t1            17414.0    12.468091     5.571818  -1.5    8.0   12.5    16.00   \n",
       "t2            17414.0    11.520836     6.615145  -6.0    6.0   12.5    16.00   \n",
       "hum           17414.0    72.324954    14.313186  20.5   63.0   74.5    83.00   \n",
       "wind_speed    17414.0    15.913063     7.894570   0.0   10.0   15.0    20.50   \n",
       "weather_code  17414.0     2.722752     2.341163   1.0    1.0    2.0     3.00   \n",
       "is_holiday    17414.0     0.022051     0.146854   0.0    0.0    0.0     0.00   \n",
       "is_weekend    17414.0     0.285403     0.451619   0.0    0.0    0.0     1.00   \n",
       "season        17414.0     1.492075     1.118911   0.0    0.0    1.0     2.00   \n",
       "\n",
       "                 max  \n",
       "cnt           7860.0  \n",
       "t1              34.0  \n",
       "t2              34.0  \n",
       "hum            100.0  \n",
       "wind_speed      56.5  \n",
       "weather_code    26.0  \n",
       "is_holiday       1.0  \n",
       "is_weekend       1.0  \n",
       "season           3.0  "
      ]
     },
     "execution_count": 6,
     "metadata": {},
     "output_type": "execute_result"
    }
   ],
   "source": [
    "data.describe().T"
   ]
  },
  {
   "cell_type": "code",
   "execution_count": 7,
   "id": "03cd77a8",
   "metadata": {
    "execution": {
     "iopub.execute_input": "2025-06-26T02:42:26.058474Z",
     "iopub.status.busy": "2025-06-26T02:42:26.058167Z",
     "iopub.status.idle": "2025-06-26T02:42:26.067175Z",
     "shell.execute_reply": "2025-06-26T02:42:26.066434Z"
    },
    "papermill": {
     "duration": 0.015957,
     "end_time": "2025-06-26T02:42:26.068561",
     "exception": false,
     "start_time": "2025-06-26T02:42:26.052604",
     "status": "completed"
    },
    "tags": []
   },
   "outputs": [
    {
     "data": {
      "text/plain": [
       "timestamp       0\n",
       "cnt             0\n",
       "t1              0\n",
       "t2              0\n",
       "hum             0\n",
       "wind_speed      0\n",
       "weather_code    0\n",
       "is_holiday      0\n",
       "is_weekend      0\n",
       "season          0\n",
       "dtype: int64"
      ]
     },
     "execution_count": 7,
     "metadata": {},
     "output_type": "execute_result"
    }
   ],
   "source": [
    "data.isnull().sum()"
   ]
  },
  {
   "cell_type": "code",
   "execution_count": 8,
   "id": "187d68f6",
   "metadata": {
    "execution": {
     "iopub.execute_input": "2025-06-26T02:42:26.080185Z",
     "iopub.status.busy": "2025-06-26T02:42:26.079879Z",
     "iopub.status.idle": "2025-06-26T02:42:26.093334Z",
     "shell.execute_reply": "2025-06-26T02:42:26.092569Z"
    },
    "papermill": {
     "duration": 0.020932,
     "end_time": "2025-06-26T02:42:26.094805",
     "exception": false,
     "start_time": "2025-06-26T02:42:26.073873",
     "status": "completed"
    },
    "tags": []
   },
   "outputs": [],
   "source": [
    "data['timestamp']=pd.to_datetime(data['timestamp'])"
   ]
  },
  {
   "cell_type": "code",
   "execution_count": 9,
   "id": "b4141c67",
   "metadata": {
    "execution": {
     "iopub.execute_input": "2025-06-26T02:42:26.106086Z",
     "iopub.status.busy": "2025-06-26T02:42:26.105492Z",
     "iopub.status.idle": "2025-06-26T02:42:26.110849Z",
     "shell.execute_reply": "2025-06-26T02:42:26.110003Z"
    },
    "papermill": {
     "duration": 0.012337,
     "end_time": "2025-06-26T02:42:26.112557",
     "exception": false,
     "start_time": "2025-06-26T02:42:26.100220",
     "status": "completed"
    },
    "tags": []
   },
   "outputs": [],
   "source": [
    "data['year']=data['timestamp'].dt.year"
   ]
  },
  {
   "cell_type": "code",
   "execution_count": 10,
   "id": "5182c41f",
   "metadata": {
    "execution": {
     "iopub.execute_input": "2025-06-26T02:42:26.122699Z",
     "iopub.status.busy": "2025-06-26T02:42:26.122389Z",
     "iopub.status.idle": "2025-06-26T02:42:26.128197Z",
     "shell.execute_reply": "2025-06-26T02:42:26.127227Z"
    },
    "papermill": {
     "duration": 0.012535,
     "end_time": "2025-06-26T02:42:26.129566",
     "exception": false,
     "start_time": "2025-06-26T02:42:26.117031",
     "status": "completed"
    },
    "tags": []
   },
   "outputs": [],
   "source": [
    "data['month']=data['timestamp'].dt.month"
   ]
  },
  {
   "cell_type": "code",
   "execution_count": 11,
   "id": "55b79d37",
   "metadata": {
    "execution": {
     "iopub.execute_input": "2025-06-26T02:42:26.141323Z",
     "iopub.status.busy": "2025-06-26T02:42:26.140488Z",
     "iopub.status.idle": "2025-06-26T02:42:26.146048Z",
     "shell.execute_reply": "2025-06-26T02:42:26.145174Z"
    },
    "papermill": {
     "duration": 0.012707,
     "end_time": "2025-06-26T02:42:26.147686",
     "exception": false,
     "start_time": "2025-06-26T02:42:26.134979",
     "status": "completed"
    },
    "tags": []
   },
   "outputs": [],
   "source": [
    "data['dayofweek']=data['timestamp'].dt.dayofweek"
   ]
  },
  {
   "cell_type": "code",
   "execution_count": 12,
   "id": "3d73f2c4",
   "metadata": {
    "execution": {
     "iopub.execute_input": "2025-06-26T02:42:26.159231Z",
     "iopub.status.busy": "2025-06-26T02:42:26.158911Z",
     "iopub.status.idle": "2025-06-26T02:42:26.174846Z",
     "shell.execute_reply": "2025-06-26T02:42:26.173793Z"
    },
    "papermill": {
     "duration": 0.024144,
     "end_time": "2025-06-26T02:42:26.176660",
     "exception": false,
     "start_time": "2025-06-26T02:42:26.152516",
     "status": "completed"
    },
    "tags": []
   },
   "outputs": [
    {
     "data": {
      "text/html": [
       "<div>\n",
       "<style scoped>\n",
       "    .dataframe tbody tr th:only-of-type {\n",
       "        vertical-align: middle;\n",
       "    }\n",
       "\n",
       "    .dataframe tbody tr th {\n",
       "        vertical-align: top;\n",
       "    }\n",
       "\n",
       "    .dataframe thead th {\n",
       "        text-align: right;\n",
       "    }\n",
       "</style>\n",
       "<table border=\"1\" class=\"dataframe\">\n",
       "  <thead>\n",
       "    <tr style=\"text-align: right;\">\n",
       "      <th></th>\n",
       "      <th>timestamp</th>\n",
       "      <th>cnt</th>\n",
       "      <th>t1</th>\n",
       "      <th>t2</th>\n",
       "      <th>hum</th>\n",
       "      <th>wind_speed</th>\n",
       "      <th>weather_code</th>\n",
       "      <th>is_holiday</th>\n",
       "      <th>is_weekend</th>\n",
       "      <th>season</th>\n",
       "      <th>year</th>\n",
       "      <th>month</th>\n",
       "      <th>dayofweek</th>\n",
       "    </tr>\n",
       "  </thead>\n",
       "  <tbody>\n",
       "    <tr>\n",
       "      <th>0</th>\n",
       "      <td>2015-01-04 00:00:00</td>\n",
       "      <td>182</td>\n",
       "      <td>3.0</td>\n",
       "      <td>2.0</td>\n",
       "      <td>93.0</td>\n",
       "      <td>6.0</td>\n",
       "      <td>3.0</td>\n",
       "      <td>0.0</td>\n",
       "      <td>1.0</td>\n",
       "      <td>3.0</td>\n",
       "      <td>2015</td>\n",
       "      <td>1</td>\n",
       "      <td>6</td>\n",
       "    </tr>\n",
       "    <tr>\n",
       "      <th>1</th>\n",
       "      <td>2015-01-04 01:00:00</td>\n",
       "      <td>138</td>\n",
       "      <td>3.0</td>\n",
       "      <td>2.5</td>\n",
       "      <td>93.0</td>\n",
       "      <td>5.0</td>\n",
       "      <td>1.0</td>\n",
       "      <td>0.0</td>\n",
       "      <td>1.0</td>\n",
       "      <td>3.0</td>\n",
       "      <td>2015</td>\n",
       "      <td>1</td>\n",
       "      <td>6</td>\n",
       "    </tr>\n",
       "    <tr>\n",
       "      <th>2</th>\n",
       "      <td>2015-01-04 02:00:00</td>\n",
       "      <td>134</td>\n",
       "      <td>2.5</td>\n",
       "      <td>2.5</td>\n",
       "      <td>96.5</td>\n",
       "      <td>0.0</td>\n",
       "      <td>1.0</td>\n",
       "      <td>0.0</td>\n",
       "      <td>1.0</td>\n",
       "      <td>3.0</td>\n",
       "      <td>2015</td>\n",
       "      <td>1</td>\n",
       "      <td>6</td>\n",
       "    </tr>\n",
       "    <tr>\n",
       "      <th>3</th>\n",
       "      <td>2015-01-04 03:00:00</td>\n",
       "      <td>72</td>\n",
       "      <td>2.0</td>\n",
       "      <td>2.0</td>\n",
       "      <td>100.0</td>\n",
       "      <td>0.0</td>\n",
       "      <td>1.0</td>\n",
       "      <td>0.0</td>\n",
       "      <td>1.0</td>\n",
       "      <td>3.0</td>\n",
       "      <td>2015</td>\n",
       "      <td>1</td>\n",
       "      <td>6</td>\n",
       "    </tr>\n",
       "    <tr>\n",
       "      <th>4</th>\n",
       "      <td>2015-01-04 04:00:00</td>\n",
       "      <td>47</td>\n",
       "      <td>2.0</td>\n",
       "      <td>0.0</td>\n",
       "      <td>93.0</td>\n",
       "      <td>6.5</td>\n",
       "      <td>1.0</td>\n",
       "      <td>0.0</td>\n",
       "      <td>1.0</td>\n",
       "      <td>3.0</td>\n",
       "      <td>2015</td>\n",
       "      <td>1</td>\n",
       "      <td>6</td>\n",
       "    </tr>\n",
       "  </tbody>\n",
       "</table>\n",
       "</div>"
      ],
      "text/plain": [
       "            timestamp  cnt   t1   t2    hum  wind_speed  weather_code  \\\n",
       "0 2015-01-04 00:00:00  182  3.0  2.0   93.0         6.0           3.0   \n",
       "1 2015-01-04 01:00:00  138  3.0  2.5   93.0         5.0           1.0   \n",
       "2 2015-01-04 02:00:00  134  2.5  2.5   96.5         0.0           1.0   \n",
       "3 2015-01-04 03:00:00   72  2.0  2.0  100.0         0.0           1.0   \n",
       "4 2015-01-04 04:00:00   47  2.0  0.0   93.0         6.5           1.0   \n",
       "\n",
       "   is_holiday  is_weekend  season  year  month  dayofweek  \n",
       "0         0.0         1.0     3.0  2015      1          6  \n",
       "1         0.0         1.0     3.0  2015      1          6  \n",
       "2         0.0         1.0     3.0  2015      1          6  \n",
       "3         0.0         1.0     3.0  2015      1          6  \n",
       "4         0.0         1.0     3.0  2015      1          6  "
      ]
     },
     "execution_count": 12,
     "metadata": {},
     "output_type": "execute_result"
    }
   ],
   "source": [
    "data.head()"
   ]
  },
  {
   "cell_type": "code",
   "execution_count": 13,
   "id": "4d700fbb",
   "metadata": {
    "execution": {
     "iopub.execute_input": "2025-06-26T02:42:26.187637Z",
     "iopub.status.busy": "2025-06-26T02:42:26.187366Z",
     "iopub.status.idle": "2025-06-26T02:42:26.197123Z",
     "shell.execute_reply": "2025-06-26T02:42:26.196130Z"
    },
    "papermill": {
     "duration": 0.017088,
     "end_time": "2025-06-26T02:42:26.198716",
     "exception": false,
     "start_time": "2025-06-26T02:42:26.181628",
     "status": "completed"
    },
    "tags": []
   },
   "outputs": [
    {
     "data": {
      "text/plain": [
       "season\n",
       "0.0    4394\n",
       "1.0    4387\n",
       "3.0    4330\n",
       "2.0    4303\n",
       "Name: count, dtype: int64"
      ]
     },
     "execution_count": 13,
     "metadata": {},
     "output_type": "execute_result"
    }
   ],
   "source": [
    "data['season'].value_counts(ascending=False)"
   ]
  },
  {
   "cell_type": "code",
   "execution_count": 14,
   "id": "e7b126ea",
   "metadata": {
    "execution": {
     "iopub.execute_input": "2025-06-26T02:42:26.209491Z",
     "iopub.status.busy": "2025-06-26T02:42:26.209201Z",
     "iopub.status.idle": "2025-06-26T02:42:26.217396Z",
     "shell.execute_reply": "2025-06-26T02:42:26.216417Z"
    },
    "papermill": {
     "duration": 0.015132,
     "end_time": "2025-06-26T02:42:26.218682",
     "exception": false,
     "start_time": "2025-06-26T02:42:26.203550",
     "status": "completed"
    },
    "tags": []
   },
   "outputs": [
    {
     "data": {
      "text/plain": [
       "is_weekend\n",
       "0.0    12444\n",
       "1.0     4970\n",
       "Name: count, dtype: int64"
      ]
     },
     "execution_count": 14,
     "metadata": {},
     "output_type": "execute_result"
    }
   ],
   "source": [
    "data['is_weekend'].value_counts(ascending=False)"
   ]
  },
  {
   "cell_type": "code",
   "execution_count": 15,
   "id": "aca6860d",
   "metadata": {
    "execution": {
     "iopub.execute_input": "2025-06-26T02:42:26.231688Z",
     "iopub.status.busy": "2025-06-26T02:42:26.231421Z",
     "iopub.status.idle": "2025-06-26T02:42:26.239137Z",
     "shell.execute_reply": "2025-06-26T02:42:26.238283Z"
    },
    "papermill": {
     "duration": 0.016388,
     "end_time": "2025-06-26T02:42:26.240591",
     "exception": false,
     "start_time": "2025-06-26T02:42:26.224203",
     "status": "completed"
    },
    "tags": []
   },
   "outputs": [
    {
     "data": {
      "text/plain": [
       "weather_code\n",
       "1.0     6150\n",
       "2.0     4034\n",
       "3.0     3551\n",
       "7.0     2141\n",
       "4.0     1464\n",
       "26.0      60\n",
       "10.0      14\n",
       "Name: count, dtype: int64"
      ]
     },
     "execution_count": 15,
     "metadata": {},
     "output_type": "execute_result"
    }
   ],
   "source": [
    "data['weather_code'].value_counts(ascending=False)"
   ]
  },
  {
   "cell_type": "code",
   "execution_count": 16,
   "id": "29fb160d",
   "metadata": {
    "execution": {
     "iopub.execute_input": "2025-06-26T02:42:26.251604Z",
     "iopub.status.busy": "2025-06-26T02:42:26.251264Z",
     "iopub.status.idle": "2025-06-26T02:42:26.257006Z",
     "shell.execute_reply": "2025-06-26T02:42:26.256238Z"
    },
    "papermill": {
     "duration": 0.012878,
     "end_time": "2025-06-26T02:42:26.258444",
     "exception": false,
     "start_time": "2025-06-26T02:42:26.245566",
     "status": "completed"
    },
    "tags": []
   },
   "outputs": [],
   "source": [
    "# 이상치 제거 함수\n",
    "def remove_outliers_iqr(data,column,factor=1.5):\n",
    "    df=data.copy()\n",
    "    Q1=df[column].quantile(0.25)\n",
    "    Q3=df[column].quantile(0.75)\n",
    "    IQR=Q3-Q1\n",
    "    lower_bound=Q1-(factor*IQR)\n",
    "    upper_bound=Q3+(factor*IQR)\n",
    "    df=df[(df[column]>=lower_bound)&(df[column]<=upper_bound)]\n",
    "    return df"
   ]
  },
  {
   "cell_type": "code",
   "execution_count": 17,
   "id": "b47661bb",
   "metadata": {
    "execution": {
     "iopub.execute_input": "2025-06-26T02:42:26.269729Z",
     "iopub.status.busy": "2025-06-26T02:42:26.269440Z",
     "iopub.status.idle": "2025-06-26T02:42:26.286960Z",
     "shell.execute_reply": "2025-06-26T02:42:26.286024Z"
    },
    "papermill": {
     "duration": 0.02495,
     "end_time": "2025-06-26T02:42:26.288679",
     "exception": false,
     "start_time": "2025-06-26T02:42:26.263729",
     "status": "completed"
    },
    "tags": []
   },
   "outputs": [
    {
     "name": "stdout",
     "output_type": "stream",
     "text": [
      "원본 데이터 형태: (17414, 13)\n",
      "t1 컬럼의 원본 형태:\n",
      "count    17414.000000\n",
      "mean        12.468091\n",
      "std          5.571818\n",
      "min         -1.500000\n",
      "25%          8.000000\n",
      "50%         12.500000\n",
      "75%         16.000000\n",
      "max         34.000000\n",
      "Name: t1, dtype: float64\n",
      "이상치 제거 후 데이터 형태: (17350, 13)\n",
      "t1 컬럼의 이상치 제거 후 통계\n",
      "count    17350.000000\n",
      "mean        12.401547\n",
      "std          5.472159\n",
      "min         -1.500000\n",
      "25%          8.000000\n",
      "50%         12.500000\n",
      "75%         16.000000\n",
      "max         28.000000\n",
      "Name: t1, dtype: float64\n"
     ]
    }
   ],
   "source": [
    "cleaned_data=remove_outliers_iqr(data,'t1',1.5)\n",
    "print('원본 데이터 형태:',data.shape)\n",
    "print('t1 컬럼의 원본 형태:')\n",
    "print(data['t1'].describe())\n",
    "print('이상치 제거 후 데이터 형태:',cleaned_data.shape)\n",
    "print('t1 컬럼의 이상치 제거 후 통계')\n",
    "print(cleaned_data['t1'].describe())"
   ]
  },
  {
   "cell_type": "code",
   "execution_count": 18,
   "id": "bd1fc1b1",
   "metadata": {
    "execution": {
     "iopub.execute_input": "2025-06-26T02:42:26.300287Z",
     "iopub.status.busy": "2025-06-26T02:42:26.299784Z",
     "iopub.status.idle": "2025-06-26T02:42:26.951592Z",
     "shell.execute_reply": "2025-06-26T02:42:26.950714Z"
    },
    "papermill": {
     "duration": 0.65942,
     "end_time": "2025-06-26T02:42:26.953379",
     "exception": false,
     "start_time": "2025-06-26T02:42:26.293959",
     "status": "completed"
    },
    "tags": []
   },
   "outputs": [
    {
     "name": "stderr",
     "output_type": "stream",
     "text": [
      "/usr/local/lib/python3.11/dist-packages/seaborn/_oldcore.py:1119: FutureWarning: use_inf_as_na option is deprecated and will be removed in a future version. Convert inf values to NaN before operating instead.\n",
      "  with pd.option_context('mode.use_inf_as_na', True):\n"
     ]
    },
    {
     "data": {
      "image/png": "[encoded data removed]",
      "text/plain": [
       "<Figure size 640x480 with 2 Axes>"
      ]
     },
     "metadata": {},
     "output_type": "display_data"
    }
   ],
   "source": [
    "# 이상치 제거 전\n",
    "sns.set(style='darkgrid')\n",
    "f,(ax_box,ax_hist)=plt.subplots(2,sharex=True,gridspec_kw={\"height_ratios\":(.15,.85)})\n",
    "sns.boxplot(data=data,x='t1',ax=ax_box)\n",
    "sns.histplot(data=data,x='t1',ax=ax_hist,kde=True)\n",
    "ax_box.set(xlabel='')\n",
    "plt.show()"
   ]
  },
  {
   "cell_type": "code",
   "execution_count": 19,
   "id": "baa95972",
   "metadata": {
    "execution": {
     "iopub.execute_input": "2025-06-26T02:42:26.966028Z",
     "iopub.status.busy": "2025-06-26T02:42:26.965722Z",
     "iopub.status.idle": "2025-06-26T02:42:27.441479Z",
     "shell.execute_reply": "2025-06-26T02:42:27.440420Z"
    },
    "papermill": {
     "duration": 0.483631,
     "end_time": "2025-06-26T02:42:27.442895",
     "exception": false,
     "start_time": "2025-06-26T02:42:26.959264",
     "status": "completed"
    },
    "tags": []
   },
   "outputs": [
    {
     "name": "stderr",
     "output_type": "stream",
     "text": [
      "/usr/local/lib/python3.11/dist-packages/seaborn/_oldcore.py:1119: FutureWarning: use_inf_as_na option is deprecated and will be removed in a future version. Convert inf values to NaN before operating instead.\n",
      "  with pd.option_context('mode.use_inf_as_na', True):\n"
     ]
    },
    {
     "data": {
      "image/png": "[encoded data removed]",
      "text/plain": [
       "<Figure size 640x480 with 2 Axes>"
      ]
     },
     "metadata": {},
     "output_type": "display_data"
    },
    {
     "name": "stdout",
     "output_type": "stream",
     "text": [
      "25%:8.0\n",
      "중앙값:12.5\n",
      "75%:16.0\n"
     ]
    }
   ],
   "source": [
    "# 이상치 제거 후 \n",
    "sns.set(style='darkgrid')\n",
    "f,(ax_box,ax_hist)=plt.subplots(2,sharex=True,gridspec_kw={\"height_ratios\":(.15,.85)})\n",
    "sns.boxplot(data=cleaned_data,x='t1',ax=ax_box)\n",
    "sns.histplot(data=cleaned_data,x='t1',ax=ax_hist,kde=True)\n",
    "ax_box.set(xlabel='')\n",
    "plt.show()\n",
    "q1=cleaned_data.t1.quantile(0.25)\n",
    "q3=cleaned_data.t1.quantile(0.75)\n",
    "median=cleaned_data.t1.median()\n",
    "print(f'25%:{q1}')\n",
    "print(f'중앙값:{median}')\n",
    "print(f'75%:{q3}')"
   ]
  },
  {
   "cell_type": "code",
   "execution_count": 20,
   "id": "62091f2c",
   "metadata": {
    "execution": {
     "iopub.execute_input": "2025-06-26T02:42:27.456755Z",
     "iopub.status.busy": "2025-06-26T02:42:27.456364Z",
     "iopub.status.idle": "2025-06-26T02:42:27.981429Z",
     "shell.execute_reply": "2025-06-26T02:42:27.980522Z"
    },
    "papermill": {
     "duration": 0.533436,
     "end_time": "2025-06-26T02:42:27.982857",
     "exception": false,
     "start_time": "2025-06-26T02:42:27.449421",
     "status": "completed"
    },
    "tags": []
   },
   "outputs": [
    {
     "data": {
      "image/png": "[encoded data removed]",
      "text/plain": [
       "<Figure size 640x480 with 1 Axes>"
      ]
     },
     "metadata": {},
     "output_type": "display_data"
    },
    {
     "data": {
      "image/png": "[encoded data removed]",
      "text/plain": [
       "<Figure size 640x480 with 1 Axes>"
      ]
     },
     "metadata": {},
     "output_type": "display_data"
    },
    {
     "data": {
      "image/png": "[encoded data removed]",
      "text/plain": [
       "<Figure size 640x480 with 1 Axes>"
      ]
     },
     "metadata": {},
     "output_type": "display_data"
    }
   ],
   "source": [
    "# 바차트\n",
    "# 년도별 사용량 확인\n",
    "sns.countplot(data=data,x='year')\n",
    "plt.show()\n",
    "# 월별 사용량 확인\n",
    "sns.countplot(data=data,x='month')\n",
    "plt.show()\n",
    "# 요일별 사용량 확인 \n",
    "sns.countplot(data=data,x='dayofweek')\n",
    "plt.show()"
   ]
  },
  {
   "cell_type": "code",
   "execution_count": 21,
   "id": "3a7412b5",
   "metadata": {
    "execution": {
     "iopub.execute_input": "2025-06-26T02:42:27.998387Z",
     "iopub.status.busy": "2025-06-26T02:42:27.998111Z",
     "iopub.status.idle": "2025-06-26T02:42:28.234793Z",
     "shell.execute_reply": "2025-06-26T02:42:28.234000Z"
    },
    "papermill": {
     "duration": 0.246287,
     "end_time": "2025-06-26T02:42:28.236566",
     "exception": false,
     "start_time": "2025-06-26T02:42:27.990279",
     "status": "completed"
    },
    "tags": []
   },
   "outputs": [
    {
     "data": {
      "image/png": "[encoded data removed]",
      "text/plain": [
       "<Figure size 640x480 with 1 Axes>"
      ]
     },
     "metadata": {},
     "output_type": "display_data"
    },
    {
     "data": {
      "image/png": "[encoded data removed]",
      "text/plain": [
       "<Figure size 640x480 with 1 Axes>"
      ]
     },
     "metadata": {},
     "output_type": "display_data"
    }
   ],
   "source": [
    "# pie chart\n",
    "# 날씨 타입에 따른 사용량 파이트트\n",
    "type_value_count=data['weather_code'].value_counts(normalize=True)*100\n",
    "plt.pie(type_value_count,labels=['Clear','scattered clouds','Broken clouds','Rain','Cloudy','snowfall','thunderstorm'],autopct='%1.2f%%')\n",
    "plt.title('Count on weather type')\n",
    "plt.show()\n",
    "\n",
    "# 주중/주말에 따른 파이차트\n",
    "type_value_count=data['is_weekend'].value_counts(normalize=True)*100\n",
    "plt.pie(type_value_count,labels=['Weekdays','Weekend'],autopct='%1.2f%%')\n",
    "plt.title('Count on Weekdays/Weekend')\n",
    "plt.show()"
   ]
  }
 ],
 "metadata": {
  "kaggle": {
   "accelerator": "none",
   "dataSources": [
    {
     "datasetId": 376751,
     "sourceId": 731448,
     "sourceType": "datasetVersion"
    }
   ],
   "dockerImageVersionId": 31040,
   "isGpuEnabled": false,
   "isInternetEnabled": true,
   "language": "python",
   "sourceType": "notebook"
  },
  "kernelspec": {
   "display_name": "Python 3",
   "language": "python",
   "name": "python3"
  },
  "language_info": {
   "codemirror_mode": {
    "name": "ipython",
    "version": 3
   },
   "file_extension": ".py",
   "mimetype": "text/x-python",
   "name": "python",
   "nbconvert_exporter": "python",
   "pygments_lexer": "ipython3",
   "version": "3.11.11"
  },
  "papermill": {
   "default_parameters": {},
   "duration": 11.630208,
   "end_time": "2025-06-26T02:42:28.865161",
   "environment_variables": {},
   "exception": null,
   "input_path": "__notebook__.ipynb",
   "output_path": "__notebook__.ipynb",
   "parameters": {},
   "start_time": "2025-06-26T02:42:17.234953",
   "version": "2.6.0"
  }
 },
 "nbformat": 4,
 "nbformat_minor": 5
}
