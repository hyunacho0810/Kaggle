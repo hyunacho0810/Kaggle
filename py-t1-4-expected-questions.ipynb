{
 "cells": [
  {
   "cell_type": "markdown",
   "id": "6a0ae99d",
   "metadata": {
    "papermill": {
     "duration": 0.012932,
     "end_time": "2025-06-15T05:33:43.755965",
     "exception": false,
     "start_time": "2025-06-15T05:33:43.743033",
     "status": "completed"
    },
    "tags": []
   },
   "source": [
    "## 왜도와 첨도 구하기\n",
    "-  주어진 데이터 중 train.csv에서 'SalePrice'컬럼의 왜도와 첨도를 구한 값과, 'SalePrice'컬럼을 스케일링(log1p)로 변환한 이후 왜도와 첨도를 구해 모두 더한 다음 소수점 2째자리까지 출력하시오\n",
    "- 데이터셋 : House Prices - Advanced Regression Technique (https://www.kaggle.com/c/house-prices-advanced-regression-techniques)\n",
    "- 오른쪽 상단 copy&edit 클릭 -> 예상문제 풀이 시작\n",
    "- 강의 영상 : https://youtu.be/_ft7ZlDlk7c"
   ]
  },
  {
   "attachments": {
    "502821f9-762a-4f63-bd70-944b6e6a213c.png": {
     "image/png": "[encoded data removed]"
    }
   },
   "cell_type": "markdown",
   "id": "a5aba80f",
   "metadata": {
    "papermill": {
     "duration": 0.012038,
     "end_time": "2025-06-15T05:33:43.780767",
     "exception": false,
     "start_time": "2025-06-15T05:33:43.768729",
     "status": "completed"
    },
    "tags": []
   },
   "source": [
    "### 왜도\n",
    "비대칭도(非對稱度, skewness) 또는 왜도(歪度)는 **실수 값 확률 변수의 확률 분포 비대칭성을 나타내는 지표**이다. 왜도의 값은 양수나 음수가 될 수 있으며 정의되지 않을 수도 있다. 왜도가 음수일 경우에는 확률밀도함수의 왼쪽 부분에 긴 꼬리를 가지며 중앙값을 포함한 자료가 오른쪽에 더 많이 분포해 있다. 왜도가 양수일 때는 확률밀도함수의 오른쪽 부분에 긴 꼬리를 가지며 자료가 왼쪽에 더 많이 분포해 있다는 것을 나타낸다. 평균과 중앙값이 같으면 왜도는 0이 된다.\n",
    "\n",
    "![SkewedDistribution.png](attachment:502821f9-762a-4f63-bd70-944b6e6a213c.png)\n",
    "\n",
    "**위키백과 https://ko.wikipedia.org/wiki/%EB%B9%84%EB%8C%80%EC%B9%AD%EB%8F%84"
   ]
  },
  {
   "cell_type": "markdown",
   "id": "aaf80a17",
   "metadata": {
    "papermill": {
     "duration": 0.011693,
     "end_time": "2025-06-15T05:33:43.805425",
     "exception": false,
     "start_time": "2025-06-15T05:33:43.793732",
     "status": "completed"
    },
    "tags": []
   },
   "source": [
    "### 첨도\n",
    "**확률분포의 꼬리가 두꺼운 정도**를 나타내는 척도이다. 극단적인 편차 또는 이상치가 많을 수록 큰 값을 나타낸다. 첨도값(K)이 3에 가까우면 산포도가 정규분포에 가깝다. 3보다 작을 경우에는(K<3) 산포는 정규분포보다 꼬리가 얇은 분포로 생각할 수 있다, 첨도값이 3보다 큰 양수이면(K>3) 정규분포보다 꼬리가 두꺼운 분포로 판단할 수 있다."
   ]
  },
  {
   "cell_type": "code",
   "execution_count": 1,
   "id": "ac855cbf",
   "metadata": {
    "execution": {
     "iopub.execute_input": "2025-06-15T05:33:43.841238Z",
     "iopub.status.busy": "2025-06-15T05:33:43.840157Z",
     "iopub.status.idle": "2025-06-15T05:33:43.903646Z",
     "shell.execute_reply": "2025-06-15T05:33:43.904304Z",
     "shell.execute_reply.started": "2025-06-15T03:22:01.772513Z"
    },
    "papermill": {
     "duration": 0.087462,
     "end_time": "2025-06-15T05:33:43.904610",
     "exception": false,
     "start_time": "2025-06-15T05:33:43.817148",
     "status": "completed"
    },
    "tags": []
   },
   "outputs": [
    {
     "name": "stdout",
     "output_type": "stream",
     "text": [
      "   Id  MSSubClass MSZoning  LotFrontage  LotArea Street Alley LotShape  \\\n",
      "0   1          60       RL         65.0     8450   Pave   NaN      Reg   \n",
      "1   2          20       RL         80.0     9600   Pave   NaN      Reg   \n",
      "2   3          60       RL         68.0    11250   Pave   NaN      IR1   \n",
      "3   4          70       RL         60.0     9550   Pave   NaN      IR1   \n",
      "4   5          60       RL         84.0    14260   Pave   NaN      IR1   \n",
      "5   6          50       RL         85.0    14115   Pave   NaN      IR1   \n",
      "6   7          20       RL         75.0    10084   Pave   NaN      Reg   \n",
      "7   8          60       RL          NaN    10382   Pave   NaN      IR1   \n",
      "8   9          50       RM         51.0     6120   Pave   NaN      Reg   \n",
      "9  10         190       RL         50.0     7420   Pave   NaN      Reg   \n",
      "\n",
      "  LandContour Utilities  ... PoolArea PoolQC  Fence MiscFeature MiscVal  \\\n",
      "0         Lvl    AllPub  ...        0    NaN    NaN         NaN       0   \n",
      "1         Lvl    AllPub  ...        0    NaN    NaN         NaN       0   \n",
      "2         Lvl    AllPub  ...        0    NaN    NaN         NaN       0   \n",
      "3         Lvl    AllPub  ...        0    NaN    NaN         NaN       0   \n",
      "4         Lvl    AllPub  ...        0    NaN    NaN         NaN       0   \n",
      "5         Lvl    AllPub  ...        0    NaN  MnPrv        Shed     700   \n",
      "6         Lvl    AllPub  ...        0    NaN    NaN         NaN       0   \n",
      "7         Lvl    AllPub  ...        0    NaN    NaN        Shed     350   \n",
      "8         Lvl    AllPub  ...        0    NaN    NaN         NaN       0   \n",
      "9         Lvl    AllPub  ...        0    NaN    NaN         NaN       0   \n",
      "\n",
      "  MoSold YrSold  SaleType  SaleCondition  SalePrice  \n",
      "0      2   2008        WD         Normal     208500  \n",
      "1      5   2007        WD         Normal     181500  \n",
      "2      9   2008        WD         Normal     223500  \n",
      "3      2   2006        WD        Abnorml     140000  \n",
      "4     12   2008        WD         Normal     250000  \n",
      "5     10   2009        WD         Normal     143000  \n",
      "6      8   2007        WD         Normal     307000  \n",
      "7     11   2009        WD         Normal     200000  \n",
      "8      4   2008        WD        Abnorml     129900  \n",
      "9      1   2008        WD         Normal     118000  \n",
      "\n",
      "[10 rows x 81 columns]\n"
     ]
    }
   ],
   "source": [
    "# 라이브러리 및 데이터 불러오기\n",
    "import pandas as pd\n",
    "df=pd.read_csv('/kaggle/input/house-prices-advanced-regression-techniques/train.csv')\n",
    "print(df.head(10))"
   ]
  },
  {
   "cell_type": "code",
   "execution_count": 2,
   "id": "32ebf097",
   "metadata": {
    "execution": {
     "iopub.execute_input": "2025-06-15T05:33:43.936206Z",
     "iopub.status.busy": "2025-06-15T05:33:43.935385Z",
     "iopub.status.idle": "2025-06-15T05:33:44.849857Z",
     "shell.execute_reply": "2025-06-15T05:33:44.849235Z",
     "shell.execute_reply.started": "2025-06-15T03:22:16.205073Z"
    },
    "papermill": {
     "duration": 0.93272,
     "end_time": "2025-06-15T05:33:44.850008",
     "exception": false,
     "start_time": "2025-06-15T05:33:43.917288",
     "status": "completed"
    },
    "tags": []
   },
   "outputs": [
    {
     "name": "stdout",
     "output_type": "stream",
     "text": [
      "SalePrice 컬럼의 왜도(Skewness): 1.8828757597682129\n",
      "SalePrice 컬럼의 첨도(Kurtosis): 6.536281860064529\n"
     ]
    }
   ],
   "source": [
    "# 'SalePrice'컬럼 왜도와 첨도계산 \n",
    "from scipy import stats\n",
    "skewness1=df['SalePrice'].skew()\n",
    "kurtosis1=df['SalePrice'].kurtosis()\n",
    "\n",
    "print(f\"SalePrice 컬럼의 왜도(Skewness): {skewness1}\")\n",
    "print(f\"SalePrice 컬럼의 첨도(Kurtosis): {kurtosis1}\")"
   ]
  },
  {
   "cell_type": "code",
   "execution_count": 3,
   "id": "2655751a",
   "metadata": {
    "execution": {
     "iopub.execute_input": "2025-06-15T05:33:44.887766Z",
     "iopub.status.busy": "2025-06-15T05:33:44.886991Z",
     "iopub.status.idle": "2025-06-15T05:33:44.901592Z",
     "shell.execute_reply": "2025-06-15T05:33:44.901001Z",
     "shell.execute_reply.started": "2025-06-15T03:22:27.880003Z"
    },
    "papermill": {
     "duration": 0.037673,
     "end_time": "2025-06-15T05:33:44.901774",
     "exception": false,
     "start_time": "2025-06-15T05:33:44.864101",
     "status": "completed"
    },
    "tags": []
   },
   "outputs": [
    {
     "name": "stdout",
     "output_type": "stream",
     "text": [
      "변환 전 SalePrice:\n",
      "count      1460.000000\n",
      "mean     180921.195890\n",
      "std       79442.502883\n",
      "min       34900.000000\n",
      "25%      129975.000000\n",
      "50%      163000.000000\n",
      "75%      214000.000000\n",
      "max      755000.000000\n",
      "Name: SalePrice, dtype: float64\n",
      "\n",
      "변환 후 SalePrice:\n",
      "count    1460.000000\n",
      "mean       12.024057\n",
      "std         0.399449\n",
      "min        10.460271\n",
      "25%        11.775105\n",
      "50%        12.001512\n",
      "75%        12.273736\n",
      "max        13.534474\n",
      "Name: SalePrice, dtype: float64\n"
     ]
    }
   ],
   "source": [
    "# 'SalePrice'컬럼 로그변환\n",
    "import numpy as np\n",
    "print(\"변환 전 SalePrice:\")\n",
    "print(df['SalePrice'].describe())\n",
    "\n",
    "# 로그 변환\n",
    "df['SalePrice']=np.log1p(df['SalePrice'])\n",
    "print(\"\\n변환 후 SalePrice:\")\n",
    "print(df['SalePrice'].describe())"
   ]
  },
  {
   "cell_type": "code",
   "execution_count": 4,
   "id": "b1582223",
   "metadata": {
    "execution": {
     "iopub.execute_input": "2025-06-15T05:33:44.936692Z",
     "iopub.status.busy": "2025-06-15T05:33:44.935936Z",
     "iopub.status.idle": "2025-06-15T05:33:44.939923Z",
     "shell.execute_reply": "2025-06-15T05:33:44.939340Z",
     "shell.execute_reply.started": "2025-06-15T03:22:36.185090Z"
    },
    "papermill": {
     "duration": 0.024891,
     "end_time": "2025-06-15T05:33:44.940090",
     "exception": false,
     "start_time": "2025-06-15T05:33:44.915199",
     "status": "completed"
    },
    "tags": []
   },
   "outputs": [
    {
     "name": "stdout",
     "output_type": "stream",
     "text": [
      "SalePrice 컬럼의 왜도(Skewness): 0.12134661989685333\n",
      "SalePrice 컬럼의 첨도(Kurtosis): 0.809519155707878\n"
     ]
    }
   ],
   "source": [
    "# 'SalePrice'컬럼 왜도와 첨도계산 \n",
    "skewness2=df['SalePrice'].skew()\n",
    "kurtosis2=df['SalePrice'].kurtosis()\n",
    "\n",
    "print(f\"SalePrice 컬럼의 왜도(Skewness): {skewness2}\")\n",
    "print(f\"SalePrice 컬럼의 첨도(Kurtosis): {kurtosis2}\")"
   ]
  },
  {
   "cell_type": "code",
   "execution_count": 5,
   "id": "19c7f7de",
   "metadata": {
    "execution": {
     "iopub.execute_input": "2025-06-15T05:33:44.977154Z",
     "iopub.status.busy": "2025-06-15T05:33:44.976255Z",
     "iopub.status.idle": "2025-06-15T05:33:44.979724Z",
     "shell.execute_reply": "2025-06-15T05:33:44.980218Z",
     "shell.execute_reply.started": "2025-06-15T03:22:39.745380Z"
    },
    "papermill": {
     "duration": 0.026807,
     "end_time": "2025-06-15T05:33:44.980390",
     "exception": false,
     "start_time": "2025-06-15T05:33:44.953583",
     "status": "completed"
    },
    "tags": []
   },
   "outputs": [
    {
     "name": "stdout",
     "output_type": "stream",
     "text": [
      "9.35\n"
     ]
    }
   ],
   "source": [
    "# 모두 더한 다음 출력\n",
    "result=skewness1+kurtosis1+skewness2+kurtosis2\n",
    "# 소수 2번째 자리까지 출력\n",
    "print(f\"{result:.2f}\")"
   ]
  },
  {
   "cell_type": "markdown",
   "id": "a35ff67c",
   "metadata": {
    "papermill": {
     "duration": 0.013187,
     "end_time": "2025-06-15T05:33:45.008455",
     "exception": false,
     "start_time": "2025-06-15T05:33:44.995268",
     "status": "completed"
    },
    "tags": []
   },
   "source": [
    "## Hint\n",
    "- DataFrame.skew() 왜도\n",
    "- DataFrame.kurt() 첨도"
   ]
  },
  {
   "cell_type": "markdown",
   "id": "d18077db",
   "metadata": {
    "papermill": {
     "duration": 0.014216,
     "end_time": "2025-06-15T05:33:45.037859",
     "exception": false,
     "start_time": "2025-06-15T05:33:45.023643",
     "status": "completed"
    },
    "tags": []
   },
   "source": [
    "## 풀이"
   ]
  },
  {
   "cell_type": "code",
   "execution_count": 6,
   "id": "642f6783",
   "metadata": {
    "_cell_guid": "b1076dfc-b9ad-4769-8c92-a6c4dae69d19",
    "_uuid": "8f2839f25d086af736a60e9eeb907d3b93b6e0e5",
    "execution": {
     "iopub.execute_input": "2025-06-15T05:33:45.071417Z",
     "iopub.status.busy": "2025-06-15T05:33:45.070262Z",
     "iopub.status.idle": "2025-06-15T05:33:45.072525Z",
     "shell.execute_reply": "2025-06-15T05:33:45.073172Z",
     "shell.execute_reply.started": "2025-06-15T03:22:48.880763Z"
    },
    "papermill": {
     "duration": 0.021511,
     "end_time": "2025-06-15T05:33:45.073354",
     "exception": false,
     "start_time": "2025-06-15T05:33:45.051843",
     "status": "completed"
    },
    "tags": []
   },
   "outputs": [],
   "source": [
    "# 라이브러리 불러오기\n",
    "import pandas as pd\n",
    "import numpy as np"
   ]
  },
  {
   "cell_type": "code",
   "execution_count": 7,
   "id": "3a848cba",
   "metadata": {
    "execution": {
     "iopub.execute_input": "2025-06-15T05:33:45.108134Z",
     "iopub.status.busy": "2025-06-15T05:33:45.106966Z",
     "iopub.status.idle": "2025-06-15T05:33:45.140983Z",
     "shell.execute_reply": "2025-06-15T05:33:45.140429Z",
     "shell.execute_reply.started": "2025-06-15T03:22:50.866763Z"
    },
    "papermill": {
     "duration": 0.053134,
     "end_time": "2025-06-15T05:33:45.141143",
     "exception": false,
     "start_time": "2025-06-15T05:33:45.088009",
     "status": "completed"
    },
    "tags": []
   },
   "outputs": [
    {
     "data": {
      "text/plain": [
       "0    208500\n",
       "1    181500\n",
       "2    223500\n",
       "3    140000\n",
       "4    250000\n",
       "Name: SalePrice, dtype: int64"
      ]
     },
     "execution_count": 7,
     "metadata": {},
     "output_type": "execute_result"
    }
   ],
   "source": [
    "# 데이터 불러오기\n",
    "df = pd.read_csv(\"../input/house-prices-advanced-regression-techniques/train.csv\")\n",
    "df['SalePrice'].head()"
   ]
  },
  {
   "cell_type": "code",
   "execution_count": 8,
   "id": "e9d801fa",
   "metadata": {
    "execution": {
     "iopub.execute_input": "2025-06-15T05:33:45.173973Z",
     "iopub.status.busy": "2025-06-15T05:33:45.173213Z",
     "iopub.status.idle": "2025-06-15T05:33:45.476963Z",
     "shell.execute_reply": "2025-06-15T05:33:45.475728Z",
     "shell.execute_reply.started": "2025-06-15T03:22:52.857660Z"
    },
    "papermill": {
     "duration": 0.322143,
     "end_time": "2025-06-15T05:33:45.477204",
     "exception": false,
     "start_time": "2025-06-15T05:33:45.155061",
     "status": "completed"
    },
    "tags": []
   },
   "outputs": [
    {
     "data": {
      "text/plain": [
       "<AxesSubplot:>"
      ]
     },
     "execution_count": 8,
     "metadata": {},
     "output_type": "execute_result"
    },
    {
     "data": {
      "image/png": "[encoded data removed]",
      "text/plain": [
       "<Figure size 432x288 with 1 Axes>"
      ]
     },
     "metadata": {
      "needs_background": "light"
     },
     "output_type": "display_data"
    }
   ],
   "source": [
    "# EDA (시험에서는 시각화 불가)\n",
    "df['SalePrice'].hist()"
   ]
  },
  {
   "cell_type": "code",
   "execution_count": 9,
   "id": "25c37155",
   "metadata": {
    "execution": {
     "iopub.execute_input": "2025-06-15T05:33:45.515736Z",
     "iopub.status.busy": "2025-06-15T05:33:45.514824Z",
     "iopub.status.idle": "2025-06-15T05:33:45.518573Z",
     "shell.execute_reply": "2025-06-15T05:33:45.518093Z",
     "shell.execute_reply.started": "2025-06-15T03:22:55.629245Z"
    },
    "papermill": {
     "duration": 0.026148,
     "end_time": "2025-06-15T05:33:45.518761",
     "exception": false,
     "start_time": "2025-06-15T05:33:45.492613",
     "status": "completed"
    },
    "tags": []
   },
   "outputs": [
    {
     "name": "stdout",
     "output_type": "stream",
     "text": [
      "왜도: 1.8828757597682129\n",
      "첨도: 6.536281860064529\n"
     ]
    }
   ],
   "source": [
    "# 'SalePrice'컬럼 왜도와 첨도계산\n",
    "s1 = df['SalePrice'].skew()\n",
    "k1 = df['SalePrice'].kurt()\n",
    "print(\"왜도:\" ,s1)\n",
    "print(\"첨도:\" ,k1)"
   ]
  },
  {
   "cell_type": "code",
   "execution_count": 10,
   "id": "7e770f94",
   "metadata": {
    "execution": {
     "iopub.execute_input": "2025-06-15T05:33:45.557442Z",
     "iopub.status.busy": "2025-06-15T05:33:45.556430Z",
     "iopub.status.idle": "2025-06-15T05:33:45.561225Z",
     "shell.execute_reply": "2025-06-15T05:33:45.560443Z",
     "shell.execute_reply.started": "2025-06-15T03:22:57.952055Z"
    },
    "papermill": {
     "duration": 0.027666,
     "end_time": "2025-06-15T05:33:45.561388",
     "exception": false,
     "start_time": "2025-06-15T05:33:45.533722",
     "status": "completed"
    },
    "tags": []
   },
   "outputs": [],
   "source": [
    "# 'SalePrice'컬럼 로그변환\n",
    "df['SalePrice'] = np.log1p(df['SalePrice'])"
   ]
  },
  {
   "cell_type": "code",
   "execution_count": 11,
   "id": "f699b43e",
   "metadata": {
    "execution": {
     "iopub.execute_input": "2025-06-15T05:33:45.618540Z",
     "iopub.status.busy": "2025-06-15T05:33:45.617534Z",
     "iopub.status.idle": "2025-06-15T05:33:45.839871Z",
     "shell.execute_reply": "2025-06-15T05:33:45.839161Z",
     "shell.execute_reply.started": "2025-06-15T03:23:00.193157Z"
    },
    "papermill": {
     "duration": 0.262352,
     "end_time": "2025-06-15T05:33:45.840017",
     "exception": false,
     "start_time": "2025-06-15T05:33:45.577665",
     "status": "completed"
    },
    "tags": []
   },
   "outputs": [
    {
     "data": {
      "text/plain": [
       "<AxesSubplot:>"
      ]
     },
     "execution_count": 11,
     "metadata": {},
     "output_type": "execute_result"
    },
    {
     "data": {
      "image/png": "[encoded data removed]",
      "text/plain": [
       "<Figure size 432x288 with 1 Axes>"
      ]
     },
     "metadata": {
      "needs_background": "light"
     },
     "output_type": "display_data"
    }
   ],
   "source": [
    "# EDA (시험에서는 시각화 불가)\n",
    "df['SalePrice'].hist()"
   ]
  },
  {
   "cell_type": "code",
   "execution_count": 12,
   "id": "3920b671",
   "metadata": {
    "execution": {
     "iopub.execute_input": "2025-06-15T05:33:45.879892Z",
     "iopub.status.busy": "2025-06-15T05:33:45.877898Z",
     "iopub.status.idle": "2025-06-15T05:33:45.883733Z",
     "shell.execute_reply": "2025-06-15T05:33:45.883164Z",
     "shell.execute_reply.started": "2025-06-15T03:23:02.497266Z"
    },
    "papermill": {
     "duration": 0.027644,
     "end_time": "2025-06-15T05:33:45.883881",
     "exception": false,
     "start_time": "2025-06-15T05:33:45.856237",
     "status": "completed"
    },
    "tags": []
   },
   "outputs": [
    {
     "name": "stdout",
     "output_type": "stream",
     "text": [
      "왜도: 0.12134661989685333\n",
      "첨도: 0.809519155707878\n"
     ]
    }
   ],
   "source": [
    "# 'SalePrice'컬럼 왜도와 첨도계산\n",
    "s2 = df['SalePrice'].skew()\n",
    "k2 = df['SalePrice'].kurt()\n",
    "print(\"왜도:\" ,s2)\n",
    "print(\"첨도:\" ,k2)"
   ]
  },
  {
   "cell_type": "code",
   "execution_count": 13,
   "id": "b7b715d0",
   "metadata": {
    "execution": {
     "iopub.execute_input": "2025-06-15T05:33:45.922037Z",
     "iopub.status.busy": "2025-06-15T05:33:45.920894Z",
     "iopub.status.idle": "2025-06-15T05:33:45.924196Z",
     "shell.execute_reply": "2025-06-15T05:33:45.924682Z",
     "shell.execute_reply.started": "2025-06-15T03:23:04.794465Z"
    },
    "papermill": {
     "duration": 0.025131,
     "end_time": "2025-06-15T05:33:45.924853",
     "exception": false,
     "start_time": "2025-06-15T05:33:45.899722",
     "status": "completed"
    },
    "tags": []
   },
   "outputs": [
    {
     "name": "stdout",
     "output_type": "stream",
     "text": [
      "9.35\n"
     ]
    }
   ],
   "source": [
    "# 모두 더한 다음 출력\n",
    "print(round(s1+s2+k1+k2,2))"
   ]
  },
  {
   "cell_type": "code",
   "execution_count": null,
   "id": "459ca956",
   "metadata": {
    "papermill": {
     "duration": 0.018026,
     "end_time": "2025-06-15T05:33:45.959132",
     "exception": false,
     "start_time": "2025-06-15T05:33:45.941106",
     "status": "completed"
    },
    "tags": []
   },
   "outputs": [],
   "source": []
  }
 ],
 "metadata": {
  "kaggle": {
   "accelerator": "none",
   "dataSources": [
    {
     "databundleVersionId": 868283,
     "sourceId": 5407,
     "sourceType": "competition"
    },
    {
     "datasetId": 1633303,
     "sourceId": 12111603,
     "sourceType": "datasetVersion"
    }
   ],
   "dockerImageVersionId": 30129,
   "isGpuEnabled": false,
   "isInternetEnabled": true,
   "language": "python",
   "sourceType": "notebook"
  },
  "kernelspec": {
   "display_name": "Python 3",
   "language": "python",
   "name": "python3"
  },
  "language_info": {
   "codemirror_mode": {
    "name": "ipython",
    "version": 3
   },
   "file_extension": ".py",
   "mimetype": "text/x-python",
   "name": "python",
   "nbconvert_exporter": "python",
   "pygments_lexer": "ipython3",
   "version": "3.7.10"
  },
  "papermill": {
   "default_parameters": {},
   "duration": 13.020516,
   "end_time": "2025-06-15T05:33:47.376113",
   "environment_variables": {},
   "exception": null,
   "input_path": "__notebook__.ipynb",
   "output_path": "__notebook__.ipynb",
   "parameters": {},
   "start_time": "2025-06-15T05:33:34.355597",
   "version": "2.3.3"
  }
 },
 "nbformat": 4,
 "nbformat_minor": 5
}
