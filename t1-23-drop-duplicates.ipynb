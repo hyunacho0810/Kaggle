{
 "cells": [
  {
   "cell_type": "markdown",
   "id": "2889eb6a",
   "metadata": {
    "papermill": {
     "duration": 0.006823,
     "end_time": "2025-06-16T04:09:44.771028",
     "exception": false,
     "start_time": "2025-06-16T04:09:44.764205",
     "status": "completed"
    },
    "tags": []
   },
   "source": [
    "## f1의 결측치를 채운 후 age 컬럼의 중복 제거 전과 후의 'f1' 중앙값 차이를 구하시오 \n",
    "### - 결측치는 'f1' 데이터에서 큰 값 순으로 정렬했을 때 10번째에 위치한 값으로 채운다.\n",
    "### - 중복 데이터 발생시 뒤에 나오는 데이터를 삭제함\n",
    "### - 최종 결과값은 절대값으로 출력\n",
    "(중복 제거 기준: 제공된 데이터 순서대로 중복 데이터 발생시 뒤에 나오는 데이터를 삭제함)\n",
    "\n",
    "\n",
    "- 데이터셋 : basic1.csv\n",
    "- 오른쪽 상단 copy&edit 클릭 -> 예상문제 풀이 시작"
   ]
  },
  {
   "cell_type": "code",
   "execution_count": 1,
   "id": "bc8e52bc",
   "metadata": {
    "_cell_guid": "b1076dfc-b9ad-4769-8c92-a6c4dae69d19",
    "_uuid": "8f2839f25d086af736a60e9eeb907d3b93b6e0e5",
    "execution": {
     "iopub.execute_input": "2025-06-16T04:09:44.792935Z",
     "iopub.status.busy": "2025-06-16T04:09:44.790571Z",
     "iopub.status.idle": "2025-06-16T04:09:44.839397Z",
     "shell.execute_reply": "2025-06-16T04:09:44.838623Z",
     "shell.execute_reply.started": "2025-06-15T08:33:00.407787Z"
    },
    "papermill": {
     "duration": 0.062731,
     "end_time": "2025-06-16T04:09:44.839613",
     "exception": false,
     "start_time": "2025-06-16T04:09:44.776882",
     "status": "completed"
    },
    "tags": []
   },
   "outputs": [
    {
     "name": "stdout",
     "output_type": "stream",
     "text": [
      "     id   age city     f1  f2   f3    f4         f5\n",
      "0  id01   2.0   서울    NaN   0  NaN  ENFJ  91.297791\n",
      "1  id02   9.0   서울   70.0   1  NaN  ENFJ  60.339826\n",
      "2  id03  27.0   서울   61.0   1  NaN  ISTJ  17.252986\n",
      "3  id04  75.0   서울    NaN   2  NaN  INFP  52.667078\n",
      "4  id05  24.0   서울   85.0   2  NaN  ISFJ  29.269869\n",
      "5  id06  22.0   서울   57.0   0  vip  INTP  20.129444\n",
      "6  id07  36.3   서울   60.0   1  NaN  ISFJ   9.796378\n",
      "7  id08  38.0   서울  101.0   1  NaN  INFJ  83.685380\n",
      "8  id09   3.3   서울   35.0   2  NaN  ESFJ  17.252986\n",
      "9  id10  95.0   서울   74.0   1  NaN  ISFP  98.429899\n",
      "-----------------\n",
      "<class 'pandas.core.frame.DataFrame'>\n",
      "RangeIndex: 100 entries, 0 to 99\n",
      "Data columns (total 8 columns):\n",
      " #   Column  Non-Null Count  Dtype  \n",
      "---  ------  --------------  -----  \n",
      " 0   id      100 non-null    object \n",
      " 1   age     100 non-null    float64\n",
      " 2   city    100 non-null    object \n",
      " 3   f1      69 non-null     float64\n",
      " 4   f2      100 non-null    int64  \n",
      " 5   f3      5 non-null      object \n",
      " 6   f4      100 non-null    object \n",
      " 7   f5      100 non-null    float64\n",
      "dtypes: float64(3), int64(1), object(4)\n",
      "memory usage: 6.4+ KB\n",
      "None\n"
     ]
    }
   ],
   "source": [
    "# 데이터 불러오기 \n",
    "import pandas as pd\n",
    "df = pd.read_csv('../input/bigdatacertificationkr/basic1.csv')\n",
    "print(df.head(10))\n",
    "print('-----------------')\n",
    "print(df.info())"
   ]
  },
  {
   "cell_type": "code",
   "execution_count": 2,
   "id": "cd8da774",
   "metadata": {
    "execution": {
     "iopub.execute_input": "2025-06-16T04:09:44.874366Z",
     "iopub.status.busy": "2025-06-16T04:09:44.873617Z",
     "iopub.status.idle": "2025-06-16T04:09:44.876386Z",
     "shell.execute_reply": "2025-06-16T04:09:44.876938Z",
     "shell.execute_reply.started": "2025-06-15T08:33:07.684038Z"
    },
    "papermill": {
     "duration": 0.030975,
     "end_time": "2025-06-16T04:09:44.877105",
     "exception": false,
     "start_time": "2025-06-16T04:09:44.846130",
     "status": "completed"
    },
    "tags": []
   },
   "outputs": [
    {
     "name": "stdout",
     "output_type": "stream",
     "text": [
      "     id   age city     f1  f2   f3    f4         f5\n",
      "0  id57   3.0   대구  111.0   0  NaN  ISFJ  29.269869\n",
      "1  id08  38.0   서울  101.0   1  NaN  INFJ  83.685380\n",
      "2  id58   0.0   대구  100.0   2  NaN  ESTP  33.308999\n",
      "3  id74  45.0   경기   98.0   0  NaN  ESTP  52.667078\n",
      "4  id72   8.0   경기   97.0   0  NaN  ESTJ  97.381034\n",
      "5  id70  -9.0   경기   96.0   1  NaN  ISTP  48.431184\n",
      "6  id78  92.0   경기   96.0   1  NaN  INTJ  69.730313\n",
      "7  id33  47.0   부산   94.0   0  NaN  ENFJ  17.252986\n",
      "8  id49  75.0   대구   88.0   0  NaN  INTP  37.113739\n",
      "9  id45  97.0   대구   88.0   0  NaN  ENFJ  13.049921\n",
      "88.0\n",
      "      id   age city     f1  f2   f3    f4         f5\n",
      "0   id01   2.0   서울   88.0   0  NaN  ENFJ  91.297791\n",
      "1   id02   9.0   서울   70.0   1  NaN  ENFJ  60.339826\n",
      "2   id03  27.0   서울   61.0   1  NaN  ISTJ  17.252986\n",
      "3   id04  75.0   서울   88.0   2  NaN  INFP  52.667078\n",
      "4   id05  24.0   서울   85.0   2  NaN  ISFJ  29.269869\n",
      "5   id06  22.0   서울   57.0   0  vip  INTP  20.129444\n",
      "6   id07  36.3   서울   60.0   1  NaN  ISFJ   9.796378\n",
      "7   id08  38.0   서울  101.0   1  NaN  INFJ  83.685380\n",
      "8   id09   3.3   서울   35.0   2  NaN  ESFJ  17.252986\n",
      "9   id10  95.0   서울   74.0   1  NaN  ISFP  98.429899\n",
      "10  id11  40.0   서울   68.0   0  NaN  ENFP  98.429899\n",
      "11  id12  20.0   서울   88.0   0  NaN  ESTP  91.297791\n",
      "12  id13  15.0   서울   68.0   0  NaN  ESFJ  83.685380\n",
      "13  id14  77.0   서울   50.0   1  NaN  ENTJ  67.886373\n",
      "14  id15  22.0   서울   67.0   1  NaN  ENTP   9.796378\n",
      "15  id16  68.0   서울   85.0   0  NaN  ESFP  16.283854\n",
      "16  id17  74.0   서울   88.0   1  NaN  ISTP  67.886373\n",
      "17  id18  41.0   서울   87.0   2  NaN  ISFJ  80.138280\n",
      "18  id19  53.0   서울   88.0   0  NaN  ISFP  83.685380\n",
      "19  id20  11.0   서울   51.0   1  NaN  INTJ  91.297791\n"
     ]
    }
   ],
   "source": [
    "# f1의 결측치를 채우자\n",
    "df2=df.sort_values(['f1'],ascending=False)\n",
    "\n",
    "# 인덱스는 새로 만들자\n",
    "df2=df2.reset_index(drop=True)\n",
    "print(df2.head(10))\n",
    "\n",
    "fill_value=df2.iloc[9]['f1']\n",
    "print(fill_value)\n",
    "\n",
    "df['f1']=df['f1'].fillna(fill_value)\n",
    "print(df.head(20))"
   ]
  },
  {
   "cell_type": "code",
   "execution_count": 3,
   "id": "896bda55",
   "metadata": {
    "execution": {
     "iopub.execute_input": "2025-06-16T04:09:44.895284Z",
     "iopub.status.busy": "2025-06-16T04:09:44.894430Z",
     "iopub.status.idle": "2025-06-16T04:09:44.898279Z",
     "shell.execute_reply": "2025-06-16T04:09:44.897778Z",
     "shell.execute_reply.started": "2025-06-15T08:33:18.260873Z"
    },
    "papermill": {
     "duration": 0.015057,
     "end_time": "2025-06-16T04:09:44.898411",
     "exception": false,
     "start_time": "2025-06-16T04:09:44.883354",
     "status": "completed"
    },
    "tags": []
   },
   "outputs": [
    {
     "name": "stdout",
     "output_type": "stream",
     "text": [
      "77.5\n"
     ]
    }
   ],
   "source": [
    "# age 컬럼의 중복을 제거하기 전, f1 중앙값\n",
    "before=df['f1'].median()\n",
    "print(before)"
   ]
  },
  {
   "cell_type": "code",
   "execution_count": 4,
   "id": "c05d2821",
   "metadata": {
    "execution": {
     "iopub.execute_input": "2025-06-16T04:09:44.935050Z",
     "iopub.status.busy": "2025-06-16T04:09:44.929434Z",
     "iopub.status.idle": "2025-06-16T04:09:44.950006Z",
     "shell.execute_reply": "2025-06-16T04:09:44.950490Z",
     "shell.execute_reply.started": "2025-06-15T08:35:48.338824Z"
    },
    "papermill": {
     "duration": 0.043437,
     "end_time": "2025-06-16T04:09:44.950687",
     "exception": false,
     "start_time": "2025-06-16T04:09:44.907250",
     "status": "completed"
    },
    "tags": []
   },
   "outputs": [
    {
     "name": "stdout",
     "output_type": "stream",
     "text": [
      "      id   age city     f1  f2   f3    f4         f5\n",
      "0   id01   2.0   서울   88.0   0  NaN  ENFJ  91.297791\n",
      "1   id02   9.0   서울   70.0   1  NaN  ENFJ  60.339826\n",
      "2   id03  27.0   서울   61.0   1  NaN  ISTJ  17.252986\n",
      "3   id04  75.0   서울   88.0   2  NaN  INFP  52.667078\n",
      "4   id05  24.0   서울   85.0   2  NaN  ISFJ  29.269869\n",
      "5   id06  22.0   서울   57.0   0  vip  INTP  20.129444\n",
      "6   id07  36.3   서울   60.0   1  NaN  ISFJ   9.796378\n",
      "7   id08  38.0   서울  101.0   1  NaN  INFJ  83.685380\n",
      "8   id09   3.3   서울   35.0   2  NaN  ESFJ  17.252986\n",
      "9   id10  95.0   서울   74.0   1  NaN  ISFP  98.429899\n",
      "10  id11  40.0   서울   68.0   0  NaN  ENFP  98.429899\n",
      "11  id12  20.0   서울   88.0   0  NaN  ESTP  91.297791\n",
      "12  id13  15.0   서울   68.0   0  NaN  ESFJ  83.685380\n",
      "13  id14  77.0   서울   50.0   1  NaN  ENTJ  67.886373\n",
      "15  id16  68.0   서울   85.0   0  NaN  ESFP  16.283854\n",
      "16  id17  74.0   서울   88.0   1  NaN  ISTP  67.886373\n",
      "17  id18  41.0   서울   87.0   2  NaN  ISFJ  80.138280\n",
      "18  id19  53.0   서울   88.0   0  NaN  ISFP  83.685380\n",
      "19  id20  11.0   서울   51.0   1  NaN  INTJ  91.297791\n",
      "20  id21  90.0   부산   88.0   1  NaN  ISFP  29.269869\n"
     ]
    }
   ],
   "source": [
    "# age 컬럼의 중복을 제거해보자\n",
    "age_seen = set()\n",
    "for i in df.index:\n",
    "    if df.loc[i,'age'] in age_seen:\n",
    "        df.drop(i,axis=0,inplace=True)\n",
    "    else:\n",
    "        age_seen.add(df.loc[i, 'age'])\n",
    "print(df.head(20))\n",
    "\n",
    "# 이렇게 해도 된다.\n",
    "# age 컬럼의 첫 번째 값만 유지하고 중복 제거\n",
    "# df_no_dup = df.drop_duplicates(subset=['age'], keep='first')\n",
    "# print(df_no_dup.head(20))"
   ]
  },
  {
   "cell_type": "code",
   "execution_count": 5,
   "id": "e37fc042",
   "metadata": {
    "execution": {
     "iopub.execute_input": "2025-06-16T04:09:44.970577Z",
     "iopub.status.busy": "2025-06-16T04:09:44.969875Z",
     "iopub.status.idle": "2025-06-16T04:09:44.972562Z",
     "shell.execute_reply": "2025-06-16T04:09:44.973041Z",
     "shell.execute_reply.started": "2025-06-15T08:36:53.367964Z"
    },
    "papermill": {
     "duration": 0.015584,
     "end_time": "2025-06-16T04:09:44.973212",
     "exception": false,
     "start_time": "2025-06-16T04:09:44.957628",
     "status": "completed"
    },
    "tags": []
   },
   "outputs": [
    {
     "name": "stdout",
     "output_type": "stream",
     "text": [
      "77.0\n"
     ]
    }
   ],
   "source": [
    "# 이후, f1의 중앙값 구하자\n",
    "after=df['f1'].median()\n",
    "print(after)"
   ]
  },
  {
   "cell_type": "code",
   "execution_count": 6,
   "id": "656cc22e",
   "metadata": {
    "execution": {
     "iopub.execute_input": "2025-06-16T04:09:44.993759Z",
     "iopub.status.busy": "2025-06-16T04:09:44.993006Z",
     "iopub.status.idle": "2025-06-16T04:09:44.995963Z",
     "shell.execute_reply": "2025-06-16T04:09:44.996430Z",
     "shell.execute_reply.started": "2025-06-15T08:37:15.165298Z"
    },
    "papermill": {
     "duration": 0.016261,
     "end_time": "2025-06-16T04:09:44.996640",
     "exception": false,
     "start_time": "2025-06-16T04:09:44.980379",
     "status": "completed"
    },
    "tags": []
   },
   "outputs": [
    {
     "name": "stdout",
     "output_type": "stream",
     "text": [
      "0.5\n"
     ]
    }
   ],
   "source": [
    "# 최종 결과값\n",
    "result=abs(before-after)\n",
    "print(result)"
   ]
  }
 ],
 "metadata": {
  "kaggle": {
   "accelerator": "none",
   "dataSources": [
    {
     "datasetId": 1633303,
     "sourceId": 12111603,
     "sourceType": "datasetVersion"
    }
   ],
   "dockerImageVersionId": 30145,
   "isGpuEnabled": false,
   "isInternetEnabled": true,
   "language": "python",
   "sourceType": "notebook"
  },
  "kernelspec": {
   "display_name": "Python 3",
   "language": "python",
   "name": "python3"
  },
  "language_info": {
   "codemirror_mode": {
    "name": "ipython",
    "version": 3
   },
   "file_extension": ".py",
   "mimetype": "text/x-python",
   "name": "python",
   "nbconvert_exporter": "python",
   "pygments_lexer": "ipython3",
   "version": "3.7.10"
  },
  "papermill": {
   "default_parameters": {},
   "duration": 9.913955,
   "end_time": "2025-06-16T04:09:45.614851",
   "environment_variables": {},
   "exception": null,
   "input_path": "__notebook__.ipynb",
   "output_path": "__notebook__.ipynb",
   "parameters": {},
   "start_time": "2025-06-16T04:09:35.700896",
   "version": "2.3.3"
  }
 },
 "nbformat": 4,
 "nbformat_minor": 5
}
