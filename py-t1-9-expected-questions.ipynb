{
 "cells": [
  {
   "cell_type": "markdown",
   "id": "8e278531",
   "metadata": {
    "papermill": {
     "duration": 0.010073,
     "end_time": "2025-06-16T04:00:59.120904",
     "exception": false,
     "start_time": "2025-06-16T04:00:59.110831",
     "status": "completed"
    },
    "tags": []
   },
   "source": [
    "# 수치형 변수 변환하기\n",
    "\n",
    "\n",
    "### 주어진 데이터에서 'f5'컬럼을 표준화(Standardization (Z-score Normalization))하고 그 중앙값을 구하시오\n",
    "- 데이터셋 : basic1.csv\n",
    "- 오른쪽 상단 copy&edit 클릭 -> 예상문제 풀이 시작\n"
   ]
  },
  {
   "cell_type": "markdown",
   "id": "c1ed46ef",
   "metadata": {
    "papermill": {
     "duration": 0.007913,
     "end_time": "2025-06-16T04:00:59.137773",
     "exception": false,
     "start_time": "2025-06-16T04:00:59.129860",
     "status": "completed"
    },
    "tags": []
   },
   "source": [
    "## Standardization (Z-score Normalization)\n",
    "\n",
    "![standard](https://wikimedia.org/api/rest_v1/media/math/render/svg/b0aa2e7d203db1526c577192f2d9102b718eafd5)"
   ]
  },
  {
   "cell_type": "code",
   "execution_count": 1,
   "id": "5430ce8a",
   "metadata": {
    "execution": {
     "iopub.execute_input": "2025-06-16T04:00:59.170393Z",
     "iopub.status.busy": "2025-06-16T04:00:59.169386Z",
     "iopub.status.idle": "2025-06-16T04:00:59.205558Z",
     "shell.execute_reply": "2025-06-16T04:00:59.204731Z",
     "shell.execute_reply.started": "2025-06-15T05:50:04.041048Z"
    },
    "papermill": {
     "duration": 0.059864,
     "end_time": "2025-06-16T04:00:59.205759",
     "exception": false,
     "start_time": "2025-06-16T04:00:59.145895",
     "status": "completed"
    },
    "tags": []
   },
   "outputs": [
    {
     "name": "stdout",
     "output_type": "stream",
     "text": [
      "     id   age city     f1  f2   f3    f4         f5\n",
      "0  id01   2.0   서울    NaN   0  NaN  ENFJ  91.297791\n",
      "1  id02   9.0   서울   70.0   1  NaN  ENFJ  60.339826\n",
      "2  id03  27.0   서울   61.0   1  NaN  ISTJ  17.252986\n",
      "3  id04  75.0   서울    NaN   2  NaN  INFP  52.667078\n",
      "4  id05  24.0   서울   85.0   2  NaN  ISFJ  29.269869\n",
      "5  id06  22.0   서울   57.0   0  vip  INTP  20.129444\n",
      "6  id07  36.3   서울   60.0   1  NaN  ISFJ   9.796378\n",
      "7  id08  38.0   서울  101.0   1  NaN  INFJ  83.685380\n",
      "8  id09   3.3   서울   35.0   2  NaN  ESFJ  17.252986\n",
      "9  id10  95.0   서울   74.0   1  NaN  ISFP  98.429899\n"
     ]
    }
   ],
   "source": [
    "# 라이브러리 및 데이터 불러오기\n",
    "import pandas as pd\n",
    "df=pd.read_csv(\"/kaggle/input/bigdatacertificationkr/basic1.csv\")\n",
    "print(df.head(10))"
   ]
  },
  {
   "cell_type": "code",
   "execution_count": 2,
   "id": "e744fd73",
   "metadata": {
    "execution": {
     "iopub.execute_input": "2025-06-16T04:00:59.244047Z",
     "iopub.status.busy": "2025-06-16T04:00:59.242474Z",
     "iopub.status.idle": "2025-06-16T04:00:59.248902Z",
     "shell.execute_reply": "2025-06-16T04:00:59.248215Z",
     "shell.execute_reply.started": "2025-06-15T05:50:43.927559Z"
    },
    "papermill": {
     "duration": 0.028687,
     "end_time": "2025-06-16T04:00:59.249064",
     "exception": false,
     "start_time": "2025-06-16T04:00:59.220377",
     "status": "completed"
    },
    "tags": []
   },
   "outputs": [
    {
     "name": "stdout",
     "output_type": "stream",
     "text": [
      "56.73453674492999\n",
      "28.454243730610507\n"
     ]
    }
   ],
   "source": [
    "# 표준화\n",
    "x_bar=df['f5'].mean()\n",
    "sigma=df['f5'].std()\n",
    "print(x_bar)\n",
    "print(sigma)"
   ]
  },
  {
   "cell_type": "code",
   "execution_count": 3,
   "id": "ce72d4cf",
   "metadata": {
    "execution": {
     "iopub.execute_input": "2025-06-16T04:00:59.280827Z",
     "iopub.status.busy": "2025-06-16T04:00:59.280126Z",
     "iopub.status.idle": "2025-06-16T04:01:00.301919Z",
     "shell.execute_reply": "2025-06-16T04:01:00.302447Z",
     "shell.execute_reply.started": "2025-06-15T05:51:25.963236Z"
    },
    "papermill": {
     "duration": 1.045079,
     "end_time": "2025-06-16T04:01:00.302630",
     "exception": false,
     "start_time": "2025-06-16T04:00:59.257551",
     "status": "completed"
    },
    "tags": []
   },
   "outputs": [
    {
     "name": "stdout",
     "output_type": "stream",
     "text": [
      "     id   age city     f1  f2   f3    f4        f5\n",
      "0  id01   2.0   서울    NaN   0  NaN  ENFJ  1.214696\n",
      "1  id02   9.0   서울   70.0   1  NaN  ENFJ  0.126705\n",
      "2  id03  27.0   서울   61.0   1  NaN  ISTJ -1.387545\n",
      "3  id04  75.0   서울    NaN   2  NaN  INFP -0.142947\n",
      "4  id05  24.0   서울   85.0   2  NaN  ISFJ -0.965222\n",
      "5  id06  22.0   서울   57.0   0  vip  INTP -1.286455\n",
      "6  id07  36.3   서울   60.0   1  NaN  ISFJ -1.649601\n",
      "7  id08  38.0   서울  101.0   1  NaN  INFJ  0.947164\n",
      "8  id09   3.3   서울   35.0   2  NaN  ESFJ -1.387545\n",
      "9  id10  95.0   서울   74.0   1  NaN  ISFP  1.465348\n"
     ]
    },
    {
     "data": {
      "text/html": [
       "<div>\n",
       "<style scoped>\n",
       "    .dataframe tbody tr th:only-of-type {\n",
       "        vertical-align: middle;\n",
       "    }\n",
       "\n",
       "    .dataframe tbody tr th {\n",
       "        vertical-align: top;\n",
       "    }\n",
       "\n",
       "    .dataframe thead th {\n",
       "        text-align: right;\n",
       "    }\n",
       "</style>\n",
       "<table border=\"1\" class=\"dataframe\">\n",
       "  <thead>\n",
       "    <tr style=\"text-align: right;\">\n",
       "      <th></th>\n",
       "      <th>id</th>\n",
       "      <th>age</th>\n",
       "      <th>city</th>\n",
       "      <th>f1</th>\n",
       "      <th>f2</th>\n",
       "      <th>f3</th>\n",
       "      <th>f4</th>\n",
       "      <th>f5</th>\n",
       "    </tr>\n",
       "  </thead>\n",
       "  <tbody>\n",
       "    <tr>\n",
       "      <th>0</th>\n",
       "      <td>id01</td>\n",
       "      <td>2.0</td>\n",
       "      <td>서울</td>\n",
       "      <td>NaN</td>\n",
       "      <td>0</td>\n",
       "      <td>NaN</td>\n",
       "      <td>ENFJ</td>\n",
       "      <td>1.220815</td>\n",
       "    </tr>\n",
       "    <tr>\n",
       "      <th>1</th>\n",
       "      <td>id02</td>\n",
       "      <td>9.0</td>\n",
       "      <td>서울</td>\n",
       "      <td>70.0</td>\n",
       "      <td>1</td>\n",
       "      <td>NaN</td>\n",
       "      <td>ENFJ</td>\n",
       "      <td>0.127343</td>\n",
       "    </tr>\n",
       "    <tr>\n",
       "      <th>2</th>\n",
       "      <td>id03</td>\n",
       "      <td>27.0</td>\n",
       "      <td>서울</td>\n",
       "      <td>61.0</td>\n",
       "      <td>1</td>\n",
       "      <td>NaN</td>\n",
       "      <td>ISTJ</td>\n",
       "      <td>-1.394535</td>\n",
       "    </tr>\n",
       "    <tr>\n",
       "      <th>3</th>\n",
       "      <td>id04</td>\n",
       "      <td>75.0</td>\n",
       "      <td>서울</td>\n",
       "      <td>NaN</td>\n",
       "      <td>2</td>\n",
       "      <td>NaN</td>\n",
       "      <td>INFP</td>\n",
       "      <td>-0.143667</td>\n",
       "    </tr>\n",
       "    <tr>\n",
       "      <th>4</th>\n",
       "      <td>id05</td>\n",
       "      <td>24.0</td>\n",
       "      <td>서울</td>\n",
       "      <td>85.0</td>\n",
       "      <td>2</td>\n",
       "      <td>NaN</td>\n",
       "      <td>ISFJ</td>\n",
       "      <td>-0.970085</td>\n",
       "    </tr>\n",
       "  </tbody>\n",
       "</table>\n",
       "</div>"
      ],
      "text/plain": [
       "     id   age city    f1  f2   f3    f4        f5\n",
       "0  id01   2.0   서울   NaN   0  NaN  ENFJ  1.220815\n",
       "1  id02   9.0   서울  70.0   1  NaN  ENFJ  0.127343\n",
       "2  id03  27.0   서울  61.0   1  NaN  ISTJ -1.394535\n",
       "3  id04  75.0   서울   NaN   2  NaN  INFP -0.143667\n",
       "4  id05  24.0   서울  85.0   2  NaN  ISFJ -0.970085"
      ]
     },
     "execution_count": 3,
     "metadata": {},
     "output_type": "execute_result"
    }
   ],
   "source": [
    "# 표준화\n",
    "df['f5']=(df['f5']-x_bar)/sigma\n",
    "print(df.head(10))\n",
    "\n",
    "# 이렇게 표준화해도 된다. 이게 더 정확\n",
    "from sklearn.preprocessing import StandardScaler\n",
    "\n",
    "scaler = StandardScaler()\n",
    "df['f5']=scaler.fit_transform(df[['f5']])\n",
    "df.head()"
   ]
  },
  {
   "cell_type": "code",
   "execution_count": 4,
   "id": "3ea6411d",
   "metadata": {
    "execution": {
     "iopub.execute_input": "2025-06-16T04:01:00.326069Z",
     "iopub.status.busy": "2025-06-16T04:01:00.325255Z",
     "iopub.status.idle": "2025-06-16T04:01:00.330077Z",
     "shell.execute_reply": "2025-06-16T04:01:00.329584Z",
     "shell.execute_reply.started": "2025-06-15T05:52:08.348864Z"
    },
    "papermill": {
     "duration": 0.018681,
     "end_time": "2025-06-16T04:01:00.330271",
     "exception": false,
     "start_time": "2025-06-16T04:01:00.311590",
     "status": "completed"
    },
    "tags": []
   },
   "outputs": [
    {
     "name": "stdout",
     "output_type": "stream",
     "text": [
      "0.26061962955901463\n"
     ]
    }
   ],
   "source": [
    "# 중앙값 출력\n",
    "print(df['f5'].median())"
   ]
  },
  {
   "cell_type": "markdown",
   "id": "53432c62",
   "metadata": {
    "papermill": {
     "duration": 0.009709,
     "end_time": "2025-06-16T04:01:00.349101",
     "exception": false,
     "start_time": "2025-06-16T04:01:00.339392",
     "status": "completed"
    },
    "tags": []
   },
   "source": [
    "## Hint\n",
    "- https://scikit-learn.org/stable/modules/generated/sklearn.preprocessing.StandardScaler.html\n",
    "- https://en.wikipedia.org/wiki/Feature_scaling"
   ]
  },
  {
   "cell_type": "code",
   "execution_count": 5,
   "id": "9d6d4084",
   "metadata": {
    "execution": {
     "iopub.execute_input": "2025-06-16T04:01:00.376520Z",
     "iopub.status.busy": "2025-06-16T04:01:00.375806Z",
     "iopub.status.idle": "2025-06-16T04:01:00.383250Z",
     "shell.execute_reply": "2025-06-16T04:01:00.382697Z",
     "shell.execute_reply.started": "2025-06-15T05:52:13.468302Z"
    },
    "papermill": {
     "duration": 0.024639,
     "end_time": "2025-06-16T04:01:00.383402",
     "exception": false,
     "start_time": "2025-06-16T04:01:00.358763",
     "status": "completed"
    },
    "tags": []
   },
   "outputs": [
    {
     "name": "stdout",
     "output_type": "stream",
     "text": [
      "StandardScaler()\n",
      "[[-0.73299648 -0.99206078]\n",
      " [-0.69948807 -1.125655  ]\n",
      " [-0.64084835 -0.39830869]\n",
      " [ 0.18848481  0.26966241]\n",
      " [ 2.11521842  0.41810043]\n",
      " [-0.23037032  1.82826164]]\n"
     ]
    }
   ],
   "source": [
    "from sklearn.preprocessing import StandardScaler\n",
    "data = [[0, 2], [0.4, 0.2], [1.1, 10], [11, 19], [34, 21], [6, 40]]\n",
    "scaler = StandardScaler()\n",
    "print(scaler.fit(data))\n",
    "print(scaler.transform(data))"
   ]
  },
  {
   "cell_type": "markdown",
   "id": "0dcbc8af",
   "metadata": {
    "papermill": {
     "duration": 0.008985,
     "end_time": "2025-06-16T04:01:00.401946",
     "exception": false,
     "start_time": "2025-06-16T04:01:00.392961",
     "status": "completed"
    },
    "tags": []
   },
   "source": [
    "## 풀이"
   ]
  },
  {
   "cell_type": "code",
   "execution_count": 6,
   "id": "f44e39aa",
   "metadata": {
    "_cell_guid": "b1076dfc-b9ad-4769-8c92-a6c4dae69d19",
    "_uuid": "8f2839f25d086af736a60e9eeb907d3b93b6e0e5",
    "execution": {
     "iopub.execute_input": "2025-06-16T04:01:00.428094Z",
     "iopub.status.busy": "2025-06-16T04:01:00.427444Z",
     "iopub.status.idle": "2025-06-16T04:01:00.444480Z",
     "shell.execute_reply": "2025-06-16T04:01:00.443958Z",
     "shell.execute_reply.started": "2025-06-15T05:52:16.906990Z"
    },
    "papermill": {
     "duration": 0.033192,
     "end_time": "2025-06-16T04:01:00.444628",
     "exception": false,
     "start_time": "2025-06-16T04:01:00.411436",
     "status": "completed"
    },
    "tags": []
   },
   "outputs": [
    {
     "data": {
      "text/html": [
       "<div>\n",
       "<style scoped>\n",
       "    .dataframe tbody tr th:only-of-type {\n",
       "        vertical-align: middle;\n",
       "    }\n",
       "\n",
       "    .dataframe tbody tr th {\n",
       "        vertical-align: top;\n",
       "    }\n",
       "\n",
       "    .dataframe thead th {\n",
       "        text-align: right;\n",
       "    }\n",
       "</style>\n",
       "<table border=\"1\" class=\"dataframe\">\n",
       "  <thead>\n",
       "    <tr style=\"text-align: right;\">\n",
       "      <th></th>\n",
       "      <th>id</th>\n",
       "      <th>age</th>\n",
       "      <th>city</th>\n",
       "      <th>f1</th>\n",
       "      <th>f2</th>\n",
       "      <th>f3</th>\n",
       "      <th>f4</th>\n",
       "      <th>f5</th>\n",
       "    </tr>\n",
       "  </thead>\n",
       "  <tbody>\n",
       "    <tr>\n",
       "      <th>0</th>\n",
       "      <td>id01</td>\n",
       "      <td>2.0</td>\n",
       "      <td>서울</td>\n",
       "      <td>NaN</td>\n",
       "      <td>0</td>\n",
       "      <td>NaN</td>\n",
       "      <td>ENFJ</td>\n",
       "      <td>91.297791</td>\n",
       "    </tr>\n",
       "    <tr>\n",
       "      <th>1</th>\n",
       "      <td>id02</td>\n",
       "      <td>9.0</td>\n",
       "      <td>서울</td>\n",
       "      <td>70.0</td>\n",
       "      <td>1</td>\n",
       "      <td>NaN</td>\n",
       "      <td>ENFJ</td>\n",
       "      <td>60.339826</td>\n",
       "    </tr>\n",
       "  </tbody>\n",
       "</table>\n",
       "</div>"
      ],
      "text/plain": [
       "     id  age city    f1  f2   f3    f4         f5\n",
       "0  id01  2.0   서울   NaN   0  NaN  ENFJ  91.297791\n",
       "1  id02  9.0   서울  70.0   1  NaN  ENFJ  60.339826"
      ]
     },
     "execution_count": 6,
     "metadata": {},
     "output_type": "execute_result"
    }
   ],
   "source": [
    "# 라이브러리 및 데이터 불러오기\n",
    "import pandas as pd\n",
    "import numpy as np\n",
    "\n",
    "df = pd.read_csv('../input/bigdatacertificationkr/basic1.csv')\n",
    "df.head(2)"
   ]
  },
  {
   "cell_type": "code",
   "execution_count": 7,
   "id": "3b1eafea",
   "metadata": {
    "execution": {
     "iopub.execute_input": "2025-06-16T04:01:00.487621Z",
     "iopub.status.busy": "2025-06-16T04:01:00.486784Z",
     "iopub.status.idle": "2025-06-16T04:01:00.491872Z",
     "shell.execute_reply": "2025-06-16T04:01:00.491179Z",
     "shell.execute_reply.started": "2025-06-15T05:52:19.680230Z"
    },
    "papermill": {
     "duration": 0.037613,
     "end_time": "2025-06-16T04:01:00.492032",
     "exception": false,
     "start_time": "2025-06-16T04:01:00.454419",
     "status": "completed"
    },
    "tags": []
   },
   "outputs": [
    {
     "data": {
      "text/html": [
       "<div>\n",
       "<style scoped>\n",
       "    .dataframe tbody tr th:only-of-type {\n",
       "        vertical-align: middle;\n",
       "    }\n",
       "\n",
       "    .dataframe tbody tr th {\n",
       "        vertical-align: top;\n",
       "    }\n",
       "\n",
       "    .dataframe thead th {\n",
       "        text-align: right;\n",
       "    }\n",
       "</style>\n",
       "<table border=\"1\" class=\"dataframe\">\n",
       "  <thead>\n",
       "    <tr style=\"text-align: right;\">\n",
       "      <th></th>\n",
       "      <th>id</th>\n",
       "      <th>age</th>\n",
       "      <th>city</th>\n",
       "      <th>f1</th>\n",
       "      <th>f2</th>\n",
       "      <th>f3</th>\n",
       "      <th>f4</th>\n",
       "      <th>f5</th>\n",
       "    </tr>\n",
       "  </thead>\n",
       "  <tbody>\n",
       "    <tr>\n",
       "      <th>0</th>\n",
       "      <td>id01</td>\n",
       "      <td>2.0</td>\n",
       "      <td>서울</td>\n",
       "      <td>NaN</td>\n",
       "      <td>0</td>\n",
       "      <td>NaN</td>\n",
       "      <td>ENFJ</td>\n",
       "      <td>1.220815</td>\n",
       "    </tr>\n",
       "    <tr>\n",
       "      <th>1</th>\n",
       "      <td>id02</td>\n",
       "      <td>9.0</td>\n",
       "      <td>서울</td>\n",
       "      <td>70.0</td>\n",
       "      <td>1</td>\n",
       "      <td>NaN</td>\n",
       "      <td>ENFJ</td>\n",
       "      <td>0.127343</td>\n",
       "    </tr>\n",
       "    <tr>\n",
       "      <th>2</th>\n",
       "      <td>id03</td>\n",
       "      <td>27.0</td>\n",
       "      <td>서울</td>\n",
       "      <td>61.0</td>\n",
       "      <td>1</td>\n",
       "      <td>NaN</td>\n",
       "      <td>ISTJ</td>\n",
       "      <td>-1.394535</td>\n",
       "    </tr>\n",
       "    <tr>\n",
       "      <th>3</th>\n",
       "      <td>id04</td>\n",
       "      <td>75.0</td>\n",
       "      <td>서울</td>\n",
       "      <td>NaN</td>\n",
       "      <td>2</td>\n",
       "      <td>NaN</td>\n",
       "      <td>INFP</td>\n",
       "      <td>-0.143667</td>\n",
       "    </tr>\n",
       "    <tr>\n",
       "      <th>4</th>\n",
       "      <td>id05</td>\n",
       "      <td>24.0</td>\n",
       "      <td>서울</td>\n",
       "      <td>85.0</td>\n",
       "      <td>2</td>\n",
       "      <td>NaN</td>\n",
       "      <td>ISFJ</td>\n",
       "      <td>-0.970085</td>\n",
       "    </tr>\n",
       "  </tbody>\n",
       "</table>\n",
       "</div>"
      ],
      "text/plain": [
       "     id   age city    f1  f2   f3    f4        f5\n",
       "0  id01   2.0   서울   NaN   0  NaN  ENFJ  1.220815\n",
       "1  id02   9.0   서울  70.0   1  NaN  ENFJ  0.127343\n",
       "2  id03  27.0   서울  61.0   1  NaN  ISTJ -1.394535\n",
       "3  id04  75.0   서울   NaN   2  NaN  INFP -0.143667\n",
       "4  id05  24.0   서울  85.0   2  NaN  ISFJ -0.970085"
      ]
     },
     "execution_count": 7,
     "metadata": {},
     "output_type": "execute_result"
    }
   ],
   "source": [
    "# 표준화\n",
    "from sklearn.preprocessing import StandardScaler\n",
    "\n",
    "scaler = StandardScaler()\n",
    "df['f5']=scaler.fit_transform(df[['f5']])\n",
    "df.head()"
   ]
  },
  {
   "cell_type": "code",
   "execution_count": 8,
   "id": "1ee1749e",
   "metadata": {
    "execution": {
     "iopub.execute_input": "2025-06-16T04:01:00.519429Z",
     "iopub.status.busy": "2025-06-16T04:01:00.518618Z",
     "iopub.status.idle": "2025-06-16T04:01:00.522318Z",
     "shell.execute_reply": "2025-06-16T04:01:00.522749Z",
     "shell.execute_reply.started": "2025-06-15T05:52:21.890607Z"
    },
    "papermill": {
     "duration": 0.020103,
     "end_time": "2025-06-16T04:01:00.522974",
     "exception": false,
     "start_time": "2025-06-16T04:01:00.502871",
     "status": "completed"
    },
    "tags": []
   },
   "outputs": [
    {
     "name": "stdout",
     "output_type": "stream",
     "text": [
      "0.260619629559015\n"
     ]
    }
   ],
   "source": [
    "# 중앙값 출력\n",
    "print(df['f5'].median())"
   ]
  }
 ],
 "metadata": {
  "kaggle": {
   "accelerator": "none",
   "dataSources": [
    {
     "datasetId": 1633303,
     "sourceId": 12111603,
     "sourceType": "datasetVersion"
    }
   ],
   "dockerImageVersionId": 30138,
   "isGpuEnabled": false,
   "isInternetEnabled": true,
   "language": "python",
   "sourceType": "notebook"
  },
  "kernelspec": {
   "display_name": "Python 3",
   "language": "python",
   "name": "python3"
  },
  "language_info": {
   "codemirror_mode": {
    "name": "ipython",
    "version": 3
   },
   "file_extension": ".py",
   "mimetype": "text/x-python",
   "name": "python",
   "nbconvert_exporter": "python",
   "pygments_lexer": "ipython3",
   "version": "3.7.10"
  },
  "papermill": {
   "default_parameters": {},
   "duration": 11.881046,
   "end_time": "2025-06-16T04:01:01.448330",
   "environment_variables": {},
   "exception": null,
   "input_path": "__notebook__.ipynb",
   "output_path": "__notebook__.ipynb",
   "parameters": {},
   "start_time": "2025-06-16T04:00:49.567284",
   "version": "2.3.3"
  }
 },
 "nbformat": 4,
 "nbformat_minor": 5
}
