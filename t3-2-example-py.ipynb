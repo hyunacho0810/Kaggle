{
 "cells": [
  {
   "cell_type": "markdown",
   "id": "76a7c439",
   "metadata": {
    "papermill": {
     "duration": 0.002607,
     "end_time": "2025-06-20T03:20:36.910698",
     "exception": false,
     "start_time": "2025-06-20T03:20:36.908091",
     "status": "completed"
    },
    "tags": []
   },
   "source": [
    "## Pclass, Gender, sibsp, parch를 독립변수로 사용하여 로지스틱 회귀모형을 실시하였을 때, parch변수의 계수값은? 단, Pclass는 범주형 변수이다\n",
    "(반올림하여 소수 셋째 자리까지 계산)"
   ]
  },
  {
   "cell_type": "code",
   "execution_count": 1,
   "id": "71fa6821",
   "metadata": {
    "execution": {
     "iopub.execute_input": "2025-06-20T03:20:36.916578Z",
     "iopub.status.busy": "2025-06-20T03:20:36.916152Z",
     "iopub.status.idle": "2025-06-20T03:20:36.969538Z",
     "shell.execute_reply": "2025-06-20T03:20:36.968336Z"
    },
    "papermill": {
     "duration": 0.059444,
     "end_time": "2025-06-20T03:20:36.972339",
     "exception": false,
     "start_time": "2025-06-20T03:20:36.912895",
     "status": "completed"
    },
    "tags": []
   },
   "outputs": [
    {
     "name": "stdout",
     "output_type": "stream",
     "text": [
      "   PassengerId  Survived  Pclass  \\\n",
      "0            1         0       3   \n",
      "1            2         1       1   \n",
      "2            3         1       3   \n",
      "3            4         1       1   \n",
      "4            5         0       3   \n",
      "\n",
      "                                                Name  Gender   Age  SibSp  \\\n",
      "0                            Braund, Mr. Owen Harris    male  22.0      1   \n",
      "1  Cumings, Mrs. John Bradley (Florence Briggs Th...  female  38.0      1   \n",
      "2                             Heikkinen, Miss. Laina  female  26.0      0   \n",
      "3       Futrelle, Mrs. Jacques Heath (Lily May Peel)  female  35.0      1   \n",
      "4                           Allen, Mr. William Henry    male  35.0      0   \n",
      "\n",
      "   Parch            Ticket     Fare Cabin Embarked  \n",
      "0      0         A/5 21171   7.2500   NaN        S  \n",
      "1      0          PC 17599  71.2833   C85        C  \n",
      "2      0  STON/O2. 3101282   7.9250   NaN        S  \n",
      "3      0            113803  53.1000  C123        S  \n",
      "4      0            373450   8.0500   NaN        S  \n"
     ]
    }
   ],
   "source": [
    "import pandas as pd\n",
    "df = pd.read_csv(\"/kaggle/input/bigdatacertificationkr/Titanic.csv\")\n",
    "print(df.head(5))"
   ]
  },
  {
   "cell_type": "code",
   "execution_count": 2,
   "id": "9016f1a2",
   "metadata": {
    "execution": {
     "iopub.execute_input": "2025-06-20T03:20:36.978133Z",
     "iopub.status.busy": "2025-06-20T03:20:36.977745Z",
     "iopub.status.idle": "2025-06-20T03:20:38.828566Z",
     "shell.execute_reply": "2025-06-20T03:20:38.823964Z"
    },
    "papermill": {
     "duration": 1.858335,
     "end_time": "2025-06-20T03:20:38.832778",
     "exception": false,
     "start_time": "2025-06-20T03:20:36.974443",
     "status": "completed"
    },
    "tags": []
   },
   "outputs": [
    {
     "name": "stderr",
     "output_type": "stream",
     "text": [
      "/opt/conda/lib/python3.10/site-packages/scipy/__init__.py:146: UserWarning: A NumPy version >=1.16.5 and <1.23.0 is required for this version of SciPy (detected version 1.23.5\n",
      "  warnings.warn(f\"A NumPy version >={np_minversion} and <{np_maxversion}\"\n"
     ]
    },
    {
     "name": "stdout",
     "output_type": "stream",
     "text": [
      "Optimization terminated successfully.\n",
      "         Current function value: 0.459658\n",
      "         Iterations 6\n",
      "                           Logit Regression Results                           \n",
      "==============================================================================\n",
      "Dep. Variable:               Survived   No. Observations:                  891\n",
      "Model:                          Logit   Df Residuals:                      886\n",
      "Method:                           MLE   Df Model:                            4\n",
      "Date:                Fri, 20 Jun 2025   Pseudo R-squ.:                  0.3097\n",
      "Time:                        03:20:38   Log-Likelihood:                -409.56\n",
      "converged:                       True   LL-Null:                       -593.33\n",
      "Covariance Type:            nonrobust   LLR p-value:                 2.854e-78\n",
      "==================================================================================\n",
      "                     coef    std err          z      P>|z|      [0.025      0.975]\n",
      "----------------------------------------------------------------------------------\n",
      "Intercept          3.4596      0.311     11.109      0.000       2.849       4.070\n",
      "Gender[T.male]    -2.7624      0.195    -14.141      0.000      -3.145      -2.379\n",
      "Pclass            -0.9392      0.107     -8.815      0.000      -1.148      -0.730\n",
      "SibSp             -0.2340      0.099     -2.359      0.018      -0.428      -0.040\n",
      "Parch             -0.0503      0.110     -0.455      0.649      -0.267       0.166\n",
      "==================================================================================\n"
     ]
    }
   ],
   "source": [
    "from statsmodels.formula.api import logit\n",
    "model=logit('Survived ~ Pclass + Gender + SibSp +Parch',data=df).fit()\n",
    "print(model.summary())"
   ]
  },
  {
   "cell_type": "code",
   "execution_count": 3,
   "id": "d179219f",
   "metadata": {
    "execution": {
     "iopub.execute_input": "2025-06-20T03:20:38.843139Z",
     "iopub.status.busy": "2025-06-20T03:20:38.842615Z",
     "iopub.status.idle": "2025-06-20T03:20:38.856001Z",
     "shell.execute_reply": "2025-06-20T03:20:38.852941Z"
    },
    "papermill": {
     "duration": 0.022976,
     "end_time": "2025-06-20T03:20:38.859708",
     "exception": false,
     "start_time": "2025-06-20T03:20:38.836732",
     "status": "completed"
    },
    "tags": []
   },
   "outputs": [
    {
     "name": "stdout",
     "output_type": "stream",
     "text": [
      "-0.050260129439576834\n"
     ]
    }
   ],
   "source": [
    "print(model.params['Parch'])"
   ]
  }
 ],
 "metadata": {
  "kaggle": {
   "accelerator": "none",
   "dataSources": [
    {
     "datasetId": 1633303,
     "sourceId": 12211878,
     "sourceType": "datasetVersion"
    }
   ],
   "dockerImageVersionId": 30527,
   "isGpuEnabled": false,
   "isInternetEnabled": true,
   "language": "python",
   "sourceType": "notebook"
  },
  "kernelspec": {
   "display_name": "Python 3",
   "language": "python",
   "name": "python3"
  },
  "language_info": {
   "codemirror_mode": {
    "name": "ipython",
    "version": 3
   },
   "file_extension": ".py",
   "mimetype": "text/x-python",
   "name": "python",
   "nbconvert_exporter": "python",
   "pygments_lexer": "ipython3",
   "version": "3.10.12"
  },
  "papermill": {
   "default_parameters": {},
   "duration": 15.198283,
   "end_time": "2025-06-20T03:20:39.889898",
   "environment_variables": {},
   "exception": null,
   "input_path": "__notebook__.ipynb",
   "output_path": "__notebook__.ipynb",
   "parameters": {},
   "start_time": "2025-06-20T03:20:24.691615",
   "version": "2.4.0"
  }
 },
 "nbformat": 4,
 "nbformat_minor": 5
}
