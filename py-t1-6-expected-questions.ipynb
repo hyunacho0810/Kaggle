{
 "cells": [
  {
   "cell_type": "markdown",
   "id": "a1c6da0f",
   "metadata": {
    "papermill": {
     "duration": 0.00923,
     "end_time": "2025-06-15T05:35:43.855402",
     "exception": false,
     "start_time": "2025-06-15T05:35:43.846172",
     "status": "completed"
    },
    "tags": []
   },
   "source": [
    "## 결측치 제거 및 그룹 합계에서 조건에 맞는 값 찾아 출력\n",
    "- 주어진 데이터 중 basic1.csv에서 'f1'컬럼 결측 데이터를 제거하고, 'city'와 'f2'을 기준으로 묶어 합계를 구하고, 'city가 경기이면서 f2가 0'인 조건에 만족하는 f1 값을 구하시오\n",
    "- 데이터셋 : basic1.csv\n",
    "- 오른쪽 상단 copy&edit 클릭 -> 예상문제 풀이 시작"
   ]
  },
  {
   "cell_type": "code",
   "execution_count": 1,
   "id": "68e77185",
   "metadata": {
    "execution": {
     "iopub.execute_input": "2025-06-15T05:35:43.882373Z",
     "iopub.status.busy": "2025-06-15T05:35:43.881777Z",
     "iopub.status.idle": "2025-06-15T05:35:43.907836Z",
     "shell.execute_reply": "2025-06-15T05:35:43.907218Z"
    },
    "papermill": {
     "duration": 0.043846,
     "end_time": "2025-06-15T05:35:43.908027",
     "exception": false,
     "start_time": "2025-06-15T05:35:43.864181",
     "status": "completed"
    },
    "tags": []
   },
   "outputs": [
    {
     "name": "stdout",
     "output_type": "stream",
     "text": [
      "     id   age city     f1  f2   f3    f4         f5\n",
      "0  id01   2.0   서울    NaN   0  NaN  ENFJ  91.297791\n",
      "1  id02   9.0   서울   70.0   1  NaN  ENFJ  60.339826\n",
      "2  id03  27.0   서울   61.0   1  NaN  ISTJ  17.252986\n",
      "3  id04  75.0   서울    NaN   2  NaN  INFP  52.667078\n",
      "4  id05  24.0   서울   85.0   2  NaN  ISFJ  29.269869\n",
      "5  id06  22.0   서울   57.0   0  vip  INTP  20.129444\n",
      "6  id07  36.3   서울   60.0   1  NaN  ISFJ   9.796378\n",
      "7  id08  38.0   서울  101.0   1  NaN  INFJ  83.685380\n",
      "8  id09   3.3   서울   35.0   2  NaN  ESFJ  17.252986\n",
      "9  id10  95.0   서울   74.0   1  NaN  ISFP  98.429899\n"
     ]
    }
   ],
   "source": [
    "# 라이브러리 및 데이터 불러오기\n",
    "import pandas as pd\n",
    "df=pd.read_csv('/kaggle/input/bigdatacertificationkr/basic1.csv')\n",
    "print(df.head(10))"
   ]
  },
  {
   "cell_type": "code",
   "execution_count": 2,
   "id": "e6930db6",
   "metadata": {
    "execution": {
     "iopub.execute_input": "2025-06-15T05:35:43.940945Z",
     "iopub.status.busy": "2025-06-15T05:35:43.934164Z",
     "iopub.status.idle": "2025-06-15T05:35:43.943923Z",
     "shell.execute_reply": "2025-06-15T05:35:43.944392Z"
    },
    "papermill": {
     "duration": 0.027818,
     "end_time": "2025-06-15T05:35:43.944556",
     "exception": false,
     "start_time": "2025-06-15T05:35:43.916738",
     "status": "completed"
    },
    "tags": []
   },
   "outputs": [
    {
     "name": "stdout",
     "output_type": "stream",
     "text": [
      "      id   age city     f1  f2   f3    f4         f5\n",
      "1   id02   9.0   서울   70.0   1  NaN  ENFJ  60.339826\n",
      "2   id03  27.0   서울   61.0   1  NaN  ISTJ  17.252986\n",
      "4   id05  24.0   서울   85.0   2  NaN  ISFJ  29.269869\n",
      "5   id06  22.0   서울   57.0   0  vip  INTP  20.129444\n",
      "6   id07  36.3   서울   60.0   1  NaN  ISFJ   9.796378\n",
      "7   id08  38.0   서울  101.0   1  NaN  INFJ  83.685380\n",
      "8   id09   3.3   서울   35.0   2  NaN  ESFJ  17.252986\n",
      "9   id10  95.0   서울   74.0   1  NaN  ISFP  98.429899\n",
      "10  id11  40.0   서울   68.0   0  NaN  ENFP  98.429899\n",
      "12  id13  15.0   서울   68.0   0  NaN  ESFJ  83.685380\n"
     ]
    }
   ],
   "source": [
    "# f1컬럼 결측치 제거\n",
    "no_vals=df['f1'].isnull()\n",
    "df=df[~no_vals]\n",
    "print(df.head(10))\n",
    "\n",
    "# 아래와 같은 방법으로 제거해도 된다.\n",
    "# df = df.dropna(subset=['f1'])\n",
    "# print(df.head(10))"
   ]
  },
  {
   "cell_type": "code",
   "execution_count": 3,
   "id": "903725a7",
   "metadata": {
    "execution": {
     "iopub.execute_input": "2025-06-15T05:35:43.977136Z",
     "iopub.status.busy": "2025-06-15T05:35:43.970645Z",
     "iopub.status.idle": "2025-06-15T05:35:43.980191Z",
     "shell.execute_reply": "2025-06-15T05:35:43.980711Z"
    },
    "papermill": {
     "duration": 0.027519,
     "end_time": "2025-06-15T05:35:43.980893",
     "exception": false,
     "start_time": "2025-06-15T05:35:43.953374",
     "status": "completed"
    },
    "tags": []
   },
   "outputs": [
    {
     "name": "stdout",
     "output_type": "stream",
     "text": [
      "city  f2\n",
      "경기    0     833.0\n",
      "      1     670.0\n",
      "      2     311.0\n",
      "대구    0     527.0\n",
      "      1     235.0\n",
      "      2     211.0\n",
      "부산    0     389.0\n",
      "      1     315.0\n",
      "      2      47.0\n",
      "서울    0     278.0\n",
      "      1     534.0\n",
      "      2     207.0\n",
      "Name: f1, dtype: float64\n"
     ]
    }
   ],
   "source": [
    "# 그룹 합계 계산\n",
    "result = df.groupby(['city', 'f2'])['f1'].sum()\n",
    "print(result)"
   ]
  },
  {
   "cell_type": "code",
   "execution_count": 4,
   "id": "66a1c323",
   "metadata": {
    "execution": {
     "iopub.execute_input": "2025-06-15T05:35:44.011540Z",
     "iopub.status.busy": "2025-06-15T05:35:44.010824Z",
     "iopub.status.idle": "2025-06-15T05:35:44.013872Z",
     "shell.execute_reply": "2025-06-15T05:35:44.014328Z",
     "shell.execute_reply.started": "2025-06-15T05:16:37.918875Z"
    },
    "papermill": {
     "duration": 0.02453,
     "end_time": "2025-06-15T05:35:44.014495",
     "exception": false,
     "start_time": "2025-06-15T05:35:43.989965",
     "status": "completed"
    },
    "tags": []
   },
   "outputs": [
    {
     "name": "stdout",
     "output_type": "stream",
     "text": [
      "833.0\n"
     ]
    }
   ],
   "source": [
    "# 조건에 맞는 값 출력\n",
    "final_result = result[('경기', 0)]  # (city, f2) 튜플로 접근\n",
    "print(final_result)"
   ]
  },
  {
   "cell_type": "markdown",
   "id": "bd04d35a",
   "metadata": {
    "papermill": {
     "duration": 0.010232,
     "end_time": "2025-06-15T05:35:44.034178",
     "exception": false,
     "start_time": "2025-06-15T05:35:44.023946",
     "status": "completed"
    },
    "tags": []
   },
   "source": [
    "## Hint\n",
    "- 그룹 합계 "
   ]
  },
  {
   "cell_type": "code",
   "execution_count": 5,
   "id": "6cb5adaf",
   "metadata": {
    "execution": {
     "iopub.execute_input": "2025-06-15T05:35:44.064569Z",
     "iopub.status.busy": "2025-06-15T05:35:44.063460Z",
     "iopub.status.idle": "2025-06-15T05:35:44.073335Z",
     "shell.execute_reply": "2025-06-15T05:35:44.072823Z",
     "shell.execute_reply.started": "2025-06-15T04:00:08.236210Z"
    },
    "papermill": {
     "duration": 0.029697,
     "end_time": "2025-06-15T05:35:44.073487",
     "exception": false,
     "start_time": "2025-06-15T05:35:44.043790",
     "status": "completed"
    },
    "tags": []
   },
   "outputs": [
    {
     "data": {
      "text/html": [
       "<div>\n",
       "<style scoped>\n",
       "    .dataframe tbody tr th:only-of-type {\n",
       "        vertical-align: middle;\n",
       "    }\n",
       "\n",
       "    .dataframe tbody tr th {\n",
       "        vertical-align: top;\n",
       "    }\n",
       "\n",
       "    .dataframe thead th {\n",
       "        text-align: right;\n",
       "    }\n",
       "</style>\n",
       "<table border=\"1\" class=\"dataframe\">\n",
       "  <thead>\n",
       "    <tr style=\"text-align: right;\">\n",
       "      <th></th>\n",
       "      <th>User</th>\n",
       "      <th>Max Speed</th>\n",
       "    </tr>\n",
       "  </thead>\n",
       "  <tbody>\n",
       "    <tr>\n",
       "      <th>0</th>\n",
       "      <td>네모</td>\n",
       "      <td>120.0</td>\n",
       "    </tr>\n",
       "    <tr>\n",
       "      <th>1</th>\n",
       "      <td>네모</td>\n",
       "      <td>240.0</td>\n",
       "    </tr>\n",
       "    <tr>\n",
       "      <th>2</th>\n",
       "      <td>세모</td>\n",
       "      <td>57.0</td>\n",
       "    </tr>\n",
       "    <tr>\n",
       "      <th>3</th>\n",
       "      <td>세모</td>\n",
       "      <td>41.0</td>\n",
       "    </tr>\n",
       "  </tbody>\n",
       "</table>\n",
       "</div>"
      ],
      "text/plain": [
       "  User  Max Speed\n",
       "0   네모      120.0\n",
       "1   네모      240.0\n",
       "2   세모       57.0\n",
       "3   세모       41.0"
      ]
     },
     "execution_count": 5,
     "metadata": {},
     "output_type": "execute_result"
    }
   ],
   "source": [
    "import pandas as pd\n",
    "df = pd.DataFrame({'User': ['네모', '네모',\n",
    "                              '세모', '세모'],\n",
    "                   'Max Speed': [120., 240., 57., 41.]})\n",
    "df"
   ]
  },
  {
   "cell_type": "code",
   "execution_count": 6,
   "id": "f3822f97",
   "metadata": {
    "execution": {
     "iopub.execute_input": "2025-06-15T05:35:44.107410Z",
     "iopub.status.busy": "2025-06-15T05:35:44.106662Z",
     "iopub.status.idle": "2025-06-15T05:35:44.110948Z",
     "shell.execute_reply": "2025-06-15T05:35:44.111419Z",
     "shell.execute_reply.started": "2025-06-15T04:00:10.350538Z"
    },
    "papermill": {
     "duration": 0.027366,
     "end_time": "2025-06-15T05:35:44.111584",
     "exception": false,
     "start_time": "2025-06-15T05:35:44.084218",
     "status": "completed"
    },
    "tags": []
   },
   "outputs": [
    {
     "data": {
      "text/html": [
       "<div>\n",
       "<style scoped>\n",
       "    .dataframe tbody tr th:only-of-type {\n",
       "        vertical-align: middle;\n",
       "    }\n",
       "\n",
       "    .dataframe tbody tr th {\n",
       "        vertical-align: top;\n",
       "    }\n",
       "\n",
       "    .dataframe thead th {\n",
       "        text-align: right;\n",
       "    }\n",
       "</style>\n",
       "<table border=\"1\" class=\"dataframe\">\n",
       "  <thead>\n",
       "    <tr style=\"text-align: right;\">\n",
       "      <th></th>\n",
       "      <th>Max Speed</th>\n",
       "    </tr>\n",
       "    <tr>\n",
       "      <th>User</th>\n",
       "      <th></th>\n",
       "    </tr>\n",
       "  </thead>\n",
       "  <tbody>\n",
       "    <tr>\n",
       "      <th>네모</th>\n",
       "      <td>180.0</td>\n",
       "    </tr>\n",
       "    <tr>\n",
       "      <th>세모</th>\n",
       "      <td>49.0</td>\n",
       "    </tr>\n",
       "  </tbody>\n",
       "</table>\n",
       "</div>"
      ],
      "text/plain": [
       "      Max Speed\n",
       "User           \n",
       "네모        180.0\n",
       "세모         49.0"
      ]
     },
     "execution_count": 6,
     "metadata": {},
     "output_type": "execute_result"
    }
   ],
   "source": [
    "df.groupby(['User']).mean()"
   ]
  },
  {
   "cell_type": "markdown",
   "id": "92d95d11",
   "metadata": {
    "papermill": {
     "duration": 0.01053,
     "end_time": "2025-06-15T05:35:44.132446",
     "exception": false,
     "start_time": "2025-06-15T05:35:44.121916",
     "status": "completed"
    },
    "tags": []
   },
   "source": [
    "## 풀이"
   ]
  },
  {
   "cell_type": "code",
   "execution_count": 7,
   "id": "d83201f2",
   "metadata": {
    "execution": {
     "iopub.execute_input": "2025-06-15T05:35:44.160581Z",
     "iopub.status.busy": "2025-06-15T05:35:44.159513Z",
     "iopub.status.idle": "2025-06-15T05:35:44.175957Z",
     "shell.execute_reply": "2025-06-15T05:35:44.175281Z",
     "shell.execute_reply.started": "2025-06-15T04:00:18.249035Z"
    },
    "papermill": {
     "duration": 0.032647,
     "end_time": "2025-06-15T05:35:44.176112",
     "exception": false,
     "start_time": "2025-06-15T05:35:44.143465",
     "status": "completed"
    },
    "tags": []
   },
   "outputs": [
    {
     "data": {
      "text/html": [
       "<div>\n",
       "<style scoped>\n",
       "    .dataframe tbody tr th:only-of-type {\n",
       "        vertical-align: middle;\n",
       "    }\n",
       "\n",
       "    .dataframe tbody tr th {\n",
       "        vertical-align: top;\n",
       "    }\n",
       "\n",
       "    .dataframe thead th {\n",
       "        text-align: right;\n",
       "    }\n",
       "</style>\n",
       "<table border=\"1\" class=\"dataframe\">\n",
       "  <thead>\n",
       "    <tr style=\"text-align: right;\">\n",
       "      <th></th>\n",
       "      <th>id</th>\n",
       "      <th>age</th>\n",
       "      <th>city</th>\n",
       "      <th>f1</th>\n",
       "      <th>f2</th>\n",
       "      <th>f3</th>\n",
       "      <th>f4</th>\n",
       "      <th>f5</th>\n",
       "    </tr>\n",
       "  </thead>\n",
       "  <tbody>\n",
       "    <tr>\n",
       "      <th>0</th>\n",
       "      <td>id01</td>\n",
       "      <td>2.0</td>\n",
       "      <td>서울</td>\n",
       "      <td>NaN</td>\n",
       "      <td>0</td>\n",
       "      <td>NaN</td>\n",
       "      <td>ENFJ</td>\n",
       "      <td>91.297791</td>\n",
       "    </tr>\n",
       "    <tr>\n",
       "      <th>1</th>\n",
       "      <td>id02</td>\n",
       "      <td>9.0</td>\n",
       "      <td>서울</td>\n",
       "      <td>70.0</td>\n",
       "      <td>1</td>\n",
       "      <td>NaN</td>\n",
       "      <td>ENFJ</td>\n",
       "      <td>60.339826</td>\n",
       "    </tr>\n",
       "    <tr>\n",
       "      <th>2</th>\n",
       "      <td>id03</td>\n",
       "      <td>27.0</td>\n",
       "      <td>서울</td>\n",
       "      <td>61.0</td>\n",
       "      <td>1</td>\n",
       "      <td>NaN</td>\n",
       "      <td>ISTJ</td>\n",
       "      <td>17.252986</td>\n",
       "    </tr>\n",
       "    <tr>\n",
       "      <th>3</th>\n",
       "      <td>id04</td>\n",
       "      <td>75.0</td>\n",
       "      <td>서울</td>\n",
       "      <td>NaN</td>\n",
       "      <td>2</td>\n",
       "      <td>NaN</td>\n",
       "      <td>INFP</td>\n",
       "      <td>52.667078</td>\n",
       "    </tr>\n",
       "    <tr>\n",
       "      <th>4</th>\n",
       "      <td>id05</td>\n",
       "      <td>24.0</td>\n",
       "      <td>서울</td>\n",
       "      <td>85.0</td>\n",
       "      <td>2</td>\n",
       "      <td>NaN</td>\n",
       "      <td>ISFJ</td>\n",
       "      <td>29.269869</td>\n",
       "    </tr>\n",
       "  </tbody>\n",
       "</table>\n",
       "</div>"
      ],
      "text/plain": [
       "     id   age city    f1  f2   f3    f4         f5\n",
       "0  id01   2.0   서울   NaN   0  NaN  ENFJ  91.297791\n",
       "1  id02   9.0   서울  70.0   1  NaN  ENFJ  60.339826\n",
       "2  id03  27.0   서울  61.0   1  NaN  ISTJ  17.252986\n",
       "3  id04  75.0   서울   NaN   2  NaN  INFP  52.667078\n",
       "4  id05  24.0   서울  85.0   2  NaN  ISFJ  29.269869"
      ]
     },
     "execution_count": 7,
     "metadata": {},
     "output_type": "execute_result"
    }
   ],
   "source": [
    "# 라이브러리 및 데이터 불러오기\n",
    "import pandas as pd\n",
    "import numpy as np\n",
    "\n",
    "df = pd.read_csv('../input/bigdatacertificationkr/basic1.csv')\n",
    "df.head()"
   ]
  },
  {
   "cell_type": "code",
   "execution_count": 8,
   "id": "f2c8dcc8",
   "metadata": {
    "execution": {
     "iopub.execute_input": "2025-06-15T05:35:44.205253Z",
     "iopub.status.busy": "2025-06-15T05:35:44.204198Z",
     "iopub.status.idle": "2025-06-15T05:35:44.207129Z",
     "shell.execute_reply": "2025-06-15T05:35:44.206503Z",
     "shell.execute_reply.started": "2025-06-15T04:00:20.304785Z"
    },
    "papermill": {
     "duration": 0.020515,
     "end_time": "2025-06-15T05:35:44.207273",
     "exception": false,
     "start_time": "2025-06-15T05:35:44.186758",
     "status": "completed"
    },
    "tags": []
   },
   "outputs": [],
   "source": [
    "# f1컬럼 결측치 제거\n",
    "df = df.dropna(subset=['f1'])"
   ]
  },
  {
   "cell_type": "code",
   "execution_count": 9,
   "id": "7c214722",
   "metadata": {
    "execution": {
     "iopub.execute_input": "2025-06-15T05:35:44.238730Z",
     "iopub.status.busy": "2025-06-15T05:35:44.237735Z",
     "iopub.status.idle": "2025-06-15T05:35:44.252054Z",
     "shell.execute_reply": "2025-06-15T05:35:44.251408Z",
     "shell.execute_reply.started": "2025-06-15T04:00:23.580218Z"
    },
    "papermill": {
     "duration": 0.033473,
     "end_time": "2025-06-15T05:35:44.252210",
     "exception": false,
     "start_time": "2025-06-15T05:35:44.218737",
     "status": "completed"
    },
    "tags": []
   },
   "outputs": [
    {
     "data": {
      "text/html": [
       "<div>\n",
       "<style scoped>\n",
       "    .dataframe tbody tr th:only-of-type {\n",
       "        vertical-align: middle;\n",
       "    }\n",
       "\n",
       "    .dataframe tbody tr th {\n",
       "        vertical-align: top;\n",
       "    }\n",
       "\n",
       "    .dataframe thead th {\n",
       "        text-align: right;\n",
       "    }\n",
       "</style>\n",
       "<table border=\"1\" class=\"dataframe\">\n",
       "  <thead>\n",
       "    <tr style=\"text-align: right;\">\n",
       "      <th></th>\n",
       "      <th></th>\n",
       "      <th>age</th>\n",
       "      <th>f1</th>\n",
       "      <th>f5</th>\n",
       "    </tr>\n",
       "    <tr>\n",
       "      <th>city</th>\n",
       "      <th>f2</th>\n",
       "      <th></th>\n",
       "      <th></th>\n",
       "      <th></th>\n",
       "    </tr>\n",
       "  </thead>\n",
       "  <tbody>\n",
       "    <tr>\n",
       "      <th rowspan=\"3\" valign=\"top\">경기</th>\n",
       "      <th>0</th>\n",
       "      <td>720.4</td>\n",
       "      <td>833.0</td>\n",
       "      <td>943.944823</td>\n",
       "    </tr>\n",
       "    <tr>\n",
       "      <th>1</th>\n",
       "      <td>696.0</td>\n",
       "      <td>670.0</td>\n",
       "      <td>657.241212</td>\n",
       "    </tr>\n",
       "    <tr>\n",
       "      <th>2</th>\n",
       "      <td>239.0</td>\n",
       "      <td>311.0</td>\n",
       "      <td>362.300060</td>\n",
       "    </tr>\n",
       "    <tr>\n",
       "      <th rowspan=\"3\" valign=\"top\">대구</th>\n",
       "      <th>0</th>\n",
       "      <td>387.0</td>\n",
       "      <td>527.0</td>\n",
       "      <td>183.199568</td>\n",
       "    </tr>\n",
       "    <tr>\n",
       "      <th>1</th>\n",
       "      <td>217.6</td>\n",
       "      <td>235.0</td>\n",
       "      <td>241.333824</td>\n",
       "    </tr>\n",
       "    <tr>\n",
       "      <th>2</th>\n",
       "      <td>140.0</td>\n",
       "      <td>211.0</td>\n",
       "      <td>79.667919</td>\n",
       "    </tr>\n",
       "    <tr>\n",
       "      <th rowspan=\"3\" valign=\"top\">부산</th>\n",
       "      <th>0</th>\n",
       "      <td>331.0</td>\n",
       "      <td>389.0</td>\n",
       "      <td>284.371097</td>\n",
       "    </tr>\n",
       "    <tr>\n",
       "      <th>1</th>\n",
       "      <td>188.7</td>\n",
       "      <td>315.0</td>\n",
       "      <td>299.270973</td>\n",
       "    </tr>\n",
       "    <tr>\n",
       "      <th>2</th>\n",
       "      <td>-13.5</td>\n",
       "      <td>47.0</td>\n",
       "      <td>67.886373</td>\n",
       "    </tr>\n",
       "    <tr>\n",
       "      <th rowspan=\"3\" valign=\"top\">서울</th>\n",
       "      <th>0</th>\n",
       "      <td>145.0</td>\n",
       "      <td>278.0</td>\n",
       "      <td>218.528577</td>\n",
       "    </tr>\n",
       "    <tr>\n",
       "      <th>1</th>\n",
       "      <td>315.3</td>\n",
       "      <td>534.0</td>\n",
       "      <td>438.485010</td>\n",
       "    </tr>\n",
       "    <tr>\n",
       "      <th>2</th>\n",
       "      <td>68.3</td>\n",
       "      <td>207.0</td>\n",
       "      <td>126.661135</td>\n",
       "    </tr>\n",
       "  </tbody>\n",
       "</table>\n",
       "</div>"
      ],
      "text/plain": [
       "           age     f1          f5\n",
       "city f2                          \n",
       "경기   0   720.4  833.0  943.944823\n",
       "     1   696.0  670.0  657.241212\n",
       "     2   239.0  311.0  362.300060\n",
       "대구   0   387.0  527.0  183.199568\n",
       "     1   217.6  235.0  241.333824\n",
       "     2   140.0  211.0   79.667919\n",
       "부산   0   331.0  389.0  284.371097\n",
       "     1   188.7  315.0  299.270973\n",
       "     2   -13.5   47.0   67.886373\n",
       "서울   0   145.0  278.0  218.528577\n",
       "     1   315.3  534.0  438.485010\n",
       "     2    68.3  207.0  126.661135"
      ]
     },
     "execution_count": 9,
     "metadata": {},
     "output_type": "execute_result"
    }
   ],
   "source": [
    "# 그룹 합계 계산\n",
    "df2 = df.groupby(['city','f2']).sum()\n",
    "df2"
   ]
  },
  {
   "cell_type": "code",
   "execution_count": 10,
   "id": "da8f39c1",
   "metadata": {
    "execution": {
     "iopub.execute_input": "2025-06-15T05:35:44.280972Z",
     "iopub.status.busy": "2025-06-15T05:35:44.280086Z",
     "iopub.status.idle": "2025-06-15T05:35:44.283185Z",
     "shell.execute_reply": "2025-06-15T05:35:44.283663Z",
     "shell.execute_reply.started": "2025-06-15T04:00:25.854612Z"
    },
    "papermill": {
     "duration": 0.02013,
     "end_time": "2025-06-15T05:35:44.283838",
     "exception": false,
     "start_time": "2025-06-15T05:35:44.263708",
     "status": "completed"
    },
    "tags": []
   },
   "outputs": [
    {
     "name": "stdout",
     "output_type": "stream",
     "text": [
      "833.0\n"
     ]
    }
   ],
   "source": [
    "# 조건에 맞는 값 출력\n",
    "print(df2.iloc[0]['f1'])"
   ]
  }
 ],
 "metadata": {
  "kaggle": {
   "accelerator": "none",
   "dataSources": [
    {
     "datasetId": 1633303,
     "sourceId": 12111603,
     "sourceType": "datasetVersion"
    }
   ],
   "dockerImageVersionId": 30129,
   "isGpuEnabled": false,
   "isInternetEnabled": true,
   "language": "python",
   "sourceType": "notebook"
  },
  "kernelspec": {
   "display_name": "Python 3",
   "language": "python",
   "name": "python3"
  },
  "language_info": {
   "codemirror_mode": {
    "name": "ipython",
    "version": 3
   },
   "file_extension": ".py",
   "mimetype": "text/x-python",
   "name": "python",
   "nbconvert_exporter": "python",
   "pygments_lexer": "ipython3",
   "version": "3.7.10"
  },
  "papermill": {
   "default_parameters": {},
   "duration": 9.398993,
   "end_time": "2025-06-15T05:35:44.905720",
   "environment_variables": {},
   "exception": null,
   "input_path": "__notebook__.ipynb",
   "output_path": "__notebook__.ipynb",
   "parameters": {},
   "start_time": "2025-06-15T05:35:35.506727",
   "version": "2.3.3"
  }
 },
 "nbformat": 4,
 "nbformat_minor": 5
}
