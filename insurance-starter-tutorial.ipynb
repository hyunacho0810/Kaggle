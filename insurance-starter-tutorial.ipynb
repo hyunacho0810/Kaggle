{
 "cells": [
  {
   "cell_type": "code",
   "execution_count": 1,
   "id": "ebbb8085",
   "metadata": {
    "_cell_guid": "b1076dfc-b9ad-4769-8c92-a6c4dae69d19",
    "_uuid": "8f2839f25d086af736a60e9eeb907d3b93b6e0e5",
    "execution": {
     "iopub.execute_input": "2025-06-18T13:32:08.786383Z",
     "iopub.status.busy": "2025-06-18T13:32:08.785696Z",
     "iopub.status.idle": "2025-06-18T13:32:09.718885Z",
     "shell.execute_reply": "2025-06-18T13:32:09.719402Z",
     "shell.execute_reply.started": "2021-11-25T00:33:35.276798Z"
    },
    "papermill": {
     "duration": 0.970285,
     "end_time": "2025-06-18T13:32:09.719714",
     "exception": false,
     "start_time": "2025-06-18T13:32:08.749429",
     "status": "completed"
    },
    "tags": []
   },
   "outputs": [
    {
     "data": {
      "text/plain": [
       "((1070, 7), (268, 7), (1070, 2), (268, 2))"
      ]
     },
     "execution_count": 1,
     "metadata": {},
     "output_type": "execute_result"
    }
   ],
   "source": [
    "# 시험환경 세팅 (코드 변경 X)\n",
    "import pandas as pd\n",
    "import numpy as np\n",
    "from sklearn.model_selection import train_test_split\n",
    "\n",
    "def exam_data_load(df, target, id_name=\"\", null_name=\"\"):\n",
    "    if id_name == \"\":\n",
    "        df = df.reset_index().rename(columns={\"index\": \"id\"})\n",
    "        id_name = 'id'\n",
    "    else:\n",
    "        id_name = id_name\n",
    "    \n",
    "    if null_name != \"\":\n",
    "        df[df == null_name] = np.nan\n",
    "    \n",
    "    X_train, X_test = train_test_split(df, test_size=0.2, random_state=2021)\n",
    "    \n",
    "    y_train = X_train[[id_name, target]]\n",
    "    X_train = X_train.drop(columns=[target])\n",
    "\n",
    "    \n",
    "    y_test = X_test[[id_name, target]]\n",
    "    X_test = X_test.drop(columns=[target])\n",
    "    return X_train, X_test, y_train, y_test \n",
    "    \n",
    "df = pd.read_csv(\"../input/insurance/insurance.csv\")\n",
    "X_train, X_test, y_train, y_test = exam_data_load(df, target='charges')\n",
    "\n",
    "X_train.shape, X_test.shape, y_train.shape, y_test.shape"
   ]
  },
  {
   "cell_type": "markdown",
   "id": "39862c35",
   "metadata": {
    "papermill": {
     "duration": 0.023166,
     "end_time": "2025-06-18T13:32:09.767604",
     "exception": false,
     "start_time": "2025-06-18T13:32:09.744438",
     "status": "completed"
    },
    "tags": []
   },
   "source": [
    "# EDA"
   ]
  },
  {
   "cell_type": "code",
   "execution_count": 2,
   "id": "ae5e3192",
   "metadata": {
    "execution": {
     "iopub.execute_input": "2025-06-18T13:32:09.816789Z",
     "iopub.status.busy": "2025-06-18T13:32:09.815876Z",
     "iopub.status.idle": "2025-06-18T13:32:09.829218Z",
     "shell.execute_reply": "2025-06-18T13:32:09.829660Z",
     "shell.execute_reply.started": "2021-11-25T00:33:35.307772Z"
    },
    "papermill": {
     "duration": 0.040693,
     "end_time": "2025-06-18T13:32:09.829878",
     "exception": false,
     "start_time": "2025-06-18T13:32:09.789185",
     "status": "completed"
    },
    "tags": []
   },
   "outputs": [
    {
     "data": {
      "text/html": [
       "<div>\n",
       "<style scoped>\n",
       "    .dataframe tbody tr th:only-of-type {\n",
       "        vertical-align: middle;\n",
       "    }\n",
       "\n",
       "    .dataframe tbody tr th {\n",
       "        vertical-align: top;\n",
       "    }\n",
       "\n",
       "    .dataframe thead th {\n",
       "        text-align: right;\n",
       "    }\n",
       "</style>\n",
       "<table border=\"1\" class=\"dataframe\">\n",
       "  <thead>\n",
       "    <tr style=\"text-align: right;\">\n",
       "      <th></th>\n",
       "      <th>id</th>\n",
       "      <th>age</th>\n",
       "      <th>sex</th>\n",
       "      <th>bmi</th>\n",
       "      <th>children</th>\n",
       "      <th>smoker</th>\n",
       "      <th>region</th>\n",
       "    </tr>\n",
       "  </thead>\n",
       "  <tbody>\n",
       "    <tr>\n",
       "      <th>209</th>\n",
       "      <td>209</td>\n",
       "      <td>40</td>\n",
       "      <td>male</td>\n",
       "      <td>41.230</td>\n",
       "      <td>1</td>\n",
       "      <td>no</td>\n",
       "      <td>northeast</td>\n",
       "    </tr>\n",
       "    <tr>\n",
       "      <th>540</th>\n",
       "      <td>540</td>\n",
       "      <td>34</td>\n",
       "      <td>female</td>\n",
       "      <td>38.000</td>\n",
       "      <td>3</td>\n",
       "      <td>no</td>\n",
       "      <td>southwest</td>\n",
       "    </tr>\n",
       "    <tr>\n",
       "      <th>747</th>\n",
       "      <td>747</td>\n",
       "      <td>19</td>\n",
       "      <td>male</td>\n",
       "      <td>21.755</td>\n",
       "      <td>0</td>\n",
       "      <td>no</td>\n",
       "      <td>northwest</td>\n",
       "    </tr>\n",
       "    <tr>\n",
       "      <th>39</th>\n",
       "      <td>39</td>\n",
       "      <td>60</td>\n",
       "      <td>male</td>\n",
       "      <td>39.900</td>\n",
       "      <td>0</td>\n",
       "      <td>yes</td>\n",
       "      <td>southwest</td>\n",
       "    </tr>\n",
       "    <tr>\n",
       "      <th>640</th>\n",
       "      <td>640</td>\n",
       "      <td>33</td>\n",
       "      <td>male</td>\n",
       "      <td>42.400</td>\n",
       "      <td>5</td>\n",
       "      <td>no</td>\n",
       "      <td>southwest</td>\n",
       "    </tr>\n",
       "  </tbody>\n",
       "</table>\n",
       "</div>"
      ],
      "text/plain": [
       "      id  age     sex     bmi  children smoker     region\n",
       "209  209   40    male  41.230         1     no  northeast\n",
       "540  540   34  female  38.000         3     no  southwest\n",
       "747  747   19    male  21.755         0     no  northwest\n",
       "39    39   60    male  39.900         0    yes  southwest\n",
       "640  640   33    male  42.400         5     no  southwest"
      ]
     },
     "execution_count": 2,
     "metadata": {},
     "output_type": "execute_result"
    }
   ],
   "source": [
    "X_train.head()"
   ]
  },
  {
   "cell_type": "code",
   "execution_count": 3,
   "id": "c02d433a",
   "metadata": {
    "execution": {
     "iopub.execute_input": "2025-06-18T13:32:09.882654Z",
     "iopub.status.busy": "2025-06-18T13:32:09.881873Z",
     "iopub.status.idle": "2025-06-18T13:32:09.886178Z",
     "shell.execute_reply": "2025-06-18T13:32:09.885580Z",
     "shell.execute_reply.started": "2021-11-25T00:33:35.32335Z"
    },
    "papermill": {
     "duration": 0.034658,
     "end_time": "2025-06-18T13:32:09.886332",
     "exception": false,
     "start_time": "2025-06-18T13:32:09.851674",
     "status": "completed"
    },
    "tags": []
   },
   "outputs": [
    {
     "data": {
      "text/html": [
       "<div>\n",
       "<style scoped>\n",
       "    .dataframe tbody tr th:only-of-type {\n",
       "        vertical-align: middle;\n",
       "    }\n",
       "\n",
       "    .dataframe tbody tr th {\n",
       "        vertical-align: top;\n",
       "    }\n",
       "\n",
       "    .dataframe thead th {\n",
       "        text-align: right;\n",
       "    }\n",
       "</style>\n",
       "<table border=\"1\" class=\"dataframe\">\n",
       "  <thead>\n",
       "    <tr style=\"text-align: right;\">\n",
       "      <th></th>\n",
       "      <th>id</th>\n",
       "      <th>charges</th>\n",
       "    </tr>\n",
       "  </thead>\n",
       "  <tbody>\n",
       "    <tr>\n",
       "      <th>209</th>\n",
       "      <td>209</td>\n",
       "      <td>6610.10970</td>\n",
       "    </tr>\n",
       "    <tr>\n",
       "      <th>540</th>\n",
       "      <td>540</td>\n",
       "      <td>6196.44800</td>\n",
       "    </tr>\n",
       "    <tr>\n",
       "      <th>747</th>\n",
       "      <td>747</td>\n",
       "      <td>1627.28245</td>\n",
       "    </tr>\n",
       "    <tr>\n",
       "      <th>39</th>\n",
       "      <td>39</td>\n",
       "      <td>48173.36100</td>\n",
       "    </tr>\n",
       "    <tr>\n",
       "      <th>640</th>\n",
       "      <td>640</td>\n",
       "      <td>6666.24300</td>\n",
       "    </tr>\n",
       "  </tbody>\n",
       "</table>\n",
       "</div>"
      ],
      "text/plain": [
       "      id      charges\n",
       "209  209   6610.10970\n",
       "540  540   6196.44800\n",
       "747  747   1627.28245\n",
       "39    39  48173.36100\n",
       "640  640   6666.24300"
      ]
     },
     "execution_count": 3,
     "metadata": {},
     "output_type": "execute_result"
    }
   ],
   "source": [
    "y_train.head()"
   ]
  },
  {
   "cell_type": "code",
   "execution_count": 4,
   "id": "88b394be",
   "metadata": {
    "execution": {
     "iopub.execute_input": "2025-06-18T13:32:09.937363Z",
     "iopub.status.busy": "2025-06-18T13:32:09.936401Z",
     "iopub.status.idle": "2025-06-18T13:32:10.248940Z",
     "shell.execute_reply": "2025-06-18T13:32:10.248288Z",
     "shell.execute_reply.started": "2021-11-25T00:33:35.335622Z"
    },
    "papermill": {
     "duration": 0.340559,
     "end_time": "2025-06-18T13:32:10.249111",
     "exception": false,
     "start_time": "2025-06-18T13:32:09.908552",
     "status": "completed"
    },
    "tags": []
   },
   "outputs": [
    {
     "data": {
      "text/plain": [
       "<AxesSubplot:>"
      ]
     },
     "execution_count": 4,
     "metadata": {},
     "output_type": "execute_result"
    },
    {
     "data": {
      "image/png": "[encoded data removed]",
      "text/plain": [
       "<Figure size 432x288 with 1 Axes>"
      ]
     },
     "metadata": {
      "needs_background": "light"
     },
     "output_type": "display_data"
    }
   ],
   "source": [
    "y_train['charges'].hist()"
   ]
  },
  {
   "cell_type": "code",
   "execution_count": 5,
   "id": "c40f9a18",
   "metadata": {
    "execution": {
     "iopub.execute_input": "2025-06-18T13:32:10.303100Z",
     "iopub.status.busy": "2025-06-18T13:32:10.300542Z",
     "iopub.status.idle": "2025-06-18T13:32:10.306790Z",
     "shell.execute_reply": "2025-06-18T13:32:10.306226Z",
     "shell.execute_reply.started": "2021-11-25T00:33:35.637296Z"
    },
    "papermill": {
     "duration": 0.03472,
     "end_time": "2025-06-18T13:32:10.306957",
     "exception": false,
     "start_time": "2025-06-18T13:32:10.272237",
     "status": "completed"
    },
    "tags": []
   },
   "outputs": [
    {
     "data": {
      "text/plain": [
       "id          0\n",
       "age         0\n",
       "sex         0\n",
       "bmi         0\n",
       "children    0\n",
       "smoker      0\n",
       "region      0\n",
       "dtype: int64"
      ]
     },
     "execution_count": 5,
     "metadata": {},
     "output_type": "execute_result"
    }
   ],
   "source": [
    "X_train.isnull().sum()"
   ]
  },
  {
   "cell_type": "code",
   "execution_count": 6,
   "id": "67768ec4",
   "metadata": {
    "execution": {
     "iopub.execute_input": "2025-06-18T13:32:10.362702Z",
     "iopub.status.busy": "2025-06-18T13:32:10.361915Z",
     "iopub.status.idle": "2025-06-18T13:32:10.365642Z",
     "shell.execute_reply": "2025-06-18T13:32:10.365137Z",
     "shell.execute_reply.started": "2021-11-25T00:33:35.649455Z"
    },
    "papermill": {
     "duration": 0.035577,
     "end_time": "2025-06-18T13:32:10.365787",
     "exception": false,
     "start_time": "2025-06-18T13:32:10.330210",
     "status": "completed"
    },
    "tags": []
   },
   "outputs": [
    {
     "data": {
      "text/plain": [
       "id          0\n",
       "age         0\n",
       "sex         0\n",
       "bmi         0\n",
       "children    0\n",
       "smoker      0\n",
       "region      0\n",
       "dtype: int64"
      ]
     },
     "execution_count": 6,
     "metadata": {},
     "output_type": "execute_result"
    }
   ],
   "source": [
    "X_test.isnull().sum()"
   ]
  },
  {
   "cell_type": "code",
   "execution_count": 7,
   "id": "fe501b55",
   "metadata": {
    "execution": {
     "iopub.execute_input": "2025-06-18T13:32:10.541513Z",
     "iopub.status.busy": "2025-06-18T13:32:10.540633Z",
     "iopub.status.idle": "2025-06-18T13:32:10.544001Z",
     "shell.execute_reply": "2025-06-18T13:32:10.544475Z",
     "shell.execute_reply.started": "2021-11-25T00:33:35.661111Z"
    },
    "papermill": {
     "duration": 0.155304,
     "end_time": "2025-06-18T13:32:10.544636",
     "exception": false,
     "start_time": "2025-06-18T13:32:10.389332",
     "status": "completed"
    },
    "tags": []
   },
   "outputs": [
    {
     "name": "stdout",
     "output_type": "stream",
     "text": [
      "<class 'pandas.core.frame.DataFrame'>\n",
      "Int64Index: 1070 entries, 209 to 1140\n",
      "Data columns (total 7 columns):\n",
      " #   Column    Non-Null Count  Dtype  \n",
      "---  ------    --------------  -----  \n",
      " 0   id        1070 non-null   int64  \n",
      " 1   age       1070 non-null   int64  \n",
      " 2   sex       1070 non-null   object \n",
      " 3   bmi       1070 non-null   float64\n",
      " 4   children  1070 non-null   int64  \n",
      " 5   smoker    1070 non-null   object \n",
      " 6   region    1070 non-null   object \n",
      "dtypes: float64(1), int64(3), object(3)\n",
      "memory usage: 66.9+ KB\n"
     ]
    }
   ],
   "source": [
    "X_train.info()"
   ]
  },
  {
   "cell_type": "code",
   "execution_count": 8,
   "id": "abfd0635",
   "metadata": {
    "execution": {
     "iopub.execute_input": "2025-06-18T13:32:10.600473Z",
     "iopub.status.busy": "2025-06-18T13:32:10.598787Z",
     "iopub.status.idle": "2025-06-18T13:32:10.603685Z",
     "shell.execute_reply": "2025-06-18T13:32:10.604194Z",
     "shell.execute_reply.started": "2021-11-25T00:33:35.68109Z"
    },
    "papermill": {
     "duration": 0.035926,
     "end_time": "2025-06-18T13:32:10.604368",
     "exception": false,
     "start_time": "2025-06-18T13:32:10.568442",
     "status": "completed"
    },
    "tags": []
   },
   "outputs": [
    {
     "data": {
      "text/plain": [
       "Index(['sex', 'smoker', 'region'], dtype='object')"
      ]
     },
     "execution_count": 8,
     "metadata": {},
     "output_type": "execute_result"
    }
   ],
   "source": [
    "X_train.select_dtypes(\"object\").columns"
   ]
  },
  {
   "cell_type": "code",
   "execution_count": 9,
   "id": "0736cf64",
   "metadata": {
    "execution": {
     "iopub.execute_input": "2025-06-18T13:32:10.669678Z",
     "iopub.status.busy": "2025-06-18T13:32:10.658048Z",
     "iopub.status.idle": "2025-06-18T13:32:10.675493Z",
     "shell.execute_reply": "2025-06-18T13:32:10.674768Z",
     "shell.execute_reply.started": "2021-11-25T00:33:35.690477Z"
    },
    "papermill": {
     "duration": 0.047095,
     "end_time": "2025-06-18T13:32:10.675630",
     "exception": false,
     "start_time": "2025-06-18T13:32:10.628535",
     "status": "completed"
    },
    "tags": []
   },
   "outputs": [
    {
     "name": "stdout",
     "output_type": "stream",
     "text": [
      "\n",
      "===== sex =====\n",
      "[train]\n",
      "male      551\n",
      "female    519\n",
      "Name: sex, dtype: int64\n",
      "[test]\n",
      "female    143\n",
      "male      125\n",
      "Name: sex, dtype: int64\n",
      "\n",
      "===== smoker =====\n",
      "[train]\n",
      "no     845\n",
      "yes    225\n",
      "Name: smoker, dtype: int64\n",
      "[test]\n",
      "no     219\n",
      "yes     49\n",
      "Name: smoker, dtype: int64\n",
      "\n",
      "===== region =====\n",
      "[train]\n",
      "southeast    304\n",
      "northeast    266\n",
      "southwest    261\n",
      "northwest    239\n",
      "Name: region, dtype: int64\n",
      "[test]\n",
      "northwest    86\n",
      "southwest    64\n",
      "southeast    60\n",
      "northeast    58\n",
      "Name: region, dtype: int64\n"
     ]
    }
   ],
   "source": [
    "# Train ['sex', 'smoker', 'region']\n",
    "cols = X_train.select_dtypes(\"object\").columns\n",
    "\n",
    "for col in cols:\n",
    "    print(\"\\n=====\", col, \"=====\")\n",
    "    print(\"[train]\")\n",
    "    print(X_train[col].value_counts())\n",
    "    print(\"[test]\")\n",
    "    print(X_test[col].value_counts())"
   ]
  },
  {
   "cell_type": "markdown",
   "id": "d2ad22fb",
   "metadata": {
    "papermill": {
     "duration": 0.02474,
     "end_time": "2025-06-18T13:32:10.724849",
     "exception": false,
     "start_time": "2025-06-18T13:32:10.700109",
     "status": "completed"
    },
    "tags": []
   },
   "source": [
    "# Preprocessing"
   ]
  },
  {
   "cell_type": "markdown",
   "id": "d85b5481",
   "metadata": {
    "papermill": {
     "duration": 0.023732,
     "end_time": "2025-06-18T13:32:10.776077",
     "exception": false,
     "start_time": "2025-06-18T13:32:10.752345",
     "status": "completed"
    },
    "tags": []
   },
   "source": [
    "## Categorical Variables"
   ]
  },
  {
   "cell_type": "code",
   "execution_count": 10,
   "id": "d803ed25",
   "metadata": {
    "execution": {
     "iopub.execute_input": "2025-06-18T13:32:10.832222Z",
     "iopub.status.busy": "2025-06-18T13:32:10.831566Z",
     "iopub.status.idle": "2025-06-18T13:32:10.842571Z",
     "shell.execute_reply": "2025-06-18T13:32:10.842016Z",
     "shell.execute_reply.started": "2021-11-25T00:33:35.71371Z"
    },
    "papermill": {
     "duration": 0.042427,
     "end_time": "2025-06-18T13:32:10.842702",
     "exception": false,
     "start_time": "2025-06-18T13:32:10.800275",
     "status": "completed"
    },
    "tags": []
   },
   "outputs": [],
   "source": [
    "X_train = pd.get_dummies(X_train, columns = cols)\n",
    "X_test = pd.get_dummies(X_test, columns = cols)"
   ]
  },
  {
   "cell_type": "code",
   "execution_count": 11,
   "id": "1b92fbe1",
   "metadata": {
    "execution": {
     "iopub.execute_input": "2025-06-18T13:32:10.904040Z",
     "iopub.status.busy": "2025-06-18T13:32:10.903284Z",
     "iopub.status.idle": "2025-06-18T13:32:10.906982Z",
     "shell.execute_reply": "2025-06-18T13:32:10.906500Z",
     "shell.execute_reply.started": "2021-11-25T00:33:35.730529Z"
    },
    "papermill": {
     "duration": 0.039742,
     "end_time": "2025-06-18T13:32:10.907118",
     "exception": false,
     "start_time": "2025-06-18T13:32:10.867376",
     "status": "completed"
    },
    "tags": []
   },
   "outputs": [
    {
     "data": {
      "text/html": [
       "<div>\n",
       "<style scoped>\n",
       "    .dataframe tbody tr th:only-of-type {\n",
       "        vertical-align: middle;\n",
       "    }\n",
       "\n",
       "    .dataframe tbody tr th {\n",
       "        vertical-align: top;\n",
       "    }\n",
       "\n",
       "    .dataframe thead th {\n",
       "        text-align: right;\n",
       "    }\n",
       "</style>\n",
       "<table border=\"1\" class=\"dataframe\">\n",
       "  <thead>\n",
       "    <tr style=\"text-align: right;\">\n",
       "      <th></th>\n",
       "      <th>id</th>\n",
       "      <th>age</th>\n",
       "      <th>bmi</th>\n",
       "      <th>children</th>\n",
       "      <th>sex_female</th>\n",
       "      <th>sex_male</th>\n",
       "      <th>smoker_no</th>\n",
       "      <th>smoker_yes</th>\n",
       "      <th>region_northeast</th>\n",
       "      <th>region_northwest</th>\n",
       "      <th>region_southeast</th>\n",
       "      <th>region_southwest</th>\n",
       "    </tr>\n",
       "  </thead>\n",
       "  <tbody>\n",
       "    <tr>\n",
       "      <th>209</th>\n",
       "      <td>209</td>\n",
       "      <td>40</td>\n",
       "      <td>41.23</td>\n",
       "      <td>1</td>\n",
       "      <td>0</td>\n",
       "      <td>1</td>\n",
       "      <td>1</td>\n",
       "      <td>0</td>\n",
       "      <td>1</td>\n",
       "      <td>0</td>\n",
       "      <td>0</td>\n",
       "      <td>0</td>\n",
       "    </tr>\n",
       "    <tr>\n",
       "      <th>540</th>\n",
       "      <td>540</td>\n",
       "      <td>34</td>\n",
       "      <td>38.00</td>\n",
       "      <td>3</td>\n",
       "      <td>1</td>\n",
       "      <td>0</td>\n",
       "      <td>1</td>\n",
       "      <td>0</td>\n",
       "      <td>0</td>\n",
       "      <td>0</td>\n",
       "      <td>0</td>\n",
       "      <td>1</td>\n",
       "    </tr>\n",
       "  </tbody>\n",
       "</table>\n",
       "</div>"
      ],
      "text/plain": [
       "      id  age    bmi  children  sex_female  sex_male  smoker_no  smoker_yes  \\\n",
       "209  209   40  41.23         1           0         1          1           0   \n",
       "540  540   34  38.00         3           1         0          1           0   \n",
       "\n",
       "     region_northeast  region_northwest  region_southeast  region_southwest  \n",
       "209                 1                 0                 0                 0  \n",
       "540                 0                 0                 0                 1  "
      ]
     },
     "execution_count": 11,
     "metadata": {},
     "output_type": "execute_result"
    }
   ],
   "source": [
    "X_train.head(2)"
   ]
  },
  {
   "cell_type": "markdown",
   "id": "45d7d5c5",
   "metadata": {
    "papermill": {
     "duration": 0.02428,
     "end_time": "2025-06-18T13:32:10.956053",
     "exception": false,
     "start_time": "2025-06-18T13:32:10.931773",
     "status": "completed"
    },
    "tags": []
   },
   "source": [
    "## Log Transform"
   ]
  },
  {
   "cell_type": "code",
   "execution_count": 12,
   "id": "446c8408",
   "metadata": {
    "execution": {
     "iopub.execute_input": "2025-06-18T13:32:11.040071Z",
     "iopub.status.busy": "2025-06-18T13:32:11.032437Z",
     "iopub.status.idle": "2025-06-18T13:32:11.279958Z",
     "shell.execute_reply": "2025-06-18T13:32:11.279440Z",
     "shell.execute_reply.started": "2021-11-25T00:33:35.745462Z"
    },
    "papermill": {
     "duration": 0.299228,
     "end_time": "2025-06-18T13:32:11.280121",
     "exception": false,
     "start_time": "2025-06-18T13:32:10.980893",
     "status": "completed"
    },
    "tags": []
   },
   "outputs": [
    {
     "data": {
      "text/plain": [
       "<AxesSubplot:>"
      ]
     },
     "execution_count": 12,
     "metadata": {},
     "output_type": "execute_result"
    },
    {
     "data": {
      "image/png": "[encoded data removed]",
      "text/plain": [
       "<Figure size 432x288 with 1 Axes>"
      ]
     },
     "metadata": {
      "needs_background": "light"
     },
     "output_type": "display_data"
    }
   ],
   "source": [
    "y_train['charges'].hist()"
   ]
  },
  {
   "cell_type": "code",
   "execution_count": 13,
   "id": "b1ea629d",
   "metadata": {
    "execution": {
     "iopub.execute_input": "2025-06-18T13:32:11.336892Z",
     "iopub.status.busy": "2025-06-18T13:32:11.336273Z",
     "iopub.status.idle": "2025-06-18T13:32:11.339486Z",
     "shell.execute_reply": "2025-06-18T13:32:11.338989Z",
     "shell.execute_reply.started": "2021-11-25T00:33:36.048486Z"
    },
    "papermill": {
     "duration": 0.033947,
     "end_time": "2025-06-18T13:32:11.339637",
     "exception": false,
     "start_time": "2025-06-18T13:32:11.305690",
     "status": "completed"
    },
    "tags": []
   },
   "outputs": [],
   "source": [
    "y_train['charges'] = np.log1p(y_train['charges'])"
   ]
  },
  {
   "cell_type": "code",
   "execution_count": 14,
   "id": "6f2494a3",
   "metadata": {
    "execution": {
     "iopub.execute_input": "2025-06-18T13:32:11.417919Z",
     "iopub.status.busy": "2025-06-18T13:32:11.404551Z",
     "iopub.status.idle": "2025-06-18T13:32:11.639257Z",
     "shell.execute_reply": "2025-06-18T13:32:11.638578Z",
     "shell.execute_reply.started": "2021-11-25T00:33:36.055966Z"
    },
    "papermill": {
     "duration": 0.274284,
     "end_time": "2025-06-18T13:32:11.639401",
     "exception": false,
     "start_time": "2025-06-18T13:32:11.365117",
     "status": "completed"
    },
    "tags": []
   },
   "outputs": [
    {
     "data": {
      "text/plain": [
       "<AxesSubplot:>"
      ]
     },
     "execution_count": 14,
     "metadata": {},
     "output_type": "execute_result"
    },
    {
     "data": {
      "image/png": "[encoded data removed]",
      "text/plain": [
       "<Figure size 432x288 with 1 Axes>"
      ]
     },
     "metadata": {
      "needs_background": "light"
     },
     "output_type": "display_data"
    }
   ],
   "source": [
    "y_train['charges'].hist()"
   ]
  },
  {
   "cell_type": "markdown",
   "id": "48d0a8c4",
   "metadata": {
    "papermill": {
     "duration": 0.025654,
     "end_time": "2025-06-18T13:32:11.691575",
     "exception": false,
     "start_time": "2025-06-18T13:32:11.665921",
     "status": "completed"
    },
    "tags": []
   },
   "source": [
    "## Standard Scaler"
   ]
  },
  {
   "cell_type": "code",
   "execution_count": 15,
   "id": "b0420197",
   "metadata": {
    "execution": {
     "iopub.execute_input": "2025-06-18T13:32:11.757922Z",
     "iopub.status.busy": "2025-06-18T13:32:11.757217Z",
     "iopub.status.idle": "2025-06-18T13:32:11.765259Z",
     "shell.execute_reply": "2025-06-18T13:32:11.764641Z",
     "shell.execute_reply.started": "2021-11-25T00:33:36.349429Z"
    },
    "papermill": {
     "duration": 0.047298,
     "end_time": "2025-06-18T13:32:11.765405",
     "exception": false,
     "start_time": "2025-06-18T13:32:11.718107",
     "status": "completed"
    },
    "tags": []
   },
   "outputs": [],
   "source": [
    "from sklearn.preprocessing import StandardScaler\n",
    "scaler = StandardScaler()\n",
    "X_train['bmi'] = scaler.fit_transform(X_train[['bmi']])\n",
    "X_test['bmi'] = scaler.transform(X_test[['bmi']])"
   ]
  },
  {
   "cell_type": "markdown",
   "id": "0d0e8178",
   "metadata": {
    "papermill": {
     "duration": 0.027606,
     "end_time": "2025-06-18T13:32:11.819369",
     "exception": false,
     "start_time": "2025-06-18T13:32:11.791763",
     "status": "completed"
    },
    "tags": []
   },
   "source": [
    "## label encoding"
   ]
  },
  {
   "cell_type": "code",
   "execution_count": 16,
   "id": "0d57637e",
   "metadata": {
    "execution": {
     "iopub.execute_input": "2025-06-18T13:32:11.879517Z",
     "iopub.status.busy": "2025-06-18T13:32:11.878669Z",
     "iopub.status.idle": "2025-06-18T13:32:11.881459Z",
     "shell.execute_reply": "2025-06-18T13:32:11.880885Z",
     "shell.execute_reply.started": "2021-11-25T00:33:36.363754Z"
    },
    "papermill": {
     "duration": 0.036092,
     "end_time": "2025-06-18T13:32:11.881590",
     "exception": false,
     "start_time": "2025-06-18T13:32:11.845498",
     "status": "completed"
    },
    "tags": []
   },
   "outputs": [],
   "source": [
    "# 나이를 10대, 20대, 30대로 구분하기 위해 10을 나눈 몫 값만 구함\n",
    "X_train['age'] = X_train['age'].apply(lambda x: x//10)\n",
    "X_test['age'] = X_test['age'].apply(lambda x: x//10)"
   ]
  },
  {
   "cell_type": "code",
   "execution_count": 17,
   "id": "2b3e3b3b",
   "metadata": {
    "execution": {
     "iopub.execute_input": "2025-06-18T13:32:11.946521Z",
     "iopub.status.busy": "2025-06-18T13:32:11.945861Z",
     "iopub.status.idle": "2025-06-18T13:32:11.948988Z",
     "shell.execute_reply": "2025-06-18T13:32:11.949407Z",
     "shell.execute_reply.started": "2021-11-25T00:33:36.373144Z"
    },
    "papermill": {
     "duration": 0.041719,
     "end_time": "2025-06-18T13:32:11.949571",
     "exception": false,
     "start_time": "2025-06-18T13:32:11.907852",
     "status": "completed"
    },
    "tags": []
   },
   "outputs": [
    {
     "data": {
      "text/html": [
       "<div>\n",
       "<style scoped>\n",
       "    .dataframe tbody tr th:only-of-type {\n",
       "        vertical-align: middle;\n",
       "    }\n",
       "\n",
       "    .dataframe tbody tr th {\n",
       "        vertical-align: top;\n",
       "    }\n",
       "\n",
       "    .dataframe thead th {\n",
       "        text-align: right;\n",
       "    }\n",
       "</style>\n",
       "<table border=\"1\" class=\"dataframe\">\n",
       "  <thead>\n",
       "    <tr style=\"text-align: right;\">\n",
       "      <th></th>\n",
       "      <th>id</th>\n",
       "      <th>age</th>\n",
       "      <th>bmi</th>\n",
       "      <th>children</th>\n",
       "      <th>sex_female</th>\n",
       "      <th>sex_male</th>\n",
       "      <th>smoker_no</th>\n",
       "      <th>smoker_yes</th>\n",
       "      <th>region_northeast</th>\n",
       "      <th>region_northwest</th>\n",
       "      <th>region_southeast</th>\n",
       "      <th>region_southwest</th>\n",
       "    </tr>\n",
       "  </thead>\n",
       "  <tbody>\n",
       "    <tr>\n",
       "      <th>209</th>\n",
       "      <td>209</td>\n",
       "      <td>4</td>\n",
       "      <td>1.707232</td>\n",
       "      <td>1</td>\n",
       "      <td>0</td>\n",
       "      <td>1</td>\n",
       "      <td>1</td>\n",
       "      <td>0</td>\n",
       "      <td>1</td>\n",
       "      <td>0</td>\n",
       "      <td>0</td>\n",
       "      <td>0</td>\n",
       "    </tr>\n",
       "    <tr>\n",
       "      <th>540</th>\n",
       "      <td>540</td>\n",
       "      <td>3</td>\n",
       "      <td>1.180775</td>\n",
       "      <td>3</td>\n",
       "      <td>1</td>\n",
       "      <td>0</td>\n",
       "      <td>1</td>\n",
       "      <td>0</td>\n",
       "      <td>0</td>\n",
       "      <td>0</td>\n",
       "      <td>0</td>\n",
       "      <td>1</td>\n",
       "    </tr>\n",
       "    <tr>\n",
       "      <th>747</th>\n",
       "      <td>747</td>\n",
       "      <td>1</td>\n",
       "      <td>-1.466991</td>\n",
       "      <td>0</td>\n",
       "      <td>0</td>\n",
       "      <td>1</td>\n",
       "      <td>1</td>\n",
       "      <td>0</td>\n",
       "      <td>0</td>\n",
       "      <td>1</td>\n",
       "      <td>0</td>\n",
       "      <td>0</td>\n",
       "    </tr>\n",
       "  </tbody>\n",
       "</table>\n",
       "</div>"
      ],
      "text/plain": [
       "      id  age       bmi  children  sex_female  sex_male  smoker_no  \\\n",
       "209  209    4  1.707232         1           0         1          1   \n",
       "540  540    3  1.180775         3           1         0          1   \n",
       "747  747    1 -1.466991         0           0         1          1   \n",
       "\n",
       "     smoker_yes  region_northeast  region_northwest  region_southeast  \\\n",
       "209           0                 1                 0                 0   \n",
       "540           0                 0                 0                 0   \n",
       "747           0                 0                 1                 0   \n",
       "\n",
       "     region_southwest  \n",
       "209                 0  \n",
       "540                 1  \n",
       "747                 0  "
      ]
     },
     "execution_count": 17,
     "metadata": {},
     "output_type": "execute_result"
    }
   ],
   "source": [
    "X_train.head(3)"
   ]
  },
  {
   "cell_type": "markdown",
   "id": "fc1d01ae",
   "metadata": {
    "papermill": {
     "duration": 0.026433,
     "end_time": "2025-06-18T13:32:12.003309",
     "exception": false,
     "start_time": "2025-06-18T13:32:11.976876",
     "status": "completed"
    },
    "tags": []
   },
   "source": [
    "## Train-Validation Split"
   ]
  },
  {
   "cell_type": "code",
   "execution_count": 18,
   "id": "613e1710",
   "metadata": {
    "execution": {
     "iopub.execute_input": "2025-06-18T13:32:12.065116Z",
     "iopub.status.busy": "2025-06-18T13:32:12.064102Z",
     "iopub.status.idle": "2025-06-18T13:32:12.067333Z",
     "shell.execute_reply": "2025-06-18T13:32:12.067770Z",
     "shell.execute_reply.started": "2021-11-25T00:33:36.392662Z"
    },
    "papermill": {
     "duration": 0.037721,
     "end_time": "2025-06-18T13:32:12.067997",
     "exception": false,
     "start_time": "2025-06-18T13:32:12.030276",
     "status": "completed"
    },
    "tags": []
   },
   "outputs": [
    {
     "name": "stderr",
     "output_type": "stream",
     "text": [
      "/opt/conda/lib/python3.7/site-packages/ipykernel_launcher.py:2: FutureWarning: In a future version of pandas all arguments of DataFrame.drop except for the argument 'labels' will be keyword-only\n",
      "  \n"
     ]
    }
   ],
   "source": [
    "target = y_train['charges']\n",
    "X_train = X_train.drop('id', 1)"
   ]
  },
  {
   "cell_type": "code",
   "execution_count": 19,
   "id": "768620c0",
   "metadata": {
    "execution": {
     "iopub.execute_input": "2025-06-18T13:32:12.127832Z",
     "iopub.status.busy": "2025-06-18T13:32:12.127040Z",
     "iopub.status.idle": "2025-06-18T13:32:12.133199Z",
     "shell.execute_reply": "2025-06-18T13:32:12.133606Z",
     "shell.execute_reply.started": "2021-11-25T00:33:36.404977Z"
    },
    "papermill": {
     "duration": 0.038845,
     "end_time": "2025-06-18T13:32:12.133773",
     "exception": false,
     "start_time": "2025-06-18T13:32:12.094928",
     "status": "completed"
    },
    "tags": []
   },
   "outputs": [
    {
     "data": {
      "text/plain": [
       "((909, 11), (161, 11), (909,), (161,))"
      ]
     },
     "execution_count": 19,
     "metadata": {},
     "output_type": "execute_result"
    }
   ],
   "source": [
    "from sklearn.model_selection import train_test_split\n",
    "X_tr, X_val, y_tr, y_val = train_test_split(X_train, target, test_size=0.15, random_state=2022)\n",
    "X_tr.shape, X_val.shape, y_tr.shape, y_val.shape"
   ]
  },
  {
   "cell_type": "code",
   "execution_count": 20,
   "id": "aea17a3a",
   "metadata": {
    "execution": {
     "iopub.execute_input": "2025-06-18T13:32:12.193110Z",
     "iopub.status.busy": "2025-06-18T13:32:12.192480Z",
     "iopub.status.idle": "2025-06-18T13:32:12.703045Z",
     "shell.execute_reply": "2025-06-18T13:32:12.702504Z",
     "shell.execute_reply.started": "2021-11-25T00:33:36.417155Z"
    },
    "papermill": {
     "duration": 0.542238,
     "end_time": "2025-06-18T13:32:12.703213",
     "exception": false,
     "start_time": "2025-06-18T13:32:12.160975",
     "status": "completed"
    },
    "tags": []
   },
   "outputs": [],
   "source": [
    "from sklearn.ensemble import RandomForestRegressor\n",
    "\n",
    "rf = RandomForestRegressor()\n",
    "rf.fit(X_tr, y_tr)\n",
    "pred = rf.predict(X_val)"
   ]
  },
  {
   "cell_type": "code",
   "execution_count": 21,
   "id": "91d07497",
   "metadata": {
    "execution": {
     "iopub.execute_input": "2025-06-18T13:32:12.768842Z",
     "iopub.status.busy": "2025-06-18T13:32:12.767870Z",
     "iopub.status.idle": "2025-06-18T13:32:12.771770Z",
     "shell.execute_reply": "2025-06-18T13:32:12.771195Z",
     "shell.execute_reply.started": "2021-11-25T00:33:36.791186Z"
    },
    "papermill": {
     "duration": 0.041385,
     "end_time": "2025-06-18T13:32:12.771967",
     "exception": false,
     "start_time": "2025-06-18T13:32:12.730582",
     "status": "completed"
    },
    "tags": []
   },
   "outputs": [
    {
     "data": {
      "text/plain": [
       "0.3884335091377694"
      ]
     },
     "execution_count": 21,
     "metadata": {},
     "output_type": "execute_result"
    }
   ],
   "source": [
    "from sklearn.metrics import mean_squared_error\n",
    "def rmse2(y_true, y_pred):\n",
    "    return np.sqrt(mean_squared_error(y_true, y_pred))\n",
    "\n",
    "rmse2(y_val, pred)"
   ]
  },
  {
   "cell_type": "code",
   "execution_count": 22,
   "id": "680dc861",
   "metadata": {
    "execution": {
     "iopub.execute_input": "2025-06-18T13:32:12.898602Z",
     "iopub.status.busy": "2025-06-18T13:32:12.897950Z",
     "iopub.status.idle": "2025-06-18T13:32:12.900796Z",
     "shell.execute_reply": "2025-06-18T13:32:12.901316Z",
     "shell.execute_reply.started": "2021-11-25T00:33:36.800502Z"
    },
    "papermill": {
     "duration": 0.037729,
     "end_time": "2025-06-18T13:32:12.901493",
     "exception": false,
     "start_time": "2025-06-18T13:32:12.863764",
     "status": "completed"
    },
    "tags": []
   },
   "outputs": [
    {
     "data": {
      "text/plain": [
       "0.3884335091377694"
      ]
     },
     "execution_count": 22,
     "metadata": {},
     "output_type": "execute_result"
    }
   ],
   "source": [
    "def rmse(y_true, y_pred):\n",
    "    return np.sqrt(np.mean((y_true-y_pred)**2))\n",
    "\n",
    "rmse(y_val, pred)"
   ]
  },
  {
   "cell_type": "code",
   "execution_count": 23,
   "id": "614eb9ec",
   "metadata": {
    "execution": {
     "iopub.execute_input": "2025-06-18T13:32:12.964237Z",
     "iopub.status.busy": "2025-06-18T13:32:12.963471Z",
     "iopub.status.idle": "2025-06-18T13:32:13.429398Z",
     "shell.execute_reply": "2025-06-18T13:32:13.428787Z",
     "shell.execute_reply.started": "2021-11-25T00:33:36.811607Z"
    },
    "papermill": {
     "duration": 0.499496,
     "end_time": "2025-06-18T13:32:13.429562",
     "exception": false,
     "start_time": "2025-06-18T13:32:12.930066",
     "status": "completed"
    },
    "tags": []
   },
   "outputs": [],
   "source": [
    "from xgboost import XGBRegressor\n",
    "\n",
    "xgb = XGBRegressor()\n",
    "xgb.fit(X_tr, y_tr)\n",
    "pred = xgb.predict(X_val)"
   ]
  },
  {
   "cell_type": "code",
   "execution_count": 24,
   "id": "7dca2b02",
   "metadata": {
    "execution": {
     "iopub.execute_input": "2025-06-18T13:32:13.493590Z",
     "iopub.status.busy": "2025-06-18T13:32:13.492909Z",
     "iopub.status.idle": "2025-06-18T13:32:13.496690Z",
     "shell.execute_reply": "2025-06-18T13:32:13.496114Z",
     "shell.execute_reply.started": "2021-11-25T00:33:37.162889Z"
    },
    "papermill": {
     "duration": 0.036969,
     "end_time": "2025-06-18T13:32:13.496850",
     "exception": false,
     "start_time": "2025-06-18T13:32:13.459881",
     "status": "completed"
    },
    "tags": []
   },
   "outputs": [
    {
     "data": {
      "text/plain": [
       "0.39580148944349686"
      ]
     },
     "execution_count": 24,
     "metadata": {},
     "output_type": "execute_result"
    }
   ],
   "source": [
    "rmse2(y_val, pred)"
   ]
  },
  {
   "cell_type": "code",
   "execution_count": 25,
   "id": "5de9fa74",
   "metadata": {
    "execution": {
     "iopub.execute_input": "2025-06-18T13:32:13.587751Z",
     "iopub.status.busy": "2025-06-18T13:32:13.582373Z",
     "iopub.status.idle": "2025-06-18T13:32:13.916133Z",
     "shell.execute_reply": "2025-06-18T13:32:13.916601Z",
     "shell.execute_reply.started": "2021-11-25T00:33:37.170768Z"
    },
    "papermill": {
     "duration": 0.391079,
     "end_time": "2025-06-18T13:32:13.916766",
     "exception": false,
     "start_time": "2025-06-18T13:32:13.525687",
     "status": "completed"
    },
    "tags": []
   },
   "outputs": [
    {
     "name": "stderr",
     "output_type": "stream",
     "text": [
      "/opt/conda/lib/python3.7/site-packages/ipykernel_launcher.py:2: FutureWarning: In a future version of pandas all arguments of DataFrame.drop except for the argument 'labels' will be keyword-only\n",
      "  \n"
     ]
    }
   ],
   "source": [
    "rf.fit(X_train, y_train['charges'])\n",
    "pred = rf.predict(X_test.drop('id',1))"
   ]
  },
  {
   "cell_type": "code",
   "execution_count": 26,
   "id": "77900987",
   "metadata": {
    "execution": {
     "iopub.execute_input": "2025-06-18T13:32:13.986018Z",
     "iopub.status.busy": "2025-06-18T13:32:13.985113Z",
     "iopub.status.idle": "2025-06-18T13:32:13.989282Z",
     "shell.execute_reply": "2025-06-18T13:32:13.988763Z",
     "shell.execute_reply.started": "2021-11-25T00:33:37.554234Z"
    },
    "papermill": {
     "duration": 0.043942,
     "end_time": "2025-06-18T13:32:13.989419",
     "exception": false,
     "start_time": "2025-06-18T13:32:13.945477",
     "status": "completed"
    },
    "tags": []
   },
   "outputs": [
    {
     "data": {
      "text/html": [
       "<div>\n",
       "<style scoped>\n",
       "    .dataframe tbody tr th:only-of-type {\n",
       "        vertical-align: middle;\n",
       "    }\n",
       "\n",
       "    .dataframe tbody tr th {\n",
       "        vertical-align: top;\n",
       "    }\n",
       "\n",
       "    .dataframe thead th {\n",
       "        text-align: right;\n",
       "    }\n",
       "</style>\n",
       "<table border=\"1\" class=\"dataframe\">\n",
       "  <thead>\n",
       "    <tr style=\"text-align: right;\">\n",
       "      <th></th>\n",
       "      <th>id</th>\n",
       "      <th>charges</th>\n",
       "    </tr>\n",
       "  </thead>\n",
       "  <tbody>\n",
       "    <tr>\n",
       "      <th>1088</th>\n",
       "      <td>1088</td>\n",
       "      <td>9488.794370</td>\n",
       "    </tr>\n",
       "    <tr>\n",
       "      <th>1157</th>\n",
       "      <td>1157</td>\n",
       "      <td>4241.683872</td>\n",
       "    </tr>\n",
       "    <tr>\n",
       "      <th>1267</th>\n",
       "      <td>1267</td>\n",
       "      <td>34194.813215</td>\n",
       "    </tr>\n",
       "    <tr>\n",
       "      <th>506</th>\n",
       "      <td>506</td>\n",
       "      <td>2863.397429</td>\n",
       "    </tr>\n",
       "    <tr>\n",
       "      <th>659</th>\n",
       "      <td>659</td>\n",
       "      <td>12570.277827</td>\n",
       "    </tr>\n",
       "  </tbody>\n",
       "</table>\n",
       "</div>"
      ],
      "text/plain": [
       "        id       charges\n",
       "1088  1088   9488.794370\n",
       "1157  1157   4241.683872\n",
       "1267  1267  34194.813215\n",
       "506    506   2863.397429\n",
       "659    659  12570.277827"
      ]
     },
     "execution_count": 26,
     "metadata": {},
     "output_type": "execute_result"
    }
   ],
   "source": [
    "pred = np.exp(pred)\n",
    "output = pd.DataFrame({'id': y_test['id'], 'charges':pred})\n",
    "output.head()"
   ]
  },
  {
   "cell_type": "code",
   "execution_count": 27,
   "id": "9176621d",
   "metadata": {
    "execution": {
     "iopub.execute_input": "2025-06-18T13:32:14.052187Z",
     "iopub.status.busy": "2025-06-18T13:32:14.051484Z",
     "iopub.status.idle": "2025-06-18T13:32:14.056938Z",
     "shell.execute_reply": "2025-06-18T13:32:14.057443Z",
     "shell.execute_reply.started": "2021-11-25T00:33:37.56745Z"
    },
    "papermill": {
     "duration": 0.03923,
     "end_time": "2025-06-18T13:32:14.057610",
     "exception": false,
     "start_time": "2025-06-18T13:32:14.018380",
     "status": "completed"
    },
    "tags": []
   },
   "outputs": [],
   "source": [
    "output.to_csv(\"000000.csv\", index=False)"
   ]
  },
  {
   "cell_type": "markdown",
   "id": "cd2362bc",
   "metadata": {
    "papermill": {
     "duration": 0.03029,
     "end_time": "2025-06-18T13:32:14.118121",
     "exception": false,
     "start_time": "2025-06-18T13:32:14.087831",
     "status": "completed"
    },
    "tags": []
   },
   "source": [
    "# 결과 체점"
   ]
  },
  {
   "cell_type": "code",
   "execution_count": 28,
   "id": "61a14459",
   "metadata": {
    "execution": {
     "iopub.execute_input": "2025-06-18T13:32:14.184893Z",
     "iopub.status.busy": "2025-06-18T13:32:14.184195Z",
     "iopub.status.idle": "2025-06-18T13:32:14.187749Z",
     "shell.execute_reply": "2025-06-18T13:32:14.187304Z",
     "shell.execute_reply.started": "2021-11-25T00:33:37.581059Z"
    },
    "papermill": {
     "duration": 0.039785,
     "end_time": "2025-06-18T13:32:14.187914",
     "exception": false,
     "start_time": "2025-06-18T13:32:14.148129",
     "status": "completed"
    },
    "tags": []
   },
   "outputs": [
    {
     "data": {
      "text/plain": [
       "4740.231297022407"
      ]
     },
     "execution_count": 28,
     "metadata": {},
     "output_type": "execute_result"
    }
   ],
   "source": [
    "rmse(y_test['charges'], pred)"
   ]
  },
  {
   "cell_type": "code",
   "execution_count": null,
   "id": "75e78817",
   "metadata": {
    "papermill": {
     "duration": 0.029968,
     "end_time": "2025-06-18T13:32:14.247748",
     "exception": false,
     "start_time": "2025-06-18T13:32:14.217780",
     "status": "completed"
    },
    "tags": []
   },
   "outputs": [],
   "source": []
  },
  {
   "cell_type": "code",
   "execution_count": null,
   "id": "46d55f98",
   "metadata": {
    "papermill": {
     "duration": 0.029285,
     "end_time": "2025-06-18T13:32:14.306372",
     "exception": false,
     "start_time": "2025-06-18T13:32:14.277087",
     "status": "completed"
    },
    "tags": []
   },
   "outputs": [],
   "source": []
  },
  {
   "cell_type": "code",
   "execution_count": null,
   "id": "040d8da0",
   "metadata": {
    "papermill": {
     "duration": 0.028575,
     "end_time": "2025-06-18T13:32:14.364352",
     "exception": false,
     "start_time": "2025-06-18T13:32:14.335777",
     "status": "completed"
    },
    "tags": []
   },
   "outputs": [],
   "source": []
  },
  {
   "cell_type": "code",
   "execution_count": null,
   "id": "4d1dd197",
   "metadata": {
    "papermill": {
     "duration": 0.029053,
     "end_time": "2025-06-18T13:32:14.422525",
     "exception": false,
     "start_time": "2025-06-18T13:32:14.393472",
     "status": "completed"
    },
    "tags": []
   },
   "outputs": [],
   "source": []
  }
 ],
 "metadata": {
  "kaggle": {
   "accelerator": "none",
   "dataSources": [
    {
     "datasetId": 13720,
     "sourceId": 18513,
     "sourceType": "datasetVersion"
    },
    {
     "datasetId": 1633303,
     "sourceId": 12189494,
     "sourceType": "datasetVersion"
    }
   ],
   "dockerImageVersionId": 30145,
   "isGpuEnabled": false,
   "isInternetEnabled": true,
   "language": "python",
   "sourceType": "notebook"
  },
  "kernelspec": {
   "display_name": "Python 3",
   "language": "python",
   "name": "python3"
  },
  "language_info": {
   "codemirror_mode": {
    "name": "ipython",
    "version": 3
   },
   "file_extension": ".py",
   "mimetype": "text/x-python",
   "name": "python",
   "nbconvert_exporter": "python",
   "pygments_lexer": "ipython3",
   "version": "3.7.10"
  },
  "papermill": {
   "default_parameters": {},
   "duration": 14.978491,
   "end_time": "2025-06-18T13:32:15.161561",
   "environment_variables": {},
   "exception": null,
   "input_path": "__notebook__.ipynb",
   "output_path": "__notebook__.ipynb",
   "parameters": {},
   "start_time": "2025-06-18T13:32:00.183070",
   "version": "2.3.3"
  }
 },
 "nbformat": 4,
 "nbformat_minor": 5
}
