{
 "cells": [
  {
   "cell_type": "markdown",
   "id": "d28fbc90",
   "metadata": {
    "papermill": {
     "duration": 0.009154,
     "end_time": "2025-06-16T03:59:03.486538",
     "exception": false,
     "start_time": "2025-06-16T03:59:03.477384",
     "status": "completed"
    },
    "tags": []
   },
   "source": [
    "### 주어진 데이터 셋에서 'f2' 컬럼이 1인 조건에 해당하는 데이터의 'f1'컬럼 누적합을 계산한다. 이때 발생하는 누적합 결측치는 바로 뒤의 값을 채우고, 누적합의 평균값을 출력한다. (단, 결측치 바로 뒤의 값이 없으면 다음에 나오는 값을 채워넣는다)\n",
    "\n",
    "- 데이터셋 : basic1.csv\n",
    "- 오른쪽 상단 copy&edit 클릭 -> 예상문제 풀이 시작"
   ]
  },
  {
   "cell_type": "code",
   "execution_count": 1,
   "id": "a7d7527d",
   "metadata": {
    "execution": {
     "iopub.execute_input": "2025-06-16T03:59:03.514983Z",
     "iopub.status.busy": "2025-06-16T03:59:03.512604Z",
     "iopub.status.idle": "2025-06-16T03:59:03.565226Z",
     "shell.execute_reply": "2025-06-16T03:59:03.564348Z",
     "shell.execute_reply.started": "2025-06-15T05:37:38.877095Z"
    },
    "papermill": {
     "duration": 0.069422,
     "end_time": "2025-06-16T03:59:03.565403",
     "exception": false,
     "start_time": "2025-06-16T03:59:03.495981",
     "status": "completed"
    },
    "tags": []
   },
   "outputs": [
    {
     "name": "stdout",
     "output_type": "stream",
     "text": [
      "     id   age city     f1  f2   f3    f4         f5\n",
      "0  id01   2.0   서울    NaN   0  NaN  ENFJ  91.297791\n",
      "1  id02   9.0   서울   70.0   1  NaN  ENFJ  60.339826\n",
      "2  id03  27.0   서울   61.0   1  NaN  ISTJ  17.252986\n",
      "3  id04  75.0   서울    NaN   2  NaN  INFP  52.667078\n",
      "4  id05  24.0   서울   85.0   2  NaN  ISFJ  29.269869\n",
      "5  id06  22.0   서울   57.0   0  vip  INTP  20.129444\n",
      "6  id07  36.3   서울   60.0   1  NaN  ISFJ   9.796378\n",
      "7  id08  38.0   서울  101.0   1  NaN  INFJ  83.685380\n",
      "8  id09   3.3   서울   35.0   2  NaN  ESFJ  17.252986\n",
      "9  id10  95.0   서울   74.0   1  NaN  ISFP  98.429899\n",
      "--------------\n",
      "<class 'pandas.core.frame.DataFrame'>\n",
      "RangeIndex: 100 entries, 0 to 99\n",
      "Data columns (total 8 columns):\n",
      " #   Column  Non-Null Count  Dtype  \n",
      "---  ------  --------------  -----  \n",
      " 0   id      100 non-null    object \n",
      " 1   age     100 non-null    float64\n",
      " 2   city    100 non-null    object \n",
      " 3   f1      69 non-null     float64\n",
      " 4   f2      100 non-null    int64  \n",
      " 5   f3      5 non-null      object \n",
      " 6   f4      100 non-null    object \n",
      " 7   f5      100 non-null    float64\n",
      "dtypes: float64(3), int64(1), object(4)\n",
      "memory usage: 6.4+ KB\n",
      "None\n"
     ]
    }
   ],
   "source": [
    "# 라이브러리 및 데이터 불러오기\n",
    "import pandas as pd\n",
    "df=pd.read_csv(\"/kaggle/input/bigdatacertificationkr/basic1.csv\")\n",
    "print(df.head(10))\n",
    "print('--------------')\n",
    "print(df.info())"
   ]
  },
  {
   "cell_type": "code",
   "execution_count": 2,
   "id": "fae766c9",
   "metadata": {
    "execution": {
     "iopub.execute_input": "2025-06-16T03:59:03.593172Z",
     "iopub.status.busy": "2025-06-16T03:59:03.592366Z",
     "iopub.status.idle": "2025-06-16T03:59:03.596138Z",
     "shell.execute_reply": "2025-06-16T03:59:03.595535Z",
     "shell.execute_reply.started": "2025-06-15T05:45:53.134747Z"
    },
    "papermill": {
     "duration": 0.022087,
     "end_time": "2025-06-16T03:59:03.596299",
     "exception": false,
     "start_time": "2025-06-16T03:59:03.574212",
     "status": "completed"
    },
    "tags": []
   },
   "outputs": [
    {
     "name": "stdout",
     "output_type": "stream",
     "text": [
      "1      70.0\n",
      "2     131.0\n",
      "6     191.0\n",
      "7     292.0\n",
      "9     366.0\n",
      "13    416.0\n",
      "14    483.0\n",
      "16      NaN\n",
      "19    534.0\n",
      "20      NaN\n",
      "Name: f1, dtype: float64\n"
     ]
    }
   ],
   "source": [
    "# 조건에 따른 누적합\n",
    "# 누적합은 cumsum으로 계산한다. \n",
    "cond1=df['f2']==1\n",
    "\n",
    "# 누적합은 새로운 df에 저장\n",
    "df2 = df[cond1]['f1'].cumsum()\n",
    "print(df2.head(10))"
   ]
  },
  {
   "cell_type": "code",
   "execution_count": 3,
   "id": "e952c161",
   "metadata": {
    "execution": {
     "iopub.execute_input": "2025-06-16T03:59:03.627764Z",
     "iopub.status.busy": "2025-06-16T03:59:03.624902Z",
     "iopub.status.idle": "2025-06-16T03:59:03.631127Z",
     "shell.execute_reply": "2025-06-16T03:59:03.630476Z",
     "shell.execute_reply.started": "2025-06-15T05:46:46.391000Z"
    },
    "papermill": {
     "duration": 0.023988,
     "end_time": "2025-06-16T03:59:03.631271",
     "exception": false,
     "start_time": "2025-06-16T03:59:03.607283",
     "status": "completed"
    },
    "tags": []
   },
   "outputs": [
    {
     "name": "stdout",
     "output_type": "stream",
     "text": [
      "1      70.0\n",
      "2     131.0\n",
      "6     191.0\n",
      "7     292.0\n",
      "9     366.0\n",
      "13    416.0\n",
      "14    483.0\n",
      "16    534.0\n",
      "19    534.0\n",
      "20    606.0\n",
      "Name: f1, dtype: float64\n"
     ]
    }
   ],
   "source": [
    "# 결측치 처리 (뒤에 나오는 값으로 채움)\n",
    "df2 = df2.fillna(method = 'bfill')\n",
    "\n",
    "print(df2.head(10))\n",
    "    "
   ]
  },
  {
   "cell_type": "code",
   "execution_count": 4,
   "id": "60497950",
   "metadata": {
    "execution": {
     "iopub.execute_input": "2025-06-16T03:59:03.654235Z",
     "iopub.status.busy": "2025-06-16T03:59:03.653366Z",
     "iopub.status.idle": "2025-06-16T03:59:03.656447Z",
     "shell.execute_reply": "2025-06-16T03:59:03.656952Z",
     "shell.execute_reply.started": "2025-06-15T05:47:19.080231Z"
    },
    "papermill": {
     "duration": 0.017262,
     "end_time": "2025-06-16T03:59:03.657138",
     "exception": false,
     "start_time": "2025-06-16T03:59:03.639876",
     "status": "completed"
    },
    "tags": []
   },
   "outputs": [
    {
     "name": "stdout",
     "output_type": "stream",
     "text": [
      "980.3783783783783\n"
     ]
    }
   ],
   "source": [
    "# 평균 출력\n",
    "print(df2.mean())"
   ]
  },
  {
   "cell_type": "markdown",
   "id": "b4dd0b1d",
   "metadata": {
    "papermill": {
     "duration": 0.008423,
     "end_time": "2025-06-16T03:59:03.674513",
     "exception": false,
     "start_time": "2025-06-16T03:59:03.666090",
     "status": "completed"
    },
    "tags": []
   },
   "source": [
    "## Hint"
   ]
  },
  {
   "cell_type": "code",
   "execution_count": 5,
   "id": "e045691d",
   "metadata": {
    "execution": {
     "iopub.execute_input": "2025-06-16T03:59:03.704433Z",
     "iopub.status.busy": "2025-06-16T03:59:03.703416Z",
     "iopub.status.idle": "2025-06-16T03:59:03.708359Z",
     "shell.execute_reply": "2025-06-16T03:59:03.708806Z",
     "shell.execute_reply.started": "2021-10-15T04:52:09.22491Z"
    },
    "papermill": {
     "duration": 0.02554,
     "end_time": "2025-06-16T03:59:03.708990",
     "exception": false,
     "start_time": "2025-06-16T03:59:03.683450",
     "status": "completed"
    },
    "tags": []
   },
   "outputs": [
    {
     "name": "stdout",
     "output_type": "stream",
     "text": [
      "0     NaN\n",
      "1     퇴근후\n",
      "2     NaN\n",
      "3      딴짓\n",
      "4     NaN\n",
      "5      22\n",
      "6     NaN\n",
      "7      45\n",
      "8     NaN\n",
      "9     NaN\n",
      "10     60\n",
      "dtype: object\n"
     ]
    },
    {
     "data": {
      "text/plain": [
       "0     퇴근후\n",
       "1     퇴근후\n",
       "2      딴짓\n",
       "3      딴짓\n",
       "4      22\n",
       "5      22\n",
       "6      45\n",
       "7      45\n",
       "8      60\n",
       "9      60\n",
       "10     60\n",
       "dtype: object"
      ]
     },
     "execution_count": 5,
     "metadata": {},
     "output_type": "execute_result"
    }
   ],
   "source": [
    "import pandas as pd\n",
    "import numpy as np\n",
    "\n",
    "# 뒷값으로 결측치 채우기\n",
    "s = pd.Series([np.nan, \"퇴근후\", np.nan,\"딴짓\", np.nan, 22, np.nan,45, np.nan, np.nan, 60])\n",
    "print(s)\n",
    "\n",
    "s.fillna(method='bfill') # 바로 뒤값으로 채워넣는 방법\n",
    "# s.fillna(method='pad') # 이전값으로 채워넣는 방법"
   ]
  },
  {
   "cell_type": "markdown",
   "id": "fb41e085",
   "metadata": {
    "papermill": {
     "duration": 0.00904,
     "end_time": "2025-06-16T03:59:03.727504",
     "exception": false,
     "start_time": "2025-06-16T03:59:03.718464",
     "status": "completed"
    },
    "tags": []
   },
   "source": [
    "## 풀이"
   ]
  },
  {
   "cell_type": "code",
   "execution_count": 6,
   "id": "171e7e2b",
   "metadata": {
    "_cell_guid": "b1076dfc-b9ad-4769-8c92-a6c4dae69d19",
    "_uuid": "8f2839f25d086af736a60e9eeb907d3b93b6e0e5",
    "execution": {
     "iopub.execute_input": "2025-06-16T03:59:03.752593Z",
     "iopub.status.busy": "2025-06-16T03:59:03.751870Z",
     "iopub.status.idle": "2025-06-16T03:59:03.770265Z",
     "shell.execute_reply": "2025-06-16T03:59:03.769610Z",
     "shell.execute_reply.started": "2025-06-15T05:47:23.104992Z"
    },
    "papermill": {
     "duration": 0.033502,
     "end_time": "2025-06-16T03:59:03.770404",
     "exception": false,
     "start_time": "2025-06-16T03:59:03.736902",
     "status": "completed"
    },
    "tags": []
   },
   "outputs": [
    {
     "data": {
      "text/html": [
       "<div>\n",
       "<style scoped>\n",
       "    .dataframe tbody tr th:only-of-type {\n",
       "        vertical-align: middle;\n",
       "    }\n",
       "\n",
       "    .dataframe tbody tr th {\n",
       "        vertical-align: top;\n",
       "    }\n",
       "\n",
       "    .dataframe thead th {\n",
       "        text-align: right;\n",
       "    }\n",
       "</style>\n",
       "<table border=\"1\" class=\"dataframe\">\n",
       "  <thead>\n",
       "    <tr style=\"text-align: right;\">\n",
       "      <th></th>\n",
       "      <th>id</th>\n",
       "      <th>age</th>\n",
       "      <th>city</th>\n",
       "      <th>f1</th>\n",
       "      <th>f2</th>\n",
       "      <th>f3</th>\n",
       "      <th>f4</th>\n",
       "      <th>f5</th>\n",
       "    </tr>\n",
       "  </thead>\n",
       "  <tbody>\n",
       "    <tr>\n",
       "      <th>0</th>\n",
       "      <td>id01</td>\n",
       "      <td>2.0</td>\n",
       "      <td>서울</td>\n",
       "      <td>NaN</td>\n",
       "      <td>0</td>\n",
       "      <td>NaN</td>\n",
       "      <td>ENFJ</td>\n",
       "      <td>91.297791</td>\n",
       "    </tr>\n",
       "    <tr>\n",
       "      <th>1</th>\n",
       "      <td>id02</td>\n",
       "      <td>9.0</td>\n",
       "      <td>서울</td>\n",
       "      <td>70.0</td>\n",
       "      <td>1</td>\n",
       "      <td>NaN</td>\n",
       "      <td>ENFJ</td>\n",
       "      <td>60.339826</td>\n",
       "    </tr>\n",
       "  </tbody>\n",
       "</table>\n",
       "</div>"
      ],
      "text/plain": [
       "     id  age city    f1  f2   f3    f4         f5\n",
       "0  id01  2.0   서울   NaN   0  NaN  ENFJ  91.297791\n",
       "1  id02  9.0   서울  70.0   1  NaN  ENFJ  60.339826"
      ]
     },
     "execution_count": 6,
     "metadata": {},
     "output_type": "execute_result"
    }
   ],
   "source": [
    "# 라이브러리 및 데이터 불러오기\n",
    "import pandas as pd\n",
    "import numpy as np\n",
    "\n",
    "df = pd.read_csv('../input/bigdatacertificationkr/basic1.csv')\n",
    "df.head(2)"
   ]
  },
  {
   "cell_type": "code",
   "execution_count": 7,
   "id": "445147ae",
   "metadata": {
    "execution": {
     "iopub.execute_input": "2025-06-16T03:59:03.800157Z",
     "iopub.status.busy": "2025-06-16T03:59:03.799274Z",
     "iopub.status.idle": "2025-06-16T03:59:03.802990Z",
     "shell.execute_reply": "2025-06-16T03:59:03.802446Z",
     "shell.execute_reply.started": "2025-06-15T05:47:28.328294Z"
    },
    "papermill": {
     "duration": 0.022859,
     "end_time": "2025-06-16T03:59:03.803134",
     "exception": false,
     "start_time": "2025-06-16T03:59:03.780275",
     "status": "completed"
    },
    "tags": []
   },
   "outputs": [
    {
     "data": {
      "text/plain": [
       "1       70.0\n",
       "2      131.0\n",
       "6      191.0\n",
       "7      292.0\n",
       "9      366.0\n",
       "13     416.0\n",
       "14     483.0\n",
       "16       NaN\n",
       "19     534.0\n",
       "20       NaN\n",
       "21     606.0\n",
       "22     681.0\n",
       "25     738.0\n",
       "27     772.0\n",
       "33       NaN\n",
       "35     849.0\n",
       "37       NaN\n",
       "46     924.0\n",
       "49    1002.0\n",
       "51    1084.0\n",
       "53       NaN\n",
       "55       NaN\n",
       "58       NaN\n",
       "62    1170.0\n",
       "65       NaN\n",
       "66    1222.0\n",
       "69    1318.0\n",
       "72       NaN\n",
       "77    1414.0\n",
       "80    1464.0\n",
       "82    1514.0\n",
       "86       NaN\n",
       "88    1580.0\n",
       "91    1658.0\n",
       "93       NaN\n",
       "94    1701.0\n",
       "95    1754.0\n",
       "Name: f1, dtype: float64"
      ]
     },
     "execution_count": 7,
     "metadata": {},
     "output_type": "execute_result"
    }
   ],
   "source": [
    "# 조건에 따른 누적합\n",
    "df2 = df[df['f2']==1]['f1'].cumsum()\n",
    "df2"
   ]
  },
  {
   "cell_type": "code",
   "execution_count": 8,
   "id": "64eb5158",
   "metadata": {
    "execution": {
     "iopub.execute_input": "2025-06-16T03:59:03.832523Z",
     "iopub.status.busy": "2025-06-16T03:59:03.831636Z",
     "iopub.status.idle": "2025-06-16T03:59:03.835875Z",
     "shell.execute_reply": "2025-06-16T03:59:03.835279Z"
    },
    "papermill": {
     "duration": 0.022485,
     "end_time": "2025-06-16T03:59:03.836040",
     "exception": false,
     "start_time": "2025-06-16T03:59:03.813555",
     "status": "completed"
    },
    "tags": []
   },
   "outputs": [
    {
     "data": {
      "text/plain": [
       "1       70.0\n",
       "2      131.0\n",
       "6      191.0\n",
       "7      292.0\n",
       "9      366.0\n",
       "13     416.0\n",
       "14     483.0\n",
       "16     534.0\n",
       "19     534.0\n",
       "20     606.0\n",
       "21     606.0\n",
       "22     681.0\n",
       "25     738.0\n",
       "27     772.0\n",
       "33     849.0\n",
       "35     849.0\n",
       "37     924.0\n",
       "46     924.0\n",
       "49    1002.0\n",
       "51    1084.0\n",
       "53    1170.0\n",
       "55    1170.0\n",
       "58    1170.0\n",
       "62    1170.0\n",
       "65    1222.0\n",
       "66    1222.0\n",
       "69    1318.0\n",
       "72    1414.0\n",
       "77    1414.0\n",
       "80    1464.0\n",
       "82    1514.0\n",
       "86    1580.0\n",
       "88    1580.0\n",
       "91    1658.0\n",
       "93    1701.0\n",
       "94    1701.0\n",
       "95    1754.0\n",
       "Name: f1, dtype: float64"
      ]
     },
     "execution_count": 8,
     "metadata": {},
     "output_type": "execute_result"
    }
   ],
   "source": [
    "# 결측치 처리 (뒤에 나오는 값으로 채움)\n",
    "df2 = df2.fillna(method = 'bfill')\n",
    "df2"
   ]
  },
  {
   "cell_type": "code",
   "execution_count": 9,
   "id": "d7ab2c0e",
   "metadata": {
    "execution": {
     "iopub.execute_input": "2025-06-16T03:59:03.864574Z",
     "iopub.status.busy": "2025-06-16T03:59:03.863876Z",
     "iopub.status.idle": "2025-06-16T03:59:03.867596Z",
     "shell.execute_reply": "2025-06-16T03:59:03.867057Z",
     "shell.execute_reply.started": "2025-06-15T05:47:33.405168Z"
    },
    "papermill": {
     "duration": 0.019504,
     "end_time": "2025-06-16T03:59:03.867733",
     "exception": false,
     "start_time": "2025-06-16T03:59:03.848229",
     "status": "completed"
    },
    "tags": []
   },
   "outputs": [
    {
     "name": "stdout",
     "output_type": "stream",
     "text": [
      "980.3783783783783\n"
     ]
    }
   ],
   "source": [
    "# 평균 출력\n",
    "print(df2.mean())"
   ]
  }
 ],
 "metadata": {
  "kaggle": {
   "accelerator": "none",
   "dataSources": [
    {
     "datasetId": 1633303,
     "sourceId": 12111603,
     "sourceType": "datasetVersion"
    }
   ],
   "dockerImageVersionId": 30138,
   "isGpuEnabled": false,
   "isInternetEnabled": true,
   "language": "python",
   "sourceType": "notebook"
  },
  "kernelspec": {
   "display_name": "Python 3",
   "language": "python",
   "name": "python3"
  },
  "language_info": {
   "codemirror_mode": {
    "name": "ipython",
    "version": 3
   },
   "file_extension": ".py",
   "mimetype": "text/x-python",
   "name": "python",
   "nbconvert_exporter": "python",
   "pygments_lexer": "ipython3",
   "version": "3.7.10"
  },
  "papermill": {
   "default_parameters": {},
   "duration": 10.186256,
   "end_time": "2025-06-16T03:59:04.490203",
   "environment_variables": {},
   "exception": null,
   "input_path": "__notebook__.ipynb",
   "output_path": "__notebook__.ipynb",
   "parameters": {},
   "start_time": "2025-06-16T03:58:54.303947",
   "version": "2.3.3"
  }
 },
 "nbformat": 4,
 "nbformat_minor": 5
}
