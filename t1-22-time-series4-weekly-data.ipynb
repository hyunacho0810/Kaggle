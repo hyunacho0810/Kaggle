{
 "cells": [
  {
   "cell_type": "markdown",
   "id": "f00d2754",
   "metadata": {
    "_cell_guid": "b1076dfc-b9ad-4769-8c92-a6c4dae69d19",
    "_uuid": "8f2839f25d086af736a60e9eeb907d3b93b6e0e5",
    "papermill": {
     "duration": 0.005967,
     "end_time": "2025-06-16T04:09:28.033081",
     "exception": false,
     "start_time": "2025-06-16T04:09:28.027114",
     "status": "completed"
    },
    "tags": []
   },
   "source": [
    "### 주어진 데이터(basic2.csv)에서 주 단위 Sales의 합계를 구하고, 가장 큰 값을 가진 주와 작은 값을 가진 주의 차이를 구하시오(절대값)\n",
    "- 데이터셋 : basic2.csv\n",
    "- 오른쪽 상단 copy&edit 클릭 -> 예상문제 풀이 시작"
   ]
  },
  {
   "cell_type": "code",
   "execution_count": 1,
   "id": "6e064e05",
   "metadata": {
    "execution": {
     "iopub.execute_input": "2025-06-16T04:09:28.052242Z",
     "iopub.status.busy": "2025-06-16T04:09:28.051675Z",
     "iopub.status.idle": "2025-06-16T04:09:28.095567Z",
     "shell.execute_reply": "2025-06-16T04:09:28.094877Z",
     "shell.execute_reply.started": "2025-06-15T08:14:34.825090Z"
    },
    "papermill": {
     "duration": 0.057202,
     "end_time": "2025-06-16T04:09:28.095714",
     "exception": false,
     "start_time": "2025-06-16T04:09:28.038512",
     "status": "completed"
    },
    "tags": []
   },
   "outputs": [
    {
     "name": "stdout",
     "output_type": "stream",
     "text": [
      "         Date     Sales      PV      UV  Events\n",
      "0  2022-01-01  22711525  397349  4421.0       1\n",
      "1  2022-01-02     36779    3969  2289.0       0\n",
      "2  2022-01-03  13943875  373890     NaN       1\n",
      "3  2022-01-04   8088593  142054  2157.0       0\n",
      "4  2022-01-05   2395374  190684     NaN       0\n",
      "5  2022-01-06   1709350  177815  5340.0       1\n",
      "6  2022-01-07   5306457  155749  3789.0       0\n",
      "7  2022-01-08   1052325   53467  1793.0       0\n",
      "8  2022-01-09    877848   54805  2110.0       0\n",
      "9  2022-01-10   9112911   94024  2471.0       0\n",
      "-----------\n",
      "<class 'pandas.core.frame.DataFrame'>\n",
      "RangeIndex: 730 entries, 0 to 729\n",
      "Data columns (total 5 columns):\n",
      " #   Column  Non-Null Count  Dtype  \n",
      "---  ------  --------------  -----  \n",
      " 0   Date    730 non-null    object \n",
      " 1   Sales   730 non-null    int64  \n",
      " 2   PV      730 non-null    int64  \n",
      " 3   UV      684 non-null    float64\n",
      " 4   Events  730 non-null    int64  \n",
      "dtypes: float64(1), int64(3), object(1)\n",
      "memory usage: 28.6+ KB\n",
      "None\n"
     ]
    }
   ],
   "source": [
    "import pandas as pd\n",
    "df = pd.read_csv(\"../input/bigdatacertificationkr/basic2.csv\")\n",
    "print(df.head(10))\n",
    "print('-----------')\n",
    "print(df.info())"
   ]
  },
  {
   "cell_type": "code",
   "execution_count": 2,
   "id": "05269787",
   "metadata": {
    "execution": {
     "iopub.execute_input": "2025-06-16T04:09:28.120439Z",
     "iopub.status.busy": "2025-06-16T04:09:28.119857Z",
     "iopub.status.idle": "2025-06-16T04:09:28.122474Z",
     "shell.execute_reply": "2025-06-16T04:09:28.122907Z",
     "shell.execute_reply.started": "2025-06-15T08:14:36.911715Z"
    },
    "papermill": {
     "duration": 0.021629,
     "end_time": "2025-06-16T04:09:28.123077",
     "exception": false,
     "start_time": "2025-06-16T04:09:28.101448",
     "status": "completed"
    },
    "tags": []
   },
   "outputs": [
    {
     "name": "stdout",
     "output_type": "stream",
     "text": [
      "<class 'pandas.core.frame.DataFrame'>\n",
      "RangeIndex: 730 entries, 0 to 729\n",
      "Data columns (total 5 columns):\n",
      " #   Column  Non-Null Count  Dtype         \n",
      "---  ------  --------------  -----         \n",
      " 0   Date    730 non-null    datetime64[ns]\n",
      " 1   Sales   730 non-null    int64         \n",
      " 2   PV      730 non-null    int64         \n",
      " 3   UV      684 non-null    float64       \n",
      " 4   Events  730 non-null    int64         \n",
      "dtypes: datetime64[ns](1), float64(1), int64(3)\n",
      "memory usage: 28.6 KB\n",
      "None\n"
     ]
    }
   ],
   "source": [
    "# object인 date를 datetime으로\n",
    "df['Date']=pd.to_datetime(df['Date'])\n",
    "print(df.info())"
   ]
  },
  {
   "cell_type": "code",
   "execution_count": 3,
   "id": "83c0b139",
   "metadata": {
    "execution": {
     "iopub.execute_input": "2025-06-16T04:09:28.142582Z",
     "iopub.status.busy": "2025-06-16T04:09:28.141875Z",
     "iopub.status.idle": "2025-06-16T04:09:28.145304Z",
     "shell.execute_reply": "2025-06-16T04:09:28.144747Z",
     "shell.execute_reply.started": "2025-06-15T08:16:17.483458Z"
    },
    "papermill": {
     "duration": 0.016774,
     "end_time": "2025-06-16T04:09:28.145425",
     "exception": false,
     "start_time": "2025-06-16T04:09:28.128651",
     "status": "completed"
    },
    "tags": []
   },
   "outputs": [
    {
     "name": "stdout",
     "output_type": "stream",
     "text": [
      "인덱스 설정 후:\n",
      "               Sales      PV      UV  Events\n",
      "Date                                        \n",
      "2022-01-01  22711525  397349  4421.0       1\n",
      "2022-01-02     36779    3969  2289.0       0\n",
      "2022-01-03  13943875  373890     NaN       1\n",
      "2022-01-04   8088593  142054  2157.0       0\n",
      "2022-01-05   2395374  190684     NaN       0\n"
     ]
    }
   ],
   "source": [
    "# Date를 인덱스로 설정 (resample 사용을 위해 필수)\n",
    "df = df.set_index('Date')\n",
    "print(\"인덱스 설정 후:\")\n",
    "print(df.head())"
   ]
  },
  {
   "cell_type": "code",
   "execution_count": 4,
   "id": "281f4194",
   "metadata": {
    "execution": {
     "iopub.execute_input": "2025-06-16T04:09:28.163039Z",
     "iopub.status.busy": "2025-06-16T04:09:28.162456Z",
     "iopub.status.idle": "2025-06-16T04:09:28.183286Z",
     "shell.execute_reply": "2025-06-16T04:09:28.182506Z",
     "shell.execute_reply.started": "2025-06-15T08:16:33.448383Z"
    },
    "papermill": {
     "duration": 0.0302,
     "end_time": "2025-06-16T04:09:28.183417",
     "exception": false,
     "start_time": "2025-06-16T04:09:28.153217",
     "status": "completed"
    },
    "tags": []
   },
   "outputs": [
    {
     "name": "stdout",
     "output_type": "stream",
     "text": [
      "주별 집계 결과:\n",
      "               Sales       PV       UV  Events\n",
      "Date                                          \n",
      "2022-01-02  22748304   401318   6710.0       1\n",
      "2022-01-09  33373822  1148464  15189.0       2\n",
      "2022-01-16  20754519   283773   9344.0       0\n",
      "2022-01-23  21880751   538633   9841.0       1\n",
      "2022-01-30  28878452   560814   7808.0       1\n"
     ]
    }
   ],
   "source": [
    "# 주간 단위로 리샘플링해서 합계 구하기\n",
    "df_w = df.resample('W').sum()\n",
    "print(\"주별 집계 결과:\")\n",
    "print(df_w.head())"
   ]
  },
  {
   "cell_type": "code",
   "execution_count": 5,
   "id": "38830c8c",
   "metadata": {
    "execution": {
     "iopub.execute_input": "2025-06-16T04:09:28.211451Z",
     "iopub.status.busy": "2025-06-16T04:09:28.210314Z",
     "iopub.status.idle": "2025-06-16T04:09:28.214511Z",
     "shell.execute_reply": "2025-06-16T04:09:28.215078Z",
     "shell.execute_reply.started": "2025-06-15T08:16:57.651062Z"
    },
    "papermill": {
     "duration": 0.02448,
     "end_time": "2025-06-16T04:09:28.215256",
     "exception": false,
     "start_time": "2025-06-16T04:09:28.190776",
     "status": "completed"
    },
    "tags": []
   },
   "outputs": [
    {
     "name": "stdout",
     "output_type": "stream",
     "text": [
      "주별 매출 합계 (내림차순 정렬):\n",
      "               Sales       PV       UV  Events\n",
      "Date                                          \n",
      "2023-10-01  99165648  1414944  20274.0       4\n",
      "2023-02-19  87850390  1187915  12921.0       2\n",
      "2022-10-02  87609631  1381252  18300.0       4\n",
      "2022-05-15  80927402  1232421  12483.0       3\n",
      "2023-06-25  80769504  1914932  25693.0       3\n",
      "...              ...      ...      ...     ...\n",
      "2022-12-04  12167873   474618  15046.0       1\n",
      "2022-08-28  12119169   686719  19948.0       2\n",
      "2023-01-08  11407842   326121  13188.0       1\n",
      "2023-05-07   8542562   213532  13043.0       0\n",
      "2022-07-03   7526598   520107  16774.0       1\n",
      "\n",
      "[105 rows x 4 columns]\n"
     ]
    }
   ],
   "source": [
    "# Sales 기준으로 내림차순 정렬\n",
    "df_w_sorted = df_w.sort_values('Sales', ascending=False)\n",
    "print(\"주별 매출 합계 (내림차순 정렬):\")\n",
    "print(df_w_sorted)"
   ]
  },
  {
   "cell_type": "code",
   "execution_count": 6,
   "id": "304afbe7",
   "metadata": {
    "execution": {
     "iopub.execute_input": "2025-06-16T04:09:28.234830Z",
     "iopub.status.busy": "2025-06-16T04:09:28.233722Z",
     "iopub.status.idle": "2025-06-16T04:09:28.239197Z",
     "shell.execute_reply": "2025-06-16T04:09:28.238453Z",
     "shell.execute_reply.started": "2025-06-15T08:18:20.820660Z"
    },
    "papermill": {
     "duration": 0.017439,
     "end_time": "2025-06-16T04:09:28.239407",
     "exception": false,
     "start_time": "2025-06-16T04:09:28.221968",
     "status": "completed"
    },
    "tags": []
   },
   "outputs": [
    {
     "name": "stdout",
     "output_type": "stream",
     "text": [
      "91639050.0\n"
     ]
    }
   ],
   "source": [
    "# 가장 큰 값과 작은 값의 차이 구하기\n",
    "max_val=df_w_sorted.iloc[0]['Sales']\n",
    "min_val=df_w_sorted.iloc[104]['Sales']\n",
    "result=max_val-min_val\n",
    "print(result)"
   ]
  }
 ],
 "metadata": {
  "kaggle": {
   "accelerator": "none",
   "dataSources": [
    {
     "datasetId": 1633303,
     "sourceId": 12111603,
     "sourceType": "datasetVersion"
    }
   ],
   "dockerImageVersionId": 30145,
   "isGpuEnabled": false,
   "isInternetEnabled": true,
   "language": "python",
   "sourceType": "notebook"
  },
  "kernelspec": {
   "display_name": "Python 3",
   "language": "python",
   "name": "python3"
  },
  "language_info": {
   "codemirror_mode": {
    "name": "ipython",
    "version": 3
   },
   "file_extension": ".py",
   "mimetype": "text/x-python",
   "name": "python",
   "nbconvert_exporter": "python",
   "pygments_lexer": "ipython3",
   "version": "3.7.10"
  },
  "papermill": {
   "default_parameters": {},
   "duration": 8.614943,
   "end_time": "2025-06-16T04:09:28.857892",
   "environment_variables": {},
   "exception": null,
   "input_path": "__notebook__.ipynb",
   "output_path": "__notebook__.ipynb",
   "parameters": {},
   "start_time": "2025-06-16T04:09:20.242949",
   "version": "2.3.3"
  }
 },
 "nbformat": 4,
 "nbformat_minor": 5
}
