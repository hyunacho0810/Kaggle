{
 "cells": [
  {
   "cell_type": "markdown",
   "id": "ba39d0ac",
   "metadata": {
    "papermill": {
     "duration": 0.007408,
     "end_time": "2025-06-16T04:08:42.900832",
     "exception": false,
     "start_time": "2025-06-16T04:08:42.893424",
     "status": "completed"
    },
    "tags": []
   },
   "source": [
    "### 주어진 데이터에서 2022년 월별 Sales 합계 중 가장 큰 금액과 \n",
    "### 2023년 월별 Sales 합계 중 가장 큰 금액의 차이를 절대값으로 구하시오. \n",
    "### 단 Events컬럼이 '1'인경우 80%의 Salse값만 반영함 \n",
    "### (최종값은 소수점 반올림 후 정수 출력)\n",
    "- 데이터셋 : basic2.csv\n",
    "- 오른쪽 상단 copy&edit 클릭 -> 예상문제 풀이 시작"
   ]
  },
  {
   "cell_type": "code",
   "execution_count": 1,
   "id": "2d71a82a",
   "metadata": {
    "_cell_guid": "b1076dfc-b9ad-4769-8c92-a6c4dae69d19",
    "_uuid": "8f2839f25d086af736a60e9eeb907d3b93b6e0e5",
    "execution": {
     "iopub.execute_input": "2025-06-16T04:08:42.929043Z",
     "iopub.status.busy": "2025-06-16T04:08:42.928146Z",
     "iopub.status.idle": "2025-06-16T04:08:42.977328Z",
     "shell.execute_reply": "2025-06-16T04:08:42.976551Z",
     "shell.execute_reply.started": "2025-06-15T07:39:38.114755Z"
    },
    "papermill": {
     "duration": 0.068732,
     "end_time": "2025-06-16T04:08:42.977509",
     "exception": false,
     "start_time": "2025-06-16T04:08:42.908777",
     "status": "completed"
    },
    "tags": []
   },
   "outputs": [
    {
     "name": "stdout",
     "output_type": "stream",
     "text": [
      "         Date     Sales      PV      UV  Events\n",
      "0  2022-01-01  22711525  397349  4421.0       1\n",
      "1  2022-01-02     36779    3969  2289.0       0\n",
      "2  2022-01-03  13943875  373890     NaN       1\n",
      "3  2022-01-04   8088593  142054  2157.0       0\n",
      "4  2022-01-05   2395374  190684     NaN       0\n",
      "5  2022-01-06   1709350  177815  5340.0       1\n",
      "6  2022-01-07   5306457  155749  3789.0       0\n",
      "7  2022-01-08   1052325   53467  1793.0       0\n",
      "8  2022-01-09    877848   54805  2110.0       0\n",
      "9  2022-01-10   9112911   94024  2471.0       0\n",
      "------------\n",
      "<class 'pandas.core.frame.DataFrame'>\n",
      "RangeIndex: 730 entries, 0 to 729\n",
      "Data columns (total 5 columns):\n",
      " #   Column  Non-Null Count  Dtype  \n",
      "---  ------  --------------  -----  \n",
      " 0   Date    730 non-null    object \n",
      " 1   Sales   730 non-null    int64  \n",
      " 2   PV      730 non-null    int64  \n",
      " 3   UV      684 non-null    float64\n",
      " 4   Events  730 non-null    int64  \n",
      "dtypes: float64(1), int64(3), object(1)\n",
      "memory usage: 28.6+ KB\n",
      "None\n"
     ]
    }
   ],
   "source": [
    "# 데이터 불러오기\n",
    "import pandas as pd\n",
    "df = pd.read_csv(\"../input/bigdatacertificationkr/basic2.csv\")\n",
    "print(df.head(10))\n",
    "print('------------')\n",
    "print(df.info())"
   ]
  },
  {
   "cell_type": "code",
   "execution_count": 2,
   "id": "4342b03f",
   "metadata": {
    "execution": {
     "iopub.execute_input": "2025-06-16T04:08:43.009194Z",
     "iopub.status.busy": "2025-06-16T04:08:43.007822Z",
     "iopub.status.idle": "2025-06-16T04:08:43.011665Z",
     "shell.execute_reply": "2025-06-16T04:08:43.012214Z",
     "shell.execute_reply.started": "2025-06-15T07:39:41.274923Z"
    },
    "papermill": {
     "duration": 0.027828,
     "end_time": "2025-06-16T04:08:43.012396",
     "exception": false,
     "start_time": "2025-06-16T04:08:42.984568",
     "status": "completed"
    },
    "tags": []
   },
   "outputs": [
    {
     "name": "stdout",
     "output_type": "stream",
     "text": [
      "<class 'pandas.core.frame.DataFrame'>\n",
      "RangeIndex: 730 entries, 0 to 729\n",
      "Data columns (total 5 columns):\n",
      " #   Column  Non-Null Count  Dtype         \n",
      "---  ------  --------------  -----         \n",
      " 0   Date    730 non-null    datetime64[ns]\n",
      " 1   Sales   730 non-null    int64         \n",
      " 2   PV      730 non-null    int64         \n",
      " 3   UV      684 non-null    float64       \n",
      " 4   Events  730 non-null    int64         \n",
      "dtypes: datetime64[ns](1), float64(1), int64(3)\n",
      "memory usage: 28.6 KB\n",
      "None\n"
     ]
    }
   ],
   "source": [
    "# 날짜가 object이므로 datetime으로 형변환\n",
    "df['Date']=pd.to_datetime(df['Date'])\n",
    "print(df.info())"
   ]
  },
  {
   "cell_type": "code",
   "execution_count": 3,
   "id": "a7e541b0",
   "metadata": {
    "execution": {
     "iopub.execute_input": "2025-06-16T04:08:43.133245Z",
     "iopub.status.busy": "2025-06-16T04:08:43.037780Z",
     "iopub.status.idle": "2025-06-16T04:08:43.137201Z",
     "shell.execute_reply": "2025-06-16T04:08:43.137652Z",
     "shell.execute_reply.started": "2025-06-15T07:39:43.052798Z"
    },
    "papermill": {
     "duration": 0.118674,
     "end_time": "2025-06-16T04:08:43.137835",
     "exception": false,
     "start_time": "2025-06-16T04:08:43.019161",
     "status": "completed"
    },
    "tags": []
   },
   "outputs": [
    {
     "name": "stdout",
     "output_type": "stream",
     "text": [
      "        Date       Sales      PV      UV  Events\n",
      "0 2022-01-01  18169220.0  397349  4421.0       1\n",
      "1 2022-01-02     36779.0    3969  2289.0       0\n",
      "2 2022-01-03  11155100.0  373890     NaN       1\n",
      "3 2022-01-04   8088593.0  142054  2157.0       0\n",
      "4 2022-01-05   2395374.0  190684     NaN       0\n",
      "5 2022-01-06   1367480.0  177815  5340.0       1\n",
      "6 2022-01-07   5306457.0  155749  3789.0       0\n",
      "7 2022-01-08   1052325.0   53467  1793.0       0\n",
      "8 2022-01-09    877848.0   54805  2110.0       0\n",
      "9 2022-01-10   9112911.0   94024  2471.0       0\n"
     ]
    }
   ],
   "source": [
    "# event가 1이면 sales*0.8적용\n",
    "for i in df.index:\n",
    "    if df.loc[i, 'Events'] == 1:\n",
    "        df.loc[i, 'Sales'] = df.loc[i, 'Sales'] * 0.8\n",
    "\n",
    "print(df.head(10))"
   ]
  },
  {
   "cell_type": "code",
   "execution_count": 4,
   "id": "7d38de64",
   "metadata": {
    "execution": {
     "iopub.execute_input": "2025-06-16T04:08:43.158181Z",
     "iopub.status.busy": "2025-06-16T04:08:43.157323Z",
     "iopub.status.idle": "2025-06-16T04:08:43.174107Z",
     "shell.execute_reply": "2025-06-16T04:08:43.174628Z",
     "shell.execute_reply.started": "2025-06-15T07:39:44.840999Z"
    },
    "papermill": {
     "duration": 0.029964,
     "end_time": "2025-06-16T04:08:43.174798",
     "exception": false,
     "start_time": "2025-06-16T04:08:43.144834",
     "status": "completed"
    },
    "tags": []
   },
   "outputs": [
    {
     "name": "stdout",
     "output_type": "stream",
     "text": [
      "        Date       Sales      PV      UV  Events\n",
      "0 2022-01-01  18169220.0  397349  4421.0       1\n",
      "1 2022-01-02     36779.0    3969  2289.0       0\n",
      "2 2022-01-03  11155100.0  373890     NaN       1\n",
      "3 2022-01-04   8088593.0  142054  2157.0       0\n",
      "4 2022-01-05   2395374.0  190684     NaN       0\n",
      "--------------\n",
      "          Date       Sales      PV      UV  Events\n",
      "365 2023-01-01  31571496.8  457995  6716.0       1\n",
      "366 2023-01-02    169945.0    2134   247.0       0\n",
      "367 2023-01-03    144534.0    3399   371.0       0\n",
      "368 2023-01-04   1335449.0   18192   545.0       0\n",
      "369 2023-01-05   6731190.0   76194  1580.0       0\n"
     ]
    }
   ],
   "source": [
    "# 2022년도와 2023년도 자료를 구분해서 df2,df3로 구성하자.\n",
    "cond1=df['Date'].dt.year==2022\n",
    "cond2=df['Date'].dt.year==2023\n",
    "df2=df[cond1]\n",
    "df3=df[cond2]\n",
    "print(df2.head(5))\n",
    "print('--------------')\n",
    "print(df3.head(5))"
   ]
  },
  {
   "cell_type": "code",
   "execution_count": 5,
   "id": "2e9bb985",
   "metadata": {
    "execution": {
     "iopub.execute_input": "2025-06-16T04:08:43.205190Z",
     "iopub.status.busy": "2025-06-16T04:08:43.204258Z",
     "iopub.status.idle": "2025-06-16T04:08:43.209167Z",
     "shell.execute_reply": "2025-06-16T04:08:43.208569Z",
     "shell.execute_reply.started": "2025-06-15T07:39:46.694789Z"
    },
    "papermill": {
     "duration": 0.026949,
     "end_time": "2025-06-16T04:08:43.209328",
     "exception": false,
     "start_time": "2025-06-16T04:08:43.182379",
     "status": "completed"
    },
    "tags": []
   },
   "outputs": [
    {
     "name": "stdout",
     "output_type": "stream",
     "text": [
      "197145878.0\n"
     ]
    }
   ],
   "source": [
    "# 2022년도를 월별로 묶은 후, sales가 가장 큰 금액 도출\n",
    "df2 = df2.groupby(df2['Date'].dt.month)[['Sales']].sum()\n",
    "df2=df2.sort_values(['Sales'],ascending=False)\n",
    "max_val1=df2.iloc[0]['Sales']\n",
    "print(max_val1)"
   ]
  },
  {
   "cell_type": "code",
   "execution_count": 6,
   "id": "046494ed",
   "metadata": {
    "execution": {
     "iopub.execute_input": "2025-06-16T04:08:43.236009Z",
     "iopub.status.busy": "2025-06-16T04:08:43.233411Z",
     "iopub.status.idle": "2025-06-16T04:08:43.240296Z",
     "shell.execute_reply": "2025-06-16T04:08:43.239703Z",
     "shell.execute_reply.started": "2025-06-15T07:39:48.739752Z"
    },
    "papermill": {
     "duration": 0.023514,
     "end_time": "2025-06-16T04:08:43.240441",
     "exception": false,
     "start_time": "2025-06-16T04:08:43.216927",
     "status": "completed"
    },
    "tags": []
   },
   "outputs": [
    {
     "name": "stdout",
     "output_type": "stream",
     "text": [
      "239619313.8\n"
     ]
    }
   ],
   "source": [
    "# 2023년도를 월별로 묶은 후, sales가 가장 큰 금액 도출\n",
    "df3 = df3.groupby(df3['Date'].dt.month)[['Sales']].sum()\n",
    "df3=df3.sort_values(['Sales'],ascending=False)\n",
    "max_val2=df3.iloc[0]['Sales']\n",
    "print(max_val2)"
   ]
  },
  {
   "cell_type": "code",
   "execution_count": 7,
   "id": "29e5b87d",
   "metadata": {
    "execution": {
     "iopub.execute_input": "2025-06-16T04:08:43.262490Z",
     "iopub.status.busy": "2025-06-16T04:08:43.261323Z",
     "iopub.status.idle": "2025-06-16T04:08:43.264978Z",
     "shell.execute_reply": "2025-06-16T04:08:43.265464Z",
     "shell.execute_reply.started": "2025-06-15T07:39:50.592744Z"
    },
    "papermill": {
     "duration": 0.017382,
     "end_time": "2025-06-16T04:08:43.265633",
     "exception": false,
     "start_time": "2025-06-16T04:08:43.248251",
     "status": "completed"
    },
    "tags": []
   },
   "outputs": [
    {
     "name": "stdout",
     "output_type": "stream",
     "text": [
      "42473435\n"
     ]
    }
   ],
   "source": [
    "# 두 값의 차이의 절댓값\n",
    "result=abs(max_val1-max_val2)\n",
    "print(int(result))"
   ]
  }
 ],
 "metadata": {
  "kaggle": {
   "accelerator": "none",
   "dataSources": [
    {
     "datasetId": 1633303,
     "sourceId": 12111603,
     "sourceType": "datasetVersion"
    }
   ],
   "dockerImageVersionId": 30145,
   "isGpuEnabled": false,
   "isInternetEnabled": true,
   "language": "python",
   "sourceType": "notebook"
  },
  "kernelspec": {
   "display_name": "Python 3",
   "language": "python",
   "name": "python3"
  },
  "language_info": {
   "codemirror_mode": {
    "name": "ipython",
    "version": 3
   },
   "file_extension": ".py",
   "mimetype": "text/x-python",
   "name": "python",
   "nbconvert_exporter": "python",
   "pygments_lexer": "ipython3",
   "version": "3.7.10"
  },
  "papermill": {
   "default_parameters": {},
   "duration": 10.48924,
   "end_time": "2025-06-16T04:08:43.885984",
   "environment_variables": {},
   "exception": null,
   "input_path": "__notebook__.ipynb",
   "output_path": "__notebook__.ipynb",
   "parameters": {},
   "start_time": "2025-06-16T04:08:33.396744",
   "version": "2.3.3"
  }
 },
 "nbformat": 4,
 "nbformat_minor": 5
}
