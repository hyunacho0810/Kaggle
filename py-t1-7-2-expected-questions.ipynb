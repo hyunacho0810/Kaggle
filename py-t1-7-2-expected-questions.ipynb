{
 "cells": [
  {
   "cell_type": "markdown",
   "id": "ac99e39b",
   "metadata": {
    "papermill": {
     "duration": 0.010534,
     "end_time": "2025-06-15T05:28:49.403643",
     "exception": false,
     "start_time": "2025-06-15T05:28:49.393109",
     "status": "completed"
    },
    "tags": []
   },
   "source": [
    "### 'f4'컬럼의 값이 'ESFJ'인 데이터를 'ISFJ'로 대체하고, 'city'가 '경기'이면서 'f4'가 'ISFJ'인 데이터 중 'age'컬럼의 최대값을 출력하시오!\n",
    "- 데이터셋 : basic1.csv\n",
    "- 오른쪽 상단 copy&edit 클릭 -> 예상문제 풀이 시작"
   ]
  },
  {
   "cell_type": "code",
   "execution_count": 1,
   "id": "1574bf53",
   "metadata": {
    "execution": {
     "iopub.execute_input": "2025-06-15T05:28:49.434117Z",
     "iopub.status.busy": "2025-06-15T05:28:49.433465Z",
     "iopub.status.idle": "2025-06-15T05:28:49.463406Z",
     "shell.execute_reply": "2025-06-15T05:28:49.462784Z",
     "shell.execute_reply.started": "2025-06-15T05:19:22.583276Z"
    },
    "papermill": {
     "duration": 0.050626,
     "end_time": "2025-06-15T05:28:49.463631",
     "exception": false,
     "start_time": "2025-06-15T05:28:49.413005",
     "status": "completed"
    },
    "tags": []
   },
   "outputs": [
    {
     "name": "stdout",
     "output_type": "stream",
     "text": [
      "     id   age city     f1  f2   f3    f4         f5\n",
      "0  id01   2.0   서울    NaN   0  NaN  ENFJ  91.297791\n",
      "1  id02   9.0   서울   70.0   1  NaN  ENFJ  60.339826\n",
      "2  id03  27.0   서울   61.0   1  NaN  ISTJ  17.252986\n",
      "3  id04  75.0   서울    NaN   2  NaN  INFP  52.667078\n",
      "4  id05  24.0   서울   85.0   2  NaN  ISFJ  29.269869\n",
      "5  id06  22.0   서울   57.0   0  vip  INTP  20.129444\n",
      "6  id07  36.3   서울   60.0   1  NaN  ISFJ   9.796378\n",
      "7  id08  38.0   서울  101.0   1  NaN  INFJ  83.685380\n",
      "8  id09   3.3   서울   35.0   2  NaN  ESFJ  17.252986\n",
      "9  id10  95.0   서울   74.0   1  NaN  ISFP  98.429899\n"
     ]
    }
   ],
   "source": [
    "# 라이브러리 및 데이터 불러오기\n",
    "import pandas as pd\n",
    "df=pd.read_csv('/kaggle/input/bigdatacertificationkr/basic1.csv')\n",
    "print(df.head(10))"
   ]
  },
  {
   "cell_type": "code",
   "execution_count": 2,
   "id": "c1c58eb2",
   "metadata": {
    "execution": {
     "iopub.execute_input": "2025-06-15T05:28:49.496145Z",
     "iopub.status.busy": "2025-06-15T05:28:49.495211Z",
     "iopub.status.idle": "2025-06-15T05:28:49.498766Z",
     "shell.execute_reply": "2025-06-15T05:28:49.499224Z",
     "shell.execute_reply.started": "2025-06-15T05:20:53.098963Z"
    },
    "papermill": {
     "duration": 0.02623,
     "end_time": "2025-06-15T05:28:49.499455",
     "exception": false,
     "start_time": "2025-06-15T05:28:49.473225",
     "status": "completed"
    },
    "tags": []
   },
   "outputs": [
    {
     "name": "stdout",
     "output_type": "stream",
     "text": [
      "     id   age city     f1  f2   f3    f4         f5\n",
      "0  id01   2.0   서울    NaN   0  NaN  ENFJ  91.297791\n",
      "1  id02   9.0   서울   70.0   1  NaN  ENFJ  60.339826\n",
      "2  id03  27.0   서울   61.0   1  NaN  ISTJ  17.252986\n",
      "3  id04  75.0   서울    NaN   2  NaN  INFP  52.667078\n",
      "4  id05  24.0   서울   85.0   2  NaN  ISFJ  29.269869\n",
      "5  id06  22.0   서울   57.0   0  vip  INTP  20.129444\n",
      "6  id07  36.3   서울   60.0   1  NaN  ISFJ   9.796378\n",
      "7  id08  38.0   서울  101.0   1  NaN  INFJ  83.685380\n",
      "8  id09   3.3   서울   35.0   2  NaN  ISFJ  17.252986\n",
      "9  id10  95.0   서울   74.0   1  NaN  ISFP  98.429899\n"
     ]
    }
   ],
   "source": [
    "# ESFJ 값을 가진 데이터 확인,변경\n",
    "df.replace('ESFJ','ISFJ',inplace=True)\n",
    "print(df.head(10))"
   ]
  },
  {
   "cell_type": "code",
   "execution_count": 3,
   "id": "a86f365b",
   "metadata": {
    "execution": {
     "iopub.execute_input": "2025-06-15T05:28:49.535602Z",
     "iopub.status.busy": "2025-06-15T05:28:49.533972Z",
     "iopub.status.idle": "2025-06-15T05:28:49.538320Z",
     "shell.execute_reply": "2025-06-15T05:28:49.538818Z",
     "shell.execute_reply.started": "2025-06-15T05:22:19.751677Z"
    },
    "papermill": {
     "duration": 0.029779,
     "end_time": "2025-06-15T05:28:49.539019",
     "exception": false,
     "start_time": "2025-06-15T05:28:49.509240",
     "status": "completed"
    },
    "tags": []
   },
   "outputs": [
    {
     "name": "stdout",
     "output_type": "stream",
     "text": [
      "90.0\n"
     ]
    }
   ],
   "source": [
    "# 2개의 조건에 맞는 값중 age컬럼의 최대값\n",
    "cond1=df['city']=='경기'\n",
    "cond2=df['f4']=='ISFJ'\n",
    "print(df[cond1&cond2]['age'].max())"
   ]
  },
  {
   "cell_type": "markdown",
   "id": "e7d87218",
   "metadata": {
    "papermill": {
     "duration": 0.009719,
     "end_time": "2025-06-15T05:28:49.558589",
     "exception": false,
     "start_time": "2025-06-15T05:28:49.548870",
     "status": "completed"
    },
    "tags": []
   },
   "source": [
    "## Hint"
   ]
  },
  {
   "cell_type": "code",
   "execution_count": 4,
   "id": "69972d83",
   "metadata": {
    "execution": {
     "iopub.execute_input": "2025-06-15T05:28:49.589677Z",
     "iopub.status.busy": "2025-06-15T05:28:49.588910Z",
     "iopub.status.idle": "2025-06-15T05:28:49.595836Z",
     "shell.execute_reply": "2025-06-15T05:28:49.596253Z",
     "shell.execute_reply.started": "2025-06-15T05:22:25.447749Z"
    },
    "papermill": {
     "duration": 0.027812,
     "end_time": "2025-06-15T05:28:49.596512",
     "exception": false,
     "start_time": "2025-06-15T05:28:49.568700",
     "status": "completed"
    },
    "tags": []
   },
   "outputs": [
    {
     "data": {
      "text/html": [
       "<div>\n",
       "<style scoped>\n",
       "    .dataframe tbody tr th:only-of-type {\n",
       "        vertical-align: middle;\n",
       "    }\n",
       "\n",
       "    .dataframe tbody tr th {\n",
       "        vertical-align: top;\n",
       "    }\n",
       "\n",
       "    .dataframe thead th {\n",
       "        text-align: right;\n",
       "    }\n",
       "</style>\n",
       "<table border=\"1\" class=\"dataframe\">\n",
       "  <thead>\n",
       "    <tr style=\"text-align: right;\">\n",
       "      <th></th>\n",
       "      <th>0</th>\n",
       "    </tr>\n",
       "  </thead>\n",
       "  <tbody>\n",
       "    <tr>\n",
       "      <th>0</th>\n",
       "      <td>2</td>\n",
       "    </tr>\n",
       "    <tr>\n",
       "      <th>1</th>\n",
       "      <td>1</td>\n",
       "    </tr>\n",
       "    <tr>\n",
       "      <th>2</th>\n",
       "      <td>2</td>\n",
       "    </tr>\n",
       "    <tr>\n",
       "      <th>3</th>\n",
       "      <td>1</td>\n",
       "    </tr>\n",
       "    <tr>\n",
       "      <th>4</th>\n",
       "      <td>2</td>\n",
       "    </tr>\n",
       "  </tbody>\n",
       "</table>\n",
       "</div>"
      ],
      "text/plain": [
       "   0\n",
       "0  2\n",
       "1  1\n",
       "2  2\n",
       "3  1\n",
       "4  2"
      ]
     },
     "execution_count": 4,
     "metadata": {},
     "output_type": "execute_result"
    }
   ],
   "source": [
    "# 값 변경하기\n",
    "import pandas as pd\n",
    "data = pd.DataFrame([0, 1, 0, 1, 0])\n",
    "data = data.replace(0, 2)\n",
    "data"
   ]
  },
  {
   "cell_type": "markdown",
   "id": "58f438bd",
   "metadata": {
    "papermill": {
     "duration": 0.010022,
     "end_time": "2025-06-15T05:28:49.618899",
     "exception": false,
     "start_time": "2025-06-15T05:28:49.608877",
     "status": "completed"
    },
    "tags": []
   },
   "source": [
    "## 풀이"
   ]
  },
  {
   "cell_type": "code",
   "execution_count": 5,
   "id": "71de3053",
   "metadata": {
    "_cell_guid": "b1076dfc-b9ad-4769-8c92-a6c4dae69d19",
    "_uuid": "8f2839f25d086af736a60e9eeb907d3b93b6e0e5",
    "execution": {
     "iopub.execute_input": "2025-06-15T05:28:49.645727Z",
     "iopub.status.busy": "2025-06-15T05:28:49.644879Z",
     "iopub.status.idle": "2025-06-15T05:28:49.664008Z",
     "shell.execute_reply": "2025-06-15T05:28:49.663368Z",
     "shell.execute_reply.started": "2025-06-15T05:22:27.685375Z"
    },
    "papermill": {
     "duration": 0.034486,
     "end_time": "2025-06-15T05:28:49.664172",
     "exception": false,
     "start_time": "2025-06-15T05:28:49.629686",
     "status": "completed"
    },
    "tags": []
   },
   "outputs": [
    {
     "data": {
      "text/html": [
       "<div>\n",
       "<style scoped>\n",
       "    .dataframe tbody tr th:only-of-type {\n",
       "        vertical-align: middle;\n",
       "    }\n",
       "\n",
       "    .dataframe tbody tr th {\n",
       "        vertical-align: top;\n",
       "    }\n",
       "\n",
       "    .dataframe thead th {\n",
       "        text-align: right;\n",
       "    }\n",
       "</style>\n",
       "<table border=\"1\" class=\"dataframe\">\n",
       "  <thead>\n",
       "    <tr style=\"text-align: right;\">\n",
       "      <th></th>\n",
       "      <th>id</th>\n",
       "      <th>age</th>\n",
       "      <th>city</th>\n",
       "      <th>f1</th>\n",
       "      <th>f2</th>\n",
       "      <th>f3</th>\n",
       "      <th>f4</th>\n",
       "      <th>f5</th>\n",
       "    </tr>\n",
       "  </thead>\n",
       "  <tbody>\n",
       "    <tr>\n",
       "      <th>0</th>\n",
       "      <td>id01</td>\n",
       "      <td>2.0</td>\n",
       "      <td>서울</td>\n",
       "      <td>NaN</td>\n",
       "      <td>0</td>\n",
       "      <td>NaN</td>\n",
       "      <td>ENFJ</td>\n",
       "      <td>91.297791</td>\n",
       "    </tr>\n",
       "    <tr>\n",
       "      <th>1</th>\n",
       "      <td>id02</td>\n",
       "      <td>9.0</td>\n",
       "      <td>서울</td>\n",
       "      <td>70.0</td>\n",
       "      <td>1</td>\n",
       "      <td>NaN</td>\n",
       "      <td>ENFJ</td>\n",
       "      <td>60.339826</td>\n",
       "    </tr>\n",
       "  </tbody>\n",
       "</table>\n",
       "</div>"
      ],
      "text/plain": [
       "     id  age city    f1  f2   f3    f4         f5\n",
       "0  id01  2.0   서울   NaN   0  NaN  ENFJ  91.297791\n",
       "1  id02  9.0   서울  70.0   1  NaN  ENFJ  60.339826"
      ]
     },
     "execution_count": 5,
     "metadata": {},
     "output_type": "execute_result"
    }
   ],
   "source": [
    "# 라이브러리 및 데이터 불러오기\n",
    "import pandas as pd\n",
    "import numpy as np\n",
    "\n",
    "df = pd.read_csv('../input/bigdatacertificationkr/basic1.csv')\n",
    "df.head(2)"
   ]
  },
  {
   "cell_type": "code",
   "execution_count": 6,
   "id": "d70bec3d",
   "metadata": {
    "execution": {
     "iopub.execute_input": "2025-06-15T05:28:49.702036Z",
     "iopub.status.busy": "2025-06-15T05:28:49.701057Z",
     "iopub.status.idle": "2025-06-15T05:28:49.705867Z",
     "shell.execute_reply": "2025-06-15T05:28:49.705248Z",
     "shell.execute_reply.started": "2025-06-15T05:22:30.092846Z"
    },
    "papermill": {
     "duration": 0.030876,
     "end_time": "2025-06-15T05:28:49.706019",
     "exception": false,
     "start_time": "2025-06-15T05:28:49.675143",
     "status": "completed"
    },
    "tags": []
   },
   "outputs": [
    {
     "data": {
      "text/html": [
       "<div>\n",
       "<style scoped>\n",
       "    .dataframe tbody tr th:only-of-type {\n",
       "        vertical-align: middle;\n",
       "    }\n",
       "\n",
       "    .dataframe tbody tr th {\n",
       "        vertical-align: top;\n",
       "    }\n",
       "\n",
       "    .dataframe thead th {\n",
       "        text-align: right;\n",
       "    }\n",
       "</style>\n",
       "<table border=\"1\" class=\"dataframe\">\n",
       "  <thead>\n",
       "    <tr style=\"text-align: right;\">\n",
       "      <th></th>\n",
       "      <th>id</th>\n",
       "      <th>age</th>\n",
       "      <th>city</th>\n",
       "      <th>f1</th>\n",
       "      <th>f2</th>\n",
       "      <th>f3</th>\n",
       "      <th>f4</th>\n",
       "      <th>f5</th>\n",
       "    </tr>\n",
       "  </thead>\n",
       "  <tbody>\n",
       "    <tr>\n",
       "      <th>8</th>\n",
       "      <td>id09</td>\n",
       "      <td>3.3</td>\n",
       "      <td>서울</td>\n",
       "      <td>35.0</td>\n",
       "      <td>2</td>\n",
       "      <td>NaN</td>\n",
       "      <td>ESFJ</td>\n",
       "      <td>17.252986</td>\n",
       "    </tr>\n",
       "    <tr>\n",
       "      <th>12</th>\n",
       "      <td>id13</td>\n",
       "      <td>15.0</td>\n",
       "      <td>서울</td>\n",
       "      <td>68.0</td>\n",
       "      <td>0</td>\n",
       "      <td>NaN</td>\n",
       "      <td>ESFJ</td>\n",
       "      <td>83.685380</td>\n",
       "    </tr>\n",
       "    <tr>\n",
       "      <th>30</th>\n",
       "      <td>id31</td>\n",
       "      <td>86.0</td>\n",
       "      <td>부산</td>\n",
       "      <td>77.0</td>\n",
       "      <td>0</td>\n",
       "      <td>NaN</td>\n",
       "      <td>ESFJ</td>\n",
       "      <td>73.586397</td>\n",
       "    </tr>\n",
       "    <tr>\n",
       "      <th>58</th>\n",
       "      <td>id59</td>\n",
       "      <td>64.0</td>\n",
       "      <td>대구</td>\n",
       "      <td>NaN</td>\n",
       "      <td>1</td>\n",
       "      <td>NaN</td>\n",
       "      <td>ESFJ</td>\n",
       "      <td>20.129444</td>\n",
       "    </tr>\n",
       "    <tr>\n",
       "      <th>98</th>\n",
       "      <td>id99</td>\n",
       "      <td>1.0</td>\n",
       "      <td>경기</td>\n",
       "      <td>47.0</td>\n",
       "      <td>0</td>\n",
       "      <td>NaN</td>\n",
       "      <td>ESFJ</td>\n",
       "      <td>97.381034</td>\n",
       "    </tr>\n",
       "  </tbody>\n",
       "</table>\n",
       "</div>"
      ],
      "text/plain": [
       "      id   age city    f1  f2   f3    f4         f5\n",
       "8   id09   3.3   서울  35.0   2  NaN  ESFJ  17.252986\n",
       "12  id13  15.0   서울  68.0   0  NaN  ESFJ  83.685380\n",
       "30  id31  86.0   부산  77.0   0  NaN  ESFJ  73.586397\n",
       "58  id59  64.0   대구   NaN   1  NaN  ESFJ  20.129444\n",
       "98  id99   1.0   경기  47.0   0  NaN  ESFJ  97.381034"
      ]
     },
     "execution_count": 6,
     "metadata": {},
     "output_type": "execute_result"
    }
   ],
   "source": [
    "# ESFJ 값을 가진 데이터 확인\n",
    "df[df['f4'] == 'ESFJ']"
   ]
  },
  {
   "cell_type": "code",
   "execution_count": 7,
   "id": "21756b0d",
   "metadata": {
    "execution": {
     "iopub.execute_input": "2025-06-15T05:28:49.736819Z",
     "iopub.status.busy": "2025-06-15T05:28:49.735777Z",
     "iopub.status.idle": "2025-06-15T05:28:49.738998Z",
     "shell.execute_reply": "2025-06-15T05:28:49.738327Z",
     "shell.execute_reply.started": "2025-06-15T05:22:32.127357Z"
    },
    "papermill": {
     "duration": 0.022078,
     "end_time": "2025-06-15T05:28:49.739170",
     "exception": false,
     "start_time": "2025-06-15T05:28:49.717092",
     "status": "completed"
    },
    "tags": []
   },
   "outputs": [],
   "source": [
    "# 값 변경하기\n",
    "df['f4'] = df['f4'].replace('ESFJ', 'ISFJ')"
   ]
  },
  {
   "cell_type": "code",
   "execution_count": 8,
   "id": "482675d5",
   "metadata": {
    "execution": {
     "iopub.execute_input": "2025-06-15T05:28:49.773544Z",
     "iopub.status.busy": "2025-06-15T05:28:49.772564Z",
     "iopub.status.idle": "2025-06-15T05:28:49.777916Z",
     "shell.execute_reply": "2025-06-15T05:28:49.777192Z",
     "shell.execute_reply.started": "2025-06-15T05:22:34.181296Z"
    },
    "papermill": {
     "duration": 0.027815,
     "end_time": "2025-06-15T05:28:49.778071",
     "exception": false,
     "start_time": "2025-06-15T05:28:49.750256",
     "status": "completed"
    },
    "tags": []
   },
   "outputs": [
    {
     "data": {
      "text/html": [
       "<div>\n",
       "<style scoped>\n",
       "    .dataframe tbody tr th:only-of-type {\n",
       "        vertical-align: middle;\n",
       "    }\n",
       "\n",
       "    .dataframe tbody tr th {\n",
       "        vertical-align: top;\n",
       "    }\n",
       "\n",
       "    .dataframe thead th {\n",
       "        text-align: right;\n",
       "    }\n",
       "</style>\n",
       "<table border=\"1\" class=\"dataframe\">\n",
       "  <thead>\n",
       "    <tr style=\"text-align: right;\">\n",
       "      <th></th>\n",
       "      <th>id</th>\n",
       "      <th>age</th>\n",
       "      <th>city</th>\n",
       "      <th>f1</th>\n",
       "      <th>f2</th>\n",
       "      <th>f3</th>\n",
       "      <th>f4</th>\n",
       "      <th>f5</th>\n",
       "    </tr>\n",
       "  </thead>\n",
       "  <tbody>\n",
       "  </tbody>\n",
       "</table>\n",
       "</div>"
      ],
      "text/plain": [
       "Empty DataFrame\n",
       "Columns: [id, age, city, f1, f2, f3, f4, f5]\n",
       "Index: []"
      ]
     },
     "execution_count": 8,
     "metadata": {},
     "output_type": "execute_result"
    }
   ],
   "source": [
    "# ESFJ 값을 가진 데이터 확인\n",
    "df[df['f4'] == 'ESFJ']"
   ]
  },
  {
   "cell_type": "code",
   "execution_count": 9,
   "id": "7ee85f61",
   "metadata": {
    "execution": {
     "iopub.execute_input": "2025-06-15T05:28:49.818901Z",
     "iopub.status.busy": "2025-06-15T05:28:49.817912Z",
     "iopub.status.idle": "2025-06-15T05:28:49.823566Z",
     "shell.execute_reply": "2025-06-15T05:28:49.822852Z",
     "shell.execute_reply.started": "2025-06-15T05:22:36.106874Z"
    },
    "papermill": {
     "duration": 0.032984,
     "end_time": "2025-06-15T05:28:49.823716",
     "exception": false,
     "start_time": "2025-06-15T05:28:49.790732",
     "status": "completed"
    },
    "tags": []
   },
   "outputs": [
    {
     "data": {
      "text/html": [
       "<div>\n",
       "<style scoped>\n",
       "    .dataframe tbody tr th:only-of-type {\n",
       "        vertical-align: middle;\n",
       "    }\n",
       "\n",
       "    .dataframe tbody tr th {\n",
       "        vertical-align: top;\n",
       "    }\n",
       "\n",
       "    .dataframe thead th {\n",
       "        text-align: right;\n",
       "    }\n",
       "</style>\n",
       "<table border=\"1\" class=\"dataframe\">\n",
       "  <thead>\n",
       "    <tr style=\"text-align: right;\">\n",
       "      <th></th>\n",
       "      <th>id</th>\n",
       "      <th>age</th>\n",
       "      <th>city</th>\n",
       "      <th>f1</th>\n",
       "      <th>f2</th>\n",
       "      <th>f3</th>\n",
       "      <th>f4</th>\n",
       "      <th>f5</th>\n",
       "    </tr>\n",
       "  </thead>\n",
       "  <tbody>\n",
       "    <tr>\n",
       "      <th>62</th>\n",
       "      <td>id63</td>\n",
       "      <td>88.0</td>\n",
       "      <td>경기</td>\n",
       "      <td>86.0</td>\n",
       "      <td>1</td>\n",
       "      <td>NaN</td>\n",
       "      <td>ISFJ</td>\n",
       "      <td>73.586397</td>\n",
       "    </tr>\n",
       "    <tr>\n",
       "      <th>66</th>\n",
       "      <td>id67</td>\n",
       "      <td>66.0</td>\n",
       "      <td>경기</td>\n",
       "      <td>52.0</td>\n",
       "      <td>1</td>\n",
       "      <td>NaN</td>\n",
       "      <td>ISFJ</td>\n",
       "      <td>73.586397</td>\n",
       "    </tr>\n",
       "    <tr>\n",
       "      <th>72</th>\n",
       "      <td>id73</td>\n",
       "      <td>90.0</td>\n",
       "      <td>경기</td>\n",
       "      <td>NaN</td>\n",
       "      <td>1</td>\n",
       "      <td>NaN</td>\n",
       "      <td>ISFJ</td>\n",
       "      <td>73.586397</td>\n",
       "    </tr>\n",
       "    <tr>\n",
       "      <th>80</th>\n",
       "      <td>id81</td>\n",
       "      <td>86.0</td>\n",
       "      <td>경기</td>\n",
       "      <td>50.0</td>\n",
       "      <td>1</td>\n",
       "      <td>NaN</td>\n",
       "      <td>ISFJ</td>\n",
       "      <td>37.113739</td>\n",
       "    </tr>\n",
       "    <tr>\n",
       "      <th>98</th>\n",
       "      <td>id99</td>\n",
       "      <td>1.0</td>\n",
       "      <td>경기</td>\n",
       "      <td>47.0</td>\n",
       "      <td>0</td>\n",
       "      <td>NaN</td>\n",
       "      <td>ISFJ</td>\n",
       "      <td>97.381034</td>\n",
       "    </tr>\n",
       "  </tbody>\n",
       "</table>\n",
       "</div>"
      ],
      "text/plain": [
       "      id   age city    f1  f2   f3    f4         f5\n",
       "62  id63  88.0   경기  86.0   1  NaN  ISFJ  73.586397\n",
       "66  id67  66.0   경기  52.0   1  NaN  ISFJ  73.586397\n",
       "72  id73  90.0   경기   NaN   1  NaN  ISFJ  73.586397\n",
       "80  id81  86.0   경기  50.0   1  NaN  ISFJ  37.113739\n",
       "98  id99   1.0   경기  47.0   0  NaN  ISFJ  97.381034"
      ]
     },
     "execution_count": 9,
     "metadata": {},
     "output_type": "execute_result"
    }
   ],
   "source": [
    "# 2개의 조건에 맞는 값\n",
    "df[(df['f4'] == 'ISFJ') & (df['city'] == '경기')]"
   ]
  },
  {
   "cell_type": "code",
   "execution_count": 10,
   "id": "e05d50e2",
   "metadata": {
    "execution": {
     "iopub.execute_input": "2025-06-15T05:28:49.858539Z",
     "iopub.status.busy": "2025-06-15T05:28:49.857775Z",
     "iopub.status.idle": "2025-06-15T05:28:49.862139Z",
     "shell.execute_reply": "2025-06-15T05:28:49.861631Z",
     "shell.execute_reply.started": "2025-06-15T05:22:38.440699Z"
    },
    "papermill": {
     "duration": 0.026431,
     "end_time": "2025-06-15T05:28:49.862267",
     "exception": false,
     "start_time": "2025-06-15T05:28:49.835836",
     "status": "completed"
    },
    "tags": []
   },
   "outputs": [
    {
     "data": {
      "text/plain": [
       "90.0"
      ]
     },
     "execution_count": 10,
     "metadata": {},
     "output_type": "execute_result"
    }
   ],
   "source": [
    "# 2개의 조건에 맞는 값중 age컬럼의 최대값\n",
    "df[(df['f4'] == 'ISFJ') & (df['city'] == '경기')]['age'].max()"
   ]
  },
  {
   "cell_type": "code",
   "execution_count": null,
   "id": "7c4e4b54",
   "metadata": {
    "papermill": {
     "duration": 0.011281,
     "end_time": "2025-06-15T05:28:49.885447",
     "exception": false,
     "start_time": "2025-06-15T05:28:49.874166",
     "status": "completed"
    },
    "tags": []
   },
   "outputs": [],
   "source": []
  }
 ],
 "metadata": {
  "kaggle": {
   "accelerator": "none",
   "dataSources": [
    {
     "datasetId": 1633303,
     "sourceId": 12111603,
     "sourceType": "datasetVersion"
    }
   ],
   "dockerImageVersionId": 30129,
   "isGpuEnabled": false,
   "isInternetEnabled": true,
   "language": "python",
   "sourceType": "notebook"
  },
  "kernelspec": {
   "display_name": "Python 3",
   "language": "python",
   "name": "python3"
  },
  "language_info": {
   "codemirror_mode": {
    "name": "ipython",
    "version": 3
   },
   "file_extension": ".py",
   "mimetype": "text/x-python",
   "name": "python",
   "nbconvert_exporter": "python",
   "pygments_lexer": "ipython3",
   "version": "3.7.10"
  },
  "papermill": {
   "default_parameters": {},
   "duration": 10.865444,
   "end_time": "2025-06-15T05:28:51.536245",
   "environment_variables": {},
   "exception": null,
   "input_path": "__notebook__.ipynb",
   "output_path": "__notebook__.ipynb",
   "parameters": {},
   "start_time": "2025-06-15T05:28:40.670801",
   "version": "2.3.3"
  }
 },
 "nbformat": 4,
 "nbformat_minor": 5
}
