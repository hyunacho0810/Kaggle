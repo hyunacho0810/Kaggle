{
 "cells": [
  {
   "cell_type": "markdown",
   "id": "a7453247",
   "metadata": {
    "papermill": {
     "duration": 0.012857,
     "end_time": "2025-06-15T05:32:30.741685",
     "exception": false,
     "start_time": "2025-06-15T05:32:30.728828",
     "status": "completed"
    },
    "tags": []
   },
   "source": [
    "## 결측치 처리\n",
    "-  주어진 데이터에서 결측치가 80%이상 되는 컬럼은(변수는) 삭제하고, 80% 미만인 결측치가 있는 컬럼은 'city'별 중앙값으로 값을 대체하고 'f1'컬럼의 평균값을 출력하세요!\n",
    "- 데이터셋 : basic1.csv 오른쪽 상단 copy&edit 클릭 -> 예상문제 풀이 시작\n",
    "- 강의 영상 : https://youtu.be/WqlpqBRn7x4"
   ]
  },
  {
   "cell_type": "code",
   "execution_count": 1,
   "id": "d2c8d212",
   "metadata": {
    "execution": {
     "iopub.execute_input": "2025-06-15T05:32:30.778854Z",
     "iopub.status.busy": "2025-06-15T05:32:30.775272Z",
     "iopub.status.idle": "2025-06-15T05:32:30.807938Z",
     "shell.execute_reply": "2025-06-15T05:32:30.807121Z",
     "shell.execute_reply.started": "2025-06-15T02:28:03.706901Z"
    },
    "papermill": {
     "duration": 0.054507,
     "end_time": "2025-06-15T05:32:30.808178",
     "exception": false,
     "start_time": "2025-06-15T05:32:30.753671",
     "status": "completed"
    },
    "tags": []
   },
   "outputs": [
    {
     "name": "stdout",
     "output_type": "stream",
     "text": [
      "     id   age city     f1  f2   f3    f4         f5\n",
      "0  id01   2.0   서울    NaN   0  NaN  ENFJ  91.297791\n",
      "1  id02   9.0   서울   70.0   1  NaN  ENFJ  60.339826\n",
      "2  id03  27.0   서울   61.0   1  NaN  ISTJ  17.252986\n",
      "3  id04  75.0   서울    NaN   2  NaN  INFP  52.667078\n",
      "4  id05  24.0   서울   85.0   2  NaN  ISFJ  29.269869\n",
      "5  id06  22.0   서울   57.0   0  vip  INTP  20.129444\n",
      "6  id07  36.3   서울   60.0   1  NaN  ISFJ   9.796378\n",
      "7  id08  38.0   서울  101.0   1  NaN  INFJ  83.685380\n",
      "8  id09   3.3   서울   35.0   2  NaN  ESFJ  17.252986\n",
      "9  id10  95.0   서울   74.0   1  NaN  ISFP  98.429899\n"
     ]
    }
   ],
   "source": [
    "# 라이브러리 및 데이터 불러오기\n",
    "import pandas as pd\n",
    "df=pd.read_csv(\"/kaggle/input/bigdatacertificationkr/basic1.csv\")\n",
    "print(df.head(10))"
   ]
  },
  {
   "cell_type": "code",
   "execution_count": 2,
   "id": "e14d3b5e",
   "metadata": {
    "execution": {
     "iopub.execute_input": "2025-06-15T05:32:30.858310Z",
     "iopub.status.busy": "2025-06-15T05:32:30.857588Z",
     "iopub.status.idle": "2025-06-15T05:32:30.861672Z",
     "shell.execute_reply": "2025-06-15T05:32:30.861031Z",
     "shell.execute_reply.started": "2025-06-15T02:28:16.948761Z"
    },
    "papermill": {
     "duration": 0.040815,
     "end_time": "2025-06-15T05:32:30.861814",
     "exception": false,
     "start_time": "2025-06-15T05:32:30.820999",
     "status": "completed"
    },
    "tags": []
   },
   "outputs": [
    {
     "name": "stdout",
     "output_type": "stream",
     "text": [
      "<class 'pandas.core.frame.DataFrame'>\n",
      "RangeIndex: 100 entries, 0 to 99\n",
      "Data columns (total 8 columns):\n",
      " #   Column  Non-Null Count  Dtype  \n",
      "---  ------  --------------  -----  \n",
      " 0   id      100 non-null    object \n",
      " 1   age     100 non-null    float64\n",
      " 2   city    100 non-null    object \n",
      " 3   f1      69 non-null     float64\n",
      " 4   f2      100 non-null    int64  \n",
      " 5   f3      5 non-null      object \n",
      " 6   f4      100 non-null    object \n",
      " 7   f5      100 non-null    float64\n",
      "dtypes: float64(3), int64(1), object(4)\n",
      "memory usage: 6.4+ KB\n",
      "None\n"
     ]
    }
   ],
   "source": [
    "# EDA - 결측값 확인(비율 확인)\n",
    "print(df.info())\n",
    "\n",
    "# 100개의 데이터가 있을때 결측치가 80퍼 이상 되려면, 20개 미만의 데이터가 있는 컬럼을 삭제 해야한다. \n",
    "# 삭제 해야하는 컬럼 ->f3 (이것도 수학적으로 해야하낭..)\n",
    "# 중앙값 대체 컬럼 ->f1"
   ]
  },
  {
   "cell_type": "code",
   "execution_count": 3,
   "id": "2930633d",
   "metadata": {
    "execution": {
     "iopub.execute_input": "2025-06-15T05:32:30.899975Z",
     "iopub.status.busy": "2025-06-15T05:32:30.899250Z",
     "iopub.status.idle": "2025-06-15T05:32:30.902374Z",
     "shell.execute_reply": "2025-06-15T05:32:30.902853Z",
     "shell.execute_reply.started": "2025-06-15T02:31:17.850208Z"
    },
    "papermill": {
     "duration": 0.028766,
     "end_time": "2025-06-15T05:32:30.903025",
     "exception": false,
     "start_time": "2025-06-15T05:32:30.874259",
     "status": "completed"
    },
    "tags": []
   },
   "outputs": [
    {
     "name": "stdout",
     "output_type": "stream",
     "text": [
      "     id   age city     f1  f2    f4         f5\n",
      "0  id01   2.0   서울    NaN   0  ENFJ  91.297791\n",
      "1  id02   9.0   서울   70.0   1  ENFJ  60.339826\n",
      "2  id03  27.0   서울   61.0   1  ISTJ  17.252986\n",
      "3  id04  75.0   서울    NaN   2  INFP  52.667078\n",
      "4  id05  24.0   서울   85.0   2  ISFJ  29.269869\n",
      "5  id06  22.0   서울   57.0   0  INTP  20.129444\n",
      "6  id07  36.3   서울   60.0   1  ISFJ   9.796378\n",
      "7  id08  38.0   서울  101.0   1  INFJ  83.685380\n",
      "8  id09   3.3   서울   35.0   2  ESFJ  17.252986\n",
      "9  id10  95.0   서울   74.0   1  ISFP  98.429899\n"
     ]
    }
   ],
   "source": [
    "# 80%이상 결측치 컬럼, 삭제\n",
    "df.drop('f3',axis=1,inplace=True)\n",
    "print(df.head(10))"
   ]
  },
  {
   "cell_type": "code",
   "execution_count": 4,
   "id": "a64dc0c5",
   "metadata": {
    "execution": {
     "iopub.execute_input": "2025-06-15T05:32:30.954925Z",
     "iopub.status.busy": "2025-06-15T05:32:30.952567Z",
     "iopub.status.idle": "2025-06-15T05:32:30.958967Z",
     "shell.execute_reply": "2025-06-15T05:32:30.959437Z",
     "shell.execute_reply.started": "2025-06-15T02:51:39.866722Z"
    },
    "papermill": {
     "duration": 0.044038,
     "end_time": "2025-06-15T05:32:30.959610",
     "exception": false,
     "start_time": "2025-06-15T05:32:30.915572",
     "status": "completed"
    },
    "tags": []
   },
   "outputs": [
    {
     "name": "stdout",
     "output_type": "stream",
     "text": [
      "      id   age city     f1  f2    f4         f5\n",
      "0   id01   2.0   서울   68.0   0  ENFJ  91.297791\n",
      "1   id02   9.0   서울   70.0   1  ENFJ  60.339826\n",
      "2   id03  27.0   서울   61.0   1  ISTJ  17.252986\n",
      "3   id04  75.0   서울   68.0   2  INFP  52.667078\n",
      "4   id05  24.0   서울   85.0   2  ISFJ  29.269869\n",
      "5   id06  22.0   서울   57.0   0  INTP  20.129444\n",
      "6   id07  36.3   서울   60.0   1  ISFJ   9.796378\n",
      "7   id08  38.0   서울  101.0   1  INFJ  83.685380\n",
      "8   id09   3.3   서울   35.0   2  ESFJ  17.252986\n",
      "9   id10  95.0   서울   74.0   1  ISFP  98.429899\n",
      "10  id11  40.0   서울   68.0   0  ENFP  98.429899\n",
      "11  id12  20.0   서울   68.0   0  ESTP  91.297791\n",
      "12  id13  15.0   서울   68.0   0  ESFJ  83.685380\n",
      "13  id14  77.0   서울   50.0   1  ENTJ  67.886373\n",
      "14  id15  22.0   서울   67.0   1  ENTP   9.796378\n",
      "15  id16  68.0   서울   85.0   0  ESFP  16.283854\n",
      "16  id17  74.0   서울   68.0   1  ISTP  67.886373\n",
      "17  id18  41.0   서울   87.0   2  ISFJ  80.138280\n",
      "18  id19  53.0   서울   68.0   0  ISFP  83.685380\n",
      "19  id20  11.0   서울   51.0   1  INTJ  91.297791\n",
      "------------\n",
      "<class 'pandas.core.frame.DataFrame'>\n",
      "RangeIndex: 100 entries, 0 to 99\n",
      "Data columns (total 7 columns):\n",
      " #   Column  Non-Null Count  Dtype  \n",
      "---  ------  --------------  -----  \n",
      " 0   id      100 non-null    object \n",
      " 1   age     100 non-null    float64\n",
      " 2   city    100 non-null    object \n",
      " 3   f1      100 non-null    float64\n",
      " 4   f2      100 non-null    int64  \n",
      " 5   f4      100 non-null    object \n",
      " 6   f5      100 non-null    float64\n",
      "dtypes: float64(3), int64(1), object(3)\n",
      "memory usage: 5.6+ KB\n",
      "None\n"
     ]
    }
   ],
   "source": [
    "# 80%미만 결측치 컬럼, city별 중앙값으로 대체\n",
    "df['f1'] = df['f1'].fillna(df.groupby('city')['f1'].transform('median'))\n",
    "print(df.head(20))\n",
    "print('------------')\n",
    "print(df.info())\n",
    "\n",
    "# transform말고 map함수를 적용할 수도 있다.\n",
    "city_medians = df.groupby('city')['f1'].median()\n",
    "df['f1'] = df['f1'].fillna(df['city'].map(city_medians)) "
   ]
  },
  {
   "cell_type": "code",
   "execution_count": 5,
   "id": "4f7521fb",
   "metadata": {
    "execution": {
     "iopub.execute_input": "2025-06-15T05:32:30.992157Z",
     "iopub.status.busy": "2025-06-15T05:32:30.991279Z",
     "iopub.status.idle": "2025-06-15T05:32:30.994813Z",
     "shell.execute_reply": "2025-06-15T05:32:30.994336Z",
     "shell.execute_reply.started": "2025-06-15T02:59:19.123768Z"
    },
    "papermill": {
     "duration": 0.021997,
     "end_time": "2025-06-15T05:32:30.994972",
     "exception": false,
     "start_time": "2025-06-15T05:32:30.972975",
     "status": "completed"
    },
    "tags": []
   },
   "outputs": [
    {
     "name": "stdout",
     "output_type": "stream",
     "text": [
      "65.52\n"
     ]
    }
   ],
   "source": [
    "# f1 평균값 결과 출력\n",
    "print(df['f1'].mean())"
   ]
  },
  {
   "cell_type": "markdown",
   "id": "fd421566",
   "metadata": {
    "papermill": {
     "duration": 0.012741,
     "end_time": "2025-06-15T05:32:31.021306",
     "exception": false,
     "start_time": "2025-06-15T05:32:31.008565",
     "status": "completed"
    },
    "tags": []
   },
   "source": [
    "## Hint\n",
    "- city별 중앙값으로 대체에서는 map함수 활용"
   ]
  },
  {
   "cell_type": "markdown",
   "id": "635a63c5",
   "metadata": {
    "papermill": {
     "duration": 0.012548,
     "end_time": "2025-06-15T05:32:31.047820",
     "exception": false,
     "start_time": "2025-06-15T05:32:31.035272",
     "status": "completed"
    },
    "tags": []
   },
   "source": [
    "## 풀이"
   ]
  },
  {
   "cell_type": "code",
   "execution_count": 6,
   "id": "f90e9914",
   "metadata": {
    "execution": {
     "iopub.execute_input": "2025-06-15T05:32:31.081438Z",
     "iopub.status.busy": "2025-06-15T05:32:31.080692Z",
     "iopub.status.idle": "2025-06-15T05:32:31.101094Z",
     "shell.execute_reply": "2025-06-15T05:32:31.100412Z",
     "shell.execute_reply.started": "2025-06-15T03:05:59.832098Z"
    },
    "papermill": {
     "duration": 0.040132,
     "end_time": "2025-06-15T05:32:31.101240",
     "exception": false,
     "start_time": "2025-06-15T05:32:31.061108",
     "status": "completed"
    },
    "tags": []
   },
   "outputs": [
    {
     "data": {
      "text/html": [
       "<div>\n",
       "<style scoped>\n",
       "    .dataframe tbody tr th:only-of-type {\n",
       "        vertical-align: middle;\n",
       "    }\n",
       "\n",
       "    .dataframe tbody tr th {\n",
       "        vertical-align: top;\n",
       "    }\n",
       "\n",
       "    .dataframe thead th {\n",
       "        text-align: right;\n",
       "    }\n",
       "</style>\n",
       "<table border=\"1\" class=\"dataframe\">\n",
       "  <thead>\n",
       "    <tr style=\"text-align: right;\">\n",
       "      <th></th>\n",
       "      <th>id</th>\n",
       "      <th>age</th>\n",
       "      <th>city</th>\n",
       "      <th>f1</th>\n",
       "      <th>f2</th>\n",
       "      <th>f3</th>\n",
       "      <th>f4</th>\n",
       "      <th>f5</th>\n",
       "    </tr>\n",
       "  </thead>\n",
       "  <tbody>\n",
       "    <tr>\n",
       "      <th>0</th>\n",
       "      <td>id01</td>\n",
       "      <td>2.0</td>\n",
       "      <td>서울</td>\n",
       "      <td>NaN</td>\n",
       "      <td>0</td>\n",
       "      <td>NaN</td>\n",
       "      <td>ENFJ</td>\n",
       "      <td>91.297791</td>\n",
       "    </tr>\n",
       "    <tr>\n",
       "      <th>1</th>\n",
       "      <td>id02</td>\n",
       "      <td>9.0</td>\n",
       "      <td>서울</td>\n",
       "      <td>70.0</td>\n",
       "      <td>1</td>\n",
       "      <td>NaN</td>\n",
       "      <td>ENFJ</td>\n",
       "      <td>60.339826</td>\n",
       "    </tr>\n",
       "    <tr>\n",
       "      <th>2</th>\n",
       "      <td>id03</td>\n",
       "      <td>27.0</td>\n",
       "      <td>서울</td>\n",
       "      <td>61.0</td>\n",
       "      <td>1</td>\n",
       "      <td>NaN</td>\n",
       "      <td>ISTJ</td>\n",
       "      <td>17.252986</td>\n",
       "    </tr>\n",
       "    <tr>\n",
       "      <th>3</th>\n",
       "      <td>id04</td>\n",
       "      <td>75.0</td>\n",
       "      <td>서울</td>\n",
       "      <td>NaN</td>\n",
       "      <td>2</td>\n",
       "      <td>NaN</td>\n",
       "      <td>INFP</td>\n",
       "      <td>52.667078</td>\n",
       "    </tr>\n",
       "    <tr>\n",
       "      <th>4</th>\n",
       "      <td>id05</td>\n",
       "      <td>24.0</td>\n",
       "      <td>서울</td>\n",
       "      <td>85.0</td>\n",
       "      <td>2</td>\n",
       "      <td>NaN</td>\n",
       "      <td>ISFJ</td>\n",
       "      <td>29.269869</td>\n",
       "    </tr>\n",
       "  </tbody>\n",
       "</table>\n",
       "</div>"
      ],
      "text/plain": [
       "     id   age city    f1  f2   f3    f4         f5\n",
       "0  id01   2.0   서울   NaN   0  NaN  ENFJ  91.297791\n",
       "1  id02   9.0   서울  70.0   1  NaN  ENFJ  60.339826\n",
       "2  id03  27.0   서울  61.0   1  NaN  ISTJ  17.252986\n",
       "3  id04  75.0   서울   NaN   2  NaN  INFP  52.667078\n",
       "4  id05  24.0   서울  85.0   2  NaN  ISFJ  29.269869"
      ]
     },
     "execution_count": 6,
     "metadata": {},
     "output_type": "execute_result"
    }
   ],
   "source": [
    "# 라이브러리 및 데이터 불러오기\n",
    "import pandas as pd\n",
    "import numpy as np\n",
    "\n",
    "df = pd.read_csv('../input/bigdatacertificationkr/basic1.csv')\n",
    "df.head()"
   ]
  },
  {
   "cell_type": "code",
   "execution_count": 7,
   "id": "337a4567",
   "metadata": {
    "_cell_guid": "b1076dfc-b9ad-4769-8c92-a6c4dae69d19",
    "_uuid": "8f2839f25d086af736a60e9eeb907d3b93b6e0e5",
    "execution": {
     "iopub.execute_input": "2025-06-15T05:32:31.141018Z",
     "iopub.status.busy": "2025-06-15T05:32:31.139819Z",
     "iopub.status.idle": "2025-06-15T05:32:31.144503Z",
     "shell.execute_reply": "2025-06-15T05:32:31.143958Z",
     "shell.execute_reply.started": "2025-06-15T03:06:02.023643Z"
    },
    "papermill": {
     "duration": 0.02709,
     "end_time": "2025-06-15T05:32:31.144649",
     "exception": false,
     "start_time": "2025-06-15T05:32:31.117559",
     "status": "completed"
    },
    "tags": []
   },
   "outputs": [
    {
     "data": {
      "text/plain": [
       "id       0\n",
       "age      0\n",
       "city     0\n",
       "f1      31\n",
       "f2       0\n",
       "f3      95\n",
       "f4       0\n",
       "f5       0\n",
       "dtype: int64"
      ]
     },
     "execution_count": 7,
     "metadata": {},
     "output_type": "execute_result"
    }
   ],
   "source": [
    "# EDA - 결측값 확인\n",
    "df.isnull().sum()"
   ]
  },
  {
   "cell_type": "code",
   "execution_count": 8,
   "id": "233e2cb3",
   "metadata": {
    "execution": {
     "iopub.execute_input": "2025-06-15T05:32:31.178324Z",
     "iopub.status.busy": "2025-06-15T05:32:31.177256Z",
     "iopub.status.idle": "2025-06-15T05:32:31.181514Z",
     "shell.execute_reply": "2025-06-15T05:32:31.181999Z",
     "shell.execute_reply.started": "2025-06-15T03:06:11.128829Z"
    },
    "papermill": {
     "duration": 0.02348,
     "end_time": "2025-06-15T05:32:31.182219",
     "exception": false,
     "start_time": "2025-06-15T05:32:31.158739",
     "status": "completed"
    },
    "tags": []
   },
   "outputs": [
    {
     "data": {
      "text/plain": [
       "(100, 8)"
      ]
     },
     "execution_count": 8,
     "metadata": {},
     "output_type": "execute_result"
    }
   ],
   "source": [
    "# 데이터 shape\n",
    "df.shape"
   ]
  },
  {
   "cell_type": "code",
   "execution_count": 9,
   "id": "5696654c",
   "metadata": {
    "execution": {
     "iopub.execute_input": "2025-06-15T05:32:31.220154Z",
     "iopub.status.busy": "2025-06-15T05:32:31.219339Z",
     "iopub.status.idle": "2025-06-15T05:32:31.223609Z",
     "shell.execute_reply": "2025-06-15T05:32:31.223117Z",
     "shell.execute_reply.started": "2025-06-15T03:06:13.934803Z"
    },
    "papermill": {
     "duration": 0.027137,
     "end_time": "2025-06-15T05:32:31.223740",
     "exception": false,
     "start_time": "2025-06-15T05:32:31.196603",
     "status": "completed"
    },
    "tags": []
   },
   "outputs": [
    {
     "data": {
      "text/plain": [
       "id      0.00\n",
       "age     0.00\n",
       "city    0.00\n",
       "f1      0.31\n",
       "f2      0.00\n",
       "f3      0.95\n",
       "f4      0.00\n",
       "f5      0.00\n",
       "dtype: float64"
      ]
     },
     "execution_count": 9,
     "metadata": {},
     "output_type": "execute_result"
    }
   ],
   "source": [
    "# EDA - 결측비율 확인\n",
    "df.isnull().sum()/df.shape[0]"
   ]
  },
  {
   "cell_type": "code",
   "execution_count": 10,
   "id": "e412db37",
   "metadata": {
    "execution": {
     "iopub.execute_input": "2025-06-15T05:32:31.259564Z",
     "iopub.status.busy": "2025-06-15T05:32:31.258773Z",
     "iopub.status.idle": "2025-06-15T05:32:31.262267Z",
     "shell.execute_reply": "2025-06-15T05:32:31.263051Z",
     "shell.execute_reply.started": "2025-06-15T03:06:21.150063Z"
    },
    "papermill": {
     "duration": 0.025417,
     "end_time": "2025-06-15T05:32:31.263281",
     "exception": false,
     "start_time": "2025-06-15T05:32:31.237864",
     "status": "completed"
    },
    "tags": []
   },
   "outputs": [
    {
     "name": "stdout",
     "output_type": "stream",
     "text": [
      "삭제 전: (100, 8)\n",
      "삭제 후: (100, 7)\n"
     ]
    }
   ],
   "source": [
    "# f3 컬럼 삭제\n",
    "print(\"삭제 전:\", df.shape)\n",
    "df = df.drop(['f3'], axis=1)\n",
    "print(\"삭제 후:\", df.shape)\n",
    "\n",
    "# 결측치가 있는 컬럼을 제거하는 2가지 방법\n",
    "# df.drop(['B', 'C'], axis=1)\n",
    "# df.drop(columns=['B', 'C'])"
   ]
  },
  {
   "cell_type": "code",
   "execution_count": 11,
   "id": "334f0181",
   "metadata": {
    "execution": {
     "iopub.execute_input": "2025-06-15T05:32:31.302088Z",
     "iopub.status.busy": "2025-06-15T05:32:31.301333Z",
     "iopub.status.idle": "2025-06-15T05:32:31.305600Z",
     "shell.execute_reply": "2025-06-15T05:32:31.305100Z",
     "shell.execute_reply.started": "2025-06-15T03:06:23.669867Z"
    },
    "papermill": {
     "duration": 0.025447,
     "end_time": "2025-06-15T05:32:31.305741",
     "exception": false,
     "start_time": "2025-06-15T05:32:31.280294",
     "status": "completed"
    },
    "tags": []
   },
   "outputs": [
    {
     "data": {
      "text/plain": [
       "array(['서울', '부산', '대구', '경기'], dtype=object)"
      ]
     },
     "execution_count": 11,
     "metadata": {},
     "output_type": "execute_result"
    }
   ],
   "source": [
    "# 도시 확인\n",
    "df['city'].unique()"
   ]
  },
  {
   "cell_type": "code",
   "execution_count": 12,
   "id": "f7a6f60b",
   "metadata": {
    "execution": {
     "iopub.execute_input": "2025-06-15T05:32:31.348080Z",
     "iopub.status.busy": "2025-06-15T05:32:31.347020Z",
     "iopub.status.idle": "2025-06-15T05:32:31.351418Z",
     "shell.execute_reply": "2025-06-15T05:32:31.351877Z",
     "shell.execute_reply.started": "2025-06-15T03:06:27.588647Z"
    },
    "papermill": {
     "duration": 0.031387,
     "end_time": "2025-06-15T05:32:31.352122",
     "exception": false,
     "start_time": "2025-06-15T05:32:31.320735",
     "status": "completed"
    },
    "tags": []
   },
   "outputs": [
    {
     "data": {
      "text/plain": [
       "(68.0, 58.0, 62.0, 75.0)"
      ]
     },
     "execution_count": 12,
     "metadata": {},
     "output_type": "execute_result"
    }
   ],
   "source": [
    "# 도시별 중앙값 계산\n",
    "s=df[df['city']=='서울']['f1'].median()\n",
    "k=df[df['city']=='경기']['f1'].median()\n",
    "b=df[df['city']=='부산']['f1'].median()\n",
    "d=df[df['city']=='대구']['f1'].median()\n",
    "s, k, b, d\n",
    "\n",
    "#방법2\n",
    "# k, d, b, s = df.groupby('city')['f1'].median()"
   ]
  },
  {
   "cell_type": "code",
   "execution_count": 13,
   "id": "02ee3656",
   "metadata": {
    "execution": {
     "iopub.execute_input": "2025-06-15T05:32:31.397735Z",
     "iopub.status.busy": "2025-06-15T05:32:31.396878Z",
     "iopub.status.idle": "2025-06-15T05:32:31.401496Z",
     "shell.execute_reply": "2025-06-15T05:32:31.400924Z",
     "shell.execute_reply.started": "2025-06-15T03:06:32.942792Z"
    },
    "papermill": {
     "duration": 0.033262,
     "end_time": "2025-06-15T05:32:31.401644",
     "exception": false,
     "start_time": "2025-06-15T05:32:31.368382",
     "status": "completed"
    },
    "tags": []
   },
   "outputs": [
    {
     "data": {
      "text/html": [
       "<div>\n",
       "<style scoped>\n",
       "    .dataframe tbody tr th:only-of-type {\n",
       "        vertical-align: middle;\n",
       "    }\n",
       "\n",
       "    .dataframe tbody tr th {\n",
       "        vertical-align: top;\n",
       "    }\n",
       "\n",
       "    .dataframe thead th {\n",
       "        text-align: right;\n",
       "    }\n",
       "</style>\n",
       "<table border=\"1\" class=\"dataframe\">\n",
       "  <thead>\n",
       "    <tr style=\"text-align: right;\">\n",
       "      <th></th>\n",
       "      <th>id</th>\n",
       "      <th>age</th>\n",
       "      <th>city</th>\n",
       "      <th>f1</th>\n",
       "      <th>f2</th>\n",
       "      <th>f4</th>\n",
       "      <th>f5</th>\n",
       "    </tr>\n",
       "  </thead>\n",
       "  <tbody>\n",
       "    <tr>\n",
       "      <th>18</th>\n",
       "      <td>id19</td>\n",
       "      <td>53.0</td>\n",
       "      <td>서울</td>\n",
       "      <td>NaN</td>\n",
       "      <td>0</td>\n",
       "      <td>ISFP</td>\n",
       "      <td>83.685380</td>\n",
       "    </tr>\n",
       "    <tr>\n",
       "      <th>19</th>\n",
       "      <td>id20</td>\n",
       "      <td>11.0</td>\n",
       "      <td>서울</td>\n",
       "      <td>51.0</td>\n",
       "      <td>1</td>\n",
       "      <td>INTJ</td>\n",
       "      <td>91.297791</td>\n",
       "    </tr>\n",
       "    <tr>\n",
       "      <th>20</th>\n",
       "      <td>id21</td>\n",
       "      <td>90.0</td>\n",
       "      <td>부산</td>\n",
       "      <td>NaN</td>\n",
       "      <td>1</td>\n",
       "      <td>ISFP</td>\n",
       "      <td>29.269869</td>\n",
       "    </tr>\n",
       "  </tbody>\n",
       "</table>\n",
       "</div>"
      ],
      "text/plain": [
       "      id   age city    f1  f2    f4         f5\n",
       "18  id19  53.0   서울   NaN   0  ISFP  83.685380\n",
       "19  id20  11.0   서울  51.0   1  INTJ  91.297791\n",
       "20  id21  90.0   부산   NaN   1  ISFP  29.269869"
      ]
     },
     "execution_count": 13,
     "metadata": {},
     "output_type": "execute_result"
    }
   ],
   "source": [
    "# 대체 전 데이터 샘플 출력\n",
    "df[18:21]"
   ]
  },
  {
   "cell_type": "code",
   "execution_count": 14,
   "id": "9bdaca4e",
   "metadata": {
    "execution": {
     "iopub.execute_input": "2025-06-15T05:32:31.439196Z",
     "iopub.status.busy": "2025-06-15T05:32:31.438507Z",
     "iopub.status.idle": "2025-06-15T05:32:31.440937Z",
     "shell.execute_reply": "2025-06-15T05:32:31.441438Z",
     "shell.execute_reply.started": "2025-06-15T03:06:35.203215Z"
    },
    "papermill": {
     "duration": 0.024694,
     "end_time": "2025-06-15T05:32:31.441607",
     "exception": false,
     "start_time": "2025-06-15T05:32:31.416913",
     "status": "completed"
    },
    "tags": []
   },
   "outputs": [],
   "source": [
    "# f1결측치 city별 중앙값으로 대체\n",
    "df['f1'] = df['f1'].fillna(df['city'].map({'서울':s,'경기':k,'부산':b,'대구':d}))\n",
    "\n",
    "# 만약 그냥 f1 중앙값으로 대체 한다면 \n",
    "# df['f1'] = df['f1'].fillna(df['f1'].median())"
   ]
  },
  {
   "cell_type": "code",
   "execution_count": 15,
   "id": "ac9d69a4",
   "metadata": {
    "execution": {
     "iopub.execute_input": "2025-06-15T05:32:31.485368Z",
     "iopub.status.busy": "2025-06-15T05:32:31.484399Z",
     "iopub.status.idle": "2025-06-15T05:32:31.488499Z",
     "shell.execute_reply": "2025-06-15T05:32:31.487941Z",
     "shell.execute_reply.started": "2025-06-15T03:06:40.279457Z"
    },
    "papermill": {
     "duration": 0.031841,
     "end_time": "2025-06-15T05:32:31.488638",
     "exception": false,
     "start_time": "2025-06-15T05:32:31.456797",
     "status": "completed"
    },
    "tags": []
   },
   "outputs": [
    {
     "data": {
      "text/html": [
       "<div>\n",
       "<style scoped>\n",
       "    .dataframe tbody tr th:only-of-type {\n",
       "        vertical-align: middle;\n",
       "    }\n",
       "\n",
       "    .dataframe tbody tr th {\n",
       "        vertical-align: top;\n",
       "    }\n",
       "\n",
       "    .dataframe thead th {\n",
       "        text-align: right;\n",
       "    }\n",
       "</style>\n",
       "<table border=\"1\" class=\"dataframe\">\n",
       "  <thead>\n",
       "    <tr style=\"text-align: right;\">\n",
       "      <th></th>\n",
       "      <th>id</th>\n",
       "      <th>age</th>\n",
       "      <th>city</th>\n",
       "      <th>f1</th>\n",
       "      <th>f2</th>\n",
       "      <th>f4</th>\n",
       "      <th>f5</th>\n",
       "    </tr>\n",
       "  </thead>\n",
       "  <tbody>\n",
       "    <tr>\n",
       "      <th>18</th>\n",
       "      <td>id19</td>\n",
       "      <td>53.0</td>\n",
       "      <td>서울</td>\n",
       "      <td>68.0</td>\n",
       "      <td>0</td>\n",
       "      <td>ISFP</td>\n",
       "      <td>83.685380</td>\n",
       "    </tr>\n",
       "    <tr>\n",
       "      <th>19</th>\n",
       "      <td>id20</td>\n",
       "      <td>11.0</td>\n",
       "      <td>서울</td>\n",
       "      <td>51.0</td>\n",
       "      <td>1</td>\n",
       "      <td>INTJ</td>\n",
       "      <td>91.297791</td>\n",
       "    </tr>\n",
       "    <tr>\n",
       "      <th>20</th>\n",
       "      <td>id21</td>\n",
       "      <td>90.0</td>\n",
       "      <td>부산</td>\n",
       "      <td>62.0</td>\n",
       "      <td>1</td>\n",
       "      <td>ISFP</td>\n",
       "      <td>29.269869</td>\n",
       "    </tr>\n",
       "  </tbody>\n",
       "</table>\n",
       "</div>"
      ],
      "text/plain": [
       "      id   age city    f1  f2    f4         f5\n",
       "18  id19  53.0   서울  68.0   0  ISFP  83.685380\n",
       "19  id20  11.0   서울  51.0   1  INTJ  91.297791\n",
       "20  id21  90.0   부산  62.0   1  ISFP  29.269869"
      ]
     },
     "execution_count": 15,
     "metadata": {},
     "output_type": "execute_result"
    }
   ],
   "source": [
    "# 대체 후 데이터 샘플 출력\n",
    "df[18:21]"
   ]
  },
  {
   "cell_type": "code",
   "execution_count": 16,
   "id": "14dec391",
   "metadata": {
    "execution": {
     "iopub.execute_input": "2025-06-15T05:32:31.525931Z",
     "iopub.status.busy": "2025-06-15T05:32:31.525153Z",
     "iopub.status.idle": "2025-06-15T05:32:31.528878Z",
     "shell.execute_reply": "2025-06-15T05:32:31.528305Z",
     "shell.execute_reply.started": "2025-06-15T03:06:42.093525Z"
    },
    "papermill": {
     "duration": 0.024642,
     "end_time": "2025-06-15T05:32:31.529012",
     "exception": false,
     "start_time": "2025-06-15T05:32:31.504370",
     "status": "completed"
    },
    "tags": []
   },
   "outputs": [
    {
     "name": "stdout",
     "output_type": "stream",
     "text": [
      "65.52\n"
     ]
    }
   ],
   "source": [
    "#결과 출력\n",
    "print(df['f1'].mean())"
   ]
  }
 ],
 "metadata": {
  "kaggle": {
   "accelerator": "none",
   "dataSources": [
    {
     "datasetId": 1633303,
     "sourceId": 12111603,
     "sourceType": "datasetVersion"
    }
   ],
   "dockerImageVersionId": 30129,
   "isGpuEnabled": false,
   "isInternetEnabled": true,
   "language": "python",
   "sourceType": "notebook"
  },
  "kernelspec": {
   "display_name": "Python 3",
   "language": "python",
   "name": "python3"
  },
  "language_info": {
   "codemirror_mode": {
    "name": "ipython",
    "version": 3
   },
   "file_extension": ".py",
   "mimetype": "text/x-python",
   "name": "python",
   "nbconvert_exporter": "python",
   "pygments_lexer": "ipython3",
   "version": "3.7.10"
  },
  "papermill": {
   "default_parameters": {},
   "duration": 10.880471,
   "end_time": "2025-06-15T05:32:33.075705",
   "environment_variables": {},
   "exception": null,
   "input_path": "__notebook__.ipynb",
   "output_path": "__notebook__.ipynb",
   "parameters": {},
   "start_time": "2025-06-15T05:32:22.195234",
   "version": "2.3.3"
  }
 },
 "nbformat": 4,
 "nbformat_minor": 5
}
