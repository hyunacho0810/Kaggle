{
 "cells": [
  {
   "cell_type": "markdown",
   "id": "61e2c843",
   "metadata": {
    "papermill": {
     "duration": 0.002096,
     "end_time": "2025-06-20T01:03:48.633280",
     "exception": false,
     "start_time": "2025-06-20T01:03:48.631184",
     "status": "completed"
    },
    "tags": []
   },
   "source": [
    "## iris에서 Sepal Length와 Sepal Width의 상관계수 계산하고 소수 둘째자리까지 출력하시오"
   ]
  },
  {
   "cell_type": "code",
   "execution_count": 1,
   "id": "855114dd",
   "metadata": {
    "execution": {
     "iopub.execute_input": "2025-06-20T01:03:48.638797Z",
     "iopub.status.busy": "2025-06-20T01:03:48.638285Z",
     "iopub.status.idle": "2025-06-20T01:03:50.254572Z",
     "shell.execute_reply": "2025-06-20T01:03:50.253170Z"
    },
    "papermill": {
     "duration": 1.621761,
     "end_time": "2025-06-20T01:03:50.256820",
     "exception": false,
     "start_time": "2025-06-20T01:03:48.635059",
     "status": "completed"
    },
    "tags": []
   },
   "outputs": [
    {
     "name": "stderr",
     "output_type": "stream",
     "text": [
      "/opt/conda/lib/python3.10/site-packages/scipy/__init__.py:146: UserWarning: A NumPy version >=1.16.5 and <1.23.0 is required for this version of SciPy (detected version 1.23.5\n",
      "  warnings.warn(f\"A NumPy version >={np_minversion} and <{np_maxversion}\"\n"
     ]
    },
    {
     "name": "stdout",
     "output_type": "stream",
     "text": [
      "   sepal length (cm)  sepal width (cm)  petal length (cm)  petal width (cm)\n",
      "0                5.1               3.5                1.4               0.2\n",
      "1                4.9               3.0                1.4               0.2\n",
      "2                4.7               3.2                1.3               0.2\n",
      "3                4.6               3.1                1.5               0.2\n",
      "4                5.0               3.6                1.4               0.2\n",
      "5                5.4               3.9                1.7               0.4\n",
      "6                4.6               3.4                1.4               0.3\n",
      "7                5.0               3.4                1.5               0.2\n",
      "8                4.4               2.9                1.4               0.2\n",
      "9                4.9               3.1                1.5               0.1\n"
     ]
    }
   ],
   "source": [
    "import pandas as pd\n",
    "from sklearn.datasets import load_iris\n",
    "\n",
    "# iris 데이터셋 로드\n",
    "iris = load_iris()\n",
    "df = pd.DataFrame(iris.data, columns=iris.feature_names)\n",
    "print(df.head(10))"
   ]
  },
  {
   "cell_type": "code",
   "execution_count": 2,
   "id": "63fd3ac0",
   "metadata": {
    "execution": {
     "iopub.execute_input": "2025-06-20T01:03:50.262292Z",
     "iopub.status.busy": "2025-06-20T01:03:50.261911Z",
     "iopub.status.idle": "2025-06-20T01:03:50.272566Z",
     "shell.execute_reply": "2025-06-20T01:03:50.271311Z"
    },
    "papermill": {
     "duration": 0.016002,
     "end_time": "2025-06-20T01:03:50.274701",
     "exception": false,
     "start_time": "2025-06-20T01:03:50.258699",
     "status": "completed"
    },
    "tags": []
   },
   "outputs": [
    {
     "name": "stdout",
     "output_type": "stream",
     "text": [
      "상관계수:-0.12\n"
     ]
    }
   ],
   "source": [
    "corr_val=df['sepal width (cm)'].corr(df['sepal length (cm)'])\n",
    "print(f'상관계수:{corr_val:.2f}')"
   ]
  }
 ],
 "metadata": {
  "kaggle": {
   "accelerator": "none",
   "dataSources": [
    {
     "datasetId": 1633303,
     "sourceId": 12211878,
     "sourceType": "datasetVersion"
    }
   ],
   "dockerImageVersionId": 30474,
   "isGpuEnabled": false,
   "isInternetEnabled": true,
   "language": "python",
   "sourceType": "notebook"
  },
  "kernelspec": {
   "display_name": "Python 3",
   "language": "python",
   "name": "python3"
  },
  "language_info": {
   "codemirror_mode": {
    "name": "ipython",
    "version": 3
   },
   "file_extension": ".py",
   "mimetype": "text/x-python",
   "name": "python",
   "nbconvert_exporter": "python",
   "pygments_lexer": "ipython3",
   "version": "3.10.10"
  },
  "papermill": {
   "default_parameters": {},
   "duration": 16.490984,
   "end_time": "2025-06-20T01:03:51.200567",
   "environment_variables": {},
   "exception": null,
   "input_path": "__notebook__.ipynb",
   "output_path": "__notebook__.ipynb",
   "parameters": {},
   "start_time": "2025-06-20T01:03:34.709583",
   "version": "2.4.0"
  }
 },
 "nbformat": 4,
 "nbformat_minor": 5
}
