{
 "cells": [
  {
   "cell_type": "markdown",
   "id": "19839ba2",
   "metadata": {
    "papermill": {
     "duration": 0.006306,
     "end_time": "2025-06-16T04:08:23.598287",
     "exception": false,
     "start_time": "2025-06-16T04:08:23.591981",
     "status": "completed"
    },
    "tags": []
   },
   "source": [
    "## 주어진 데이터에서 2022년 5월 주말과 평일의 sales컬럼 평균값 차이를 절대값으로 구하시오 (소수점 둘째자리까지 출력, 반올림)\n",
    "- 데이터셋 : basic2.csv\n",
    "- 오른쪽 상단 copy&edit 클릭 -> 예상문제 풀이 시작"
   ]
  },
  {
   "cell_type": "code",
   "execution_count": 1,
   "id": "a4847da4",
   "metadata": {
    "_cell_guid": "b1076dfc-b9ad-4769-8c92-a6c4dae69d19",
    "_uuid": "8f2839f25d086af736a60e9eeb907d3b93b6e0e5",
    "execution": {
     "iopub.execute_input": "2025-06-16T04:08:23.618904Z",
     "iopub.status.busy": "2025-06-16T04:08:23.617235Z",
     "iopub.status.idle": "2025-06-16T04:08:23.662209Z",
     "shell.execute_reply": "2025-06-16T04:08:23.661554Z",
     "shell.execute_reply.started": "2025-06-15T07:14:53.763260Z"
    },
    "papermill": {
     "duration": 0.058405,
     "end_time": "2025-06-16T04:08:23.662429",
     "exception": false,
     "start_time": "2025-06-16T04:08:23.604024",
     "status": "completed"
    },
    "tags": []
   },
   "outputs": [
    {
     "name": "stdout",
     "output_type": "stream",
     "text": [
      "         Date     Sales      PV      UV  Events\n",
      "0  2022-01-01  22711525  397349  4421.0       1\n",
      "1  2022-01-02     36779    3969  2289.0       0\n",
      "2  2022-01-03  13943875  373890     NaN       1\n",
      "3  2022-01-04   8088593  142054  2157.0       0\n",
      "4  2022-01-05   2395374  190684     NaN       0\n",
      "5  2022-01-06   1709350  177815  5340.0       1\n",
      "6  2022-01-07   5306457  155749  3789.0       0\n",
      "7  2022-01-08   1052325   53467  1793.0       0\n",
      "8  2022-01-09    877848   54805  2110.0       0\n",
      "9  2022-01-10   9112911   94024  2471.0       0\n",
      "----------------\n",
      "<class 'pandas.core.frame.DataFrame'>\n",
      "RangeIndex: 730 entries, 0 to 729\n",
      "Data columns (total 5 columns):\n",
      " #   Column  Non-Null Count  Dtype  \n",
      "---  ------  --------------  -----  \n",
      " 0   Date    730 non-null    object \n",
      " 1   Sales   730 non-null    int64  \n",
      " 2   PV      730 non-null    int64  \n",
      " 3   UV      684 non-null    float64\n",
      " 4   Events  730 non-null    int64  \n",
      "dtypes: float64(1), int64(3), object(1)\n",
      "memory usage: 28.6+ KB\n",
      "None\n"
     ]
    }
   ],
   "source": [
    "# 데이터 불러오기\n",
    "import pandas as pd\n",
    "# 데이터 불러오기\n",
    "df = pd.read_csv(\"../input/bigdatacertificationkr/basic2.csv\")\n",
    "print(df.head(10))\n",
    "print('----------------')\n",
    "print(df.info())"
   ]
  },
  {
   "cell_type": "code",
   "execution_count": 2,
   "id": "767897a9",
   "metadata": {
    "execution": {
     "iopub.execute_input": "2025-06-16T04:08:23.683219Z",
     "iopub.status.busy": "2025-06-16T04:08:23.681540Z",
     "iopub.status.idle": "2025-06-16T04:08:23.693389Z",
     "shell.execute_reply": "2025-06-16T04:08:23.693856Z"
    },
    "papermill": {
     "duration": 0.025875,
     "end_time": "2025-06-16T04:08:23.694036",
     "exception": false,
     "start_time": "2025-06-16T04:08:23.668161",
     "status": "completed"
    },
    "tags": []
   },
   "outputs": [
    {
     "name": "stdout",
     "output_type": "stream",
     "text": [
      "<class 'pandas.core.frame.DataFrame'>\n",
      "RangeIndex: 730 entries, 0 to 729\n",
      "Data columns (total 5 columns):\n",
      " #   Column  Non-Null Count  Dtype         \n",
      "---  ------  --------------  -----         \n",
      " 0   Date    730 non-null    datetime64[ns]\n",
      " 1   Sales   730 non-null    int64         \n",
      " 2   PV      730 non-null    int64         \n",
      " 3   UV      684 non-null    float64       \n",
      " 4   Events  730 non-null    int64         \n",
      "dtypes: datetime64[ns](1), float64(1), int64(3)\n",
      "memory usage: 28.6 KB\n",
      "None\n"
     ]
    }
   ],
   "source": [
    "# object 타입인 date를 datetime타입으로 형변환\n",
    "df['Date']=pd.to_datetime(df['Date'])\n",
    "print(df.info())"
   ]
  },
  {
   "cell_type": "code",
   "execution_count": 3,
   "id": "b93673bb",
   "metadata": {
    "execution": {
     "iopub.execute_input": "2025-06-16T04:08:23.715624Z",
     "iopub.status.busy": "2025-06-16T04:08:23.714755Z",
     "iopub.status.idle": "2025-06-16T04:08:23.718702Z",
     "shell.execute_reply": "2025-06-16T04:08:23.718052Z"
    },
    "papermill": {
     "duration": 0.018903,
     "end_time": "2025-06-16T04:08:23.718844",
     "exception": false,
     "start_time": "2025-06-16T04:08:23.699941",
     "status": "completed"
    },
    "tags": []
   },
   "outputs": [
    {
     "name": "stdout",
     "output_type": "stream",
     "text": [
      "        Date     Sales      PV      UV  Events  DayOfWeek\n",
      "0 2022-01-01  22711525  397349  4421.0       1          5\n",
      "1 2022-01-02     36779    3969  2289.0       0          6\n",
      "2 2022-01-03  13943875  373890     NaN       1          0\n",
      "3 2022-01-04   8088593  142054  2157.0       0          1\n",
      "4 2022-01-05   2395374  190684     NaN       0          2\n",
      "5 2022-01-06   1709350  177815  5340.0       1          3\n",
      "6 2022-01-07   5306457  155749  3789.0       0          4\n",
      "7 2022-01-08   1052325   53467  1793.0       0          5\n",
      "8 2022-01-09    877848   54805  2110.0       0          6\n",
      "9 2022-01-10   9112911   94024  2471.0       0          0\n"
     ]
    }
   ],
   "source": [
    "# 요일을 표시하는 열 추가\n",
    "df['DayOfWeek']=df['Date'].dt.dayofweek\n",
    "print(df.head(10))"
   ]
  },
  {
   "cell_type": "code",
   "execution_count": 4,
   "id": "f68780ed",
   "metadata": {
    "execution": {
     "iopub.execute_input": "2025-06-16T04:08:23.746526Z",
     "iopub.status.busy": "2025-06-16T04:08:23.740873Z",
     "iopub.status.idle": "2025-06-16T04:08:23.749637Z",
     "shell.execute_reply": "2025-06-16T04:08:23.749033Z",
     "shell.execute_reply.started": "2025-06-15T07:16:36.121029Z"
    },
    "papermill": {
     "duration": 0.022289,
     "end_time": "2025-06-16T04:08:23.749783",
     "exception": false,
     "start_time": "2025-06-16T04:08:23.727494",
     "status": "completed"
    },
    "tags": []
   },
   "outputs": [
    {
     "name": "stdout",
     "output_type": "stream",
     "text": [
      "3683611.4545454546\n"
     ]
    }
   ],
   "source": [
    "# 평일 sales 평균값\n",
    "cond1=df['DayOfWeek'].isin([0,1,2,3,4])\n",
    "cond3=df['Date'].dt.year==2022\n",
    "cond4=df['Date'].dt.month==5\n",
    "weekday=df[cond1&cond3&cond4]['Sales'].mean()\n",
    "print(weekday)"
   ]
  },
  {
   "cell_type": "code",
   "execution_count": 5,
   "id": "1132e115",
   "metadata": {
    "execution": {
     "iopub.execute_input": "2025-06-16T04:08:23.769918Z",
     "iopub.status.busy": "2025-06-16T04:08:23.769202Z",
     "iopub.status.idle": "2025-06-16T04:08:23.775754Z",
     "shell.execute_reply": "2025-06-16T04:08:23.775107Z",
     "shell.execute_reply.started": "2025-06-15T07:16:48.492216Z"
    },
    "papermill": {
     "duration": 0.019545,
     "end_time": "2025-06-16T04:08:23.775895",
     "exception": false,
     "start_time": "2025-06-16T04:08:23.756350",
     "status": "completed"
    },
    "tags": []
   },
   "outputs": [
    {
     "name": "stdout",
     "output_type": "stream",
     "text": [
      "6693950.555555556\n"
     ]
    }
   ],
   "source": [
    "# 주말 sales 평균값\n",
    "cond2=df['DayOfWeek'].isin([5,6])\n",
    "cond3=df['Date'].dt.year==2022\n",
    "cond4=df['Date'].dt.month==5\n",
    "weekend=df[cond2&cond3&cond4]['Sales'].mean()\n",
    "print(weekend)"
   ]
  },
  {
   "cell_type": "code",
   "execution_count": 6,
   "id": "4d6e7a5b",
   "metadata": {
    "execution": {
     "iopub.execute_input": "2025-06-16T04:08:23.795947Z",
     "iopub.status.busy": "2025-06-16T04:08:23.795145Z",
     "iopub.status.idle": "2025-06-16T04:08:23.798260Z",
     "shell.execute_reply": "2025-06-16T04:08:23.798772Z"
    },
    "papermill": {
     "duration": 0.016347,
     "end_time": "2025-06-16T04:08:23.798944",
     "exception": false,
     "start_time": "2025-06-16T04:08:23.782597",
     "status": "completed"
    },
    "tags": []
   },
   "outputs": [
    {
     "name": "stdout",
     "output_type": "stream",
     "text": [
      "3010339.10\n"
     ]
    }
   ],
   "source": [
    "# 차이값의 절대값 계산, 소수점 둘째자리, 반올림\n",
    "result=abs(weekday-weekend)\n",
    "print(f'{result:.2f}')"
   ]
  }
 ],
 "metadata": {
  "kaggle": {
   "accelerator": "none",
   "dataSources": [
    {
     "datasetId": 1633303,
     "sourceId": 12111603,
     "sourceType": "datasetVersion"
    }
   ],
   "dockerImageVersionId": 30145,
   "isGpuEnabled": false,
   "isInternetEnabled": true,
   "language": "python",
   "sourceType": "notebook"
  },
  "kernelspec": {
   "display_name": "Python 3",
   "language": "python",
   "name": "python3"
  },
  "language_info": {
   "codemirror_mode": {
    "name": "ipython",
    "version": 3
   },
   "file_extension": ".py",
   "mimetype": "text/x-python",
   "name": "python",
   "nbconvert_exporter": "python",
   "pygments_lexer": "ipython3",
   "version": "3.7.10"
  },
  "papermill": {
   "default_parameters": {},
   "duration": 9.836784,
   "end_time": "2025-06-16T04:08:24.417171",
   "environment_variables": {},
   "exception": null,
   "input_path": "__notebook__.ipynb",
   "output_path": "__notebook__.ipynb",
   "parameters": {},
   "start_time": "2025-06-16T04:08:14.580387",
   "version": "2.3.3"
  }
 },
 "nbformat": 4,
 "nbformat_minor": 5
}
